{
 "cells": [
  {
   "cell_type": "markdown",
   "metadata": {
    "_cell_guid": "97910ccd-c733-c636-2434-acf834278a66"
   },
   "source": [
    "Only math vs relax using NN"
   ]
  },
  {
   "cell_type": "code",
   "execution_count": 24,
   "metadata": {
    "_cell_guid": "c2047866-7e4f-e671-d6fb-b725c10987cf"
   },
   "outputs": [],
   "source": [
    "import pandas as pd \n",
    "import json\n",
    "import tensorflow as tf\n",
    "import numpy as np\n",
    "\n",
    "def get_indv ():\n",
    "\t\t\n",
    "\tdef prepare_individual_data(df,individual):\n",
    "\t\t# drop unused features. just leave eeg_power and the label\n",
    "\t\tdf = df.drop('Unnamed: 0', 1)\n",
    "\t\t#df = df.drop('id', 1)\n",
    "\t\tdf = df.drop('indra_time', 1)\n",
    "\t\tdf = df.drop('browser_latency', 1)\n",
    "\t\tdf = df.drop('reading_time', 1)\n",
    "\t\tdf = df.drop('attention_esense', 1)\n",
    "\t\tdf = df.drop('meditation_esense', 1)\n",
    "\t\tdf = df.drop('raw_values', 1)\n",
    "\t\tdf = df.drop('signal_quality', 1)\n",
    "\t\tdf = df.drop('createdAt', 1)\n",
    "\t\tdf = df.drop('updatedAt', 1)\n",
    "\t\t# separate eeg power to multiple columns\n",
    "\t\tto_series = pd.Series(df['eeg_power']) # df to series\n",
    "\t\teeg_features=pd.DataFrame(to_series.tolist()) #series to list and then back to df\n",
    "\t\tdf = pd.concat([df,eeg_features], axis=1) # concatenate the create columns\n",
    "\t\t# df = pd.concat([df,eeg_features], axis=1, join='outer') # concatenate the create columns\n",
    "\t\t# just look at first subject\n",
    "\t\tdf=df.loc[df['id'] == individual]\n",
    "\t\tdf = df.drop('eeg_power', 1) # drop comma separated cell\n",
    "\t\t# df = df.drop('id', 1) # drop comma separated cell\n",
    "\t\treturn df\n",
    "\n",
    "\tdf = pd.read_csv(\"./eeg-data.csv\")\n",
    "\tdf['label'].value_counts()\n",
    "\tdf['eeg_power'] = df.eeg_power.map(json.loads)\n",
    "\tdef clean_labels(dd):\n",
    "\t\t# clean labels\n",
    "\t\tdd.loc[dd.label == 'math1', 'label'] = \"math\"\n",
    "\t\tdd.loc[dd.label == 'math2', 'label'] = \"math\"\n",
    "\t\tdd.loc[dd.label == 'math3', 'label'] = \"math\"\n",
    "\t\tdd.loc[dd.label == 'math4', 'label'] = \"math\"\n",
    "\t\tdd.loc[dd.label == 'math5', 'label'] = \"math\"\n",
    "\t\tdd.loc[dd.label == 'math6', 'label'] = \"math\"\n",
    "\t\tdd.loc[dd.label == 'math7', 'label'] = \"math\"\n",
    "\t\tdd.loc[dd.label == 'math8', 'label'] = \"math\"\n",
    "\t\tdd.loc[dd.label == 'math9', 'label'] = \"math\"\n",
    "\t\tdd.loc[dd.label == 'math10', 'label'] = \"math\"\n",
    "\t\tdd.loc[dd.label == 'math11', 'label'] = \"math\"\n",
    "\t\tdd.loc[dd.label == 'math12', 'label'] = \"math\"\n",
    "\t\tdd.loc[dd.label == 'colorRound1-1', 'label'] = \"colors\"\n",
    "\t\tdd.loc[dd.label == 'colorRound1-2', 'label'] = \"colors\"\n",
    "\t\tdd.loc[dd.label == 'colorRound1-3', 'label'] = \"colors\"\n",
    "\t\tdd.loc[dd.label == 'colorRound1-4', 'label'] = \"colors\"\n",
    "\t\tdd.loc[dd.label == 'colorRound1-5', 'label'] = \"colors\"\n",
    "\t\tdd.loc[dd.label == 'colorRound1-6', 'label'] = \"colors\"\n",
    "\t\tdd.loc[dd.label == 'colorRound2-1', 'label'] = \"colors\"\n",
    "\t\tdd.loc[dd.label == 'colorRound2-2', 'label'] = \"colors\"\n",
    "\t\tdd.loc[dd.label == 'colorRound2-3', 'label'] = \"colors\"\n",
    "\t\tdd.loc[dd.label == 'colorRound2-4', 'label'] = \"colors\"\n",
    "\t\tdd.loc[dd.label == 'colorRound2-5', 'label'] = \"colors\"\n",
    "\t\tdd.loc[dd.label == 'colorRound2-6', 'label'] = \"colors\"\n",
    "\t\tdd.loc[dd.label == 'colorRound3-1', 'label'] = \"colors\"\n",
    "\t\tdd.loc[dd.label == 'colorRound3-2', 'label'] = \"colors\"\n",
    "\t\tdd.loc[dd.label == 'colorRound3-3', 'label'] = \"colors\"\n",
    "\t\tdd.loc[dd.label == 'colorRound3-4', 'label'] = \"colors\"\n",
    "\t\tdd.loc[dd.label == 'colorRound3-5', 'label'] = \"colors\"\n",
    "\t\tdd.loc[dd.label == 'colorRound3-6', 'label'] = \"colors\"\n",
    "\t\tdd.loc[dd.label == 'colorRound4-1', 'label'] = \"colors\"\n",
    "\t\tdd.loc[dd.label == 'colorRound4-2', 'label'] = \"colors\"\n",
    "\t\tdd.loc[dd.label == 'colorRound4-3', 'label'] = \"colors\"\n",
    "\t\tdd.loc[dd.label == 'colorRound4-4', 'label'] = \"colors\"\n",
    "\t\tdd.loc[dd.label == 'colorRound4-5', 'label'] = \"colors\"\n",
    "\t\tdd.loc[dd.label == 'colorRound4-6', 'label'] = \"colors\"\n",
    "\t\tdd.loc[dd.label == 'colorRound5-1', 'label'] = \"colors\"\n",
    "\t\tdd.loc[dd.label == 'colorRound5-2', 'label'] = \"colors\"\n",
    "\t\tdd.loc[dd.label == 'colorRound5-3', 'label'] = \"colors\"\n",
    "\t\tdd.loc[dd.label == 'colorRound5-4', 'label'] = \"colors\"\n",
    "\t\tdd.loc[dd.label == 'colorRound5-5', 'label'] = \"colors\"\n",
    "\t\tdd.loc[dd.label == 'colorRound5-6', 'label'] = \"colors\"\n",
    "\t\tdd.loc[dd.label == 'readyRound1', 'label'] = \"ready\"\n",
    "\t\tdd.loc[dd.label == 'readyRound2', 'label'] = \"ready\"\n",
    "\t\tdd.loc[dd.label == 'readyRound3', 'label'] = \"ready\"\n",
    "\t\tdd.loc[dd.label == 'readyRound4', 'label'] = \"ready\"\n",
    "\t\tdd.loc[dd.label == 'readyRound5', 'label'] = \"ready\"\n",
    "\t\tdd.loc[dd.label == 'blink1', 'label'] = \"blink\"\n",
    "\t\tdd.loc[dd.label == 'blink2', 'label'] = \"blink\"\n",
    "\t\tdd.loc[dd.label == 'blink3', 'label'] = \"blink\"\n",
    "\t\tdd.loc[dd.label == 'blink4', 'label'] = \"blink\"\n",
    "\t\tdd.loc[dd.label == 'blink5', 'label'] = \"blink\"\n",
    "\t\tdd.loc[dd.label == 'thinkOfItemsInstruction-ver1', 'label'] = \"instruction\"\n",
    "\t\tdd.loc[dd.label == 'colorInstruction2', 'label'] = \"instruction\"\n",
    "\t\tdd.loc[dd.label == 'colorInstruction1', 'label'] = \"instruction\"\n",
    "\t\tdd.loc[dd.label == 'colorInstruction2', 'label'] = \"instruction\"\n",
    "\t\tdd.loc[dd.label == 'musicInstruction', 'label'] = \"instruction\"\n",
    "\t\tdd.loc[dd.label == 'videoInstruction', 'label'] = \"instruction\"\n",
    "\t\tdd.loc[dd.label == 'mathInstruction', 'label'] = \"instruction\"\n",
    "\t\tdd.loc[dd.label == 'relaxInstruction', 'label'] = \"instruction\"\n",
    "\t\tdd.loc[dd.label == 'blinkInstruction', 'label'] = \"instruction\"\n",
    "\t\treturn dd\n",
    "\n",
    "\t\n",
    "\n",
    "\tdef drop_useless_labels(df):\n",
    "\t\t# drop unlabeled and everyone paired and others. leave only relax and math. \n",
    "\t\tdf1 = df[df.label == 'math']\n",
    "\t\tdf2 = df[df.label == 'relax']\n",
    "\t\treturn pd.concat([df1,df2],axis=0)\n",
    "\t\n",
    "\tdata = []\n",
    "\tfor i in range(1,31):\n",
    "\t\tindividual_data=prepare_individual_data(df,i)\n",
    "\t\tcleaned_individual_data = clean_labels(individual_data)\n",
    "\t\tfinal_individual_full_data= drop_useless_labels(cleaned_individual_data)\n",
    "\t\tdata.append(final_individual_full_data)\n",
    "\n",
    "\treturn data\n",
    "\n",
    "\n"
   ]
  },
  {
   "cell_type": "code",
   "execution_count": 25,
   "metadata": {},
   "outputs": [
    {
     "name": "stderr",
     "output_type": "stream",
     "text": [
      "C:\\Users\\ASUS\\AppData\\Local\\Temp/ipykernel_31372/2741446155.py:10: FutureWarning:\n",
      "\n",
      "In a future version of pandas all arguments of DataFrame.drop except for the argument 'labels' will be keyword-only\n",
      "\n",
      "C:\\Users\\ASUS\\AppData\\Local\\Temp/ipykernel_31372/2741446155.py:12: FutureWarning:\n",
      "\n",
      "In a future version of pandas all arguments of DataFrame.drop except for the argument 'labels' will be keyword-only\n",
      "\n",
      "C:\\Users\\ASUS\\AppData\\Local\\Temp/ipykernel_31372/2741446155.py:13: FutureWarning:\n",
      "\n",
      "In a future version of pandas all arguments of DataFrame.drop except for the argument 'labels' will be keyword-only\n",
      "\n",
      "C:\\Users\\ASUS\\AppData\\Local\\Temp/ipykernel_31372/2741446155.py:14: FutureWarning:\n",
      "\n",
      "In a future version of pandas all arguments of DataFrame.drop except for the argument 'labels' will be keyword-only\n",
      "\n",
      "C:\\Users\\ASUS\\AppData\\Local\\Temp/ipykernel_31372/2741446155.py:15: FutureWarning:\n",
      "\n",
      "In a future version of pandas all arguments of DataFrame.drop except for the argument 'labels' will be keyword-only\n",
      "\n",
      "C:\\Users\\ASUS\\AppData\\Local\\Temp/ipykernel_31372/2741446155.py:16: FutureWarning:\n",
      "\n",
      "In a future version of pandas all arguments of DataFrame.drop except for the argument 'labels' will be keyword-only\n",
      "\n",
      "C:\\Users\\ASUS\\AppData\\Local\\Temp/ipykernel_31372/2741446155.py:17: FutureWarning:\n",
      "\n",
      "In a future version of pandas all arguments of DataFrame.drop except for the argument 'labels' will be keyword-only\n",
      "\n",
      "C:\\Users\\ASUS\\AppData\\Local\\Temp/ipykernel_31372/2741446155.py:18: FutureWarning:\n",
      "\n",
      "In a future version of pandas all arguments of DataFrame.drop except for the argument 'labels' will be keyword-only\n",
      "\n",
      "C:\\Users\\ASUS\\AppData\\Local\\Temp/ipykernel_31372/2741446155.py:19: FutureWarning:\n",
      "\n",
      "In a future version of pandas all arguments of DataFrame.drop except for the argument 'labels' will be keyword-only\n",
      "\n",
      "C:\\Users\\ASUS\\AppData\\Local\\Temp/ipykernel_31372/2741446155.py:20: FutureWarning:\n",
      "\n",
      "In a future version of pandas all arguments of DataFrame.drop except for the argument 'labels' will be keyword-only\n",
      "\n",
      "C:\\Users\\ASUS\\AppData\\Local\\Temp/ipykernel_31372/2741446155.py:28: FutureWarning:\n",
      "\n",
      "In a future version of pandas all arguments of DataFrame.drop except for the argument 'labels' will be keyword-only\n",
      "\n"
     ]
    }
   ],
   "source": [
    "data = get_indv()"
   ]
  },
  {
   "cell_type": "code",
   "execution_count": 26,
   "metadata": {},
   "outputs": [
    {
     "name": "stderr",
     "output_type": "stream",
     "text": [
      "C:\\Users\\ASUS\\AppData\\Local\\Temp/ipykernel_31372/2741446155.py:10: FutureWarning:\n",
      "\n",
      "In a future version of pandas all arguments of DataFrame.drop except for the argument 'labels' will be keyword-only\n",
      "\n",
      "C:\\Users\\ASUS\\AppData\\Local\\Temp/ipykernel_31372/2741446155.py:12: FutureWarning:\n",
      "\n",
      "In a future version of pandas all arguments of DataFrame.drop except for the argument 'labels' will be keyword-only\n",
      "\n",
      "C:\\Users\\ASUS\\AppData\\Local\\Temp/ipykernel_31372/2741446155.py:13: FutureWarning:\n",
      "\n",
      "In a future version of pandas all arguments of DataFrame.drop except for the argument 'labels' will be keyword-only\n",
      "\n",
      "C:\\Users\\ASUS\\AppData\\Local\\Temp/ipykernel_31372/2741446155.py:14: FutureWarning:\n",
      "\n",
      "In a future version of pandas all arguments of DataFrame.drop except for the argument 'labels' will be keyword-only\n",
      "\n",
      "C:\\Users\\ASUS\\AppData\\Local\\Temp/ipykernel_31372/2741446155.py:15: FutureWarning:\n",
      "\n",
      "In a future version of pandas all arguments of DataFrame.drop except for the argument 'labels' will be keyword-only\n",
      "\n",
      "C:\\Users\\ASUS\\AppData\\Local\\Temp/ipykernel_31372/2741446155.py:16: FutureWarning:\n",
      "\n",
      "In a future version of pandas all arguments of DataFrame.drop except for the argument 'labels' will be keyword-only\n",
      "\n",
      "C:\\Users\\ASUS\\AppData\\Local\\Temp/ipykernel_31372/2741446155.py:17: FutureWarning:\n",
      "\n",
      "In a future version of pandas all arguments of DataFrame.drop except for the argument 'labels' will be keyword-only\n",
      "\n",
      "C:\\Users\\ASUS\\AppData\\Local\\Temp/ipykernel_31372/2741446155.py:18: FutureWarning:\n",
      "\n",
      "In a future version of pandas all arguments of DataFrame.drop except for the argument 'labels' will be keyword-only\n",
      "\n",
      "C:\\Users\\ASUS\\AppData\\Local\\Temp/ipykernel_31372/2741446155.py:19: FutureWarning:\n",
      "\n",
      "In a future version of pandas all arguments of DataFrame.drop except for the argument 'labels' will be keyword-only\n",
      "\n",
      "C:\\Users\\ASUS\\AppData\\Local\\Temp/ipykernel_31372/2741446155.py:20: FutureWarning:\n",
      "\n",
      "In a future version of pandas all arguments of DataFrame.drop except for the argument 'labels' will be keyword-only\n",
      "\n",
      "C:\\Users\\ASUS\\AppData\\Local\\Temp/ipykernel_31372/2741446155.py:28: FutureWarning:\n",
      "\n",
      "In a future version of pandas all arguments of DataFrame.drop except for the argument 'labels' will be keyword-only\n",
      "\n"
     ]
    }
   ],
   "source": [
    "# use sklearn to split for training\n",
    "import numpy as np\n",
    "from tensorflow import keras\n",
    "from keras import models\n",
    "from keras import layers\n",
    "from keras.wrappers.scikit_learn import KerasClassifier\n",
    "from sklearn.model_selection import cross_val_score\n",
    "from sklearn.datasets import make_classification\n",
    "from sklearn.utils import shuffle\n",
    "\n",
    "data = get_indv()\n",
    "def dataprep(df):\n",
    "    \n",
    "    df = df.drop('id',1)\n",
    "    label = df.pop('label')\n",
    "\n",
    "    df = df.values\n",
    "    \n",
    "    train_labels = pd.get_dummies(label)\n",
    "    train_labels = train_labels.values\n",
    "    normalized_df = ((df-df.mean())/df.std())\n",
    "    normalized_df,train_labels = np.array(normalized_df,dtype='float32'), np.array(train_labels,dtype='float32')\n",
    "    normalized_df,train_labels = shuffle(normalized_df, train_labels, random_state=0)\n",
    "    return normalized_df,train_labels\n",
    "    \n",
    "def create_network():\n",
    "    \n",
    "    # Start neural network\n",
    "    network = keras.Sequential([\n",
    "    keras.layers.Dense(1000, activation = 'relu', input_shape = [8]),\n",
    "    keras.layers.Dense(1000, activation = 'relu'),\n",
    "    keras.layers.Dense(2, activation = 'softmax')\n",
    "])\n",
    "\n",
    "    \n",
    "\n",
    "    # Compile neural network\n",
    "    network.compile(optimizer='adam', \n",
    "              loss=tf.losses.CategoricalCrossentropy(),\n",
    "              metrics=['accuracy'])\n",
    "    \n",
    "    # Return compiled network\n",
    "    return network\n",
    "def personal_model(data):\n",
    "    acc = []\n",
    "    i = 0\n",
    "    for d in data:\n",
    "        print('i = ',i)\n",
    "        i+=1\n",
    "        normalized_df,train_labels = dataprep(d)\n",
    "        neural_network = KerasClassifier(build_fn=create_network, \n",
    "                                 epochs=10, \n",
    "                                 batch_size=100,\n",
    "                                  verbose=0)\n",
    "        thisacc = cross_val_score(neural_network, normalized_df, train_labels, cv=7)\n",
    "        acc.append(thisacc)\n",
    "    return acc"
   ]
  },
  {
   "cell_type": "code",
   "execution_count": 28,
   "metadata": {},
   "outputs": [
    {
     "name": "stderr",
     "output_type": "stream",
     "text": [
      "C:\\Users\\ASUS\\AppData\\Local\\Temp/ipykernel_31372/1745142526.py:14: FutureWarning:\n",
      "\n",
      "In a future version of pandas all arguments of DataFrame.drop except for the argument 'labels' will be keyword-only\n",
      "\n"
     ]
    }
   ],
   "source": [
    "normalized_df,train_labels = dataprep(data[0])"
   ]
  },
  {
   "cell_type": "code",
   "execution_count": 32,
   "metadata": {},
   "outputs": [
    {
     "data": {
      "text/plain": [
       "8"
      ]
     },
     "execution_count": 32,
     "metadata": {},
     "output_type": "execute_result"
    }
   ],
   "source": [
    "len(normalized_df[0])"
   ]
  },
  {
   "cell_type": "code",
   "execution_count": 33,
   "metadata": {},
   "outputs": [
    {
     "data": {
      "text/plain": [
       "2"
      ]
     },
     "execution_count": 33,
     "metadata": {},
     "output_type": "execute_result"
    }
   ],
   "source": [
    "len(train_labels[0])"
   ]
  },
  {
   "cell_type": "code",
   "execution_count": 125,
   "metadata": {},
   "outputs": [
    {
     "name": "stdout",
     "output_type": "stream",
     "text": [
      "i =  0\n"
     ]
    },
    {
     "name": "stderr",
     "output_type": "stream",
     "text": [
      "C:\\Users\\ASUS\\AppData\\Local\\Temp/ipykernel_25176/1754174077.py:14: FutureWarning:\n",
      "\n",
      "In a future version of pandas all arguments of DataFrame.drop except for the argument 'labels' will be keyword-only\n",
      "\n",
      "C:\\Users\\ASUS\\AppData\\Local\\Temp/ipykernel_25176/1754174077.py:51: DeprecationWarning:\n",
      "\n",
      "KerasClassifier is deprecated, use Sci-Keras (https://github.com/adriangb/scikeras) instead.\n",
      "\n"
     ]
    },
    {
     "name": "stdout",
     "output_type": "stream",
     "text": [
      "i =  1\n"
     ]
    },
    {
     "name": "stderr",
     "output_type": "stream",
     "text": [
      "C:\\Users\\ASUS\\AppData\\Local\\Temp/ipykernel_25176/1754174077.py:14: FutureWarning:\n",
      "\n",
      "In a future version of pandas all arguments of DataFrame.drop except for the argument 'labels' will be keyword-only\n",
      "\n",
      "C:\\Users\\ASUS\\AppData\\Local\\Temp/ipykernel_25176/1754174077.py:51: DeprecationWarning:\n",
      "\n",
      "KerasClassifier is deprecated, use Sci-Keras (https://github.com/adriangb/scikeras) instead.\n",
      "\n"
     ]
    },
    {
     "name": "stdout",
     "output_type": "stream",
     "text": [
      "i =  2\n"
     ]
    },
    {
     "name": "stderr",
     "output_type": "stream",
     "text": [
      "C:\\Users\\ASUS\\AppData\\Local\\Temp/ipykernel_25176/1754174077.py:14: FutureWarning:\n",
      "\n",
      "In a future version of pandas all arguments of DataFrame.drop except for the argument 'labels' will be keyword-only\n",
      "\n",
      "C:\\Users\\ASUS\\AppData\\Local\\Temp/ipykernel_25176/1754174077.py:51: DeprecationWarning:\n",
      "\n",
      "KerasClassifier is deprecated, use Sci-Keras (https://github.com/adriangb/scikeras) instead.\n",
      "\n"
     ]
    },
    {
     "name": "stdout",
     "output_type": "stream",
     "text": [
      "i =  3\n"
     ]
    },
    {
     "name": "stderr",
     "output_type": "stream",
     "text": [
      "C:\\Users\\ASUS\\AppData\\Local\\Temp/ipykernel_25176/1754174077.py:14: FutureWarning:\n",
      "\n",
      "In a future version of pandas all arguments of DataFrame.drop except for the argument 'labels' will be keyword-only\n",
      "\n",
      "C:\\Users\\ASUS\\AppData\\Local\\Temp/ipykernel_25176/1754174077.py:51: DeprecationWarning:\n",
      "\n",
      "KerasClassifier is deprecated, use Sci-Keras (https://github.com/adriangb/scikeras) instead.\n",
      "\n"
     ]
    },
    {
     "name": "stdout",
     "output_type": "stream",
     "text": [
      "i =  4\n"
     ]
    },
    {
     "name": "stderr",
     "output_type": "stream",
     "text": [
      "C:\\Users\\ASUS\\AppData\\Local\\Temp/ipykernel_25176/1754174077.py:14: FutureWarning:\n",
      "\n",
      "In a future version of pandas all arguments of DataFrame.drop except for the argument 'labels' will be keyword-only\n",
      "\n",
      "C:\\Users\\ASUS\\AppData\\Local\\Temp/ipykernel_25176/1754174077.py:51: DeprecationWarning:\n",
      "\n",
      "KerasClassifier is deprecated, use Sci-Keras (https://github.com/adriangb/scikeras) instead.\n",
      "\n"
     ]
    },
    {
     "name": "stdout",
     "output_type": "stream",
     "text": [
      "i =  5\n"
     ]
    },
    {
     "name": "stderr",
     "output_type": "stream",
     "text": [
      "C:\\Users\\ASUS\\AppData\\Local\\Temp/ipykernel_25176/1754174077.py:14: FutureWarning:\n",
      "\n",
      "In a future version of pandas all arguments of DataFrame.drop except for the argument 'labels' will be keyword-only\n",
      "\n",
      "C:\\Users\\ASUS\\AppData\\Local\\Temp/ipykernel_25176/1754174077.py:51: DeprecationWarning:\n",
      "\n",
      "KerasClassifier is deprecated, use Sci-Keras (https://github.com/adriangb/scikeras) instead.\n",
      "\n"
     ]
    },
    {
     "name": "stdout",
     "output_type": "stream",
     "text": [
      "i =  6\n"
     ]
    },
    {
     "name": "stderr",
     "output_type": "stream",
     "text": [
      "C:\\Users\\ASUS\\AppData\\Local\\Temp/ipykernel_25176/1754174077.py:14: FutureWarning:\n",
      "\n",
      "In a future version of pandas all arguments of DataFrame.drop except for the argument 'labels' will be keyword-only\n",
      "\n",
      "C:\\Users\\ASUS\\AppData\\Local\\Temp/ipykernel_25176/1754174077.py:51: DeprecationWarning:\n",
      "\n",
      "KerasClassifier is deprecated, use Sci-Keras (https://github.com/adriangb/scikeras) instead.\n",
      "\n"
     ]
    },
    {
     "name": "stdout",
     "output_type": "stream",
     "text": [
      "i =  7\n"
     ]
    },
    {
     "name": "stderr",
     "output_type": "stream",
     "text": [
      "C:\\Users\\ASUS\\AppData\\Local\\Temp/ipykernel_25176/1754174077.py:14: FutureWarning:\n",
      "\n",
      "In a future version of pandas all arguments of DataFrame.drop except for the argument 'labels' will be keyword-only\n",
      "\n",
      "C:\\Users\\ASUS\\AppData\\Local\\Temp/ipykernel_25176/1754174077.py:51: DeprecationWarning:\n",
      "\n",
      "KerasClassifier is deprecated, use Sci-Keras (https://github.com/adriangb/scikeras) instead.\n",
      "\n"
     ]
    },
    {
     "name": "stdout",
     "output_type": "stream",
     "text": [
      "i =  8\n"
     ]
    },
    {
     "name": "stderr",
     "output_type": "stream",
     "text": [
      "C:\\Users\\ASUS\\AppData\\Local\\Temp/ipykernel_25176/1754174077.py:14: FutureWarning:\n",
      "\n",
      "In a future version of pandas all arguments of DataFrame.drop except for the argument 'labels' will be keyword-only\n",
      "\n",
      "C:\\Users\\ASUS\\AppData\\Local\\Temp/ipykernel_25176/1754174077.py:51: DeprecationWarning:\n",
      "\n",
      "KerasClassifier is deprecated, use Sci-Keras (https://github.com/adriangb/scikeras) instead.\n",
      "\n"
     ]
    },
    {
     "name": "stdout",
     "output_type": "stream",
     "text": [
      "i =  9\n"
     ]
    },
    {
     "name": "stderr",
     "output_type": "stream",
     "text": [
      "C:\\Users\\ASUS\\AppData\\Local\\Temp/ipykernel_25176/1754174077.py:14: FutureWarning:\n",
      "\n",
      "In a future version of pandas all arguments of DataFrame.drop except for the argument 'labels' will be keyword-only\n",
      "\n",
      "C:\\Users\\ASUS\\AppData\\Local\\Temp/ipykernel_25176/1754174077.py:51: DeprecationWarning:\n",
      "\n",
      "KerasClassifier is deprecated, use Sci-Keras (https://github.com/adriangb/scikeras) instead.\n",
      "\n"
     ]
    },
    {
     "name": "stdout",
     "output_type": "stream",
     "text": [
      "i =  10\n"
     ]
    },
    {
     "name": "stderr",
     "output_type": "stream",
     "text": [
      "C:\\Users\\ASUS\\AppData\\Local\\Temp/ipykernel_25176/1754174077.py:14: FutureWarning:\n",
      "\n",
      "In a future version of pandas all arguments of DataFrame.drop except for the argument 'labels' will be keyword-only\n",
      "\n",
      "C:\\Users\\ASUS\\AppData\\Local\\Temp/ipykernel_25176/1754174077.py:51: DeprecationWarning:\n",
      "\n",
      "KerasClassifier is deprecated, use Sci-Keras (https://github.com/adriangb/scikeras) instead.\n",
      "\n"
     ]
    },
    {
     "name": "stdout",
     "output_type": "stream",
     "text": [
      "i =  11\n"
     ]
    },
    {
     "name": "stderr",
     "output_type": "stream",
     "text": [
      "C:\\Users\\ASUS\\AppData\\Local\\Temp/ipykernel_25176/1754174077.py:14: FutureWarning:\n",
      "\n",
      "In a future version of pandas all arguments of DataFrame.drop except for the argument 'labels' will be keyword-only\n",
      "\n",
      "C:\\Users\\ASUS\\AppData\\Local\\Temp/ipykernel_25176/1754174077.py:51: DeprecationWarning:\n",
      "\n",
      "KerasClassifier is deprecated, use Sci-Keras (https://github.com/adriangb/scikeras) instead.\n",
      "\n"
     ]
    },
    {
     "name": "stdout",
     "output_type": "stream",
     "text": [
      "i =  12\n"
     ]
    },
    {
     "name": "stderr",
     "output_type": "stream",
     "text": [
      "C:\\Users\\ASUS\\AppData\\Local\\Temp/ipykernel_25176/1754174077.py:14: FutureWarning:\n",
      "\n",
      "In a future version of pandas all arguments of DataFrame.drop except for the argument 'labels' will be keyword-only\n",
      "\n",
      "C:\\Users\\ASUS\\AppData\\Local\\Temp/ipykernel_25176/1754174077.py:51: DeprecationWarning:\n",
      "\n",
      "KerasClassifier is deprecated, use Sci-Keras (https://github.com/adriangb/scikeras) instead.\n",
      "\n"
     ]
    },
    {
     "name": "stdout",
     "output_type": "stream",
     "text": [
      "i =  13\n"
     ]
    },
    {
     "name": "stderr",
     "output_type": "stream",
     "text": [
      "C:\\Users\\ASUS\\AppData\\Local\\Temp/ipykernel_25176/1754174077.py:14: FutureWarning:\n",
      "\n",
      "In a future version of pandas all arguments of DataFrame.drop except for the argument 'labels' will be keyword-only\n",
      "\n",
      "C:\\Users\\ASUS\\AppData\\Local\\Temp/ipykernel_25176/1754174077.py:51: DeprecationWarning:\n",
      "\n",
      "KerasClassifier is deprecated, use Sci-Keras (https://github.com/adriangb/scikeras) instead.\n",
      "\n"
     ]
    },
    {
     "name": "stdout",
     "output_type": "stream",
     "text": [
      "i =  14\n"
     ]
    },
    {
     "name": "stderr",
     "output_type": "stream",
     "text": [
      "C:\\Users\\ASUS\\AppData\\Local\\Temp/ipykernel_25176/1754174077.py:14: FutureWarning:\n",
      "\n",
      "In a future version of pandas all arguments of DataFrame.drop except for the argument 'labels' will be keyword-only\n",
      "\n",
      "C:\\Users\\ASUS\\AppData\\Local\\Temp/ipykernel_25176/1754174077.py:51: DeprecationWarning:\n",
      "\n",
      "KerasClassifier is deprecated, use Sci-Keras (https://github.com/adriangb/scikeras) instead.\n",
      "\n"
     ]
    },
    {
     "name": "stdout",
     "output_type": "stream",
     "text": [
      "i =  15\n"
     ]
    },
    {
     "name": "stderr",
     "output_type": "stream",
     "text": [
      "C:\\Users\\ASUS\\AppData\\Local\\Temp/ipykernel_25176/1754174077.py:14: FutureWarning:\n",
      "\n",
      "In a future version of pandas all arguments of DataFrame.drop except for the argument 'labels' will be keyword-only\n",
      "\n",
      "C:\\Users\\ASUS\\AppData\\Local\\Temp/ipykernel_25176/1754174077.py:51: DeprecationWarning:\n",
      "\n",
      "KerasClassifier is deprecated, use Sci-Keras (https://github.com/adriangb/scikeras) instead.\n",
      "\n"
     ]
    },
    {
     "name": "stdout",
     "output_type": "stream",
     "text": [
      "i =  16\n"
     ]
    },
    {
     "name": "stderr",
     "output_type": "stream",
     "text": [
      "C:\\Users\\ASUS\\AppData\\Local\\Temp/ipykernel_25176/1754174077.py:14: FutureWarning:\n",
      "\n",
      "In a future version of pandas all arguments of DataFrame.drop except for the argument 'labels' will be keyword-only\n",
      "\n",
      "C:\\Users\\ASUS\\AppData\\Local\\Temp/ipykernel_25176/1754174077.py:51: DeprecationWarning:\n",
      "\n",
      "KerasClassifier is deprecated, use Sci-Keras (https://github.com/adriangb/scikeras) instead.\n",
      "\n"
     ]
    },
    {
     "name": "stdout",
     "output_type": "stream",
     "text": [
      "i =  17\n"
     ]
    },
    {
     "name": "stderr",
     "output_type": "stream",
     "text": [
      "C:\\Users\\ASUS\\AppData\\Local\\Temp/ipykernel_25176/1754174077.py:14: FutureWarning:\n",
      "\n",
      "In a future version of pandas all arguments of DataFrame.drop except for the argument 'labels' will be keyword-only\n",
      "\n",
      "C:\\Users\\ASUS\\AppData\\Local\\Temp/ipykernel_25176/1754174077.py:51: DeprecationWarning:\n",
      "\n",
      "KerasClassifier is deprecated, use Sci-Keras (https://github.com/adriangb/scikeras) instead.\n",
      "\n"
     ]
    },
    {
     "name": "stdout",
     "output_type": "stream",
     "text": [
      "i =  18\n"
     ]
    },
    {
     "name": "stderr",
     "output_type": "stream",
     "text": [
      "C:\\Users\\ASUS\\AppData\\Local\\Temp/ipykernel_25176/1754174077.py:14: FutureWarning:\n",
      "\n",
      "In a future version of pandas all arguments of DataFrame.drop except for the argument 'labels' will be keyword-only\n",
      "\n",
      "C:\\Users\\ASUS\\AppData\\Local\\Temp/ipykernel_25176/1754174077.py:51: DeprecationWarning:\n",
      "\n",
      "KerasClassifier is deprecated, use Sci-Keras (https://github.com/adriangb/scikeras) instead.\n",
      "\n"
     ]
    },
    {
     "name": "stdout",
     "output_type": "stream",
     "text": [
      "i =  19\n"
     ]
    },
    {
     "name": "stderr",
     "output_type": "stream",
     "text": [
      "C:\\Users\\ASUS\\AppData\\Local\\Temp/ipykernel_25176/1754174077.py:14: FutureWarning:\n",
      "\n",
      "In a future version of pandas all arguments of DataFrame.drop except for the argument 'labels' will be keyword-only\n",
      "\n",
      "C:\\Users\\ASUS\\AppData\\Local\\Temp/ipykernel_25176/1754174077.py:51: DeprecationWarning:\n",
      "\n",
      "KerasClassifier is deprecated, use Sci-Keras (https://github.com/adriangb/scikeras) instead.\n",
      "\n"
     ]
    },
    {
     "name": "stdout",
     "output_type": "stream",
     "text": [
      "i =  20\n"
     ]
    },
    {
     "name": "stderr",
     "output_type": "stream",
     "text": [
      "C:\\Users\\ASUS\\AppData\\Local\\Temp/ipykernel_25176/1754174077.py:14: FutureWarning:\n",
      "\n",
      "In a future version of pandas all arguments of DataFrame.drop except for the argument 'labels' will be keyword-only\n",
      "\n",
      "C:\\Users\\ASUS\\AppData\\Local\\Temp/ipykernel_25176/1754174077.py:51: DeprecationWarning:\n",
      "\n",
      "KerasClassifier is deprecated, use Sci-Keras (https://github.com/adriangb/scikeras) instead.\n",
      "\n"
     ]
    },
    {
     "name": "stdout",
     "output_type": "stream",
     "text": [
      "i =  21\n"
     ]
    },
    {
     "name": "stderr",
     "output_type": "stream",
     "text": [
      "C:\\Users\\ASUS\\AppData\\Local\\Temp/ipykernel_25176/1754174077.py:14: FutureWarning:\n",
      "\n",
      "In a future version of pandas all arguments of DataFrame.drop except for the argument 'labels' will be keyword-only\n",
      "\n",
      "C:\\Users\\ASUS\\AppData\\Local\\Temp/ipykernel_25176/1754174077.py:51: DeprecationWarning:\n",
      "\n",
      "KerasClassifier is deprecated, use Sci-Keras (https://github.com/adriangb/scikeras) instead.\n",
      "\n"
     ]
    },
    {
     "name": "stdout",
     "output_type": "stream",
     "text": [
      "i =  22\n"
     ]
    },
    {
     "name": "stderr",
     "output_type": "stream",
     "text": [
      "C:\\Users\\ASUS\\AppData\\Local\\Temp/ipykernel_25176/1754174077.py:14: FutureWarning:\n",
      "\n",
      "In a future version of pandas all arguments of DataFrame.drop except for the argument 'labels' will be keyword-only\n",
      "\n",
      "C:\\Users\\ASUS\\AppData\\Local\\Temp/ipykernel_25176/1754174077.py:51: DeprecationWarning:\n",
      "\n",
      "KerasClassifier is deprecated, use Sci-Keras (https://github.com/adriangb/scikeras) instead.\n",
      "\n"
     ]
    },
    {
     "name": "stdout",
     "output_type": "stream",
     "text": [
      "i =  23\n"
     ]
    },
    {
     "name": "stderr",
     "output_type": "stream",
     "text": [
      "C:\\Users\\ASUS\\AppData\\Local\\Temp/ipykernel_25176/1754174077.py:14: FutureWarning:\n",
      "\n",
      "In a future version of pandas all arguments of DataFrame.drop except for the argument 'labels' will be keyword-only\n",
      "\n",
      "C:\\Users\\ASUS\\AppData\\Local\\Temp/ipykernel_25176/1754174077.py:51: DeprecationWarning:\n",
      "\n",
      "KerasClassifier is deprecated, use Sci-Keras (https://github.com/adriangb/scikeras) instead.\n",
      "\n"
     ]
    },
    {
     "name": "stdout",
     "output_type": "stream",
     "text": [
      "i =  24\n"
     ]
    },
    {
     "name": "stderr",
     "output_type": "stream",
     "text": [
      "C:\\Users\\ASUS\\AppData\\Local\\Temp/ipykernel_25176/1754174077.py:14: FutureWarning:\n",
      "\n",
      "In a future version of pandas all arguments of DataFrame.drop except for the argument 'labels' will be keyword-only\n",
      "\n",
      "C:\\Users\\ASUS\\AppData\\Local\\Temp/ipykernel_25176/1754174077.py:51: DeprecationWarning:\n",
      "\n",
      "KerasClassifier is deprecated, use Sci-Keras (https://github.com/adriangb/scikeras) instead.\n",
      "\n"
     ]
    },
    {
     "name": "stdout",
     "output_type": "stream",
     "text": [
      "i =  25\n"
     ]
    },
    {
     "name": "stderr",
     "output_type": "stream",
     "text": [
      "C:\\Users\\ASUS\\AppData\\Local\\Temp/ipykernel_25176/1754174077.py:14: FutureWarning:\n",
      "\n",
      "In a future version of pandas all arguments of DataFrame.drop except for the argument 'labels' will be keyword-only\n",
      "\n",
      "C:\\Users\\ASUS\\AppData\\Local\\Temp/ipykernel_25176/1754174077.py:51: DeprecationWarning:\n",
      "\n",
      "KerasClassifier is deprecated, use Sci-Keras (https://github.com/adriangb/scikeras) instead.\n",
      "\n"
     ]
    },
    {
     "name": "stdout",
     "output_type": "stream",
     "text": [
      "i =  26\n"
     ]
    },
    {
     "name": "stderr",
     "output_type": "stream",
     "text": [
      "C:\\Users\\ASUS\\AppData\\Local\\Temp/ipykernel_25176/1754174077.py:14: FutureWarning:\n",
      "\n",
      "In a future version of pandas all arguments of DataFrame.drop except for the argument 'labels' will be keyword-only\n",
      "\n",
      "C:\\Users\\ASUS\\AppData\\Local\\Temp/ipykernel_25176/1754174077.py:51: DeprecationWarning:\n",
      "\n",
      "KerasClassifier is deprecated, use Sci-Keras (https://github.com/adriangb/scikeras) instead.\n",
      "\n"
     ]
    },
    {
     "name": "stdout",
     "output_type": "stream",
     "text": [
      "i =  27\n"
     ]
    },
    {
     "name": "stderr",
     "output_type": "stream",
     "text": [
      "C:\\Users\\ASUS\\AppData\\Local\\Temp/ipykernel_25176/1754174077.py:14: FutureWarning:\n",
      "\n",
      "In a future version of pandas all arguments of DataFrame.drop except for the argument 'labels' will be keyword-only\n",
      "\n",
      "C:\\Users\\ASUS\\AppData\\Local\\Temp/ipykernel_25176/1754174077.py:51: DeprecationWarning:\n",
      "\n",
      "KerasClassifier is deprecated, use Sci-Keras (https://github.com/adriangb/scikeras) instead.\n",
      "\n"
     ]
    },
    {
     "name": "stdout",
     "output_type": "stream",
     "text": [
      "i =  28\n"
     ]
    },
    {
     "name": "stderr",
     "output_type": "stream",
     "text": [
      "C:\\Users\\ASUS\\AppData\\Local\\Temp/ipykernel_25176/1754174077.py:14: FutureWarning:\n",
      "\n",
      "In a future version of pandas all arguments of DataFrame.drop except for the argument 'labels' will be keyword-only\n",
      "\n",
      "C:\\Users\\ASUS\\AppData\\Local\\Temp/ipykernel_25176/1754174077.py:51: DeprecationWarning:\n",
      "\n",
      "KerasClassifier is deprecated, use Sci-Keras (https://github.com/adriangb/scikeras) instead.\n",
      "\n"
     ]
    },
    {
     "name": "stdout",
     "output_type": "stream",
     "text": [
      "i =  29\n"
     ]
    },
    {
     "name": "stderr",
     "output_type": "stream",
     "text": [
      "C:\\Users\\ASUS\\AppData\\Local\\Temp/ipykernel_25176/1754174077.py:14: FutureWarning:\n",
      "\n",
      "In a future version of pandas all arguments of DataFrame.drop except for the argument 'labels' will be keyword-only\n",
      "\n",
      "C:\\Users\\ASUS\\AppData\\Local\\Temp/ipykernel_25176/1754174077.py:51: DeprecationWarning:\n",
      "\n",
      "KerasClassifier is deprecated, use Sci-Keras (https://github.com/adriangb/scikeras) instead.\n",
      "\n"
     ]
    }
   ],
   "source": [
    "acc = personal_model(data)"
   ]
  },
  {
   "cell_type": "code",
   "execution_count": null,
   "metadata": {},
   "outputs": [
    {
     "data": {
      "text/plain": [
       "[array([0.8888889 , 1.        , 0.77777779, 1.        , 1.        ,\n",
       "        0.875     , 1.        ]),\n",
       " array([0.33333334, 0.77777779, 0.44444445, 0.55555558, 0.55555558,\n",
       "        0.5       , 0.625     ]),\n",
       " array([1.       , 0.8888889, 1.       , 0.625    , 0.875    , 0.75     ,\n",
       "        0.75     ]),\n",
       " array([0.66666669, 0.8888889 , 0.55555558, 0.55555558, 0.77777779,\n",
       "        0.66666669, 0.625     ]),\n",
       " array([0.8888889 , 0.66666669, 0.8888889 , 0.77777779, 0.77777779,\n",
       "        1.        , 1.        ]),\n",
       " array([0.77777779, 0.55555558, 0.66666669, 0.77777779, 0.625     ,\n",
       "        0.375     , 0.5       ]),\n",
       " array([0.66666669, 0.55555558, 0.66666669, 0.8888889 , 0.8888889 ,\n",
       "        1.        , 0.875     ]),\n",
       " array([0.55555558, 0.55555558, 0.55555558, 0.55555558, 0.75      ,\n",
       "        0.5       , 0.625     ]),\n",
       " array([0.55555558, 0.77777779, 0.77777779, 0.77777779, 0.75      ,\n",
       "        0.625     , 0.875     ]),\n",
       " array([0.55555558, 0.66666669, 0.8888889 , 0.55555558, 0.5       ,\n",
       "        0.875     , 0.625     ]),\n",
       " array([0.66666669, 0.77777779, 0.8888889 , 0.55555558, 0.66666669,\n",
       "        0.625     , 0.75      ]),\n",
       " array([0.55555558, 0.33333334, 0.44444445, 0.55555558, 1.        ,\n",
       "        0.625     , 0.875     ]),\n",
       " array([0.8888889 , 0.77777779, 0.8888889 , 0.8888889 , 0.75      ,\n",
       "        0.875     , 1.        ]),\n",
       " array([0.8888889 , 0.66666669, 0.77777779, 0.66666669, 1.        ,\n",
       "        0.5       , 0.75      ]),\n",
       " array([0.77777779, 0.77777779, 0.375     , 0.375     , 0.5       ,\n",
       "        0.375     , 0.875     ]),\n",
       " array([0.55555558, 0.33333334, 0.8888889 , 0.77777779, 1.        ,\n",
       "        0.625     , 0.625     ]),\n",
       " array([0.66666669, 0.66666669, 0.77777779, 0.66666669, 0.55555558,\n",
       "        0.625     , 0.5       ]),\n",
       " array([0.66666669, 0.44444445, 0.55555558, 0.44444445, 0.375     ,\n",
       "        0.625     , 0.375     ]),\n",
       " array([0.80000001, 0.8888889 , 0.77777779, 0.8888889 , 1.        ,\n",
       "        1.        , 0.66666669]),\n",
       " array([0.44444445, 0.66666669, 0.44444445, 0.66666669, 0.875     ,\n",
       "        0.375     , 0.75      ]),\n",
       " array([0.33333334, 0.33333334, 0.77777779, 0.77777779, 0.625     ,\n",
       "        0.875     , 0.875     ]),\n",
       " array([0.66666669, 0.66666669, 0.33333334, 0.8888889 , 0.5       ,\n",
       "        0.25      , 0.625     ]),\n",
       " array([0.66666669, 0.44444445, 0.77777779, 0.55555558, 0.375     ,\n",
       "        0.75      , 0.5       ]),\n",
       " array([0.77777779, 0.8888889 , 0.77777779, 1.        , 0.625     ,\n",
       "        0.75      , 1.        ]),\n",
       " array([0.44444445, 0.55555558, 0.44444445, 0.33333334, 0.125     ,\n",
       "        0.625     , 0.25      ]),\n",
       " array([0.55555558, 0.33333334, 0.55555558, 0.44444445, 0.44444445,\n",
       "        0.375     , 0.125     ]),\n",
       " array([0.77777779, 0.55555558, 0.55555558, 1.        , 0.625     ,\n",
       "        0.875     , 0.75      ]),\n",
       " array([0.66666669, 0.55555558, 0.66666669, 0.44444445, 0.625     ,\n",
       "        0.5       , 0.375     ]),\n",
       " array([0.72222221, 0.52941179, 0.88235295, 0.58823532, 0.88235295,\n",
       "        0.52941179, 0.88235295]),\n",
       " array([0.33333334, 0.66666669, 0.66666669, 0.33333334, 0.55555558,\n",
       "        0.5       , 0.5       ])]"
      ]
     },
     "execution_count": 171,
     "metadata": {},
     "output_type": "execute_result"
    }
   ],
   "source": [
    "acc"
   ]
  },
  {
   "cell_type": "code",
   "execution_count": 126,
   "metadata": {},
   "outputs": [
    {
     "name": "stdout",
     "output_type": "stream",
     "text": [
      "i -  0  : avg_acc =  0.865079368863787\n",
      "i -  1  : avg_acc =  0.49206350105149405\n",
      "i -  2  : avg_acc =  0.8769841279302325\n",
      "i -  3  : avg_acc =  0.692460332598005\n",
      "i -  4  : avg_acc =  0.8392857228006635\n",
      "i -  5  : avg_acc =  0.6111111215182713\n",
      "i -  6  : avg_acc =  0.8075396929468427\n",
      "i -  7  : avg_acc =  0.6349206481661115\n",
      "i -  8  : avg_acc =  0.700396831546511\n",
      "i -  9  : avg_acc =  0.6507936630930219\n",
      "i -  10  : avg_acc =  0.6051587419850486\n",
      "i -  11  : avg_acc =  0.6071428656578064\n",
      "i -  12  : avg_acc =  0.8849206396511623\n",
      "i -  13  : avg_acc =  0.7142857228006635\n",
      "i -  14  : avg_acc =  0.5793650831495013\n",
      "i -  15  : avg_acc =  0.6567460383687701\n",
      "i -  16  : avg_acc =  0.6190476332392011\n",
      "i -  17  : avg_acc =  0.5119047675813947\n",
      "i -  18  : avg_acc =  0.8920634984970093\n",
      "i -  19  : avg_acc =  0.6170635053089687\n",
      "i -  20  : avg_acc =  0.6051587377275739\n",
      "i -  21  : avg_acc =  0.5634920724800655\n",
      "i -  22  : avg_acc =  0.5297619146960122\n",
      "i -  23  : avg_acc =  0.8333333390099662\n",
      "i -  24  : avg_acc =  0.4484127036162785\n",
      "i -  25  : avg_acc =  0.38888889976910185\n",
      "i -  26  : avg_acc =  0.7321428656578064\n",
      "i -  27  : avg_acc =  0.5000000085149493\n",
      "i -  28  : avg_acc =  0.7997198956353324\n",
      "i -  29  : avg_acc =  0.5119047718388694\n"
     ]
    }
   ],
   "source": [
    "for i in range(len(acc)):\n",
    "    print('i - ',i,' : avg_acc = ',sum(acc[i])/len(acc[i]))"
   ]
  },
  {
   "cell_type": "code",
   "execution_count": 130,
   "metadata": {
    "_cell_guid": "17f994b3-d6a0-118a-f478-b2b26a30ca5f"
   },
   "outputs": [
    {
     "name": "stdout",
     "output_type": "stream",
     "text": [
      "max for individual -  0.8920634984970093\n",
      "avg across every person =  0.6590382905233474\n",
      "min for individual -  0.38888889976910185\n"
     ]
    }
   ],
   "source": [
    "\n",
    "print('max for individual - ',max([sum(acc[i])/len(acc[i]) for i in range(len(acc))]))\n",
    "print('avg across every person = ',sum(sum(acc))/(len(acc[0])*len(acc)))\n",
    "print('min for individual - ',min([sum(acc[i])/len(acc[i]) for i in range(len(acc))]))"
   ]
  },
  {
   "cell_type": "code",
   "execution_count": 128,
   "metadata": {},
   "outputs": [
    {
     "data": {
      "application/vnd.plotly.v1+json": {
       "config": {
        "plotlyServerURL": "https://plot.ly"
       },
       "data": [
        {
         "alignmentgroup": "True",
         "hovertemplate": "accuracy percentage=%{x}<br>number of subjects=%{y}<extra></extra>",
         "legendgroup": "",
         "marker": {
          "color": "#636efa",
          "pattern": {
           "shape": ""
          }
         },
         "name": "",
         "offsetgroup": "",
         "orientation": "v",
         "showlegend": false,
         "textposition": "auto",
         "type": "bar",
         "x": [
          0,
          1,
          2,
          3,
          4,
          5,
          6,
          7,
          8,
          9,
          10,
          11,
          12,
          13,
          14,
          15,
          16,
          17,
          18,
          19,
          20,
          21,
          22,
          23,
          24,
          25,
          26,
          27,
          28,
          29,
          30,
          31,
          32,
          33,
          34,
          35,
          36,
          37,
          38,
          39,
          40,
          41,
          42,
          43,
          44,
          45,
          46,
          47,
          48,
          49,
          50,
          51,
          52,
          53,
          54,
          55,
          56,
          57,
          58,
          59,
          60,
          61,
          62,
          63,
          64,
          65,
          66,
          67,
          68,
          69,
          70,
          71,
          72,
          73,
          74,
          75,
          76,
          77,
          78,
          79,
          80,
          81,
          82,
          83,
          84,
          85,
          86,
          87,
          88,
          89,
          90,
          91,
          92,
          93,
          94,
          95,
          96,
          97,
          98,
          99,
          100
         ],
         "xaxis": "x",
         "y": [
          0,
          0,
          0,
          0,
          0,
          0,
          0,
          0,
          0,
          0,
          0,
          0,
          0,
          0,
          0,
          0,
          0,
          0,
          0,
          0,
          0,
          0,
          0,
          0,
          0,
          0,
          0,
          0,
          0,
          0,
          0,
          0,
          0,
          0,
          0,
          1,
          0,
          0,
          0,
          0,
          1,
          0,
          0,
          0,
          0,
          1,
          0,
          0,
          0,
          0,
          4,
          0,
          0,
          0,
          0,
          2,
          0,
          0,
          0,
          0,
          7,
          0,
          0,
          0,
          0,
          3,
          0,
          0,
          0,
          0,
          3,
          0,
          0,
          0,
          0,
          1,
          0,
          0,
          0,
          0,
          3,
          0,
          0,
          0,
          0,
          4,
          0,
          0,
          0,
          0,
          0,
          0,
          0,
          0,
          0,
          0,
          0,
          0,
          0,
          0,
          0
         ],
         "yaxis": "y"
        }
       ],
       "layout": {
        "barmode": "relative",
        "height": 500,
        "legend": {
         "tracegroupgap": 0
        },
        "template": {
         "data": {
          "bar": [
           {
            "error_x": {
             "color": "#2a3f5f"
            },
            "error_y": {
             "color": "#2a3f5f"
            },
            "marker": {
             "line": {
              "color": "#E5ECF6",
              "width": 0.5
             },
             "pattern": {
              "fillmode": "overlay",
              "size": 10,
              "solidity": 0.2
             }
            },
            "type": "bar"
           }
          ],
          "barpolar": [
           {
            "marker": {
             "line": {
              "color": "#E5ECF6",
              "width": 0.5
             },
             "pattern": {
              "fillmode": "overlay",
              "size": 10,
              "solidity": 0.2
             }
            },
            "type": "barpolar"
           }
          ],
          "carpet": [
           {
            "aaxis": {
             "endlinecolor": "#2a3f5f",
             "gridcolor": "white",
             "linecolor": "white",
             "minorgridcolor": "white",
             "startlinecolor": "#2a3f5f"
            },
            "baxis": {
             "endlinecolor": "#2a3f5f",
             "gridcolor": "white",
             "linecolor": "white",
             "minorgridcolor": "white",
             "startlinecolor": "#2a3f5f"
            },
            "type": "carpet"
           }
          ],
          "choropleth": [
           {
            "colorbar": {
             "outlinewidth": 0,
             "ticks": ""
            },
            "type": "choropleth"
           }
          ],
          "contour": [
           {
            "colorbar": {
             "outlinewidth": 0,
             "ticks": ""
            },
            "colorscale": [
             [
              0,
              "#0d0887"
             ],
             [
              0.1111111111111111,
              "#46039f"
             ],
             [
              0.2222222222222222,
              "#7201a8"
             ],
             [
              0.3333333333333333,
              "#9c179e"
             ],
             [
              0.4444444444444444,
              "#bd3786"
             ],
             [
              0.5555555555555556,
              "#d8576b"
             ],
             [
              0.6666666666666666,
              "#ed7953"
             ],
             [
              0.7777777777777778,
              "#fb9f3a"
             ],
             [
              0.8888888888888888,
              "#fdca26"
             ],
             [
              1,
              "#f0f921"
             ]
            ],
            "type": "contour"
           }
          ],
          "contourcarpet": [
           {
            "colorbar": {
             "outlinewidth": 0,
             "ticks": ""
            },
            "type": "contourcarpet"
           }
          ],
          "heatmap": [
           {
            "colorbar": {
             "outlinewidth": 0,
             "ticks": ""
            },
            "colorscale": [
             [
              0,
              "#0d0887"
             ],
             [
              0.1111111111111111,
              "#46039f"
             ],
             [
              0.2222222222222222,
              "#7201a8"
             ],
             [
              0.3333333333333333,
              "#9c179e"
             ],
             [
              0.4444444444444444,
              "#bd3786"
             ],
             [
              0.5555555555555556,
              "#d8576b"
             ],
             [
              0.6666666666666666,
              "#ed7953"
             ],
             [
              0.7777777777777778,
              "#fb9f3a"
             ],
             [
              0.8888888888888888,
              "#fdca26"
             ],
             [
              1,
              "#f0f921"
             ]
            ],
            "type": "heatmap"
           }
          ],
          "heatmapgl": [
           {
            "colorbar": {
             "outlinewidth": 0,
             "ticks": ""
            },
            "colorscale": [
             [
              0,
              "#0d0887"
             ],
             [
              0.1111111111111111,
              "#46039f"
             ],
             [
              0.2222222222222222,
              "#7201a8"
             ],
             [
              0.3333333333333333,
              "#9c179e"
             ],
             [
              0.4444444444444444,
              "#bd3786"
             ],
             [
              0.5555555555555556,
              "#d8576b"
             ],
             [
              0.6666666666666666,
              "#ed7953"
             ],
             [
              0.7777777777777778,
              "#fb9f3a"
             ],
             [
              0.8888888888888888,
              "#fdca26"
             ],
             [
              1,
              "#f0f921"
             ]
            ],
            "type": "heatmapgl"
           }
          ],
          "histogram": [
           {
            "marker": {
             "pattern": {
              "fillmode": "overlay",
              "size": 10,
              "solidity": 0.2
             }
            },
            "type": "histogram"
           }
          ],
          "histogram2d": [
           {
            "colorbar": {
             "outlinewidth": 0,
             "ticks": ""
            },
            "colorscale": [
             [
              0,
              "#0d0887"
             ],
             [
              0.1111111111111111,
              "#46039f"
             ],
             [
              0.2222222222222222,
              "#7201a8"
             ],
             [
              0.3333333333333333,
              "#9c179e"
             ],
             [
              0.4444444444444444,
              "#bd3786"
             ],
             [
              0.5555555555555556,
              "#d8576b"
             ],
             [
              0.6666666666666666,
              "#ed7953"
             ],
             [
              0.7777777777777778,
              "#fb9f3a"
             ],
             [
              0.8888888888888888,
              "#fdca26"
             ],
             [
              1,
              "#f0f921"
             ]
            ],
            "type": "histogram2d"
           }
          ],
          "histogram2dcontour": [
           {
            "colorbar": {
             "outlinewidth": 0,
             "ticks": ""
            },
            "colorscale": [
             [
              0,
              "#0d0887"
             ],
             [
              0.1111111111111111,
              "#46039f"
             ],
             [
              0.2222222222222222,
              "#7201a8"
             ],
             [
              0.3333333333333333,
              "#9c179e"
             ],
             [
              0.4444444444444444,
              "#bd3786"
             ],
             [
              0.5555555555555556,
              "#d8576b"
             ],
             [
              0.6666666666666666,
              "#ed7953"
             ],
             [
              0.7777777777777778,
              "#fb9f3a"
             ],
             [
              0.8888888888888888,
              "#fdca26"
             ],
             [
              1,
              "#f0f921"
             ]
            ],
            "type": "histogram2dcontour"
           }
          ],
          "mesh3d": [
           {
            "colorbar": {
             "outlinewidth": 0,
             "ticks": ""
            },
            "type": "mesh3d"
           }
          ],
          "parcoords": [
           {
            "line": {
             "colorbar": {
              "outlinewidth": 0,
              "ticks": ""
             }
            },
            "type": "parcoords"
           }
          ],
          "pie": [
           {
            "automargin": true,
            "type": "pie"
           }
          ],
          "scatter": [
           {
            "marker": {
             "colorbar": {
              "outlinewidth": 0,
              "ticks": ""
             }
            },
            "type": "scatter"
           }
          ],
          "scatter3d": [
           {
            "line": {
             "colorbar": {
              "outlinewidth": 0,
              "ticks": ""
             }
            },
            "marker": {
             "colorbar": {
              "outlinewidth": 0,
              "ticks": ""
             }
            },
            "type": "scatter3d"
           }
          ],
          "scattercarpet": [
           {
            "marker": {
             "colorbar": {
              "outlinewidth": 0,
              "ticks": ""
             }
            },
            "type": "scattercarpet"
           }
          ],
          "scattergeo": [
           {
            "marker": {
             "colorbar": {
              "outlinewidth": 0,
              "ticks": ""
             }
            },
            "type": "scattergeo"
           }
          ],
          "scattergl": [
           {
            "marker": {
             "colorbar": {
              "outlinewidth": 0,
              "ticks": ""
             }
            },
            "type": "scattergl"
           }
          ],
          "scattermapbox": [
           {
            "marker": {
             "colorbar": {
              "outlinewidth": 0,
              "ticks": ""
             }
            },
            "type": "scattermapbox"
           }
          ],
          "scatterpolar": [
           {
            "marker": {
             "colorbar": {
              "outlinewidth": 0,
              "ticks": ""
             }
            },
            "type": "scatterpolar"
           }
          ],
          "scatterpolargl": [
           {
            "marker": {
             "colorbar": {
              "outlinewidth": 0,
              "ticks": ""
             }
            },
            "type": "scatterpolargl"
           }
          ],
          "scatterternary": [
           {
            "marker": {
             "colorbar": {
              "outlinewidth": 0,
              "ticks": ""
             }
            },
            "type": "scatterternary"
           }
          ],
          "surface": [
           {
            "colorbar": {
             "outlinewidth": 0,
             "ticks": ""
            },
            "colorscale": [
             [
              0,
              "#0d0887"
             ],
             [
              0.1111111111111111,
              "#46039f"
             ],
             [
              0.2222222222222222,
              "#7201a8"
             ],
             [
              0.3333333333333333,
              "#9c179e"
             ],
             [
              0.4444444444444444,
              "#bd3786"
             ],
             [
              0.5555555555555556,
              "#d8576b"
             ],
             [
              0.6666666666666666,
              "#ed7953"
             ],
             [
              0.7777777777777778,
              "#fb9f3a"
             ],
             [
              0.8888888888888888,
              "#fdca26"
             ],
             [
              1,
              "#f0f921"
             ]
            ],
            "type": "surface"
           }
          ],
          "table": [
           {
            "cells": {
             "fill": {
              "color": "#EBF0F8"
             },
             "line": {
              "color": "white"
             }
            },
            "header": {
             "fill": {
              "color": "#C8D4E3"
             },
             "line": {
              "color": "white"
             }
            },
            "type": "table"
           }
          ]
         },
         "layout": {
          "annotationdefaults": {
           "arrowcolor": "#2a3f5f",
           "arrowhead": 0,
           "arrowwidth": 1
          },
          "autotypenumbers": "strict",
          "coloraxis": {
           "colorbar": {
            "outlinewidth": 0,
            "ticks": ""
           }
          },
          "colorscale": {
           "diverging": [
            [
             0,
             "#8e0152"
            ],
            [
             0.1,
             "#c51b7d"
            ],
            [
             0.2,
             "#de77ae"
            ],
            [
             0.3,
             "#f1b6da"
            ],
            [
             0.4,
             "#fde0ef"
            ],
            [
             0.5,
             "#f7f7f7"
            ],
            [
             0.6,
             "#e6f5d0"
            ],
            [
             0.7,
             "#b8e186"
            ],
            [
             0.8,
             "#7fbc41"
            ],
            [
             0.9,
             "#4d9221"
            ],
            [
             1,
             "#276419"
            ]
           ],
           "sequential": [
            [
             0,
             "#0d0887"
            ],
            [
             0.1111111111111111,
             "#46039f"
            ],
            [
             0.2222222222222222,
             "#7201a8"
            ],
            [
             0.3333333333333333,
             "#9c179e"
            ],
            [
             0.4444444444444444,
             "#bd3786"
            ],
            [
             0.5555555555555556,
             "#d8576b"
            ],
            [
             0.6666666666666666,
             "#ed7953"
            ],
            [
             0.7777777777777778,
             "#fb9f3a"
            ],
            [
             0.8888888888888888,
             "#fdca26"
            ],
            [
             1,
             "#f0f921"
            ]
           ],
           "sequentialminus": [
            [
             0,
             "#0d0887"
            ],
            [
             0.1111111111111111,
             "#46039f"
            ],
            [
             0.2222222222222222,
             "#7201a8"
            ],
            [
             0.3333333333333333,
             "#9c179e"
            ],
            [
             0.4444444444444444,
             "#bd3786"
            ],
            [
             0.5555555555555556,
             "#d8576b"
            ],
            [
             0.6666666666666666,
             "#ed7953"
            ],
            [
             0.7777777777777778,
             "#fb9f3a"
            ],
            [
             0.8888888888888888,
             "#fdca26"
            ],
            [
             1,
             "#f0f921"
            ]
           ]
          },
          "colorway": [
           "#636efa",
           "#EF553B",
           "#00cc96",
           "#ab63fa",
           "#FFA15A",
           "#19d3f3",
           "#FF6692",
           "#B6E880",
           "#FF97FF",
           "#FECB52"
          ],
          "font": {
           "color": "#2a3f5f"
          },
          "geo": {
           "bgcolor": "white",
           "lakecolor": "white",
           "landcolor": "#E5ECF6",
           "showlakes": true,
           "showland": true,
           "subunitcolor": "white"
          },
          "hoverlabel": {
           "align": "left"
          },
          "hovermode": "closest",
          "mapbox": {
           "style": "light"
          },
          "paper_bgcolor": "white",
          "plot_bgcolor": "#E5ECF6",
          "polar": {
           "angularaxis": {
            "gridcolor": "white",
            "linecolor": "white",
            "ticks": ""
           },
           "bgcolor": "#E5ECF6",
           "radialaxis": {
            "gridcolor": "white",
            "linecolor": "white",
            "ticks": ""
           }
          },
          "scene": {
           "xaxis": {
            "backgroundcolor": "#E5ECF6",
            "gridcolor": "white",
            "gridwidth": 2,
            "linecolor": "white",
            "showbackground": true,
            "ticks": "",
            "zerolinecolor": "white"
           },
           "yaxis": {
            "backgroundcolor": "#E5ECF6",
            "gridcolor": "white",
            "gridwidth": 2,
            "linecolor": "white",
            "showbackground": true,
            "ticks": "",
            "zerolinecolor": "white"
           },
           "zaxis": {
            "backgroundcolor": "#E5ECF6",
            "gridcolor": "white",
            "gridwidth": 2,
            "linecolor": "white",
            "showbackground": true,
            "ticks": "",
            "zerolinecolor": "white"
           }
          },
          "shapedefaults": {
           "line": {
            "color": "#2a3f5f"
           }
          },
          "ternary": {
           "aaxis": {
            "gridcolor": "white",
            "linecolor": "white",
            "ticks": ""
           },
           "baxis": {
            "gridcolor": "white",
            "linecolor": "white",
            "ticks": ""
           },
           "bgcolor": "#E5ECF6",
           "caxis": {
            "gridcolor": "white",
            "linecolor": "white",
            "ticks": ""
           }
          },
          "title": {
           "x": 0.05
          },
          "xaxis": {
           "automargin": true,
           "gridcolor": "white",
           "linecolor": "white",
           "ticks": "",
           "title": {
            "standoff": 15
           },
           "zerolinecolor": "white",
           "zerolinewidth": 2
          },
          "yaxis": {
           "automargin": true,
           "gridcolor": "white",
           "linecolor": "white",
           "ticks": "",
           "title": {
            "standoff": 15
           },
           "zerolinecolor": "white",
           "zerolinewidth": 2
          }
         }
        },
        "title": {
         "text": "2 activities classifier (NN)"
        },
        "width": 1000,
        "xaxis": {
         "anchor": "y",
         "domain": [
          0,
          1
         ],
         "title": {
          "text": "accuracy percentage"
         }
        },
        "yaxis": {
         "anchor": "x",
         "domain": [
          0,
          1
         ],
         "title": {
          "text": "number of subjects"
         }
        }
       }
      }
     },
     "metadata": {},
     "output_type": "display_data"
    }
   ],
   "source": [
    "newacc = [sum(acc[i])/len(acc[i]) for i in range(len(acc))]\n",
    "histro = {'x':[i for i in range(0,101)],'y':[0 for i in range(0,101)]}\n",
    "for ac in newacc:\n",
    "    newval = (int(ac*100)//5)*5\n",
    "    histro['y'][newval]+=1\n",
    "import plotly.express as px\n",
    "fig = px.bar(histro, x='x', y='y',labels={\n",
    "                     'x':'accuracy percentage','y':'number of subjects'\n",
    "                 },title = '2 activities classifier (NN)',width=1000,height=500)\n",
    "fig.show()\n"
   ]
  },
  {
   "cell_type": "markdown",
   "metadata": {},
   "source": [
    "** 2 activities classifier (math/relax)"
   ]
  },
  {
   "cell_type": "markdown",
   "metadata": {
    "_cell_guid": "9e2b448b-9abb-df63-dc47-09d3122f5337"
   },
   "source": [
    "6 activities classifier"
   ]
  },
  {
   "cell_type": "markdown",
   "metadata": {
    "_cell_guid": "fb63b4bf-cada-ebfc-f370-fb0e0b232f42"
   },
   "source": [
    "Let's try to classify an individual subject's mode of thinking, with more possible categories. This is harder.  "
   ]
  },
  {
   "cell_type": "code",
   "execution_count": 66,
   "metadata": {
    "_cell_guid": "2eb2a596-e3a1-5681-e2dd-899a971eb721"
   },
   "outputs": [],
   "source": [
    "import pandas as pd \n",
    "import json\n",
    "import tensorflow as tf\n",
    "import numpy as np\n",
    "import random\n",
    "\n",
    "def get_indv ():\n",
    "\t\t\n",
    "\tdef prepare_individual_data(df,individual):\n",
    "\t\t# drop unused features. just leave eeg_power and the label\n",
    "\t\tdf = df.drop('Unnamed: 0', 1)\n",
    "\t\t# df = df.drop('id', 1)\n",
    "\t\tdf = df.drop('indra_time', 1)\n",
    "\t\tdf = df.drop('browser_latency', 1)\n",
    "\t\tdf = df.drop('reading_time', 1)\n",
    "\t\tdf = df.drop('attention_esense', 1)\n",
    "\t\tdf = df.drop('meditation_esense', 1)\n",
    "\t\tdf = df.drop('raw_values', 1)\n",
    "\t\tdf = df.drop('signal_quality', 1)\n",
    "\t\tdf = df.drop('createdAt', 1)\n",
    "\t\tdf = df.drop('updatedAt', 1)\n",
    "\t\t# separate eeg power to multiple columns\n",
    "\t\tto_series = pd.Series(df['eeg_power']) # df to series\n",
    "\t\teeg_features=pd.DataFrame(to_series.tolist()) #series to list and then back to df\n",
    "\t\tdf = pd.concat([df,eeg_features], axis=1) # concatenate the create columns\n",
    "\t\t# df = pd.concat([df,eeg_features], axis=1, join='outer') # concatenate the create columns\n",
    "\t\t# just look at first subject\n",
    "\t\tdf=df.loc[df['id'] == individual]\n",
    "\t\tdf = df.drop('eeg_power', 1) # drop comma separated cell\n",
    "\t\t# df = df.drop('id', 1) # drop comma separated cell\n",
    "\t\treturn df\n",
    "\n",
    "\tdf = pd.read_csv(\"./eeg-data.csv\")\n",
    "\n",
    "\trelax = df[df.label == 'relax']\n",
    "\t# df['label'] = df[\"label\"].astype('category')\n",
    "\tdf['label'].value_counts()\n",
    "\tdf['eeg_power'] = df.eeg_power.map(json.loads)\n",
    "\tdef clean_labels(dd):\n",
    "\t\t# clean labels\n",
    "\t\tdd.loc[dd.label == 'math1', 'label'] = \"math\"\n",
    "\t\tdd.loc[dd.label == 'math2', 'label'] = \"math\"\n",
    "\t\tdd.loc[dd.label == 'math3', 'label'] = \"math\"\n",
    "\t\tdd.loc[dd.label == 'math4', 'label'] = \"math\"\n",
    "\t\tdd.loc[dd.label == 'math5', 'label'] = \"math\"\n",
    "\t\tdd.loc[dd.label == 'math6', 'label'] = \"math\"\n",
    "\t\tdd.loc[dd.label == 'math7', 'label'] = \"math\"\n",
    "\t\tdd.loc[dd.label == 'math8', 'label'] = \"math\"\n",
    "\t\tdd.loc[dd.label == 'math9', 'label'] = \"math\"\n",
    "\t\tdd.loc[dd.label == 'math10', 'label'] = \"math\"\n",
    "\t\tdd.loc[dd.label == 'math11', 'label'] = \"math\"\n",
    "\t\tdd.loc[dd.label == 'math12', 'label'] = \"math\"\n",
    "\t\tdd.loc[dd.label == 'colorRound1-1', 'label'] = \"colors\"\n",
    "\t\tdd.loc[dd.label == 'colorRound1-2', 'label'] = \"colors\"\n",
    "\t\tdd.loc[dd.label == 'colorRound1-3', 'label'] = \"colors\"\n",
    "\t\tdd.loc[dd.label == 'colorRound1-4', 'label'] = \"colors\"\n",
    "\t\tdd.loc[dd.label == 'colorRound1-5', 'label'] = \"colors\"\n",
    "\t\tdd.loc[dd.label == 'colorRound1-6', 'label'] = \"colors\"\n",
    "\t\tdd.loc[dd.label == 'colorRound2-1', 'label'] = \"colors\"\n",
    "\t\tdd.loc[dd.label == 'colorRound2-2', 'label'] = \"colors\"\n",
    "\t\tdd.loc[dd.label == 'colorRound2-3', 'label'] = \"colors\"\n",
    "\t\tdd.loc[dd.label == 'colorRound2-4', 'label'] = \"colors\"\n",
    "\t\tdd.loc[dd.label == 'colorRound2-5', 'label'] = \"colors\"\n",
    "\t\tdd.loc[dd.label == 'colorRound2-6', 'label'] = \"colors\"\n",
    "\t\tdd.loc[dd.label == 'colorRound3-1', 'label'] = \"colors\"\n",
    "\t\tdd.loc[dd.label == 'colorRound3-2', 'label'] = \"colors\"\n",
    "\t\tdd.loc[dd.label == 'colorRound3-3', 'label'] = \"colors\"\n",
    "\t\tdd.loc[dd.label == 'colorRound3-4', 'label'] = \"colors\"\n",
    "\t\tdd.loc[dd.label == 'colorRound3-5', 'label'] = \"colors\"\n",
    "\t\tdd.loc[dd.label == 'colorRound3-6', 'label'] = \"colors\"\n",
    "\t\tdd.loc[dd.label == 'colorRound4-1', 'label'] = \"colors\"\n",
    "\t\tdd.loc[dd.label == 'colorRound4-2', 'label'] = \"colors\"\n",
    "\t\tdd.loc[dd.label == 'colorRound4-3', 'label'] = \"colors\"\n",
    "\t\tdd.loc[dd.label == 'colorRound4-4', 'label'] = \"colors\"\n",
    "\t\tdd.loc[dd.label == 'colorRound4-5', 'label'] = \"colors\"\n",
    "\t\tdd.loc[dd.label == 'colorRound4-6', 'label'] = \"colors\"\n",
    "\t\tdd.loc[dd.label == 'colorRound5-1', 'label'] = \"colors\"\n",
    "\t\tdd.loc[dd.label == 'colorRound5-2', 'label'] = \"colors\"\n",
    "\t\tdd.loc[dd.label == 'colorRound5-3', 'label'] = \"colors\"\n",
    "\t\tdd.loc[dd.label == 'colorRound5-4', 'label'] = \"colors\"\n",
    "\t\tdd.loc[dd.label == 'colorRound5-5', 'label'] = \"colors\"\n",
    "\t\tdd.loc[dd.label == 'colorRound5-6', 'label'] = \"colors\"\n",
    "\t\tdd.loc[dd.label == 'readyRound1', 'label'] = \"ready\"\n",
    "\t\tdd.loc[dd.label == 'readyRound2', 'label'] = \"ready\"\n",
    "\t\tdd.loc[dd.label == 'readyRound3', 'label'] = \"ready\"\n",
    "\t\tdd.loc[dd.label == 'readyRound4', 'label'] = \"ready\"\n",
    "\t\tdd.loc[dd.label == 'readyRound5', 'label'] = \"ready\"\n",
    "\t\tdd.loc[dd.label == 'blink1', 'label'] = \"blink\"\n",
    "\t\tdd.loc[dd.label == 'blink2', 'label'] = \"blink\"\n",
    "\t\tdd.loc[dd.label == 'blink3', 'label'] = \"blink\"\n",
    "\t\tdd.loc[dd.label == 'blink4', 'label'] = \"blink\"\n",
    "\t\tdd.loc[dd.label == 'blink5', 'label'] = \"blink\"\n",
    "\t\tdd.loc[dd.label == 'thinkOfItemsInstruction-ver1', 'label'] = \"instruction\"\n",
    "\t\tdd.loc[dd.label == 'thinkOfItemsInstruction-ver2', 'label'] = \"instruction\"\n",
    "\t\tdd.loc[dd.label == 'colorInstruction2', 'label'] = \"instruction\"\n",
    "\t\tdd.loc[dd.label == 'colorInstruction1', 'label'] = \"instruction\"\n",
    "\t\tdd.loc[dd.label == 'colorInstruction2', 'label'] = \"instruction\"\n",
    "\t\tdd.loc[dd.label == 'musicInstruction', 'label'] = \"instruction\"\n",
    "\t\tdd.loc[dd.label == 'videoInstruction', 'label'] = \"instruction\"\n",
    "\t\tdd.loc[dd.label == 'mathInstruction', 'label'] = \"instruction\"\n",
    "\t\tdd.loc[dd.label == 'relaxInstruction', 'label'] = \"instruction\"\n",
    "\t\tdd.loc[dd.label == 'blinkInstruction', 'label'] = \"instruction\"\n",
    "\t\treturn dd\n",
    "\n",
    "\t\n",
    "\n",
    "\tdef drop_useless_labels(df):\n",
    "\t\t# drop unlabeled and everyone paired and others. leave only relax and math. \n",
    "\t\tdf1 = df[df.label == 'math']\n",
    "\t\tdf2 = df[df.label == 'relax']\n",
    "\t\tdf3 = df[df.label == 'colors']\n",
    "\t\tdf4 = df[df.label == 'ready']\n",
    "\t\tdf5 = df[df.label == 'blink']\n",
    "\t\tdf6 = df[df.label == 'instruction']\n",
    "\t\treturn pd.concat([df1,df2,df3,df4,df5,df6],axis=0)\n",
    "\t\n",
    "\tdata = []\n",
    "\tfor i in range(1,31):\n",
    "\t\tindividual_data=prepare_individual_data(df,1)\n",
    "\t\tcleaned_individual_data = clean_labels(individual_data)\n",
    "\t\tfinal_individual_full_data= drop_useless_labels(cleaned_individual_data)\n",
    "\t\tdata.append(final_individual_full_data)\n",
    "\n",
    "\treturn data\n",
    "\n",
    "\n"
   ]
  },
  {
   "cell_type": "code",
   "execution_count": 67,
   "metadata": {},
   "outputs": [
    {
     "name": "stderr",
     "output_type": "stream",
     "text": [
      "C:\\Users\\ASUS\\AppData\\Local\\Temp/ipykernel_16072/2039592659.py:11: FutureWarning:\n",
      "\n",
      "In a future version of pandas all arguments of DataFrame.drop except for the argument 'labels' will be keyword-only\n",
      "\n",
      "C:\\Users\\ASUS\\AppData\\Local\\Temp/ipykernel_16072/2039592659.py:13: FutureWarning:\n",
      "\n",
      "In a future version of pandas all arguments of DataFrame.drop except for the argument 'labels' will be keyword-only\n",
      "\n",
      "C:\\Users\\ASUS\\AppData\\Local\\Temp/ipykernel_16072/2039592659.py:14: FutureWarning:\n",
      "\n",
      "In a future version of pandas all arguments of DataFrame.drop except for the argument 'labels' will be keyword-only\n",
      "\n",
      "C:\\Users\\ASUS\\AppData\\Local\\Temp/ipykernel_16072/2039592659.py:15: FutureWarning:\n",
      "\n",
      "In a future version of pandas all arguments of DataFrame.drop except for the argument 'labels' will be keyword-only\n",
      "\n",
      "C:\\Users\\ASUS\\AppData\\Local\\Temp/ipykernel_16072/2039592659.py:16: FutureWarning:\n",
      "\n",
      "In a future version of pandas all arguments of DataFrame.drop except for the argument 'labels' will be keyword-only\n",
      "\n",
      "C:\\Users\\ASUS\\AppData\\Local\\Temp/ipykernel_16072/2039592659.py:17: FutureWarning:\n",
      "\n",
      "In a future version of pandas all arguments of DataFrame.drop except for the argument 'labels' will be keyword-only\n",
      "\n",
      "C:\\Users\\ASUS\\AppData\\Local\\Temp/ipykernel_16072/2039592659.py:18: FutureWarning:\n",
      "\n",
      "In a future version of pandas all arguments of DataFrame.drop except for the argument 'labels' will be keyword-only\n",
      "\n",
      "C:\\Users\\ASUS\\AppData\\Local\\Temp/ipykernel_16072/2039592659.py:19: FutureWarning:\n",
      "\n",
      "In a future version of pandas all arguments of DataFrame.drop except for the argument 'labels' will be keyword-only\n",
      "\n",
      "C:\\Users\\ASUS\\AppData\\Local\\Temp/ipykernel_16072/2039592659.py:20: FutureWarning:\n",
      "\n",
      "In a future version of pandas all arguments of DataFrame.drop except for the argument 'labels' will be keyword-only\n",
      "\n",
      "C:\\Users\\ASUS\\AppData\\Local\\Temp/ipykernel_16072/2039592659.py:21: FutureWarning:\n",
      "\n",
      "In a future version of pandas all arguments of DataFrame.drop except for the argument 'labels' will be keyword-only\n",
      "\n",
      "C:\\Users\\ASUS\\AppData\\Local\\Temp/ipykernel_16072/2039592659.py:29: FutureWarning:\n",
      "\n",
      "In a future version of pandas all arguments of DataFrame.drop except for the argument 'labels' will be keyword-only\n",
      "\n"
     ]
    }
   ],
   "source": [
    "data = get_indv()"
   ]
  },
  {
   "cell_type": "code",
   "execution_count": 133,
   "metadata": {
    "_cell_guid": "a4792f2e-ad24-f60c-1d9a-207d715a90a1"
   },
   "outputs": [
    {
     "name": "stderr",
     "output_type": "stream",
     "text": [
      "C:\\Users\\ASUS\\AppData\\Local\\Temp/ipykernel_25176/2039592659.py:11: FutureWarning:\n",
      "\n",
      "In a future version of pandas all arguments of DataFrame.drop except for the argument 'labels' will be keyword-only\n",
      "\n",
      "C:\\Users\\ASUS\\AppData\\Local\\Temp/ipykernel_25176/2039592659.py:13: FutureWarning:\n",
      "\n",
      "In a future version of pandas all arguments of DataFrame.drop except for the argument 'labels' will be keyword-only\n",
      "\n",
      "C:\\Users\\ASUS\\AppData\\Local\\Temp/ipykernel_25176/2039592659.py:14: FutureWarning:\n",
      "\n",
      "In a future version of pandas all arguments of DataFrame.drop except for the argument 'labels' will be keyword-only\n",
      "\n",
      "C:\\Users\\ASUS\\AppData\\Local\\Temp/ipykernel_25176/2039592659.py:15: FutureWarning:\n",
      "\n",
      "In a future version of pandas all arguments of DataFrame.drop except for the argument 'labels' will be keyword-only\n",
      "\n",
      "C:\\Users\\ASUS\\AppData\\Local\\Temp/ipykernel_25176/2039592659.py:16: FutureWarning:\n",
      "\n",
      "In a future version of pandas all arguments of DataFrame.drop except for the argument 'labels' will be keyword-only\n",
      "\n",
      "C:\\Users\\ASUS\\AppData\\Local\\Temp/ipykernel_25176/2039592659.py:17: FutureWarning:\n",
      "\n",
      "In a future version of pandas all arguments of DataFrame.drop except for the argument 'labels' will be keyword-only\n",
      "\n",
      "C:\\Users\\ASUS\\AppData\\Local\\Temp/ipykernel_25176/2039592659.py:18: FutureWarning:\n",
      "\n",
      "In a future version of pandas all arguments of DataFrame.drop except for the argument 'labels' will be keyword-only\n",
      "\n",
      "C:\\Users\\ASUS\\AppData\\Local\\Temp/ipykernel_25176/2039592659.py:19: FutureWarning:\n",
      "\n",
      "In a future version of pandas all arguments of DataFrame.drop except for the argument 'labels' will be keyword-only\n",
      "\n",
      "C:\\Users\\ASUS\\AppData\\Local\\Temp/ipykernel_25176/2039592659.py:20: FutureWarning:\n",
      "\n",
      "In a future version of pandas all arguments of DataFrame.drop except for the argument 'labels' will be keyword-only\n",
      "\n",
      "C:\\Users\\ASUS\\AppData\\Local\\Temp/ipykernel_25176/2039592659.py:21: FutureWarning:\n",
      "\n",
      "In a future version of pandas all arguments of DataFrame.drop except for the argument 'labels' will be keyword-only\n",
      "\n",
      "C:\\Users\\ASUS\\AppData\\Local\\Temp/ipykernel_25176/2039592659.py:29: FutureWarning:\n",
      "\n",
      "In a future version of pandas all arguments of DataFrame.drop except for the argument 'labels' will be keyword-only\n",
      "\n"
     ]
    }
   ],
   "source": [
    "# use sklearn to split for training\n",
    "data = get_indv()\n",
    "def dataprep(df):\n",
    "    \n",
    "    df = df.drop('id',1)\n",
    "    label = df.pop('label')\n",
    "\n",
    "    df = df.values\n",
    "    \n",
    "    train_labels = pd.get_dummies(label)\n",
    "    train_labels = train_labels.values\n",
    "    normalized_df = ((df-df.mean())/df.std())\n",
    "    normalized_df,train_labels = np.array(normalized_df,dtype='float32'), np.array(train_labels,dtype='float32')\n",
    "    normalized_df,train_labels = shuffle(normalized_df, train_labels, random_state=0)\n",
    "    return normalized_df,train_labels\n",
    "def create_network():\n",
    "    \n",
    "    # Start neural network\n",
    "    network = keras.Sequential([\n",
    "    keras.layers.Dense(1000, activation = 'relu', input_shape = [8]),\n",
    "    keras.layers.Dense(1000, activation = 'relu'),\n",
    "    keras.layers.Dense(1000, activation = 'relu'),\n",
    "    keras.layers.Dense(6, activation = 'softmax')\n",
    "])\n",
    "\n",
    "    \n",
    "\n",
    "    # Compile neural network\n",
    "    network.compile(optimizer='adam', \n",
    "              loss=tf.losses.CategoricalCrossentropy(),\n",
    "              metrics=['accuracy'])\n",
    "    \n",
    "    # Return compiled network\n",
    "    return network\n",
    "def personal_model(data):\n",
    "    acc = []\n",
    "    i = 0\n",
    "    for d in data:\n",
    "        print('i = ',i)\n",
    "        i+=1\n",
    "        normalized_df,train_labels = dataprep(d)\n",
    "        neural_network = KerasClassifier(build_fn=create_network, \n",
    "                                 epochs=10, \n",
    "                                 batch_size=100,\n",
    "                                 verbose=0)\n",
    "        thisacc = cross_val_score(neural_network, normalized_df, train_labels, cv=7)\n",
    "        acc.append(thisacc)\n",
    "    return acc"
   ]
  },
  {
   "cell_type": "code",
   "execution_count": 134,
   "metadata": {},
   "outputs": [
    {
     "name": "stdout",
     "output_type": "stream",
     "text": [
      "i =  0\n"
     ]
    },
    {
     "name": "stderr",
     "output_type": "stream",
     "text": [
      "C:\\Users\\ASUS\\AppData\\Local\\Temp/ipykernel_25176/543704852.py:5: FutureWarning:\n",
      "\n",
      "In a future version of pandas all arguments of DataFrame.drop except for the argument 'labels' will be keyword-only\n",
      "\n",
      "C:\\Users\\ASUS\\AppData\\Local\\Temp/ipykernel_25176/543704852.py:42: DeprecationWarning:\n",
      "\n",
      "KerasClassifier is deprecated, use Sci-Keras (https://github.com/adriangb/scikeras) instead.\n",
      "\n"
     ]
    },
    {
     "name": "stdout",
     "output_type": "stream",
     "text": [
      "i =  1\n"
     ]
    },
    {
     "name": "stderr",
     "output_type": "stream",
     "text": [
      "C:\\Users\\ASUS\\AppData\\Local\\Temp/ipykernel_25176/543704852.py:5: FutureWarning:\n",
      "\n",
      "In a future version of pandas all arguments of DataFrame.drop except for the argument 'labels' will be keyword-only\n",
      "\n",
      "C:\\Users\\ASUS\\AppData\\Local\\Temp/ipykernel_25176/543704852.py:42: DeprecationWarning:\n",
      "\n",
      "KerasClassifier is deprecated, use Sci-Keras (https://github.com/adriangb/scikeras) instead.\n",
      "\n"
     ]
    },
    {
     "name": "stdout",
     "output_type": "stream",
     "text": [
      "i =  2\n"
     ]
    },
    {
     "name": "stderr",
     "output_type": "stream",
     "text": [
      "C:\\Users\\ASUS\\AppData\\Local\\Temp/ipykernel_25176/543704852.py:5: FutureWarning:\n",
      "\n",
      "In a future version of pandas all arguments of DataFrame.drop except for the argument 'labels' will be keyword-only\n",
      "\n",
      "C:\\Users\\ASUS\\AppData\\Local\\Temp/ipykernel_25176/543704852.py:42: DeprecationWarning:\n",
      "\n",
      "KerasClassifier is deprecated, use Sci-Keras (https://github.com/adriangb/scikeras) instead.\n",
      "\n"
     ]
    },
    {
     "name": "stdout",
     "output_type": "stream",
     "text": [
      "i =  3\n"
     ]
    },
    {
     "name": "stderr",
     "output_type": "stream",
     "text": [
      "C:\\Users\\ASUS\\AppData\\Local\\Temp/ipykernel_25176/543704852.py:5: FutureWarning:\n",
      "\n",
      "In a future version of pandas all arguments of DataFrame.drop except for the argument 'labels' will be keyword-only\n",
      "\n",
      "C:\\Users\\ASUS\\AppData\\Local\\Temp/ipykernel_25176/543704852.py:42: DeprecationWarning:\n",
      "\n",
      "KerasClassifier is deprecated, use Sci-Keras (https://github.com/adriangb/scikeras) instead.\n",
      "\n"
     ]
    },
    {
     "name": "stdout",
     "output_type": "stream",
     "text": [
      "i =  4\n"
     ]
    },
    {
     "name": "stderr",
     "output_type": "stream",
     "text": [
      "C:\\Users\\ASUS\\AppData\\Local\\Temp/ipykernel_25176/543704852.py:5: FutureWarning:\n",
      "\n",
      "In a future version of pandas all arguments of DataFrame.drop except for the argument 'labels' will be keyword-only\n",
      "\n",
      "C:\\Users\\ASUS\\AppData\\Local\\Temp/ipykernel_25176/543704852.py:42: DeprecationWarning:\n",
      "\n",
      "KerasClassifier is deprecated, use Sci-Keras (https://github.com/adriangb/scikeras) instead.\n",
      "\n"
     ]
    },
    {
     "name": "stdout",
     "output_type": "stream",
     "text": [
      "i =  5\n"
     ]
    },
    {
     "name": "stderr",
     "output_type": "stream",
     "text": [
      "C:\\Users\\ASUS\\AppData\\Local\\Temp/ipykernel_25176/543704852.py:5: FutureWarning:\n",
      "\n",
      "In a future version of pandas all arguments of DataFrame.drop except for the argument 'labels' will be keyword-only\n",
      "\n",
      "C:\\Users\\ASUS\\AppData\\Local\\Temp/ipykernel_25176/543704852.py:42: DeprecationWarning:\n",
      "\n",
      "KerasClassifier is deprecated, use Sci-Keras (https://github.com/adriangb/scikeras) instead.\n",
      "\n"
     ]
    },
    {
     "name": "stdout",
     "output_type": "stream",
     "text": [
      "i =  6\n"
     ]
    },
    {
     "name": "stderr",
     "output_type": "stream",
     "text": [
      "C:\\Users\\ASUS\\AppData\\Local\\Temp/ipykernel_25176/543704852.py:5: FutureWarning:\n",
      "\n",
      "In a future version of pandas all arguments of DataFrame.drop except for the argument 'labels' will be keyword-only\n",
      "\n",
      "C:\\Users\\ASUS\\AppData\\Local\\Temp/ipykernel_25176/543704852.py:42: DeprecationWarning:\n",
      "\n",
      "KerasClassifier is deprecated, use Sci-Keras (https://github.com/adriangb/scikeras) instead.\n",
      "\n"
     ]
    },
    {
     "name": "stdout",
     "output_type": "stream",
     "text": [
      "i =  7\n"
     ]
    },
    {
     "name": "stderr",
     "output_type": "stream",
     "text": [
      "C:\\Users\\ASUS\\AppData\\Local\\Temp/ipykernel_25176/543704852.py:5: FutureWarning:\n",
      "\n",
      "In a future version of pandas all arguments of DataFrame.drop except for the argument 'labels' will be keyword-only\n",
      "\n",
      "C:\\Users\\ASUS\\AppData\\Local\\Temp/ipykernel_25176/543704852.py:42: DeprecationWarning:\n",
      "\n",
      "KerasClassifier is deprecated, use Sci-Keras (https://github.com/adriangb/scikeras) instead.\n",
      "\n"
     ]
    },
    {
     "name": "stdout",
     "output_type": "stream",
     "text": [
      "i =  8\n"
     ]
    },
    {
     "name": "stderr",
     "output_type": "stream",
     "text": [
      "C:\\Users\\ASUS\\AppData\\Local\\Temp/ipykernel_25176/543704852.py:5: FutureWarning:\n",
      "\n",
      "In a future version of pandas all arguments of DataFrame.drop except for the argument 'labels' will be keyword-only\n",
      "\n",
      "C:\\Users\\ASUS\\AppData\\Local\\Temp/ipykernel_25176/543704852.py:42: DeprecationWarning:\n",
      "\n",
      "KerasClassifier is deprecated, use Sci-Keras (https://github.com/adriangb/scikeras) instead.\n",
      "\n"
     ]
    },
    {
     "name": "stdout",
     "output_type": "stream",
     "text": [
      "i =  9\n"
     ]
    },
    {
     "name": "stderr",
     "output_type": "stream",
     "text": [
      "C:\\Users\\ASUS\\AppData\\Local\\Temp/ipykernel_25176/543704852.py:5: FutureWarning:\n",
      "\n",
      "In a future version of pandas all arguments of DataFrame.drop except for the argument 'labels' will be keyword-only\n",
      "\n",
      "C:\\Users\\ASUS\\AppData\\Local\\Temp/ipykernel_25176/543704852.py:42: DeprecationWarning:\n",
      "\n",
      "KerasClassifier is deprecated, use Sci-Keras (https://github.com/adriangb/scikeras) instead.\n",
      "\n"
     ]
    },
    {
     "name": "stdout",
     "output_type": "stream",
     "text": [
      "i =  10\n"
     ]
    },
    {
     "name": "stderr",
     "output_type": "stream",
     "text": [
      "C:\\Users\\ASUS\\AppData\\Local\\Temp/ipykernel_25176/543704852.py:5: FutureWarning:\n",
      "\n",
      "In a future version of pandas all arguments of DataFrame.drop except for the argument 'labels' will be keyword-only\n",
      "\n",
      "C:\\Users\\ASUS\\AppData\\Local\\Temp/ipykernel_25176/543704852.py:42: DeprecationWarning:\n",
      "\n",
      "KerasClassifier is deprecated, use Sci-Keras (https://github.com/adriangb/scikeras) instead.\n",
      "\n"
     ]
    },
    {
     "name": "stdout",
     "output_type": "stream",
     "text": [
      "i =  11\n"
     ]
    },
    {
     "name": "stderr",
     "output_type": "stream",
     "text": [
      "C:\\Users\\ASUS\\AppData\\Local\\Temp/ipykernel_25176/543704852.py:5: FutureWarning:\n",
      "\n",
      "In a future version of pandas all arguments of DataFrame.drop except for the argument 'labels' will be keyword-only\n",
      "\n",
      "C:\\Users\\ASUS\\AppData\\Local\\Temp/ipykernel_25176/543704852.py:42: DeprecationWarning:\n",
      "\n",
      "KerasClassifier is deprecated, use Sci-Keras (https://github.com/adriangb/scikeras) instead.\n",
      "\n"
     ]
    },
    {
     "name": "stdout",
     "output_type": "stream",
     "text": [
      "i =  12\n"
     ]
    },
    {
     "name": "stderr",
     "output_type": "stream",
     "text": [
      "C:\\Users\\ASUS\\AppData\\Local\\Temp/ipykernel_25176/543704852.py:5: FutureWarning:\n",
      "\n",
      "In a future version of pandas all arguments of DataFrame.drop except for the argument 'labels' will be keyword-only\n",
      "\n",
      "C:\\Users\\ASUS\\AppData\\Local\\Temp/ipykernel_25176/543704852.py:42: DeprecationWarning:\n",
      "\n",
      "KerasClassifier is deprecated, use Sci-Keras (https://github.com/adriangb/scikeras) instead.\n",
      "\n"
     ]
    },
    {
     "name": "stdout",
     "output_type": "stream",
     "text": [
      "i =  13\n"
     ]
    },
    {
     "name": "stderr",
     "output_type": "stream",
     "text": [
      "C:\\Users\\ASUS\\AppData\\Local\\Temp/ipykernel_25176/543704852.py:5: FutureWarning:\n",
      "\n",
      "In a future version of pandas all arguments of DataFrame.drop except for the argument 'labels' will be keyword-only\n",
      "\n",
      "C:\\Users\\ASUS\\AppData\\Local\\Temp/ipykernel_25176/543704852.py:42: DeprecationWarning:\n",
      "\n",
      "KerasClassifier is deprecated, use Sci-Keras (https://github.com/adriangb/scikeras) instead.\n",
      "\n"
     ]
    },
    {
     "name": "stdout",
     "output_type": "stream",
     "text": [
      "i =  14\n"
     ]
    },
    {
     "name": "stderr",
     "output_type": "stream",
     "text": [
      "C:\\Users\\ASUS\\AppData\\Local\\Temp/ipykernel_25176/543704852.py:5: FutureWarning:\n",
      "\n",
      "In a future version of pandas all arguments of DataFrame.drop except for the argument 'labels' will be keyword-only\n",
      "\n",
      "C:\\Users\\ASUS\\AppData\\Local\\Temp/ipykernel_25176/543704852.py:42: DeprecationWarning:\n",
      "\n",
      "KerasClassifier is deprecated, use Sci-Keras (https://github.com/adriangb/scikeras) instead.\n",
      "\n"
     ]
    },
    {
     "name": "stdout",
     "output_type": "stream",
     "text": [
      "i =  15\n"
     ]
    },
    {
     "name": "stderr",
     "output_type": "stream",
     "text": [
      "C:\\Users\\ASUS\\AppData\\Local\\Temp/ipykernel_25176/543704852.py:5: FutureWarning:\n",
      "\n",
      "In a future version of pandas all arguments of DataFrame.drop except for the argument 'labels' will be keyword-only\n",
      "\n",
      "C:\\Users\\ASUS\\AppData\\Local\\Temp/ipykernel_25176/543704852.py:42: DeprecationWarning:\n",
      "\n",
      "KerasClassifier is deprecated, use Sci-Keras (https://github.com/adriangb/scikeras) instead.\n",
      "\n"
     ]
    },
    {
     "name": "stdout",
     "output_type": "stream",
     "text": [
      "i =  16\n"
     ]
    },
    {
     "name": "stderr",
     "output_type": "stream",
     "text": [
      "C:\\Users\\ASUS\\AppData\\Local\\Temp/ipykernel_25176/543704852.py:5: FutureWarning:\n",
      "\n",
      "In a future version of pandas all arguments of DataFrame.drop except for the argument 'labels' will be keyword-only\n",
      "\n",
      "C:\\Users\\ASUS\\AppData\\Local\\Temp/ipykernel_25176/543704852.py:42: DeprecationWarning:\n",
      "\n",
      "KerasClassifier is deprecated, use Sci-Keras (https://github.com/adriangb/scikeras) instead.\n",
      "\n"
     ]
    },
    {
     "name": "stdout",
     "output_type": "stream",
     "text": [
      "i =  17\n"
     ]
    },
    {
     "name": "stderr",
     "output_type": "stream",
     "text": [
      "C:\\Users\\ASUS\\AppData\\Local\\Temp/ipykernel_25176/543704852.py:5: FutureWarning:\n",
      "\n",
      "In a future version of pandas all arguments of DataFrame.drop except for the argument 'labels' will be keyword-only\n",
      "\n",
      "C:\\Users\\ASUS\\AppData\\Local\\Temp/ipykernel_25176/543704852.py:42: DeprecationWarning:\n",
      "\n",
      "KerasClassifier is deprecated, use Sci-Keras (https://github.com/adriangb/scikeras) instead.\n",
      "\n"
     ]
    },
    {
     "name": "stdout",
     "output_type": "stream",
     "text": [
      "i =  18\n"
     ]
    },
    {
     "name": "stderr",
     "output_type": "stream",
     "text": [
      "C:\\Users\\ASUS\\AppData\\Local\\Temp/ipykernel_25176/543704852.py:5: FutureWarning:\n",
      "\n",
      "In a future version of pandas all arguments of DataFrame.drop except for the argument 'labels' will be keyword-only\n",
      "\n",
      "C:\\Users\\ASUS\\AppData\\Local\\Temp/ipykernel_25176/543704852.py:42: DeprecationWarning:\n",
      "\n",
      "KerasClassifier is deprecated, use Sci-Keras (https://github.com/adriangb/scikeras) instead.\n",
      "\n"
     ]
    },
    {
     "name": "stdout",
     "output_type": "stream",
     "text": [
      "i =  19\n"
     ]
    },
    {
     "name": "stderr",
     "output_type": "stream",
     "text": [
      "C:\\Users\\ASUS\\AppData\\Local\\Temp/ipykernel_25176/543704852.py:5: FutureWarning:\n",
      "\n",
      "In a future version of pandas all arguments of DataFrame.drop except for the argument 'labels' will be keyword-only\n",
      "\n",
      "C:\\Users\\ASUS\\AppData\\Local\\Temp/ipykernel_25176/543704852.py:42: DeprecationWarning:\n",
      "\n",
      "KerasClassifier is deprecated, use Sci-Keras (https://github.com/adriangb/scikeras) instead.\n",
      "\n"
     ]
    },
    {
     "name": "stdout",
     "output_type": "stream",
     "text": [
      "i =  20\n"
     ]
    },
    {
     "name": "stderr",
     "output_type": "stream",
     "text": [
      "C:\\Users\\ASUS\\AppData\\Local\\Temp/ipykernel_25176/543704852.py:5: FutureWarning:\n",
      "\n",
      "In a future version of pandas all arguments of DataFrame.drop except for the argument 'labels' will be keyword-only\n",
      "\n",
      "C:\\Users\\ASUS\\AppData\\Local\\Temp/ipykernel_25176/543704852.py:42: DeprecationWarning:\n",
      "\n",
      "KerasClassifier is deprecated, use Sci-Keras (https://github.com/adriangb/scikeras) instead.\n",
      "\n"
     ]
    },
    {
     "name": "stdout",
     "output_type": "stream",
     "text": [
      "i =  21\n"
     ]
    },
    {
     "name": "stderr",
     "output_type": "stream",
     "text": [
      "C:\\Users\\ASUS\\AppData\\Local\\Temp/ipykernel_25176/543704852.py:5: FutureWarning:\n",
      "\n",
      "In a future version of pandas all arguments of DataFrame.drop except for the argument 'labels' will be keyword-only\n",
      "\n",
      "C:\\Users\\ASUS\\AppData\\Local\\Temp/ipykernel_25176/543704852.py:42: DeprecationWarning:\n",
      "\n",
      "KerasClassifier is deprecated, use Sci-Keras (https://github.com/adriangb/scikeras) instead.\n",
      "\n"
     ]
    },
    {
     "name": "stdout",
     "output_type": "stream",
     "text": [
      "i =  22\n"
     ]
    },
    {
     "name": "stderr",
     "output_type": "stream",
     "text": [
      "C:\\Users\\ASUS\\AppData\\Local\\Temp/ipykernel_25176/543704852.py:5: FutureWarning:\n",
      "\n",
      "In a future version of pandas all arguments of DataFrame.drop except for the argument 'labels' will be keyword-only\n",
      "\n",
      "C:\\Users\\ASUS\\AppData\\Local\\Temp/ipykernel_25176/543704852.py:42: DeprecationWarning:\n",
      "\n",
      "KerasClassifier is deprecated, use Sci-Keras (https://github.com/adriangb/scikeras) instead.\n",
      "\n"
     ]
    },
    {
     "name": "stdout",
     "output_type": "stream",
     "text": [
      "i =  23\n"
     ]
    },
    {
     "name": "stderr",
     "output_type": "stream",
     "text": [
      "C:\\Users\\ASUS\\AppData\\Local\\Temp/ipykernel_25176/543704852.py:5: FutureWarning:\n",
      "\n",
      "In a future version of pandas all arguments of DataFrame.drop except for the argument 'labels' will be keyword-only\n",
      "\n",
      "C:\\Users\\ASUS\\AppData\\Local\\Temp/ipykernel_25176/543704852.py:42: DeprecationWarning:\n",
      "\n",
      "KerasClassifier is deprecated, use Sci-Keras (https://github.com/adriangb/scikeras) instead.\n",
      "\n"
     ]
    },
    {
     "name": "stdout",
     "output_type": "stream",
     "text": [
      "i =  24\n"
     ]
    },
    {
     "name": "stderr",
     "output_type": "stream",
     "text": [
      "C:\\Users\\ASUS\\AppData\\Local\\Temp/ipykernel_25176/543704852.py:5: FutureWarning:\n",
      "\n",
      "In a future version of pandas all arguments of DataFrame.drop except for the argument 'labels' will be keyword-only\n",
      "\n",
      "C:\\Users\\ASUS\\AppData\\Local\\Temp/ipykernel_25176/543704852.py:42: DeprecationWarning:\n",
      "\n",
      "KerasClassifier is deprecated, use Sci-Keras (https://github.com/adriangb/scikeras) instead.\n",
      "\n"
     ]
    },
    {
     "name": "stdout",
     "output_type": "stream",
     "text": [
      "i =  25\n"
     ]
    },
    {
     "name": "stderr",
     "output_type": "stream",
     "text": [
      "C:\\Users\\ASUS\\AppData\\Local\\Temp/ipykernel_25176/543704852.py:5: FutureWarning:\n",
      "\n",
      "In a future version of pandas all arguments of DataFrame.drop except for the argument 'labels' will be keyword-only\n",
      "\n",
      "C:\\Users\\ASUS\\AppData\\Local\\Temp/ipykernel_25176/543704852.py:42: DeprecationWarning:\n",
      "\n",
      "KerasClassifier is deprecated, use Sci-Keras (https://github.com/adriangb/scikeras) instead.\n",
      "\n"
     ]
    },
    {
     "name": "stdout",
     "output_type": "stream",
     "text": [
      "i =  26\n"
     ]
    },
    {
     "name": "stderr",
     "output_type": "stream",
     "text": [
      "C:\\Users\\ASUS\\AppData\\Local\\Temp/ipykernel_25176/543704852.py:5: FutureWarning:\n",
      "\n",
      "In a future version of pandas all arguments of DataFrame.drop except for the argument 'labels' will be keyword-only\n",
      "\n",
      "C:\\Users\\ASUS\\AppData\\Local\\Temp/ipykernel_25176/543704852.py:42: DeprecationWarning:\n",
      "\n",
      "KerasClassifier is deprecated, use Sci-Keras (https://github.com/adriangb/scikeras) instead.\n",
      "\n"
     ]
    },
    {
     "name": "stdout",
     "output_type": "stream",
     "text": [
      "i =  27\n"
     ]
    },
    {
     "name": "stderr",
     "output_type": "stream",
     "text": [
      "C:\\Users\\ASUS\\AppData\\Local\\Temp/ipykernel_25176/543704852.py:5: FutureWarning:\n",
      "\n",
      "In a future version of pandas all arguments of DataFrame.drop except for the argument 'labels' will be keyword-only\n",
      "\n",
      "C:\\Users\\ASUS\\AppData\\Local\\Temp/ipykernel_25176/543704852.py:42: DeprecationWarning:\n",
      "\n",
      "KerasClassifier is deprecated, use Sci-Keras (https://github.com/adriangb/scikeras) instead.\n",
      "\n"
     ]
    },
    {
     "name": "stdout",
     "output_type": "stream",
     "text": [
      "i =  28\n"
     ]
    },
    {
     "name": "stderr",
     "output_type": "stream",
     "text": [
      "C:\\Users\\ASUS\\AppData\\Local\\Temp/ipykernel_25176/543704852.py:5: FutureWarning:\n",
      "\n",
      "In a future version of pandas all arguments of DataFrame.drop except for the argument 'labels' will be keyword-only\n",
      "\n",
      "C:\\Users\\ASUS\\AppData\\Local\\Temp/ipykernel_25176/543704852.py:42: DeprecationWarning:\n",
      "\n",
      "KerasClassifier is deprecated, use Sci-Keras (https://github.com/adriangb/scikeras) instead.\n",
      "\n"
     ]
    },
    {
     "name": "stdout",
     "output_type": "stream",
     "text": [
      "i =  29\n"
     ]
    },
    {
     "name": "stderr",
     "output_type": "stream",
     "text": [
      "C:\\Users\\ASUS\\AppData\\Local\\Temp/ipykernel_25176/543704852.py:5: FutureWarning:\n",
      "\n",
      "In a future version of pandas all arguments of DataFrame.drop except for the argument 'labels' will be keyword-only\n",
      "\n",
      "C:\\Users\\ASUS\\AppData\\Local\\Temp/ipykernel_25176/543704852.py:42: DeprecationWarning:\n",
      "\n",
      "KerasClassifier is deprecated, use Sci-Keras (https://github.com/adriangb/scikeras) instead.\n",
      "\n"
     ]
    }
   ],
   "source": [
    "acc = personal_model(data)"
   ]
  },
  {
   "cell_type": "code",
   "execution_count": 135,
   "metadata": {},
   "outputs": [
    {
     "name": "stdout",
     "output_type": "stream",
     "text": [
      "i -  0  : avg_acc =  0.43086326122283936\n",
      "i -  1  : avg_acc =  0.4481792790549142\n",
      "i -  2  : avg_acc =  0.4395212743963514\n",
      "i -  3  : avg_acc =  0.4481792790549142\n",
      "i -  4  : avg_acc =  0.4523809552192688\n",
      "i -  5  : avg_acc =  0.4480519507612501\n",
      "i -  6  : avg_acc =  0.4481792833123888\n",
      "i -  7  : avg_acc =  0.430863265480314\n",
      "i -  8  : avg_acc =  0.45670996819223675\n",
      "i -  9  : avg_acc =  0.430863265480314\n",
      "i -  10  : avg_acc =  0.45250828351293293\n",
      "i -  11  : avg_acc =  0.46549529688698904\n",
      "i -  12  : avg_acc =  0.43952126588140217\n",
      "i -  13  : avg_acc =  0.4481792790549142\n",
      "i -  14  : avg_acc =  0.4652406488146101\n",
      "i -  15  : avg_acc =  0.43952126588140217\n",
      "i -  16  : avg_acc =  0.4525082749979837\n",
      "i -  17  : avg_acc =  0.4349376218659537\n",
      "i -  18  : avg_acc =  0.43519226568085806\n",
      "i -  19  : avg_acc =  0.4525082792554583\n",
      "i -  20  : avg_acc =  0.4393939461026873\n",
      "i -  21  : avg_acc =  0.4392666220664978\n",
      "i -  22  : avg_acc =  0.44385027459689547\n",
      "i -  23  : avg_acc =  0.43952126588140217\n",
      "i -  24  : avg_acc =  0.43952127013887676\n",
      "i -  25  : avg_acc =  0.43519226568085806\n",
      "i -  26  : avg_acc =  0.4395212616239275\n",
      "i -  27  : avg_acc =  0.443722950560706\n",
      "i -  28  : avg_acc =  0.42653425676482065\n",
      "i -  29  : avg_acc =  0.4480519507612501\n"
     ]
    }
   ],
   "source": [
    "for i in range(len(acc)):\n",
    "    print('i - ',i,' : avg_acc = ',sum(acc[i])/len(acc[i]))"
   ]
  },
  {
   "cell_type": "code",
   "execution_count": 136,
   "metadata": {},
   "outputs": [
    {
     "name": "stdout",
     "output_type": "stream",
     "text": [
      "max for individual -  0.46549529688698904\n",
      "avg across every person =  0.44379934427284057\n",
      "min for individual -  0.42653425676482065\n"
     ]
    }
   ],
   "source": [
    "\n",
    "print('max for individual - ',max([sum(acc[i])/len(acc[i]) for i in range(len(acc))]))\n",
    "print('avg across every person = ',sum(sum(acc))/(len(acc[0])*len(acc)))\n",
    "print('min for individual - ',min([sum(acc[i])/len(acc[i]) for i in range(len(acc))]))"
   ]
  },
  {
   "cell_type": "code",
   "execution_count": 137,
   "metadata": {},
   "outputs": [
    {
     "data": {
      "application/vnd.plotly.v1+json": {
       "config": {
        "plotlyServerURL": "https://plot.ly"
       },
       "data": [
        {
         "alignmentgroup": "True",
         "hovertemplate": "accuracy percentage=%{x}<br>number of subjects=%{y}<extra></extra>",
         "legendgroup": "",
         "marker": {
          "color": "#636efa",
          "pattern": {
           "shape": ""
          }
         },
         "name": "",
         "offsetgroup": "",
         "orientation": "v",
         "showlegend": false,
         "textposition": "auto",
         "type": "bar",
         "x": [
          0,
          1,
          2,
          3,
          4,
          5,
          6,
          7,
          8,
          9,
          10,
          11,
          12,
          13,
          14,
          15,
          16,
          17,
          18,
          19,
          20,
          21,
          22,
          23,
          24,
          25,
          26,
          27,
          28,
          29,
          30,
          31,
          32,
          33,
          34,
          35,
          36,
          37,
          38,
          39,
          40,
          41,
          42,
          43,
          44,
          45,
          46,
          47,
          48,
          49,
          50,
          51,
          52,
          53,
          54,
          55,
          56,
          57,
          58,
          59,
          60,
          61,
          62,
          63,
          64,
          65,
          66,
          67,
          68,
          69,
          70,
          71,
          72,
          73,
          74,
          75,
          76,
          77,
          78,
          79,
          80,
          81,
          82,
          83,
          84,
          85,
          86,
          87,
          88,
          89,
          90,
          91,
          92,
          93,
          94,
          95,
          96,
          97,
          98,
          99,
          100
         ],
         "xaxis": "x",
         "y": [
          0,
          0,
          0,
          0,
          0,
          0,
          0,
          0,
          0,
          0,
          0,
          0,
          0,
          0,
          0,
          0,
          0,
          0,
          0,
          0,
          0,
          0,
          0,
          0,
          0,
          0,
          0,
          0,
          0,
          0,
          0,
          0,
          0,
          0,
          0,
          0,
          0,
          0,
          0,
          0,
          0,
          0,
          1,
          14,
          8,
          5,
          2,
          0,
          0,
          0,
          0,
          0,
          0,
          0,
          0,
          0,
          0,
          0,
          0,
          0,
          0,
          0,
          0,
          0,
          0,
          0,
          0,
          0,
          0,
          0,
          0,
          0,
          0,
          0,
          0,
          0,
          0,
          0,
          0,
          0,
          0,
          0,
          0,
          0,
          0,
          0,
          0,
          0,
          0,
          0,
          0,
          0,
          0,
          0,
          0,
          0,
          0,
          0,
          0,
          0,
          0
         ],
         "yaxis": "y"
        }
       ],
       "layout": {
        "barmode": "relative",
        "height": 500,
        "legend": {
         "tracegroupgap": 0
        },
        "template": {
         "data": {
          "bar": [
           {
            "error_x": {
             "color": "#2a3f5f"
            },
            "error_y": {
             "color": "#2a3f5f"
            },
            "marker": {
             "line": {
              "color": "#E5ECF6",
              "width": 0.5
             },
             "pattern": {
              "fillmode": "overlay",
              "size": 10,
              "solidity": 0.2
             }
            },
            "type": "bar"
           }
          ],
          "barpolar": [
           {
            "marker": {
             "line": {
              "color": "#E5ECF6",
              "width": 0.5
             },
             "pattern": {
              "fillmode": "overlay",
              "size": 10,
              "solidity": 0.2
             }
            },
            "type": "barpolar"
           }
          ],
          "carpet": [
           {
            "aaxis": {
             "endlinecolor": "#2a3f5f",
             "gridcolor": "white",
             "linecolor": "white",
             "minorgridcolor": "white",
             "startlinecolor": "#2a3f5f"
            },
            "baxis": {
             "endlinecolor": "#2a3f5f",
             "gridcolor": "white",
             "linecolor": "white",
             "minorgridcolor": "white",
             "startlinecolor": "#2a3f5f"
            },
            "type": "carpet"
           }
          ],
          "choropleth": [
           {
            "colorbar": {
             "outlinewidth": 0,
             "ticks": ""
            },
            "type": "choropleth"
           }
          ],
          "contour": [
           {
            "colorbar": {
             "outlinewidth": 0,
             "ticks": ""
            },
            "colorscale": [
             [
              0,
              "#0d0887"
             ],
             [
              0.1111111111111111,
              "#46039f"
             ],
             [
              0.2222222222222222,
              "#7201a8"
             ],
             [
              0.3333333333333333,
              "#9c179e"
             ],
             [
              0.4444444444444444,
              "#bd3786"
             ],
             [
              0.5555555555555556,
              "#d8576b"
             ],
             [
              0.6666666666666666,
              "#ed7953"
             ],
             [
              0.7777777777777778,
              "#fb9f3a"
             ],
             [
              0.8888888888888888,
              "#fdca26"
             ],
             [
              1,
              "#f0f921"
             ]
            ],
            "type": "contour"
           }
          ],
          "contourcarpet": [
           {
            "colorbar": {
             "outlinewidth": 0,
             "ticks": ""
            },
            "type": "contourcarpet"
           }
          ],
          "heatmap": [
           {
            "colorbar": {
             "outlinewidth": 0,
             "ticks": ""
            },
            "colorscale": [
             [
              0,
              "#0d0887"
             ],
             [
              0.1111111111111111,
              "#46039f"
             ],
             [
              0.2222222222222222,
              "#7201a8"
             ],
             [
              0.3333333333333333,
              "#9c179e"
             ],
             [
              0.4444444444444444,
              "#bd3786"
             ],
             [
              0.5555555555555556,
              "#d8576b"
             ],
             [
              0.6666666666666666,
              "#ed7953"
             ],
             [
              0.7777777777777778,
              "#fb9f3a"
             ],
             [
              0.8888888888888888,
              "#fdca26"
             ],
             [
              1,
              "#f0f921"
             ]
            ],
            "type": "heatmap"
           }
          ],
          "heatmapgl": [
           {
            "colorbar": {
             "outlinewidth": 0,
             "ticks": ""
            },
            "colorscale": [
             [
              0,
              "#0d0887"
             ],
             [
              0.1111111111111111,
              "#46039f"
             ],
             [
              0.2222222222222222,
              "#7201a8"
             ],
             [
              0.3333333333333333,
              "#9c179e"
             ],
             [
              0.4444444444444444,
              "#bd3786"
             ],
             [
              0.5555555555555556,
              "#d8576b"
             ],
             [
              0.6666666666666666,
              "#ed7953"
             ],
             [
              0.7777777777777778,
              "#fb9f3a"
             ],
             [
              0.8888888888888888,
              "#fdca26"
             ],
             [
              1,
              "#f0f921"
             ]
            ],
            "type": "heatmapgl"
           }
          ],
          "histogram": [
           {
            "marker": {
             "pattern": {
              "fillmode": "overlay",
              "size": 10,
              "solidity": 0.2
             }
            },
            "type": "histogram"
           }
          ],
          "histogram2d": [
           {
            "colorbar": {
             "outlinewidth": 0,
             "ticks": ""
            },
            "colorscale": [
             [
              0,
              "#0d0887"
             ],
             [
              0.1111111111111111,
              "#46039f"
             ],
             [
              0.2222222222222222,
              "#7201a8"
             ],
             [
              0.3333333333333333,
              "#9c179e"
             ],
             [
              0.4444444444444444,
              "#bd3786"
             ],
             [
              0.5555555555555556,
              "#d8576b"
             ],
             [
              0.6666666666666666,
              "#ed7953"
             ],
             [
              0.7777777777777778,
              "#fb9f3a"
             ],
             [
              0.8888888888888888,
              "#fdca26"
             ],
             [
              1,
              "#f0f921"
             ]
            ],
            "type": "histogram2d"
           }
          ],
          "histogram2dcontour": [
           {
            "colorbar": {
             "outlinewidth": 0,
             "ticks": ""
            },
            "colorscale": [
             [
              0,
              "#0d0887"
             ],
             [
              0.1111111111111111,
              "#46039f"
             ],
             [
              0.2222222222222222,
              "#7201a8"
             ],
             [
              0.3333333333333333,
              "#9c179e"
             ],
             [
              0.4444444444444444,
              "#bd3786"
             ],
             [
              0.5555555555555556,
              "#d8576b"
             ],
             [
              0.6666666666666666,
              "#ed7953"
             ],
             [
              0.7777777777777778,
              "#fb9f3a"
             ],
             [
              0.8888888888888888,
              "#fdca26"
             ],
             [
              1,
              "#f0f921"
             ]
            ],
            "type": "histogram2dcontour"
           }
          ],
          "mesh3d": [
           {
            "colorbar": {
             "outlinewidth": 0,
             "ticks": ""
            },
            "type": "mesh3d"
           }
          ],
          "parcoords": [
           {
            "line": {
             "colorbar": {
              "outlinewidth": 0,
              "ticks": ""
             }
            },
            "type": "parcoords"
           }
          ],
          "pie": [
           {
            "automargin": true,
            "type": "pie"
           }
          ],
          "scatter": [
           {
            "marker": {
             "colorbar": {
              "outlinewidth": 0,
              "ticks": ""
             }
            },
            "type": "scatter"
           }
          ],
          "scatter3d": [
           {
            "line": {
             "colorbar": {
              "outlinewidth": 0,
              "ticks": ""
             }
            },
            "marker": {
             "colorbar": {
              "outlinewidth": 0,
              "ticks": ""
             }
            },
            "type": "scatter3d"
           }
          ],
          "scattercarpet": [
           {
            "marker": {
             "colorbar": {
              "outlinewidth": 0,
              "ticks": ""
             }
            },
            "type": "scattercarpet"
           }
          ],
          "scattergeo": [
           {
            "marker": {
             "colorbar": {
              "outlinewidth": 0,
              "ticks": ""
             }
            },
            "type": "scattergeo"
           }
          ],
          "scattergl": [
           {
            "marker": {
             "colorbar": {
              "outlinewidth": 0,
              "ticks": ""
             }
            },
            "type": "scattergl"
           }
          ],
          "scattermapbox": [
           {
            "marker": {
             "colorbar": {
              "outlinewidth": 0,
              "ticks": ""
             }
            },
            "type": "scattermapbox"
           }
          ],
          "scatterpolar": [
           {
            "marker": {
             "colorbar": {
              "outlinewidth": 0,
              "ticks": ""
             }
            },
            "type": "scatterpolar"
           }
          ],
          "scatterpolargl": [
           {
            "marker": {
             "colorbar": {
              "outlinewidth": 0,
              "ticks": ""
             }
            },
            "type": "scatterpolargl"
           }
          ],
          "scatterternary": [
           {
            "marker": {
             "colorbar": {
              "outlinewidth": 0,
              "ticks": ""
             }
            },
            "type": "scatterternary"
           }
          ],
          "surface": [
           {
            "colorbar": {
             "outlinewidth": 0,
             "ticks": ""
            },
            "colorscale": [
             [
              0,
              "#0d0887"
             ],
             [
              0.1111111111111111,
              "#46039f"
             ],
             [
              0.2222222222222222,
              "#7201a8"
             ],
             [
              0.3333333333333333,
              "#9c179e"
             ],
             [
              0.4444444444444444,
              "#bd3786"
             ],
             [
              0.5555555555555556,
              "#d8576b"
             ],
             [
              0.6666666666666666,
              "#ed7953"
             ],
             [
              0.7777777777777778,
              "#fb9f3a"
             ],
             [
              0.8888888888888888,
              "#fdca26"
             ],
             [
              1,
              "#f0f921"
             ]
            ],
            "type": "surface"
           }
          ],
          "table": [
           {
            "cells": {
             "fill": {
              "color": "#EBF0F8"
             },
             "line": {
              "color": "white"
             }
            },
            "header": {
             "fill": {
              "color": "#C8D4E3"
             },
             "line": {
              "color": "white"
             }
            },
            "type": "table"
           }
          ]
         },
         "layout": {
          "annotationdefaults": {
           "arrowcolor": "#2a3f5f",
           "arrowhead": 0,
           "arrowwidth": 1
          },
          "autotypenumbers": "strict",
          "coloraxis": {
           "colorbar": {
            "outlinewidth": 0,
            "ticks": ""
           }
          },
          "colorscale": {
           "diverging": [
            [
             0,
             "#8e0152"
            ],
            [
             0.1,
             "#c51b7d"
            ],
            [
             0.2,
             "#de77ae"
            ],
            [
             0.3,
             "#f1b6da"
            ],
            [
             0.4,
             "#fde0ef"
            ],
            [
             0.5,
             "#f7f7f7"
            ],
            [
             0.6,
             "#e6f5d0"
            ],
            [
             0.7,
             "#b8e186"
            ],
            [
             0.8,
             "#7fbc41"
            ],
            [
             0.9,
             "#4d9221"
            ],
            [
             1,
             "#276419"
            ]
           ],
           "sequential": [
            [
             0,
             "#0d0887"
            ],
            [
             0.1111111111111111,
             "#46039f"
            ],
            [
             0.2222222222222222,
             "#7201a8"
            ],
            [
             0.3333333333333333,
             "#9c179e"
            ],
            [
             0.4444444444444444,
             "#bd3786"
            ],
            [
             0.5555555555555556,
             "#d8576b"
            ],
            [
             0.6666666666666666,
             "#ed7953"
            ],
            [
             0.7777777777777778,
             "#fb9f3a"
            ],
            [
             0.8888888888888888,
             "#fdca26"
            ],
            [
             1,
             "#f0f921"
            ]
           ],
           "sequentialminus": [
            [
             0,
             "#0d0887"
            ],
            [
             0.1111111111111111,
             "#46039f"
            ],
            [
             0.2222222222222222,
             "#7201a8"
            ],
            [
             0.3333333333333333,
             "#9c179e"
            ],
            [
             0.4444444444444444,
             "#bd3786"
            ],
            [
             0.5555555555555556,
             "#d8576b"
            ],
            [
             0.6666666666666666,
             "#ed7953"
            ],
            [
             0.7777777777777778,
             "#fb9f3a"
            ],
            [
             0.8888888888888888,
             "#fdca26"
            ],
            [
             1,
             "#f0f921"
            ]
           ]
          },
          "colorway": [
           "#636efa",
           "#EF553B",
           "#00cc96",
           "#ab63fa",
           "#FFA15A",
           "#19d3f3",
           "#FF6692",
           "#B6E880",
           "#FF97FF",
           "#FECB52"
          ],
          "font": {
           "color": "#2a3f5f"
          },
          "geo": {
           "bgcolor": "white",
           "lakecolor": "white",
           "landcolor": "#E5ECF6",
           "showlakes": true,
           "showland": true,
           "subunitcolor": "white"
          },
          "hoverlabel": {
           "align": "left"
          },
          "hovermode": "closest",
          "mapbox": {
           "style": "light"
          },
          "paper_bgcolor": "white",
          "plot_bgcolor": "#E5ECF6",
          "polar": {
           "angularaxis": {
            "gridcolor": "white",
            "linecolor": "white",
            "ticks": ""
           },
           "bgcolor": "#E5ECF6",
           "radialaxis": {
            "gridcolor": "white",
            "linecolor": "white",
            "ticks": ""
           }
          },
          "scene": {
           "xaxis": {
            "backgroundcolor": "#E5ECF6",
            "gridcolor": "white",
            "gridwidth": 2,
            "linecolor": "white",
            "showbackground": true,
            "ticks": "",
            "zerolinecolor": "white"
           },
           "yaxis": {
            "backgroundcolor": "#E5ECF6",
            "gridcolor": "white",
            "gridwidth": 2,
            "linecolor": "white",
            "showbackground": true,
            "ticks": "",
            "zerolinecolor": "white"
           },
           "zaxis": {
            "backgroundcolor": "#E5ECF6",
            "gridcolor": "white",
            "gridwidth": 2,
            "linecolor": "white",
            "showbackground": true,
            "ticks": "",
            "zerolinecolor": "white"
           }
          },
          "shapedefaults": {
           "line": {
            "color": "#2a3f5f"
           }
          },
          "ternary": {
           "aaxis": {
            "gridcolor": "white",
            "linecolor": "white",
            "ticks": ""
           },
           "baxis": {
            "gridcolor": "white",
            "linecolor": "white",
            "ticks": ""
           },
           "bgcolor": "#E5ECF6",
           "caxis": {
            "gridcolor": "white",
            "linecolor": "white",
            "ticks": ""
           }
          },
          "title": {
           "x": 0.05
          },
          "xaxis": {
           "automargin": true,
           "gridcolor": "white",
           "linecolor": "white",
           "ticks": "",
           "title": {
            "standoff": 15
           },
           "zerolinecolor": "white",
           "zerolinewidth": 2
          },
          "yaxis": {
           "automargin": true,
           "gridcolor": "white",
           "linecolor": "white",
           "ticks": "",
           "title": {
            "standoff": 15
           },
           "zerolinecolor": "white",
           "zerolinewidth": 2
          }
         }
        },
        "title": {
         "text": "6 activities classifier (NN)"
        },
        "width": 1000,
        "xaxis": {
         "anchor": "y",
         "domain": [
          0,
          1
         ],
         "title": {
          "text": "accuracy percentage"
         }
        },
        "yaxis": {
         "anchor": "x",
         "domain": [
          0,
          1
         ],
         "title": {
          "text": "number of subjects"
         }
        }
       }
      }
     },
     "metadata": {},
     "output_type": "display_data"
    }
   ],
   "source": [
    "newacc = [sum(acc[i])/len(acc[i]) for i in range(len(acc))]\n",
    "histro = {'x':[i for i in range(0,101)],'y':[0 for i in range(0,101)]}\n",
    "for ac in newacc:\n",
    "    newval = (int(ac*100)//1)*1\n",
    "    histro['y'][newval]+=1\n",
    "import plotly.express as px\n",
    "fig = px.bar(histro, x='x', y='y',labels={\n",
    "                     'x':'accuracy percentage','y':'number of subjects'\n",
    "                 },title = '6 activities classifier (NN)',width=1000,height=500)\n",
    "fig.show()\n"
   ]
  },
  {
   "cell_type": "markdown",
   "metadata": {
    "_cell_guid": "61fcab3b-6b7f-5eb0-ece5-bfb34b27fa2a"
   },
   "source": [
    "*** 6 activites classifier "
   ]
  },
  {
   "cell_type": "markdown",
   "metadata": {},
   "source": [
    "--------------------------------------\n",
    "6 activities classifier using every subject data to train"
   ]
  },
  {
   "cell_type": "code",
   "execution_count": 5,
   "metadata": {},
   "outputs": [
    {
     "name": "stderr",
     "output_type": "stream",
     "text": [
      "C:\\Users\\ASUS\\AppData\\Local\\Temp/ipykernel_17120/1239554138.py:18: FutureWarning: In a future version of pandas all arguments of DataFrame.drop except for the argument 'labels' will be keyword-only\n",
      "  df = df.drop('Unnamed: 0', 1)\n",
      "C:\\Users\\ASUS\\AppData\\Local\\Temp/ipykernel_17120/1239554138.py:20: FutureWarning: In a future version of pandas all arguments of DataFrame.drop except for the argument 'labels' will be keyword-only\n",
      "  df = df.drop('indra_time', 1)\n",
      "C:\\Users\\ASUS\\AppData\\Local\\Temp/ipykernel_17120/1239554138.py:21: FutureWarning: In a future version of pandas all arguments of DataFrame.drop except for the argument 'labels' will be keyword-only\n",
      "  df = df.drop('browser_latency', 1)\n",
      "C:\\Users\\ASUS\\AppData\\Local\\Temp/ipykernel_17120/1239554138.py:22: FutureWarning: In a future version of pandas all arguments of DataFrame.drop except for the argument 'labels' will be keyword-only\n",
      "  df = df.drop('reading_time', 1)\n",
      "C:\\Users\\ASUS\\AppData\\Local\\Temp/ipykernel_17120/1239554138.py:23: FutureWarning: In a future version of pandas all arguments of DataFrame.drop except for the argument 'labels' will be keyword-only\n",
      "  df = df.drop('attention_esense', 1)\n",
      "C:\\Users\\ASUS\\AppData\\Local\\Temp/ipykernel_17120/1239554138.py:24: FutureWarning: In a future version of pandas all arguments of DataFrame.drop except for the argument 'labels' will be keyword-only\n",
      "  df = df.drop('meditation_esense', 1)\n",
      "C:\\Users\\ASUS\\AppData\\Local\\Temp/ipykernel_17120/1239554138.py:25: FutureWarning: In a future version of pandas all arguments of DataFrame.drop except for the argument 'labels' will be keyword-only\n",
      "  df = df.drop('raw_values', 1)\n",
      "C:\\Users\\ASUS\\AppData\\Local\\Temp/ipykernel_17120/1239554138.py:26: FutureWarning: In a future version of pandas all arguments of DataFrame.drop except for the argument 'labels' will be keyword-only\n",
      "  df = df.drop('signal_quality', 1)\n",
      "C:\\Users\\ASUS\\AppData\\Local\\Temp/ipykernel_17120/1239554138.py:27: FutureWarning: In a future version of pandas all arguments of DataFrame.drop except for the argument 'labels' will be keyword-only\n",
      "  df = df.drop('createdAt', 1)\n",
      "C:\\Users\\ASUS\\AppData\\Local\\Temp/ipykernel_17120/1239554138.py:28: FutureWarning: In a future version of pandas all arguments of DataFrame.drop except for the argument 'labels' will be keyword-only\n",
      "  df = df.drop('updatedAt', 1)\n",
      "C:\\Users\\ASUS\\AppData\\Local\\Temp/ipykernel_17120/1239554138.py:36: FutureWarning: In a future version of pandas all arguments of DataFrame.drop except for the argument 'labels' will be keyword-only\n",
      "  df = df.drop('eeg_power', 1) # drop comma separated cell\n",
      "C:\\Users\\ASUS\\AppData\\Local\\Temp/ipykernel_17120/1239554138.py:133: FutureWarning: In a future version of pandas all arguments of DataFrame.drop except for the argument 'labels' will be keyword-only\n",
      "  df = df.drop('id',1)\n",
      "C:\\Users\\ASUS\\AppData\\Local\\Temp/ipykernel_17120/1239554138.py:165: DeprecationWarning: KerasClassifier is deprecated, use Sci-Keras (https://github.com/adriangb/scikeras) instead.\n",
      "  neural_network = KerasClassifier(build_fn=create_network,\n"
     ]
    }
   ],
   "source": [
    "import pandas as pd \n",
    "import json\n",
    "import tensorflow as tf\n",
    "import numpy as np\n",
    "import random\n",
    "import numpy as np\n",
    "from tensorflow import keras\n",
    "from keras import models\n",
    "from keras import layers\n",
    "from keras.wrappers.scikit_learn import KerasClassifier\n",
    "from sklearn.model_selection import cross_val_score\n",
    "from sklearn.datasets import make_classification\n",
    "from sklearn.utils import shuffle\n",
    "def get_data ():\n",
    "\t\t\n",
    "\tdef prepare_data(df):\n",
    "\t\t# drop unused features. just leave eeg_power and the label\n",
    "\t\tdf = df.drop('Unnamed: 0', 1)\n",
    "\t\t# df = df.drop('id', 1)\n",
    "\t\tdf = df.drop('indra_time', 1)\n",
    "\t\tdf = df.drop('browser_latency', 1)\n",
    "\t\tdf = df.drop('reading_time', 1)\n",
    "\t\tdf = df.drop('attention_esense', 1)\n",
    "\t\tdf = df.drop('meditation_esense', 1)\n",
    "\t\tdf = df.drop('raw_values', 1)\n",
    "\t\tdf = df.drop('signal_quality', 1)\n",
    "\t\tdf = df.drop('createdAt', 1)\n",
    "\t\tdf = df.drop('updatedAt', 1)\n",
    "\t\t# separate eeg power to multiple columns\n",
    "\t\tto_series = pd.Series(df['eeg_power']) # df to series\n",
    "\t\teeg_features=pd.DataFrame(to_series.tolist()) #series to list and then back to df\n",
    "\t\tdf = pd.concat([df,eeg_features], axis=1) # concatenate the create columns\n",
    "\t\t# df = pd.concat([df,eeg_features], axis=1, join='outer') # concatenate the create columns\n",
    "\t\t# just look at first subject\n",
    "\t\t\n",
    "\t\tdf = df.drop('eeg_power', 1) # drop comma separated cell\n",
    "\t\t# df = df.drop('id', 1) # drop comma separated cell\n",
    "\t\treturn df\n",
    "\n",
    "\tdf = pd.read_csv(\"./eeg-data.csv\")\n",
    "\n",
    "\trelax = df[df.label == 'relax']\n",
    "\t# df['label'] = df[\"label\"].astype('category')\n",
    "\tdf['label'].value_counts()\n",
    "\tdf['eeg_power'] = df.eeg_power.map(json.loads)\n",
    "\tdef clean_labels(dd):\n",
    "\t\t# clean labels\n",
    "\t\tdd.loc[dd.label == 'math1', 'label'] = \"math\"\n",
    "\t\tdd.loc[dd.label == 'math2', 'label'] = \"math\"\n",
    "\t\tdd.loc[dd.label == 'math3', 'label'] = \"math\"\n",
    "\t\tdd.loc[dd.label == 'math4', 'label'] = \"math\"\n",
    "\t\tdd.loc[dd.label == 'math5', 'label'] = \"math\"\n",
    "\t\tdd.loc[dd.label == 'math6', 'label'] = \"math\"\n",
    "\t\tdd.loc[dd.label == 'math7', 'label'] = \"math\"\n",
    "\t\tdd.loc[dd.label == 'math8', 'label'] = \"math\"\n",
    "\t\tdd.loc[dd.label == 'math9', 'label'] = \"math\"\n",
    "\t\tdd.loc[dd.label == 'math10', 'label'] = \"math\"\n",
    "\t\tdd.loc[dd.label == 'math11', 'label'] = \"math\"\n",
    "\t\tdd.loc[dd.label == 'math12', 'label'] = \"math\"\n",
    "\t\tdd.loc[dd.label == 'colorRound1-1', 'label'] = \"colors\"\n",
    "\t\tdd.loc[dd.label == 'colorRound1-2', 'label'] = \"colors\"\n",
    "\t\tdd.loc[dd.label == 'colorRound1-3', 'label'] = \"colors\"\n",
    "\t\tdd.loc[dd.label == 'colorRound1-4', 'label'] = \"colors\"\n",
    "\t\tdd.loc[dd.label == 'colorRound1-5', 'label'] = \"colors\"\n",
    "\t\tdd.loc[dd.label == 'colorRound1-6', 'label'] = \"colors\"\n",
    "\t\tdd.loc[dd.label == 'colorRound2-1', 'label'] = \"colors\"\n",
    "\t\tdd.loc[dd.label == 'colorRound2-2', 'label'] = \"colors\"\n",
    "\t\tdd.loc[dd.label == 'colorRound2-3', 'label'] = \"colors\"\n",
    "\t\tdd.loc[dd.label == 'colorRound2-4', 'label'] = \"colors\"\n",
    "\t\tdd.loc[dd.label == 'colorRound2-5', 'label'] = \"colors\"\n",
    "\t\tdd.loc[dd.label == 'colorRound2-6', 'label'] = \"colors\"\n",
    "\t\tdd.loc[dd.label == 'colorRound3-1', 'label'] = \"colors\"\n",
    "\t\tdd.loc[dd.label == 'colorRound3-2', 'label'] = \"colors\"\n",
    "\t\tdd.loc[dd.label == 'colorRound3-3', 'label'] = \"colors\"\n",
    "\t\tdd.loc[dd.label == 'colorRound3-4', 'label'] = \"colors\"\n",
    "\t\tdd.loc[dd.label == 'colorRound3-5', 'label'] = \"colors\"\n",
    "\t\tdd.loc[dd.label == 'colorRound3-6', 'label'] = \"colors\"\n",
    "\t\tdd.loc[dd.label == 'colorRound4-1', 'label'] = \"colors\"\n",
    "\t\tdd.loc[dd.label == 'colorRound4-2', 'label'] = \"colors\"\n",
    "\t\tdd.loc[dd.label == 'colorRound4-3', 'label'] = \"colors\"\n",
    "\t\tdd.loc[dd.label == 'colorRound4-4', 'label'] = \"colors\"\n",
    "\t\tdd.loc[dd.label == 'colorRound4-5', 'label'] = \"colors\"\n",
    "\t\tdd.loc[dd.label == 'colorRound4-6', 'label'] = \"colors\"\n",
    "\t\tdd.loc[dd.label == 'colorRound5-1', 'label'] = \"colors\"\n",
    "\t\tdd.loc[dd.label == 'colorRound5-2', 'label'] = \"colors\"\n",
    "\t\tdd.loc[dd.label == 'colorRound5-3', 'label'] = \"colors\"\n",
    "\t\tdd.loc[dd.label == 'colorRound5-4', 'label'] = \"colors\"\n",
    "\t\tdd.loc[dd.label == 'colorRound5-5', 'label'] = \"colors\"\n",
    "\t\tdd.loc[dd.label == 'colorRound5-6', 'label'] = \"colors\"\n",
    "\t\tdd.loc[dd.label == 'readyRound1', 'label'] = \"ready\"\n",
    "\t\tdd.loc[dd.label == 'readyRound2', 'label'] = \"ready\"\n",
    "\t\tdd.loc[dd.label == 'readyRound3', 'label'] = \"ready\"\n",
    "\t\tdd.loc[dd.label == 'readyRound4', 'label'] = \"ready\"\n",
    "\t\tdd.loc[dd.label == 'readyRound5', 'label'] = \"ready\"\n",
    "\t\tdd.loc[dd.label == 'blink1', 'label'] = \"blink\"\n",
    "\t\tdd.loc[dd.label == 'blink2', 'label'] = \"blink\"\n",
    "\t\tdd.loc[dd.label == 'blink3', 'label'] = \"blink\"\n",
    "\t\tdd.loc[dd.label == 'blink4', 'label'] = \"blink\"\n",
    "\t\tdd.loc[dd.label == 'blink5', 'label'] = \"blink\"\n",
    "\t\tdd.loc[dd.label == 'thinkOfItemsInstruction-ver1', 'label'] = \"instruction\"\n",
    "\t\tdd.loc[dd.label == 'thinkOfItemsInstruction-ver2', 'label'] = \"instruction\"\n",
    "\t\tdd.loc[dd.label == 'colorInstruction2', 'label'] = \"instruction\"\n",
    "\t\tdd.loc[dd.label == 'colorInstruction1', 'label'] = \"instruction\"\n",
    "\t\tdd.loc[dd.label == 'colorInstruction2', 'label'] = \"instruction\"\n",
    "\t\tdd.loc[dd.label == 'musicInstruction', 'label'] = \"instruction\"\n",
    "\t\tdd.loc[dd.label == 'videoInstruction', 'label'] = \"instruction\"\n",
    "\t\tdd.loc[dd.label == 'mathInstruction', 'label'] = \"instruction\"\n",
    "\t\tdd.loc[dd.label == 'relaxInstruction', 'label'] = \"instruction\"\n",
    "\t\tdd.loc[dd.label == 'blinkInstruction', 'label'] = \"instruction\"\n",
    "\t\treturn dd\n",
    "\n",
    "\t\n",
    "\n",
    "\tdef drop_useless_labels(df):\n",
    "\t\t# drop unlabeled and everyone paired and others. leave only relax and math. \n",
    "\t\tdf1 = df[df.label == 'math']\n",
    "\t\tdf2 = df[df.label == 'relax']\n",
    "\t\tdf3 = df[df.label == 'colors']\n",
    "\t\tdf4 = df[df.label == 'ready']\n",
    "\t\tdf5 = df[df.label == 'blink']\n",
    "\t\tdf6 = df[df.label == 'instruction']\n",
    "\t\treturn pd.concat([df1,df2,df3,df4,df5,df6],axis=0)\n",
    "\t\n",
    "\tdata = prepare_data(df)\n",
    "\tdata = clean_labels(data)\n",
    "\tdata = drop_useless_labels(data)\n",
    "\treturn data\n",
    "\t\n",
    "# use sklearn to split for training\n",
    "data = get_data()\n",
    "def dataprep(df):\n",
    "    \n",
    "    df = df.drop('id',1)\n",
    "    label = df.pop('label')\n",
    "\n",
    "    df = df.values\n",
    "    \n",
    "    train_labels = pd.get_dummies(label)\n",
    "    train_labels = train_labels.values\n",
    "    normalized_df = ((df-df.mean())/df.std())\n",
    "    normalized_df,train_labels = np.array(normalized_df,dtype='float32'), np.array(train_labels,dtype='float32')\n",
    "    normalized_df,train_labels = shuffle(normalized_df, train_labels, random_state=0)\n",
    "    return normalized_df,train_labels\n",
    "def create_network():\n",
    "    \n",
    "    # Start neural network\n",
    "    network = keras.Sequential([\n",
    "    keras.layers.Dense(1000, activation = 'relu', input_shape = [8]),\n",
    "    keras.layers.Dense(1000, activation = 'relu'),\n",
    "    keras.layers.Dense(1000, activation = 'relu'),\n",
    "    keras.layers.Dense(6, activation = 'softmax')\n",
    "])\n",
    "\n",
    "    \n",
    "\n",
    "    # Compile neural network\n",
    "    network.compile(optimizer='adam', \n",
    "              loss=tf.losses.CategoricalCrossentropy(),\n",
    "              metrics=['accuracy'])\n",
    "    \n",
    "    # Return compiled network\n",
    "    return network\n",
    "\n",
    "normalized_df,train_labels = dataprep(data)\n",
    "neural_network = KerasClassifier(build_fn=create_network, \n",
    "\t\t\t\t\t\t\tepochs=10, \n",
    "\t\t\t\t\t\t\tbatch_size=100,\n",
    "\t\t\t\t\t\t\tverbose=0)\n",
    "acc = cross_val_score(neural_network, normalized_df, train_labels, cv=7)\n"
   ]
  },
  {
   "cell_type": "code",
   "execution_count": 8,
   "metadata": {},
   "outputs": [
    {
     "name": "stdout",
     "output_type": "stream",
     "text": [
      "acc -  [0.38025415 0.36754644 0.36950147 0.39002931 0.35288367 0.36888453\n",
      " 0.3551859 ]\n",
      "avg =  0.3691836382661547\n"
     ]
    }
   ],
   "source": [
    "print('acc - ',acc)\n",
    "print('avg = ',sum(acc)/len(acc))"
   ]
  },
  {
   "cell_type": "code",
   "execution_count": 65,
   "metadata": {},
   "outputs": [
    {
     "name": "stderr",
     "output_type": "stream",
     "text": [
      "C:\\Users\\ASUS\\AppData\\Local\\Temp/ipykernel_16072/371942913.py:18: FutureWarning:\n",
      "\n",
      "In a future version of pandas all arguments of DataFrame.drop except for the argument 'labels' will be keyword-only\n",
      "\n",
      "C:\\Users\\ASUS\\AppData\\Local\\Temp/ipykernel_16072/371942913.py:20: FutureWarning:\n",
      "\n",
      "In a future version of pandas all arguments of DataFrame.drop except for the argument 'labels' will be keyword-only\n",
      "\n",
      "C:\\Users\\ASUS\\AppData\\Local\\Temp/ipykernel_16072/371942913.py:21: FutureWarning:\n",
      "\n",
      "In a future version of pandas all arguments of DataFrame.drop except for the argument 'labels' will be keyword-only\n",
      "\n",
      "C:\\Users\\ASUS\\AppData\\Local\\Temp/ipykernel_16072/371942913.py:22: FutureWarning:\n",
      "\n",
      "In a future version of pandas all arguments of DataFrame.drop except for the argument 'labels' will be keyword-only\n",
      "\n",
      "C:\\Users\\ASUS\\AppData\\Local\\Temp/ipykernel_16072/371942913.py:23: FutureWarning:\n",
      "\n",
      "In a future version of pandas all arguments of DataFrame.drop except for the argument 'labels' will be keyword-only\n",
      "\n",
      "C:\\Users\\ASUS\\AppData\\Local\\Temp/ipykernel_16072/371942913.py:24: FutureWarning:\n",
      "\n",
      "In a future version of pandas all arguments of DataFrame.drop except for the argument 'labels' will be keyword-only\n",
      "\n",
      "C:\\Users\\ASUS\\AppData\\Local\\Temp/ipykernel_16072/371942913.py:25: FutureWarning:\n",
      "\n",
      "In a future version of pandas all arguments of DataFrame.drop except for the argument 'labels' will be keyword-only\n",
      "\n",
      "C:\\Users\\ASUS\\AppData\\Local\\Temp/ipykernel_16072/371942913.py:26: FutureWarning:\n",
      "\n",
      "In a future version of pandas all arguments of DataFrame.drop except for the argument 'labels' will be keyword-only\n",
      "\n",
      "C:\\Users\\ASUS\\AppData\\Local\\Temp/ipykernel_16072/371942913.py:27: FutureWarning:\n",
      "\n",
      "In a future version of pandas all arguments of DataFrame.drop except for the argument 'labels' will be keyword-only\n",
      "\n",
      "C:\\Users\\ASUS\\AppData\\Local\\Temp/ipykernel_16072/371942913.py:28: FutureWarning:\n",
      "\n",
      "In a future version of pandas all arguments of DataFrame.drop except for the argument 'labels' will be keyword-only\n",
      "\n",
      "C:\\Users\\ASUS\\AppData\\Local\\Temp/ipykernel_16072/371942913.py:36: FutureWarning:\n",
      "\n",
      "In a future version of pandas all arguments of DataFrame.drop except for the argument 'labels' will be keyword-only\n",
      "\n",
      "C:\\Users\\ASUS\\AppData\\Local\\Temp/ipykernel_16072/371942913.py:130: FutureWarning:\n",
      "\n",
      "In a future version of pandas all arguments of DataFrame.drop except for the argument 'labels' will be keyword-only\n",
      "\n",
      "C:\\Users\\ASUS\\AppData\\Local\\Temp/ipykernel_16072/371942913.py:162: DeprecationWarning:\n",
      "\n",
      "KerasClassifier is deprecated, use Sci-Keras (https://github.com/adriangb/scikeras) instead.\n",
      "\n"
     ]
    },
    {
     "name": "stdout",
     "output_type": "stream",
     "text": [
      "WARNING:tensorflow:5 out of the last 13 calls to <function Model.make_test_function.<locals>.test_function at 0x0000026828B62550> triggered tf.function retracing. Tracing is expensive and the excessive number of tracings could be due to (1) creating @tf.function repeatedly in a loop, (2) passing tensors with different shapes, (3) passing Python objects instead of tensors. For (1), please define your @tf.function outside of the loop. For (2), @tf.function has experimental_relax_shapes=True option that relaxes argument shapes that can avoid unnecessary retracing. For (3), please refer to https://www.tensorflow.org/guide/function#controlling_retracing and https://www.tensorflow.org/api_docs/python/tf/function for  more details.\n",
      "WARNING:tensorflow:5 out of the last 13 calls to <function Model.make_test_function.<locals>.test_function at 0x000002682A794430> triggered tf.function retracing. Tracing is expensive and the excessive number of tracings could be due to (1) creating @tf.function repeatedly in a loop, (2) passing tensors with different shapes, (3) passing Python objects instead of tensors. For (1), please define your @tf.function outside of the loop. For (2), @tf.function has experimental_relax_shapes=True option that relaxes argument shapes that can avoid unnecessary retracing. For (3), please refer to https://www.tensorflow.org/guide/function#controlling_retracing and https://www.tensorflow.org/api_docs/python/tf/function for  more details.\n"
     ]
    }
   ],
   "source": [
    "import pandas as pd \n",
    "import json\n",
    "import tensorflow as tf\n",
    "import numpy as np\n",
    "import random\n",
    "import numpy as np\n",
    "from tensorflow import keras\n",
    "from keras import models\n",
    "from keras import layers\n",
    "from keras.wrappers.scikit_learn import KerasClassifier\n",
    "from sklearn.model_selection import cross_val_score\n",
    "from sklearn.datasets import make_classification\n",
    "from sklearn.utils import shuffle\n",
    "def get_data ():\n",
    "\t\t\n",
    "\tdef prepare_data(df):\n",
    "\t\t# drop unused features. just leave eeg_power and the label\n",
    "\t\tdf = df.drop('Unnamed: 0', 1)\n",
    "\t\t# df = df.drop('id', 1)\n",
    "\t\tdf = df.drop('indra_time', 1)\n",
    "\t\tdf = df.drop('browser_latency', 1)\n",
    "\t\tdf = df.drop('reading_time', 1)\n",
    "\t\tdf = df.drop('attention_esense', 1)\n",
    "\t\tdf = df.drop('meditation_esense', 1)\n",
    "\t\tdf = df.drop('raw_values', 1)\n",
    "\t\tdf = df.drop('signal_quality', 1)\n",
    "\t\tdf = df.drop('createdAt', 1)\n",
    "\t\tdf = df.drop('updatedAt', 1)\n",
    "\t\t# separate eeg power to multiple columns\n",
    "\t\tto_series = pd.Series(df['eeg_power']) # df to series\n",
    "\t\teeg_features=pd.DataFrame(to_series.tolist()) #series to list and then back to df\n",
    "\t\tdf = pd.concat([df,eeg_features], axis=1) # concatenate the create columns\n",
    "\t\t# df = pd.concat([df,eeg_features], axis=1, join='outer') # concatenate the create columns\n",
    "\t\t# just look at first subject\n",
    "\t\t\n",
    "\t\tdf = df.drop('eeg_power', 1) # drop comma separated cell\n",
    "\t\t# df = df.drop('id', 1) # drop comma separated cell\n",
    "\t\treturn df\n",
    "\n",
    "\tdf = pd.read_csv(\"./eeg-data.csv\")\n",
    "\n",
    "\trelax = df[df.label == 'relax']\n",
    "\t# df['label'] = df[\"label\"].astype('category')\n",
    "\tdf['label'].value_counts()\n",
    "\tdf['eeg_power'] = df.eeg_power.map(json.loads)\n",
    "\tdef clean_labels(dd):\n",
    "\t\t# clean labels\n",
    "\t\tdd.loc[dd.label == 'math1', 'label'] = \"math\"\n",
    "\t\tdd.loc[dd.label == 'math2', 'label'] = \"math\"\n",
    "\t\tdd.loc[dd.label == 'math3', 'label'] = \"math\"\n",
    "\t\tdd.loc[dd.label == 'math4', 'label'] = \"math\"\n",
    "\t\tdd.loc[dd.label == 'math5', 'label'] = \"math\"\n",
    "\t\tdd.loc[dd.label == 'math6', 'label'] = \"math\"\n",
    "\t\tdd.loc[dd.label == 'math7', 'label'] = \"math\"\n",
    "\t\tdd.loc[dd.label == 'math8', 'label'] = \"math\"\n",
    "\t\tdd.loc[dd.label == 'math9', 'label'] = \"math\"\n",
    "\t\tdd.loc[dd.label == 'math10', 'label'] = \"math\"\n",
    "\t\tdd.loc[dd.label == 'math11', 'label'] = \"math\"\n",
    "\t\tdd.loc[dd.label == 'math12', 'label'] = \"math\"\n",
    "\t\tdd.loc[dd.label == 'colorRound1-1', 'label'] = \"colors\"\n",
    "\t\tdd.loc[dd.label == 'colorRound1-2', 'label'] = \"colors\"\n",
    "\t\tdd.loc[dd.label == 'colorRound1-3', 'label'] = \"colors\"\n",
    "\t\tdd.loc[dd.label == 'colorRound1-4', 'label'] = \"colors\"\n",
    "\t\tdd.loc[dd.label == 'colorRound1-5', 'label'] = \"colors\"\n",
    "\t\tdd.loc[dd.label == 'colorRound1-6', 'label'] = \"colors\"\n",
    "\t\tdd.loc[dd.label == 'colorRound2-1', 'label'] = \"colors\"\n",
    "\t\tdd.loc[dd.label == 'colorRound2-2', 'label'] = \"colors\"\n",
    "\t\tdd.loc[dd.label == 'colorRound2-3', 'label'] = \"colors\"\n",
    "\t\tdd.loc[dd.label == 'colorRound2-4', 'label'] = \"colors\"\n",
    "\t\tdd.loc[dd.label == 'colorRound2-5', 'label'] = \"colors\"\n",
    "\t\tdd.loc[dd.label == 'colorRound2-6', 'label'] = \"colors\"\n",
    "\t\tdd.loc[dd.label == 'colorRound3-1', 'label'] = \"colors\"\n",
    "\t\tdd.loc[dd.label == 'colorRound3-2', 'label'] = \"colors\"\n",
    "\t\tdd.loc[dd.label == 'colorRound3-3', 'label'] = \"colors\"\n",
    "\t\tdd.loc[dd.label == 'colorRound3-4', 'label'] = \"colors\"\n",
    "\t\tdd.loc[dd.label == 'colorRound3-5', 'label'] = \"colors\"\n",
    "\t\tdd.loc[dd.label == 'colorRound3-6', 'label'] = \"colors\"\n",
    "\t\tdd.loc[dd.label == 'colorRound4-1', 'label'] = \"colors\"\n",
    "\t\tdd.loc[dd.label == 'colorRound4-2', 'label'] = \"colors\"\n",
    "\t\tdd.loc[dd.label == 'colorRound4-3', 'label'] = \"colors\"\n",
    "\t\tdd.loc[dd.label == 'colorRound4-4', 'label'] = \"colors\"\n",
    "\t\tdd.loc[dd.label == 'colorRound4-5', 'label'] = \"colors\"\n",
    "\t\tdd.loc[dd.label == 'colorRound4-6', 'label'] = \"colors\"\n",
    "\t\tdd.loc[dd.label == 'colorRound5-1', 'label'] = \"colors\"\n",
    "\t\tdd.loc[dd.label == 'colorRound5-2', 'label'] = \"colors\"\n",
    "\t\tdd.loc[dd.label == 'colorRound5-3', 'label'] = \"colors\"\n",
    "\t\tdd.loc[dd.label == 'colorRound5-4', 'label'] = \"colors\"\n",
    "\t\tdd.loc[dd.label == 'colorRound5-5', 'label'] = \"colors\"\n",
    "\t\tdd.loc[dd.label == 'colorRound5-6', 'label'] = \"colors\"\n",
    "\t\tdd.loc[dd.label == 'readyRound1', 'label'] = \"ready\"\n",
    "\t\tdd.loc[dd.label == 'readyRound2', 'label'] = \"ready\"\n",
    "\t\tdd.loc[dd.label == 'readyRound3', 'label'] = \"ready\"\n",
    "\t\tdd.loc[dd.label == 'readyRound4', 'label'] = \"ready\"\n",
    "\t\tdd.loc[dd.label == 'readyRound5', 'label'] = \"ready\"\n",
    "\t\tdd.loc[dd.label == 'blink1', 'label'] = \"blink\"\n",
    "\t\tdd.loc[dd.label == 'blink2', 'label'] = \"blink\"\n",
    "\t\tdd.loc[dd.label == 'blink3', 'label'] = \"blink\"\n",
    "\t\tdd.loc[dd.label == 'blink4', 'label'] = \"blink\"\n",
    "\t\tdd.loc[dd.label == 'blink5', 'label'] = \"blink\"\n",
    "\t\tdd.loc[dd.label == 'thinkOfItemsInstruction-ver1', 'label'] = \"instruction\"\n",
    "\t\tdd.loc[dd.label == 'thinkOfItemsInstruction-ver2', 'label'] = \"instruction\"\n",
    "\t\tdd.loc[dd.label == 'colorInstruction2', 'label'] = \"instruction\"\n",
    "\t\tdd.loc[dd.label == 'colorInstruction1', 'label'] = \"instruction\"\n",
    "\t\tdd.loc[dd.label == 'colorInstruction2', 'label'] = \"instruction\"\n",
    "\t\tdd.loc[dd.label == 'musicInstruction', 'label'] = \"instruction\"\n",
    "\t\tdd.loc[dd.label == 'videoInstruction', 'label'] = \"instruction\"\n",
    "\t\tdd.loc[dd.label == 'mathInstruction', 'label'] = \"instruction\"\n",
    "\t\tdd.loc[dd.label == 'relaxInstruction', 'label'] = \"instruction\"\n",
    "\t\tdd.loc[dd.label == 'blinkInstruction', 'label'] = \"instruction\"\n",
    "\t\treturn dd\n",
    "\n",
    "\t\n",
    "\n",
    "\tdef drop_useless_labels(df):\n",
    "\t\t# drop unlabeled and everyone paired and others. leave only relax and math. \n",
    "\t\tdf1 = df[df.label == 'math']\n",
    "\t\tdf2 = df[df.label == 'relax']\n",
    "\t\t\n",
    "\t\treturn pd.concat([df1,df2],axis=0)\n",
    "\t\n",
    "\tdata = prepare_data(df)\n",
    "\tdata = clean_labels(data)\n",
    "\tdata = drop_useless_labels(data)\n",
    "\treturn data\n",
    "\t\n",
    "# use sklearn to split for training\n",
    "data = get_data()\n",
    "def dataprep(df):\n",
    "    \n",
    "    df = df.drop('id',1)\n",
    "    label = df.pop('label')\n",
    "\n",
    "    df = df.values\n",
    "    \n",
    "    train_labels = pd.get_dummies(label)\n",
    "    train_labels = train_labels.values\n",
    "    normalized_df = ((df-df.mean())/df.std())\n",
    "    normalized_df,train_labels = np.array(normalized_df,dtype='float32'), np.array(train_labels,dtype='float32')\n",
    "    normalized_df,train_labels = shuffle(normalized_df, train_labels, random_state=0)\n",
    "    return normalized_df,train_labels\n",
    "def create_network():\n",
    "    \n",
    "    # Start neural network\n",
    "    network = keras.Sequential([\n",
    "    keras.layers.Dense(1000, activation = 'relu', input_shape = [8]),\n",
    "    keras.layers.Dense(1000, activation = 'relu'),\n",
    "    keras.layers.Dense(1000, activation = 'relu'),\n",
    "    keras.layers.Dense(2, activation = 'softmax')\n",
    "])\n",
    "\n",
    "    \n",
    "\n",
    "    # Compile neural network\n",
    "    network.compile(optimizer='adam', \n",
    "              loss=tf.losses.CategoricalCrossentropy(),\n",
    "              metrics=['accuracy'])\n",
    "    \n",
    "    # Return compiled network\n",
    "    return network\n",
    "\n",
    "normalized_df,train_labels = dataprep(data)\n",
    "neural_network = KerasClassifier(build_fn=create_network, \n",
    "\t\t\t\t\t\t\tepochs=10, \n",
    "\t\t\t\t\t\t\tbatch_size=100,\n",
    "\t\t\t\t\t\t\tverbose=0)\n",
    "acc = cross_val_score(neural_network, normalized_df, train_labels, cv=7)\n"
   ]
  },
  {
   "cell_type": "code",
   "execution_count": 10,
   "metadata": {},
   "outputs": [
    {
     "name": "stdout",
     "output_type": "stream",
     "text": [
      "acc -  [0.53358209 0.54681647 0.56554306 0.60674155 0.57303369 0.56928837\n",
      " 0.59176028]\n",
      "avg =  0.5695379291261945\n"
     ]
    }
   ],
   "source": [
    "print('acc - ',acc)\n",
    "print('avg = ',sum(acc)/len(acc))"
   ]
  },
  {
   "cell_type": "code",
   "execution_count": null,
   "metadata": {},
   "outputs": [],
   "source": []
  },
  {
   "cell_type": "markdown",
   "metadata": {},
   "source": [
    "SVM"
   ]
  },
  {
   "cell_type": "code",
   "execution_count": 1,
   "metadata": {},
   "outputs": [],
   "source": [
    "import pandas as pd \n",
    "import json\n",
    "from sklearn.model_selection import train_test_split\n",
    "import tensorflow as tf\n",
    "import numpy as np\n",
    "from sklearn.utils import shuffle\n",
    "import random\n",
    "\n",
    "def get_d (individual = True):\n",
    "\t\t\n",
    "\tdef prepare_individual_data(df,individual):\n",
    "\t\t# drop unused features. just leave eeg_power and the label\n",
    "\t\tdf = df.drop('Unnamed: 0', 1)\n",
    "\t\t#df = df.drop('id', 1)\n",
    "\t\tdf = df.drop('indra_time', 1)\n",
    "\t\tdf = df.drop('browser_latency', 1)\n",
    "\t\tdf = df.drop('reading_time', 1)\n",
    "\t\tdf = df.drop('attention_esense', 1)\n",
    "\t\tdf = df.drop('meditation_esense', 1)\n",
    "\t\tdf = df.drop('raw_values', 1)\n",
    "\t\tdf = df.drop('signal_quality', 1)\n",
    "\t\tdf = df.drop('createdAt', 1)\n",
    "\t\tdf = df.drop('updatedAt', 1)\n",
    "\t\t# separate eeg power to multiple columns\n",
    "\t\tto_series = pd.Series(df['eeg_power']) # df to series\n",
    "\t\teeg_features=pd.DataFrame(to_series.tolist()) #series to list and then back to df\n",
    "\t\tdf = pd.concat([df,eeg_features], axis=1) # concatenate the create columns\n",
    "\t\t# df = pd.concat([df,eeg_features], axis=1, join='outer') # concatenate the create columns\n",
    "\t\t# just look at first subject\n",
    "\t\tdf=df.loc[df['id'] == individual]\n",
    "\t\tdf = df.drop('eeg_power', 1) # drop comma separated cell\n",
    "\t\t# df = df.drop('id', 1) # drop comma separated cell\n",
    "\t\treturn df\n",
    "\tdef prepare_data(df):\n",
    "\t\t# drop unused features. just leave eeg_power and the label\n",
    "\t\tdf = df.drop('Unnamed: 0', 1)\n",
    "\t\t#df = df.drop('id', 1)\n",
    "\t\tdf = df.drop('indra_time', 1)\n",
    "\t\tdf = df.drop('browser_latency', 1)\n",
    "\t\tdf = df.drop('reading_time', 1)\n",
    "\t\tdf = df.drop('attention_esense', 1)\n",
    "\t\tdf = df.drop('meditation_esense', 1)\n",
    "\t\tdf = df.drop('raw_values', 1)\n",
    "\t\tdf = df.drop('signal_quality', 1)\n",
    "\t\tdf = df.drop('createdAt', 1)\n",
    "\t\tdf = df.drop('updatedAt', 1)\n",
    "\t\t# separate eeg power to multiple columns\n",
    "\t\tto_series = pd.Series(df['eeg_power']) # df to series\n",
    "\t\teeg_features=pd.DataFrame(to_series.tolist()) #series to list and then back to df\n",
    "\t\tdf = pd.concat([df,eeg_features], axis=1) # concatenate the create columns\n",
    "\n",
    "\t\t#df=df.loc[df['id'] == individual]\n",
    "\t\tdf = df.drop('eeg_power', 1) # drop comma separated cell\n",
    "\t\t# df = df.drop('id', 1) # drop comma separated cell\n",
    "\t\treturn df\n",
    "\tdf = pd.read_csv(\"./eeg-data.csv\")\n",
    "\n",
    "\trelax = df[df.label == 'relax']\n",
    "\t# df['label'] = df[\"label\"].astype('category')\n",
    "\tdf['label'].value_counts()\n",
    "\tdf['eeg_power'] = df.eeg_power.map(json.loads)\n",
    "\tdef clean_labels(dd):\n",
    "\t\t# clean labels\n",
    "\t\tdd.loc[dd.label == 'math1', 'label'] = \"math\"\n",
    "\t\tdd.loc[dd.label == 'math2', 'label'] = \"math\"\n",
    "\t\tdd.loc[dd.label == 'math3', 'label'] = \"math\"\n",
    "\t\tdd.loc[dd.label == 'math4', 'label'] = \"math\"\n",
    "\t\tdd.loc[dd.label == 'math5', 'label'] = \"math\"\n",
    "\t\tdd.loc[dd.label == 'math6', 'label'] = \"math\"\n",
    "\t\tdd.loc[dd.label == 'math7', 'label'] = \"math\"\n",
    "\t\tdd.loc[dd.label == 'math8', 'label'] = \"math\"\n",
    "\t\tdd.loc[dd.label == 'math9', 'label'] = \"math\"\n",
    "\t\tdd.loc[dd.label == 'math10', 'label'] = \"math\"\n",
    "\t\tdd.loc[dd.label == 'math11', 'label'] = \"math\"\n",
    "\t\tdd.loc[dd.label == 'math12', 'label'] = \"math\"\n",
    "\t\tdd.loc[dd.label == 'colorRound1-1', 'label'] = \"colors\"\n",
    "\t\tdd.loc[dd.label == 'colorRound1-2', 'label'] = \"colors\"\n",
    "\t\tdd.loc[dd.label == 'colorRound1-3', 'label'] = \"colors\"\n",
    "\t\tdd.loc[dd.label == 'colorRound1-4', 'label'] = \"colors\"\n",
    "\t\tdd.loc[dd.label == 'colorRound1-5', 'label'] = \"colors\"\n",
    "\t\tdd.loc[dd.label == 'colorRound1-6', 'label'] = \"colors\"\n",
    "\t\tdd.loc[dd.label == 'colorRound2-1', 'label'] = \"colors\"\n",
    "\t\tdd.loc[dd.label == 'colorRound2-2', 'label'] = \"colors\"\n",
    "\t\tdd.loc[dd.label == 'colorRound2-3', 'label'] = \"colors\"\n",
    "\t\tdd.loc[dd.label == 'colorRound2-4', 'label'] = \"colors\"\n",
    "\t\tdd.loc[dd.label == 'colorRound2-5', 'label'] = \"colors\"\n",
    "\t\tdd.loc[dd.label == 'colorRound2-6', 'label'] = \"colors\"\n",
    "\t\tdd.loc[dd.label == 'colorRound3-1', 'label'] = \"colors\"\n",
    "\t\tdd.loc[dd.label == 'colorRound3-2', 'label'] = \"colors\"\n",
    "\t\tdd.loc[dd.label == 'colorRound3-3', 'label'] = \"colors\"\n",
    "\t\tdd.loc[dd.label == 'colorRound3-4', 'label'] = \"colors\"\n",
    "\t\tdd.loc[dd.label == 'colorRound3-5', 'label'] = \"colors\"\n",
    "\t\tdd.loc[dd.label == 'colorRound3-6', 'label'] = \"colors\"\n",
    "\t\tdd.loc[dd.label == 'colorRound4-1', 'label'] = \"colors\"\n",
    "\t\tdd.loc[dd.label == 'colorRound4-2', 'label'] = \"colors\"\n",
    "\t\tdd.loc[dd.label == 'colorRound4-3', 'label'] = \"colors\"\n",
    "\t\tdd.loc[dd.label == 'colorRound4-4', 'label'] = \"colors\"\n",
    "\t\tdd.loc[dd.label == 'colorRound4-5', 'label'] = \"colors\"\n",
    "\t\tdd.loc[dd.label == 'colorRound4-6', 'label'] = \"colors\"\n",
    "\t\tdd.loc[dd.label == 'colorRound5-1', 'label'] = \"colors\"\n",
    "\t\tdd.loc[dd.label == 'colorRound5-2', 'label'] = \"colors\"\n",
    "\t\tdd.loc[dd.label == 'colorRound5-3', 'label'] = \"colors\"\n",
    "\t\tdd.loc[dd.label == 'colorRound5-4', 'label'] = \"colors\"\n",
    "\t\tdd.loc[dd.label == 'colorRound5-5', 'label'] = \"colors\"\n",
    "\t\tdd.loc[dd.label == 'colorRound5-6', 'label'] = \"colors\"\n",
    "\t\tdd.loc[dd.label == 'readyRound1', 'label'] = \"ready\"\n",
    "\t\tdd.loc[dd.label == 'readyRound2', 'label'] = \"ready\"\n",
    "\t\tdd.loc[dd.label == 'readyRound3', 'label'] = \"ready\"\n",
    "\t\tdd.loc[dd.label == 'readyRound4', 'label'] = \"ready\"\n",
    "\t\tdd.loc[dd.label == 'readyRound5', 'label'] = \"ready\"\n",
    "\t\tdd.loc[dd.label == 'blink1', 'label'] = \"blink\"\n",
    "\t\tdd.loc[dd.label == 'blink2', 'label'] = \"blink\"\n",
    "\t\tdd.loc[dd.label == 'blink3', 'label'] = \"blink\"\n",
    "\t\tdd.loc[dd.label == 'blink4', 'label'] = \"blink\"\n",
    "\t\tdd.loc[dd.label == 'blink5', 'label'] = \"blink\"\n",
    "\t\tdd.loc[dd.label == 'thinkOfItemsInstruction-ver1', 'label'] = \"instruction\"\n",
    "\t\tdd.loc[dd.label == 'colorInstruction2', 'label'] = \"instruction\"\n",
    "\t\tdd.loc[dd.label == 'colorInstruction1', 'label'] = \"instruction\"\n",
    "\t\tdd.loc[dd.label == 'colorInstruction2', 'label'] = \"instruction\"\n",
    "\t\tdd.loc[dd.label == 'musicInstruction', 'label'] = \"instruction\"\n",
    "\t\tdd.loc[dd.label == 'videoInstruction', 'label'] = \"instruction\"\n",
    "\t\tdd.loc[dd.label == 'mathInstruction', 'label'] = \"instruction\"\n",
    "\t\tdd.loc[dd.label == 'relaxInstruction', 'label'] = \"instruction\"\n",
    "\t\tdd.loc[dd.label == 'blinkInstruction', 'label'] = \"instruction\"\n",
    "\t\treturn dd\n",
    "\n",
    "\t\n",
    "\n",
    "\tdef drop_useless_labels(df):\n",
    "\t\t# drop unlabeled and everyone paired and others. leave only relax and math. \n",
    "\t\tdf1 = df[df.label == 'math']\n",
    "\t\tdf2 = df[df.label == 'relax']\n",
    "\t\treturn pd.concat([df1,df2],axis=0)\n",
    "\t\n",
    "\tif individual :\n",
    "\t\tdata = []\n",
    "\t\tfor i in range(1,31):\n",
    "\t\t\tindividual_data=prepare_individual_data(df,i)\n",
    "\t\t\tcleaned_individual_data = clean_labels(individual_data)\n",
    "\t\t\tfinal_individual_full_data= drop_useless_labels(cleaned_individual_data)\n",
    "\t\t\tdata.append(final_individual_full_data)\n",
    "\n",
    "\t\treturn data\n",
    "\telse:\n",
    "\t\tdata = prepare_data(df)\n",
    "\t\tdata = clean_labels(data)\n",
    "\t\tdata = drop_useless_labels(data)\n",
    "\t\treturn data\n",
    "\n",
    "\n",
    "\n"
   ]
  },
  {
   "cell_type": "code",
   "execution_count": 139,
   "metadata": {},
   "outputs": [
    {
     "name": "stderr",
     "output_type": "stream",
     "text": [
      "C:\\Users\\ASUS\\AppData\\Local\\Temp/ipykernel_25176/2905619466.py:36: FutureWarning:\n",
      "\n",
      "In a future version of pandas all arguments of DataFrame.drop except for the argument 'labels' will be keyword-only\n",
      "\n",
      "C:\\Users\\ASUS\\AppData\\Local\\Temp/ipykernel_25176/2905619466.py:38: FutureWarning:\n",
      "\n",
      "In a future version of pandas all arguments of DataFrame.drop except for the argument 'labels' will be keyword-only\n",
      "\n",
      "C:\\Users\\ASUS\\AppData\\Local\\Temp/ipykernel_25176/2905619466.py:39: FutureWarning:\n",
      "\n",
      "In a future version of pandas all arguments of DataFrame.drop except for the argument 'labels' will be keyword-only\n",
      "\n",
      "C:\\Users\\ASUS\\AppData\\Local\\Temp/ipykernel_25176/2905619466.py:40: FutureWarning:\n",
      "\n",
      "In a future version of pandas all arguments of DataFrame.drop except for the argument 'labels' will be keyword-only\n",
      "\n",
      "C:\\Users\\ASUS\\AppData\\Local\\Temp/ipykernel_25176/2905619466.py:41: FutureWarning:\n",
      "\n",
      "In a future version of pandas all arguments of DataFrame.drop except for the argument 'labels' will be keyword-only\n",
      "\n",
      "C:\\Users\\ASUS\\AppData\\Local\\Temp/ipykernel_25176/2905619466.py:42: FutureWarning:\n",
      "\n",
      "In a future version of pandas all arguments of DataFrame.drop except for the argument 'labels' will be keyword-only\n",
      "\n",
      "C:\\Users\\ASUS\\AppData\\Local\\Temp/ipykernel_25176/2905619466.py:43: FutureWarning:\n",
      "\n",
      "In a future version of pandas all arguments of DataFrame.drop except for the argument 'labels' will be keyword-only\n",
      "\n",
      "C:\\Users\\ASUS\\AppData\\Local\\Temp/ipykernel_25176/2905619466.py:44: FutureWarning:\n",
      "\n",
      "In a future version of pandas all arguments of DataFrame.drop except for the argument 'labels' will be keyword-only\n",
      "\n",
      "C:\\Users\\ASUS\\AppData\\Local\\Temp/ipykernel_25176/2905619466.py:45: FutureWarning:\n",
      "\n",
      "In a future version of pandas all arguments of DataFrame.drop except for the argument 'labels' will be keyword-only\n",
      "\n",
      "C:\\Users\\ASUS\\AppData\\Local\\Temp/ipykernel_25176/2905619466.py:46: FutureWarning:\n",
      "\n",
      "In a future version of pandas all arguments of DataFrame.drop except for the argument 'labels' will be keyword-only\n",
      "\n",
      "C:\\Users\\ASUS\\AppData\\Local\\Temp/ipykernel_25176/2905619466.py:53: FutureWarning:\n",
      "\n",
      "In a future version of pandas all arguments of DataFrame.drop except for the argument 'labels' will be keyword-only\n",
      "\n",
      "C:\\Users\\ASUS\\AppData\\Local\\Temp/ipykernel_25176/2877617401.py:3: FutureWarning:\n",
      "\n",
      "In a future version of pandas all arguments of DataFrame.drop except for the argument 'labels' will be keyword-only\n",
      "\n"
     ]
    }
   ],
   "source": [
    "def dataprep(df):\n",
    "    df['label'] = df['label'].replace(['math','relax'],[1,0])\n",
    "    df = df.drop('id',1)\n",
    "    label = df.pop('label')\n",
    "\n",
    "    df = df.values\n",
    "    \n",
    "\n",
    "    normalized_df = ((df-df.mean())/df.std())\n",
    "    normalized_df = np.array(normalized_df,dtype='float32')\n",
    "    normalized_df,label = shuffle(normalized_df, label, random_state=0)\n",
    "    return normalized_df,label\n",
    "\n",
    "X,y = dataprep(get_d(individual=False))"
   ]
  },
  {
   "cell_type": "code",
   "execution_count": 140,
   "metadata": {},
   "outputs": [],
   "source": [
    "from sklearn.model_selection import cross_val_score\n",
    "from sklearn import svm\n",
    "def cross_val_svm (X,y,n):\n",
    "    clf = svm.SVC()\n",
    "    dic_y = {}\n",
    "    cc = 0\n",
    "    #print('X = ',X)\n",
    "    for i in y:\n",
    "        if i not in dic_y:\n",
    "            dic_y[i] = cc\n",
    "            cc += 1\n",
    "    temp_y = [dic_y[i] for i in y]\n",
    "    #print('tempy = ',temp_y)\n",
    "    scores = cross_val_score(clf, X, temp_y, cv=n)\n",
    "    return scores                                              "
   ]
  },
  {
   "cell_type": "markdown",
   "metadata": {},
   "source": [
    "raw data , every person put in the same svm model"
   ]
  },
  {
   "cell_type": "code",
   "execution_count": 13,
   "metadata": {},
   "outputs": [
    {
     "name": "stdout",
     "output_type": "stream",
     "text": [
      "acc -  [0.51871658 0.55614973 0.53208556 0.56417112 0.53743316] \n",
      "avg =  0.5417112299465241\n"
     ]
    }
   ],
   "source": [
    "acc = cross_val_svm(X,y,5)\n",
    "print('acc - ',acc,'\\navg = ',sum(acc)/len(acc))"
   ]
  },
  {
   "cell_type": "code",
   "execution_count": 14,
   "metadata": {},
   "outputs": [
    {
     "name": "stderr",
     "output_type": "stream",
     "text": [
      "C:\\Users\\ASUS\\Anaconda3\\envs\\athe\\lib\\site-packages\\sklearn\\preprocessing\\_data.py:235: UserWarning: Numerical issues were encountered when centering the data and might not be solved. Dataset may contain too large values. You may need to prescale your features.\n",
      "  warnings.warn(\n",
      "C:\\Users\\ASUS\\Anaconda3\\envs\\athe\\lib\\site-packages\\sklearn\\preprocessing\\_data.py:254: UserWarning: Numerical issues were encountered when scaling the data and might not be solved. The standard deviation of the data is probably very close to 0. \n",
      "  warnings.warn(\n"
     ]
    },
    {
     "name": "stdout",
     "output_type": "stream",
     "text": [
      "acc -  [0.58823529 0.59625668 0.59893048 0.58823529 0.56951872] \n",
      "avg =  0.588235294117647\n"
     ]
    }
   ],
   "source": [
    "from sklearn import preprocessing\n",
    "norm_X = preprocessing.scale(X)\n",
    "acc = cross_val_svm(norm_X,y,5)\n",
    "print('acc - ',acc,'\\navg = ',sum(acc)/len(acc))"
   ]
  },
  {
   "cell_type": "code",
   "execution_count": 141,
   "metadata": {},
   "outputs": [
    {
     "name": "stderr",
     "output_type": "stream",
     "text": [
      "C:\\Users\\ASUS\\AppData\\Local\\Temp/ipykernel_25176/2905619466.py:13: FutureWarning:\n",
      "\n",
      "In a future version of pandas all arguments of DataFrame.drop except for the argument 'labels' will be keyword-only\n",
      "\n",
      "C:\\Users\\ASUS\\AppData\\Local\\Temp/ipykernel_25176/2905619466.py:15: FutureWarning:\n",
      "\n",
      "In a future version of pandas all arguments of DataFrame.drop except for the argument 'labels' will be keyword-only\n",
      "\n",
      "C:\\Users\\ASUS\\AppData\\Local\\Temp/ipykernel_25176/2905619466.py:16: FutureWarning:\n",
      "\n",
      "In a future version of pandas all arguments of DataFrame.drop except for the argument 'labels' will be keyword-only\n",
      "\n",
      "C:\\Users\\ASUS\\AppData\\Local\\Temp/ipykernel_25176/2905619466.py:17: FutureWarning:\n",
      "\n",
      "In a future version of pandas all arguments of DataFrame.drop except for the argument 'labels' will be keyword-only\n",
      "\n",
      "C:\\Users\\ASUS\\AppData\\Local\\Temp/ipykernel_25176/2905619466.py:18: FutureWarning:\n",
      "\n",
      "In a future version of pandas all arguments of DataFrame.drop except for the argument 'labels' will be keyword-only\n",
      "\n",
      "C:\\Users\\ASUS\\AppData\\Local\\Temp/ipykernel_25176/2905619466.py:19: FutureWarning:\n",
      "\n",
      "In a future version of pandas all arguments of DataFrame.drop except for the argument 'labels' will be keyword-only\n",
      "\n",
      "C:\\Users\\ASUS\\AppData\\Local\\Temp/ipykernel_25176/2905619466.py:20: FutureWarning:\n",
      "\n",
      "In a future version of pandas all arguments of DataFrame.drop except for the argument 'labels' will be keyword-only\n",
      "\n",
      "C:\\Users\\ASUS\\AppData\\Local\\Temp/ipykernel_25176/2905619466.py:21: FutureWarning:\n",
      "\n",
      "In a future version of pandas all arguments of DataFrame.drop except for the argument 'labels' will be keyword-only\n",
      "\n",
      "C:\\Users\\ASUS\\AppData\\Local\\Temp/ipykernel_25176/2905619466.py:22: FutureWarning:\n",
      "\n",
      "In a future version of pandas all arguments of DataFrame.drop except for the argument 'labels' will be keyword-only\n",
      "\n",
      "C:\\Users\\ASUS\\AppData\\Local\\Temp/ipykernel_25176/2905619466.py:23: FutureWarning:\n",
      "\n",
      "In a future version of pandas all arguments of DataFrame.drop except for the argument 'labels' will be keyword-only\n",
      "\n",
      "C:\\Users\\ASUS\\AppData\\Local\\Temp/ipykernel_25176/2905619466.py:31: FutureWarning:\n",
      "\n",
      "In a future version of pandas all arguments of DataFrame.drop except for the argument 'labels' will be keyword-only\n",
      "\n"
     ]
    }
   ],
   "source": [
    "data = get_d()"
   ]
  },
  {
   "cell_type": "code",
   "execution_count": 145,
   "metadata": {},
   "outputs": [
    {
     "name": "stderr",
     "output_type": "stream",
     "text": [
      "C:\\Users\\ASUS\\AppData\\Local\\Temp/ipykernel_25176/2877617401.py:3: FutureWarning:\n",
      "\n",
      "In a future version of pandas all arguments of DataFrame.drop except for the argument 'labels' will be keyword-only\n",
      "\n",
      "C:\\Users\\ASUS\\Anaconda3\\envs\\athe\\lib\\site-packages\\sklearn\\preprocessing\\_data.py:235: UserWarning:\n",
      "\n",
      "Numerical issues were encountered when centering the data and might not be solved. Dataset may contain too large values. You may need to prescale your features.\n",
      "\n",
      "C:\\Users\\ASUS\\Anaconda3\\envs\\athe\\lib\\site-packages\\sklearn\\preprocessing\\_data.py:254: UserWarning:\n",
      "\n",
      "Numerical issues were encountered when scaling the data and might not be solved. The standard deviation of the data is probably very close to 0. \n",
      "\n",
      "C:\\Users\\ASUS\\AppData\\Local\\Temp/ipykernel_25176/2877617401.py:3: FutureWarning:\n",
      "\n",
      "In a future version of pandas all arguments of DataFrame.drop except for the argument 'labels' will be keyword-only\n",
      "\n",
      "C:\\Users\\ASUS\\Anaconda3\\envs\\athe\\lib\\site-packages\\sklearn\\preprocessing\\_data.py:235: UserWarning:\n",
      "\n",
      "Numerical issues were encountered when centering the data and might not be solved. Dataset may contain too large values. You may need to prescale your features.\n",
      "\n",
      "C:\\Users\\ASUS\\Anaconda3\\envs\\athe\\lib\\site-packages\\sklearn\\preprocessing\\_data.py:254: UserWarning:\n",
      "\n",
      "Numerical issues were encountered when scaling the data and might not be solved. The standard deviation of the data is probably very close to 0. \n",
      "\n",
      "C:\\Users\\ASUS\\AppData\\Local\\Temp/ipykernel_25176/2877617401.py:3: FutureWarning:\n",
      "\n",
      "In a future version of pandas all arguments of DataFrame.drop except for the argument 'labels' will be keyword-only\n",
      "\n",
      "C:\\Users\\ASUS\\Anaconda3\\envs\\athe\\lib\\site-packages\\sklearn\\preprocessing\\_data.py:235: UserWarning:\n",
      "\n",
      "Numerical issues were encountered when centering the data and might not be solved. Dataset may contain too large values. You may need to prescale your features.\n",
      "\n",
      "C:\\Users\\ASUS\\Anaconda3\\envs\\athe\\lib\\site-packages\\sklearn\\preprocessing\\_data.py:254: UserWarning:\n",
      "\n",
      "Numerical issues were encountered when scaling the data and might not be solved. The standard deviation of the data is probably very close to 0. \n",
      "\n",
      "C:\\Users\\ASUS\\AppData\\Local\\Temp/ipykernel_25176/2877617401.py:3: FutureWarning:\n",
      "\n",
      "In a future version of pandas all arguments of DataFrame.drop except for the argument 'labels' will be keyword-only\n",
      "\n",
      "C:\\Users\\ASUS\\Anaconda3\\envs\\athe\\lib\\site-packages\\sklearn\\preprocessing\\_data.py:235: UserWarning:\n",
      "\n",
      "Numerical issues were encountered when centering the data and might not be solved. Dataset may contain too large values. You may need to prescale your features.\n",
      "\n",
      "C:\\Users\\ASUS\\Anaconda3\\envs\\athe\\lib\\site-packages\\sklearn\\preprocessing\\_data.py:254: UserWarning:\n",
      "\n",
      "Numerical issues were encountered when scaling the data and might not be solved. The standard deviation of the data is probably very close to 0. \n",
      "\n",
      "C:\\Users\\ASUS\\AppData\\Local\\Temp/ipykernel_25176/2877617401.py:3: FutureWarning:\n",
      "\n",
      "In a future version of pandas all arguments of DataFrame.drop except for the argument 'labels' will be keyword-only\n",
      "\n",
      "C:\\Users\\ASUS\\Anaconda3\\envs\\athe\\lib\\site-packages\\sklearn\\preprocessing\\_data.py:235: UserWarning:\n",
      "\n",
      "Numerical issues were encountered when centering the data and might not be solved. Dataset may contain too large values. You may need to prescale your features.\n",
      "\n",
      "C:\\Users\\ASUS\\Anaconda3\\envs\\athe\\lib\\site-packages\\sklearn\\preprocessing\\_data.py:254: UserWarning:\n",
      "\n",
      "Numerical issues were encountered when scaling the data and might not be solved. The standard deviation of the data is probably very close to 0. \n",
      "\n",
      "C:\\Users\\ASUS\\AppData\\Local\\Temp/ipykernel_25176/2877617401.py:3: FutureWarning:\n",
      "\n",
      "In a future version of pandas all arguments of DataFrame.drop except for the argument 'labels' will be keyword-only\n",
      "\n",
      "C:\\Users\\ASUS\\Anaconda3\\envs\\athe\\lib\\site-packages\\sklearn\\preprocessing\\_data.py:235: UserWarning:\n",
      "\n",
      "Numerical issues were encountered when centering the data and might not be solved. Dataset may contain too large values. You may need to prescale your features.\n",
      "\n",
      "C:\\Users\\ASUS\\Anaconda3\\envs\\athe\\lib\\site-packages\\sklearn\\preprocessing\\_data.py:254: UserWarning:\n",
      "\n",
      "Numerical issues were encountered when scaling the data and might not be solved. The standard deviation of the data is probably very close to 0. \n",
      "\n",
      "C:\\Users\\ASUS\\AppData\\Local\\Temp/ipykernel_25176/2877617401.py:3: FutureWarning:\n",
      "\n",
      "In a future version of pandas all arguments of DataFrame.drop except for the argument 'labels' will be keyword-only\n",
      "\n",
      "C:\\Users\\ASUS\\Anaconda3\\envs\\athe\\lib\\site-packages\\sklearn\\preprocessing\\_data.py:235: UserWarning:\n",
      "\n",
      "Numerical issues were encountered when centering the data and might not be solved. Dataset may contain too large values. You may need to prescale your features.\n",
      "\n",
      "C:\\Users\\ASUS\\Anaconda3\\envs\\athe\\lib\\site-packages\\sklearn\\preprocessing\\_data.py:254: UserWarning:\n",
      "\n",
      "Numerical issues were encountered when scaling the data and might not be solved. The standard deviation of the data is probably very close to 0. \n",
      "\n",
      "C:\\Users\\ASUS\\AppData\\Local\\Temp/ipykernel_25176/2877617401.py:3: FutureWarning:\n",
      "\n",
      "In a future version of pandas all arguments of DataFrame.drop except for the argument 'labels' will be keyword-only\n",
      "\n",
      "C:\\Users\\ASUS\\Anaconda3\\envs\\athe\\lib\\site-packages\\sklearn\\preprocessing\\_data.py:235: UserWarning:\n",
      "\n",
      "Numerical issues were encountered when centering the data and might not be solved. Dataset may contain too large values. You may need to prescale your features.\n",
      "\n",
      "C:\\Users\\ASUS\\Anaconda3\\envs\\athe\\lib\\site-packages\\sklearn\\preprocessing\\_data.py:254: UserWarning:\n",
      "\n",
      "Numerical issues were encountered when scaling the data and might not be solved. The standard deviation of the data is probably very close to 0. \n",
      "\n",
      "C:\\Users\\ASUS\\AppData\\Local\\Temp/ipykernel_25176/2877617401.py:3: FutureWarning:\n",
      "\n",
      "In a future version of pandas all arguments of DataFrame.drop except for the argument 'labels' will be keyword-only\n",
      "\n",
      "C:\\Users\\ASUS\\Anaconda3\\envs\\athe\\lib\\site-packages\\sklearn\\preprocessing\\_data.py:235: UserWarning:\n",
      "\n",
      "Numerical issues were encountered when centering the data and might not be solved. Dataset may contain too large values. You may need to prescale your features.\n",
      "\n",
      "C:\\Users\\ASUS\\Anaconda3\\envs\\athe\\lib\\site-packages\\sklearn\\preprocessing\\_data.py:254: UserWarning:\n",
      "\n",
      "Numerical issues were encountered when scaling the data and might not be solved. The standard deviation of the data is probably very close to 0. \n",
      "\n",
      "C:\\Users\\ASUS\\AppData\\Local\\Temp/ipykernel_25176/2877617401.py:3: FutureWarning:\n",
      "\n",
      "In a future version of pandas all arguments of DataFrame.drop except for the argument 'labels' will be keyword-only\n",
      "\n",
      "C:\\Users\\ASUS\\Anaconda3\\envs\\athe\\lib\\site-packages\\sklearn\\preprocessing\\_data.py:235: UserWarning:\n",
      "\n",
      "Numerical issues were encountered when centering the data and might not be solved. Dataset may contain too large values. You may need to prescale your features.\n",
      "\n",
      "C:\\Users\\ASUS\\Anaconda3\\envs\\athe\\lib\\site-packages\\sklearn\\preprocessing\\_data.py:254: UserWarning:\n",
      "\n",
      "Numerical issues were encountered when scaling the data and might not be solved. The standard deviation of the data is probably very close to 0. \n",
      "\n",
      "C:\\Users\\ASUS\\AppData\\Local\\Temp/ipykernel_25176/2877617401.py:3: FutureWarning:\n",
      "\n",
      "In a future version of pandas all arguments of DataFrame.drop except for the argument 'labels' will be keyword-only\n",
      "\n",
      "C:\\Users\\ASUS\\Anaconda3\\envs\\athe\\lib\\site-packages\\sklearn\\preprocessing\\_data.py:235: UserWarning:\n",
      "\n",
      "Numerical issues were encountered when centering the data and might not be solved. Dataset may contain too large values. You may need to prescale your features.\n",
      "\n",
      "C:\\Users\\ASUS\\Anaconda3\\envs\\athe\\lib\\site-packages\\sklearn\\preprocessing\\_data.py:254: UserWarning:\n",
      "\n",
      "Numerical issues were encountered when scaling the data and might not be solved. The standard deviation of the data is probably very close to 0. \n",
      "\n",
      "C:\\Users\\ASUS\\AppData\\Local\\Temp/ipykernel_25176/2877617401.py:3: FutureWarning:\n",
      "\n",
      "In a future version of pandas all arguments of DataFrame.drop except for the argument 'labels' will be keyword-only\n",
      "\n",
      "C:\\Users\\ASUS\\Anaconda3\\envs\\athe\\lib\\site-packages\\sklearn\\preprocessing\\_data.py:235: UserWarning:\n",
      "\n",
      "Numerical issues were encountered when centering the data and might not be solved. Dataset may contain too large values. You may need to prescale your features.\n",
      "\n",
      "C:\\Users\\ASUS\\Anaconda3\\envs\\athe\\lib\\site-packages\\sklearn\\preprocessing\\_data.py:254: UserWarning:\n",
      "\n",
      "Numerical issues were encountered when scaling the data and might not be solved. The standard deviation of the data is probably very close to 0. \n",
      "\n",
      "C:\\Users\\ASUS\\AppData\\Local\\Temp/ipykernel_25176/2877617401.py:3: FutureWarning:\n",
      "\n",
      "In a future version of pandas all arguments of DataFrame.drop except for the argument 'labels' will be keyword-only\n",
      "\n",
      "C:\\Users\\ASUS\\Anaconda3\\envs\\athe\\lib\\site-packages\\sklearn\\preprocessing\\_data.py:235: UserWarning:\n",
      "\n",
      "Numerical issues were encountered when centering the data and might not be solved. Dataset may contain too large values. You may need to prescale your features.\n",
      "\n",
      "C:\\Users\\ASUS\\Anaconda3\\envs\\athe\\lib\\site-packages\\sklearn\\preprocessing\\_data.py:254: UserWarning:\n",
      "\n",
      "Numerical issues were encountered when scaling the data and might not be solved. The standard deviation of the data is probably very close to 0. \n",
      "\n",
      "C:\\Users\\ASUS\\AppData\\Local\\Temp/ipykernel_25176/2877617401.py:3: FutureWarning:\n",
      "\n",
      "In a future version of pandas all arguments of DataFrame.drop except for the argument 'labels' will be keyword-only\n",
      "\n",
      "C:\\Users\\ASUS\\Anaconda3\\envs\\athe\\lib\\site-packages\\sklearn\\preprocessing\\_data.py:235: UserWarning:\n",
      "\n",
      "Numerical issues were encountered when centering the data and might not be solved. Dataset may contain too large values. You may need to prescale your features.\n",
      "\n",
      "C:\\Users\\ASUS\\Anaconda3\\envs\\athe\\lib\\site-packages\\sklearn\\preprocessing\\_data.py:254: UserWarning:\n",
      "\n",
      "Numerical issues were encountered when scaling the data and might not be solved. The standard deviation of the data is probably very close to 0. \n",
      "\n",
      "C:\\Users\\ASUS\\AppData\\Local\\Temp/ipykernel_25176/2877617401.py:3: FutureWarning:\n",
      "\n",
      "In a future version of pandas all arguments of DataFrame.drop except for the argument 'labels' will be keyword-only\n",
      "\n",
      "C:\\Users\\ASUS\\Anaconda3\\envs\\athe\\lib\\site-packages\\sklearn\\preprocessing\\_data.py:235: UserWarning:\n",
      "\n",
      "Numerical issues were encountered when centering the data and might not be solved. Dataset may contain too large values. You may need to prescale your features.\n",
      "\n",
      "C:\\Users\\ASUS\\Anaconda3\\envs\\athe\\lib\\site-packages\\sklearn\\preprocessing\\_data.py:254: UserWarning:\n",
      "\n",
      "Numerical issues were encountered when scaling the data and might not be solved. The standard deviation of the data is probably very close to 0. \n",
      "\n",
      "C:\\Users\\ASUS\\AppData\\Local\\Temp/ipykernel_25176/2877617401.py:3: FutureWarning:\n",
      "\n",
      "In a future version of pandas all arguments of DataFrame.drop except for the argument 'labels' will be keyword-only\n",
      "\n",
      "C:\\Users\\ASUS\\Anaconda3\\envs\\athe\\lib\\site-packages\\sklearn\\preprocessing\\_data.py:235: UserWarning:\n",
      "\n",
      "Numerical issues were encountered when centering the data and might not be solved. Dataset may contain too large values. You may need to prescale your features.\n",
      "\n",
      "C:\\Users\\ASUS\\Anaconda3\\envs\\athe\\lib\\site-packages\\sklearn\\preprocessing\\_data.py:254: UserWarning:\n",
      "\n",
      "Numerical issues were encountered when scaling the data and might not be solved. The standard deviation of the data is probably very close to 0. \n",
      "\n",
      "C:\\Users\\ASUS\\AppData\\Local\\Temp/ipykernel_25176/2877617401.py:3: FutureWarning:\n",
      "\n",
      "In a future version of pandas all arguments of DataFrame.drop except for the argument 'labels' will be keyword-only\n",
      "\n",
      "C:\\Users\\ASUS\\Anaconda3\\envs\\athe\\lib\\site-packages\\sklearn\\preprocessing\\_data.py:235: UserWarning:\n",
      "\n",
      "Numerical issues were encountered when centering the data and might not be solved. Dataset may contain too large values. You may need to prescale your features.\n",
      "\n",
      "C:\\Users\\ASUS\\Anaconda3\\envs\\athe\\lib\\site-packages\\sklearn\\preprocessing\\_data.py:254: UserWarning:\n",
      "\n",
      "Numerical issues were encountered when scaling the data and might not be solved. The standard deviation of the data is probably very close to 0. \n",
      "\n",
      "C:\\Users\\ASUS\\AppData\\Local\\Temp/ipykernel_25176/2877617401.py:3: FutureWarning:\n",
      "\n",
      "In a future version of pandas all arguments of DataFrame.drop except for the argument 'labels' will be keyword-only\n",
      "\n",
      "C:\\Users\\ASUS\\Anaconda3\\envs\\athe\\lib\\site-packages\\sklearn\\preprocessing\\_data.py:235: UserWarning:\n",
      "\n",
      "Numerical issues were encountered when centering the data and might not be solved. Dataset may contain too large values. You may need to prescale your features.\n",
      "\n",
      "C:\\Users\\ASUS\\Anaconda3\\envs\\athe\\lib\\site-packages\\sklearn\\preprocessing\\_data.py:254: UserWarning:\n",
      "\n",
      "Numerical issues were encountered when scaling the data and might not be solved. The standard deviation of the data is probably very close to 0. \n",
      "\n",
      "C:\\Users\\ASUS\\AppData\\Local\\Temp/ipykernel_25176/2877617401.py:3: FutureWarning:\n",
      "\n",
      "In a future version of pandas all arguments of DataFrame.drop except for the argument 'labels' will be keyword-only\n",
      "\n",
      "C:\\Users\\ASUS\\Anaconda3\\envs\\athe\\lib\\site-packages\\sklearn\\preprocessing\\_data.py:235: UserWarning:\n",
      "\n",
      "Numerical issues were encountered when centering the data and might not be solved. Dataset may contain too large values. You may need to prescale your features.\n",
      "\n",
      "C:\\Users\\ASUS\\Anaconda3\\envs\\athe\\lib\\site-packages\\sklearn\\preprocessing\\_data.py:254: UserWarning:\n",
      "\n",
      "Numerical issues were encountered when scaling the data and might not be solved. The standard deviation of the data is probably very close to 0. \n",
      "\n",
      "C:\\Users\\ASUS\\AppData\\Local\\Temp/ipykernel_25176/2877617401.py:3: FutureWarning:\n",
      "\n",
      "In a future version of pandas all arguments of DataFrame.drop except for the argument 'labels' will be keyword-only\n",
      "\n",
      "C:\\Users\\ASUS\\Anaconda3\\envs\\athe\\lib\\site-packages\\sklearn\\preprocessing\\_data.py:235: UserWarning:\n",
      "\n",
      "Numerical issues were encountered when centering the data and might not be solved. Dataset may contain too large values. You may need to prescale your features.\n",
      "\n",
      "C:\\Users\\ASUS\\Anaconda3\\envs\\athe\\lib\\site-packages\\sklearn\\preprocessing\\_data.py:254: UserWarning:\n",
      "\n",
      "Numerical issues were encountered when scaling the data and might not be solved. The standard deviation of the data is probably very close to 0. \n",
      "\n",
      "C:\\Users\\ASUS\\AppData\\Local\\Temp/ipykernel_25176/2877617401.py:3: FutureWarning:\n",
      "\n",
      "In a future version of pandas all arguments of DataFrame.drop except for the argument 'labels' will be keyword-only\n",
      "\n",
      "C:\\Users\\ASUS\\Anaconda3\\envs\\athe\\lib\\site-packages\\sklearn\\preprocessing\\_data.py:235: UserWarning:\n",
      "\n",
      "Numerical issues were encountered when centering the data and might not be solved. Dataset may contain too large values. You may need to prescale your features.\n",
      "\n",
      "C:\\Users\\ASUS\\Anaconda3\\envs\\athe\\lib\\site-packages\\sklearn\\preprocessing\\_data.py:254: UserWarning:\n",
      "\n",
      "Numerical issues were encountered when scaling the data and might not be solved. The standard deviation of the data is probably very close to 0. \n",
      "\n",
      "C:\\Users\\ASUS\\AppData\\Local\\Temp/ipykernel_25176/2877617401.py:3: FutureWarning:\n",
      "\n",
      "In a future version of pandas all arguments of DataFrame.drop except for the argument 'labels' will be keyword-only\n",
      "\n",
      "C:\\Users\\ASUS\\Anaconda3\\envs\\athe\\lib\\site-packages\\sklearn\\preprocessing\\_data.py:235: UserWarning:\n",
      "\n",
      "Numerical issues were encountered when centering the data and might not be solved. Dataset may contain too large values. You may need to prescale your features.\n",
      "\n",
      "C:\\Users\\ASUS\\Anaconda3\\envs\\athe\\lib\\site-packages\\sklearn\\preprocessing\\_data.py:254: UserWarning:\n",
      "\n",
      "Numerical issues were encountered when scaling the data and might not be solved. The standard deviation of the data is probably very close to 0. \n",
      "\n",
      "C:\\Users\\ASUS\\AppData\\Local\\Temp/ipykernel_25176/2877617401.py:3: FutureWarning:\n",
      "\n",
      "In a future version of pandas all arguments of DataFrame.drop except for the argument 'labels' will be keyword-only\n",
      "\n",
      "C:\\Users\\ASUS\\Anaconda3\\envs\\athe\\lib\\site-packages\\sklearn\\preprocessing\\_data.py:235: UserWarning:\n",
      "\n",
      "Numerical issues were encountered when centering the data and might not be solved. Dataset may contain too large values. You may need to prescale your features.\n",
      "\n",
      "C:\\Users\\ASUS\\Anaconda3\\envs\\athe\\lib\\site-packages\\sklearn\\preprocessing\\_data.py:254: UserWarning:\n",
      "\n",
      "Numerical issues were encountered when scaling the data and might not be solved. The standard deviation of the data is probably very close to 0. \n",
      "\n",
      "C:\\Users\\ASUS\\AppData\\Local\\Temp/ipykernel_25176/2877617401.py:3: FutureWarning:\n",
      "\n",
      "In a future version of pandas all arguments of DataFrame.drop except for the argument 'labels' will be keyword-only\n",
      "\n",
      "C:\\Users\\ASUS\\Anaconda3\\envs\\athe\\lib\\site-packages\\sklearn\\preprocessing\\_data.py:235: UserWarning:\n",
      "\n",
      "Numerical issues were encountered when centering the data and might not be solved. Dataset may contain too large values. You may need to prescale your features.\n",
      "\n",
      "C:\\Users\\ASUS\\Anaconda3\\envs\\athe\\lib\\site-packages\\sklearn\\preprocessing\\_data.py:254: UserWarning:\n",
      "\n",
      "Numerical issues were encountered when scaling the data and might not be solved. The standard deviation of the data is probably very close to 0. \n",
      "\n",
      "C:\\Users\\ASUS\\AppData\\Local\\Temp/ipykernel_25176/2877617401.py:3: FutureWarning:\n",
      "\n",
      "In a future version of pandas all arguments of DataFrame.drop except for the argument 'labels' will be keyword-only\n",
      "\n",
      "C:\\Users\\ASUS\\Anaconda3\\envs\\athe\\lib\\site-packages\\sklearn\\preprocessing\\_data.py:235: UserWarning:\n",
      "\n",
      "Numerical issues were encountered when centering the data and might not be solved. Dataset may contain too large values. You may need to prescale your features.\n",
      "\n",
      "C:\\Users\\ASUS\\Anaconda3\\envs\\athe\\lib\\site-packages\\sklearn\\preprocessing\\_data.py:254: UserWarning:\n",
      "\n",
      "Numerical issues were encountered when scaling the data and might not be solved. The standard deviation of the data is probably very close to 0. \n",
      "\n",
      "C:\\Users\\ASUS\\AppData\\Local\\Temp/ipykernel_25176/2877617401.py:3: FutureWarning:\n",
      "\n",
      "In a future version of pandas all arguments of DataFrame.drop except for the argument 'labels' will be keyword-only\n",
      "\n",
      "C:\\Users\\ASUS\\Anaconda3\\envs\\athe\\lib\\site-packages\\sklearn\\preprocessing\\_data.py:235: UserWarning:\n",
      "\n",
      "Numerical issues were encountered when centering the data and might not be solved. Dataset may contain too large values. You may need to prescale your features.\n",
      "\n",
      "C:\\Users\\ASUS\\Anaconda3\\envs\\athe\\lib\\site-packages\\sklearn\\preprocessing\\_data.py:254: UserWarning:\n",
      "\n",
      "Numerical issues were encountered when scaling the data and might not be solved. The standard deviation of the data is probably very close to 0. \n",
      "\n",
      "C:\\Users\\ASUS\\AppData\\Local\\Temp/ipykernel_25176/2877617401.py:3: FutureWarning:\n",
      "\n",
      "In a future version of pandas all arguments of DataFrame.drop except for the argument 'labels' will be keyword-only\n",
      "\n",
      "C:\\Users\\ASUS\\Anaconda3\\envs\\athe\\lib\\site-packages\\sklearn\\preprocessing\\_data.py:235: UserWarning:\n",
      "\n",
      "Numerical issues were encountered when centering the data and might not be solved. Dataset may contain too large values. You may need to prescale your features.\n",
      "\n",
      "C:\\Users\\ASUS\\Anaconda3\\envs\\athe\\lib\\site-packages\\sklearn\\preprocessing\\_data.py:254: UserWarning:\n",
      "\n",
      "Numerical issues were encountered when scaling the data and might not be solved. The standard deviation of the data is probably very close to 0. \n",
      "\n",
      "C:\\Users\\ASUS\\AppData\\Local\\Temp/ipykernel_25176/2877617401.py:3: FutureWarning:\n",
      "\n",
      "In a future version of pandas all arguments of DataFrame.drop except for the argument 'labels' will be keyword-only\n",
      "\n",
      "C:\\Users\\ASUS\\Anaconda3\\envs\\athe\\lib\\site-packages\\sklearn\\preprocessing\\_data.py:235: UserWarning:\n",
      "\n",
      "Numerical issues were encountered when centering the data and might not be solved. Dataset may contain too large values. You may need to prescale your features.\n",
      "\n",
      "C:\\Users\\ASUS\\Anaconda3\\envs\\athe\\lib\\site-packages\\sklearn\\preprocessing\\_data.py:254: UserWarning:\n",
      "\n",
      "Numerical issues were encountered when scaling the data and might not be solved. The standard deviation of the data is probably very close to 0. \n",
      "\n",
      "C:\\Users\\ASUS\\AppData\\Local\\Temp/ipykernel_25176/2877617401.py:3: FutureWarning:\n",
      "\n",
      "In a future version of pandas all arguments of DataFrame.drop except for the argument 'labels' will be keyword-only\n",
      "\n",
      "C:\\Users\\ASUS\\Anaconda3\\envs\\athe\\lib\\site-packages\\sklearn\\preprocessing\\_data.py:235: UserWarning:\n",
      "\n",
      "Numerical issues were encountered when centering the data and might not be solved. Dataset may contain too large values. You may need to prescale your features.\n",
      "\n",
      "C:\\Users\\ASUS\\Anaconda3\\envs\\athe\\lib\\site-packages\\sklearn\\preprocessing\\_data.py:254: UserWarning:\n",
      "\n",
      "Numerical issues were encountered when scaling the data and might not be solved. The standard deviation of the data is probably very close to 0. \n",
      "\n",
      "C:\\Users\\ASUS\\AppData\\Local\\Temp/ipykernel_25176/2877617401.py:3: FutureWarning:\n",
      "\n",
      "In a future version of pandas all arguments of DataFrame.drop except for the argument 'labels' will be keyword-only\n",
      "\n",
      "C:\\Users\\ASUS\\Anaconda3\\envs\\athe\\lib\\site-packages\\sklearn\\preprocessing\\_data.py:235: UserWarning:\n",
      "\n",
      "Numerical issues were encountered when centering the data and might not be solved. Dataset may contain too large values. You may need to prescale your features.\n",
      "\n",
      "C:\\Users\\ASUS\\Anaconda3\\envs\\athe\\lib\\site-packages\\sklearn\\preprocessing\\_data.py:254: UserWarning:\n",
      "\n",
      "Numerical issues were encountered when scaling the data and might not be solved. The standard deviation of the data is probably very close to 0. \n",
      "\n"
     ]
    }
   ],
   "source": [
    "acc = []\n",
    "for d in data:\n",
    "    X,y = dataprep(d)\n",
    "    norm_X = preprocessing.scale(X)\n",
    "    norm_X,y = shuffle(norm_X, y, random_state=0)\n",
    "    ac = cross_val_svm(norm_X,y,7)\n",
    "    acc.append(ac)"
   ]
  },
  {
   "cell_type": "code",
   "execution_count": 146,
   "metadata": {},
   "outputs": [
    {
     "name": "stdout",
     "output_type": "stream",
     "text": [
      "model per person using svm (no optimization)\n",
      "max_acc :  0.9146825396825397\n",
      "avg_acc :  0.6862262682850919\n",
      "min_acc :  0.3988095238095238\n"
     ]
    }
   ],
   "source": [
    "print('model per person using svm (no optimization)')\n",
    "print('max_acc : ',max([sum(ac)/len(ac) for ac in acc]))\n",
    "print('avg_acc : ',sum([sum(ac)/len(ac) for ac in acc])/len(acc))\n",
    "print('min_acc : ',min([sum(ac)/len(ac) for ac in acc]))"
   ]
  },
  {
   "cell_type": "code",
   "execution_count": 148,
   "metadata": {},
   "outputs": [
    {
     "data": {
      "application/vnd.plotly.v1+json": {
       "config": {
        "plotlyServerURL": "https://plot.ly"
       },
       "data": [
        {
         "alignmentgroup": "True",
         "hovertemplate": "accuracy percentage=%{x}<br>number of subjects=%{y}<extra></extra>",
         "legendgroup": "",
         "marker": {
          "color": "#636efa",
          "pattern": {
           "shape": ""
          }
         },
         "name": "",
         "offsetgroup": "",
         "orientation": "v",
         "showlegend": false,
         "textposition": "auto",
         "type": "bar",
         "x": [
          0,
          1,
          2,
          3,
          4,
          5,
          6,
          7,
          8,
          9,
          10,
          11,
          12,
          13,
          14,
          15,
          16,
          17,
          18,
          19,
          20,
          21,
          22,
          23,
          24,
          25,
          26,
          27,
          28,
          29,
          30,
          31,
          32,
          33,
          34,
          35,
          36,
          37,
          38,
          39,
          40,
          41,
          42,
          43,
          44,
          45,
          46,
          47,
          48,
          49,
          50,
          51,
          52,
          53,
          54,
          55,
          56,
          57,
          58,
          59,
          60,
          61,
          62,
          63,
          64,
          65,
          66,
          67,
          68,
          69,
          70,
          71,
          72,
          73,
          74,
          75,
          76,
          77,
          78,
          79,
          80,
          81,
          82,
          83,
          84,
          85,
          86,
          87,
          88,
          89,
          90,
          91,
          92,
          93,
          94,
          95,
          96,
          97,
          98,
          99,
          100
         ],
         "xaxis": "x",
         "y": [
          0,
          0,
          0,
          0,
          0,
          0,
          0,
          0,
          0,
          0,
          0,
          0,
          0,
          0,
          0,
          0,
          0,
          0,
          0,
          0,
          0,
          0,
          0,
          0,
          0,
          0,
          0,
          0,
          0,
          0,
          0,
          0,
          0,
          0,
          0,
          0,
          0,
          0,
          0,
          1,
          0,
          0,
          0,
          0,
          1,
          1,
          0,
          0,
          1,
          0,
          0,
          0,
          0,
          1,
          0,
          0,
          1,
          1,
          0,
          0,
          1,
          0,
          0,
          1,
          2,
          2,
          0,
          1,
          1,
          0,
          2,
          0,
          1,
          0,
          1,
          1,
          3,
          0,
          0,
          0,
          0,
          0,
          1,
          0,
          2,
          1,
          1,
          1,
          0,
          0,
          0,
          1,
          0,
          0,
          0,
          0,
          0,
          0,
          0,
          0,
          0
         ],
         "yaxis": "y"
        }
       ],
       "layout": {
        "barmode": "relative",
        "height": 500,
        "legend": {
         "tracegroupgap": 0
        },
        "template": {
         "data": {
          "bar": [
           {
            "error_x": {
             "color": "#2a3f5f"
            },
            "error_y": {
             "color": "#2a3f5f"
            },
            "marker": {
             "line": {
              "color": "#E5ECF6",
              "width": 0.5
             },
             "pattern": {
              "fillmode": "overlay",
              "size": 10,
              "solidity": 0.2
             }
            },
            "type": "bar"
           }
          ],
          "barpolar": [
           {
            "marker": {
             "line": {
              "color": "#E5ECF6",
              "width": 0.5
             },
             "pattern": {
              "fillmode": "overlay",
              "size": 10,
              "solidity": 0.2
             }
            },
            "type": "barpolar"
           }
          ],
          "carpet": [
           {
            "aaxis": {
             "endlinecolor": "#2a3f5f",
             "gridcolor": "white",
             "linecolor": "white",
             "minorgridcolor": "white",
             "startlinecolor": "#2a3f5f"
            },
            "baxis": {
             "endlinecolor": "#2a3f5f",
             "gridcolor": "white",
             "linecolor": "white",
             "minorgridcolor": "white",
             "startlinecolor": "#2a3f5f"
            },
            "type": "carpet"
           }
          ],
          "choropleth": [
           {
            "colorbar": {
             "outlinewidth": 0,
             "ticks": ""
            },
            "type": "choropleth"
           }
          ],
          "contour": [
           {
            "colorbar": {
             "outlinewidth": 0,
             "ticks": ""
            },
            "colorscale": [
             [
              0,
              "#0d0887"
             ],
             [
              0.1111111111111111,
              "#46039f"
             ],
             [
              0.2222222222222222,
              "#7201a8"
             ],
             [
              0.3333333333333333,
              "#9c179e"
             ],
             [
              0.4444444444444444,
              "#bd3786"
             ],
             [
              0.5555555555555556,
              "#d8576b"
             ],
             [
              0.6666666666666666,
              "#ed7953"
             ],
             [
              0.7777777777777778,
              "#fb9f3a"
             ],
             [
              0.8888888888888888,
              "#fdca26"
             ],
             [
              1,
              "#f0f921"
             ]
            ],
            "type": "contour"
           }
          ],
          "contourcarpet": [
           {
            "colorbar": {
             "outlinewidth": 0,
             "ticks": ""
            },
            "type": "contourcarpet"
           }
          ],
          "heatmap": [
           {
            "colorbar": {
             "outlinewidth": 0,
             "ticks": ""
            },
            "colorscale": [
             [
              0,
              "#0d0887"
             ],
             [
              0.1111111111111111,
              "#46039f"
             ],
             [
              0.2222222222222222,
              "#7201a8"
             ],
             [
              0.3333333333333333,
              "#9c179e"
             ],
             [
              0.4444444444444444,
              "#bd3786"
             ],
             [
              0.5555555555555556,
              "#d8576b"
             ],
             [
              0.6666666666666666,
              "#ed7953"
             ],
             [
              0.7777777777777778,
              "#fb9f3a"
             ],
             [
              0.8888888888888888,
              "#fdca26"
             ],
             [
              1,
              "#f0f921"
             ]
            ],
            "type": "heatmap"
           }
          ],
          "heatmapgl": [
           {
            "colorbar": {
             "outlinewidth": 0,
             "ticks": ""
            },
            "colorscale": [
             [
              0,
              "#0d0887"
             ],
             [
              0.1111111111111111,
              "#46039f"
             ],
             [
              0.2222222222222222,
              "#7201a8"
             ],
             [
              0.3333333333333333,
              "#9c179e"
             ],
             [
              0.4444444444444444,
              "#bd3786"
             ],
             [
              0.5555555555555556,
              "#d8576b"
             ],
             [
              0.6666666666666666,
              "#ed7953"
             ],
             [
              0.7777777777777778,
              "#fb9f3a"
             ],
             [
              0.8888888888888888,
              "#fdca26"
             ],
             [
              1,
              "#f0f921"
             ]
            ],
            "type": "heatmapgl"
           }
          ],
          "histogram": [
           {
            "marker": {
             "pattern": {
              "fillmode": "overlay",
              "size": 10,
              "solidity": 0.2
             }
            },
            "type": "histogram"
           }
          ],
          "histogram2d": [
           {
            "colorbar": {
             "outlinewidth": 0,
             "ticks": ""
            },
            "colorscale": [
             [
              0,
              "#0d0887"
             ],
             [
              0.1111111111111111,
              "#46039f"
             ],
             [
              0.2222222222222222,
              "#7201a8"
             ],
             [
              0.3333333333333333,
              "#9c179e"
             ],
             [
              0.4444444444444444,
              "#bd3786"
             ],
             [
              0.5555555555555556,
              "#d8576b"
             ],
             [
              0.6666666666666666,
              "#ed7953"
             ],
             [
              0.7777777777777778,
              "#fb9f3a"
             ],
             [
              0.8888888888888888,
              "#fdca26"
             ],
             [
              1,
              "#f0f921"
             ]
            ],
            "type": "histogram2d"
           }
          ],
          "histogram2dcontour": [
           {
            "colorbar": {
             "outlinewidth": 0,
             "ticks": ""
            },
            "colorscale": [
             [
              0,
              "#0d0887"
             ],
             [
              0.1111111111111111,
              "#46039f"
             ],
             [
              0.2222222222222222,
              "#7201a8"
             ],
             [
              0.3333333333333333,
              "#9c179e"
             ],
             [
              0.4444444444444444,
              "#bd3786"
             ],
             [
              0.5555555555555556,
              "#d8576b"
             ],
             [
              0.6666666666666666,
              "#ed7953"
             ],
             [
              0.7777777777777778,
              "#fb9f3a"
             ],
             [
              0.8888888888888888,
              "#fdca26"
             ],
             [
              1,
              "#f0f921"
             ]
            ],
            "type": "histogram2dcontour"
           }
          ],
          "mesh3d": [
           {
            "colorbar": {
             "outlinewidth": 0,
             "ticks": ""
            },
            "type": "mesh3d"
           }
          ],
          "parcoords": [
           {
            "line": {
             "colorbar": {
              "outlinewidth": 0,
              "ticks": ""
             }
            },
            "type": "parcoords"
           }
          ],
          "pie": [
           {
            "automargin": true,
            "type": "pie"
           }
          ],
          "scatter": [
           {
            "marker": {
             "colorbar": {
              "outlinewidth": 0,
              "ticks": ""
             }
            },
            "type": "scatter"
           }
          ],
          "scatter3d": [
           {
            "line": {
             "colorbar": {
              "outlinewidth": 0,
              "ticks": ""
             }
            },
            "marker": {
             "colorbar": {
              "outlinewidth": 0,
              "ticks": ""
             }
            },
            "type": "scatter3d"
           }
          ],
          "scattercarpet": [
           {
            "marker": {
             "colorbar": {
              "outlinewidth": 0,
              "ticks": ""
             }
            },
            "type": "scattercarpet"
           }
          ],
          "scattergeo": [
           {
            "marker": {
             "colorbar": {
              "outlinewidth": 0,
              "ticks": ""
             }
            },
            "type": "scattergeo"
           }
          ],
          "scattergl": [
           {
            "marker": {
             "colorbar": {
              "outlinewidth": 0,
              "ticks": ""
             }
            },
            "type": "scattergl"
           }
          ],
          "scattermapbox": [
           {
            "marker": {
             "colorbar": {
              "outlinewidth": 0,
              "ticks": ""
             }
            },
            "type": "scattermapbox"
           }
          ],
          "scatterpolar": [
           {
            "marker": {
             "colorbar": {
              "outlinewidth": 0,
              "ticks": ""
             }
            },
            "type": "scatterpolar"
           }
          ],
          "scatterpolargl": [
           {
            "marker": {
             "colorbar": {
              "outlinewidth": 0,
              "ticks": ""
             }
            },
            "type": "scatterpolargl"
           }
          ],
          "scatterternary": [
           {
            "marker": {
             "colorbar": {
              "outlinewidth": 0,
              "ticks": ""
             }
            },
            "type": "scatterternary"
           }
          ],
          "surface": [
           {
            "colorbar": {
             "outlinewidth": 0,
             "ticks": ""
            },
            "colorscale": [
             [
              0,
              "#0d0887"
             ],
             [
              0.1111111111111111,
              "#46039f"
             ],
             [
              0.2222222222222222,
              "#7201a8"
             ],
             [
              0.3333333333333333,
              "#9c179e"
             ],
             [
              0.4444444444444444,
              "#bd3786"
             ],
             [
              0.5555555555555556,
              "#d8576b"
             ],
             [
              0.6666666666666666,
              "#ed7953"
             ],
             [
              0.7777777777777778,
              "#fb9f3a"
             ],
             [
              0.8888888888888888,
              "#fdca26"
             ],
             [
              1,
              "#f0f921"
             ]
            ],
            "type": "surface"
           }
          ],
          "table": [
           {
            "cells": {
             "fill": {
              "color": "#EBF0F8"
             },
             "line": {
              "color": "white"
             }
            },
            "header": {
             "fill": {
              "color": "#C8D4E3"
             },
             "line": {
              "color": "white"
             }
            },
            "type": "table"
           }
          ]
         },
         "layout": {
          "annotationdefaults": {
           "arrowcolor": "#2a3f5f",
           "arrowhead": 0,
           "arrowwidth": 1
          },
          "autotypenumbers": "strict",
          "coloraxis": {
           "colorbar": {
            "outlinewidth": 0,
            "ticks": ""
           }
          },
          "colorscale": {
           "diverging": [
            [
             0,
             "#8e0152"
            ],
            [
             0.1,
             "#c51b7d"
            ],
            [
             0.2,
             "#de77ae"
            ],
            [
             0.3,
             "#f1b6da"
            ],
            [
             0.4,
             "#fde0ef"
            ],
            [
             0.5,
             "#f7f7f7"
            ],
            [
             0.6,
             "#e6f5d0"
            ],
            [
             0.7,
             "#b8e186"
            ],
            [
             0.8,
             "#7fbc41"
            ],
            [
             0.9,
             "#4d9221"
            ],
            [
             1,
             "#276419"
            ]
           ],
           "sequential": [
            [
             0,
             "#0d0887"
            ],
            [
             0.1111111111111111,
             "#46039f"
            ],
            [
             0.2222222222222222,
             "#7201a8"
            ],
            [
             0.3333333333333333,
             "#9c179e"
            ],
            [
             0.4444444444444444,
             "#bd3786"
            ],
            [
             0.5555555555555556,
             "#d8576b"
            ],
            [
             0.6666666666666666,
             "#ed7953"
            ],
            [
             0.7777777777777778,
             "#fb9f3a"
            ],
            [
             0.8888888888888888,
             "#fdca26"
            ],
            [
             1,
             "#f0f921"
            ]
           ],
           "sequentialminus": [
            [
             0,
             "#0d0887"
            ],
            [
             0.1111111111111111,
             "#46039f"
            ],
            [
             0.2222222222222222,
             "#7201a8"
            ],
            [
             0.3333333333333333,
             "#9c179e"
            ],
            [
             0.4444444444444444,
             "#bd3786"
            ],
            [
             0.5555555555555556,
             "#d8576b"
            ],
            [
             0.6666666666666666,
             "#ed7953"
            ],
            [
             0.7777777777777778,
             "#fb9f3a"
            ],
            [
             0.8888888888888888,
             "#fdca26"
            ],
            [
             1,
             "#f0f921"
            ]
           ]
          },
          "colorway": [
           "#636efa",
           "#EF553B",
           "#00cc96",
           "#ab63fa",
           "#FFA15A",
           "#19d3f3",
           "#FF6692",
           "#B6E880",
           "#FF97FF",
           "#FECB52"
          ],
          "font": {
           "color": "#2a3f5f"
          },
          "geo": {
           "bgcolor": "white",
           "lakecolor": "white",
           "landcolor": "#E5ECF6",
           "showlakes": true,
           "showland": true,
           "subunitcolor": "white"
          },
          "hoverlabel": {
           "align": "left"
          },
          "hovermode": "closest",
          "mapbox": {
           "style": "light"
          },
          "paper_bgcolor": "white",
          "plot_bgcolor": "#E5ECF6",
          "polar": {
           "angularaxis": {
            "gridcolor": "white",
            "linecolor": "white",
            "ticks": ""
           },
           "bgcolor": "#E5ECF6",
           "radialaxis": {
            "gridcolor": "white",
            "linecolor": "white",
            "ticks": ""
           }
          },
          "scene": {
           "xaxis": {
            "backgroundcolor": "#E5ECF6",
            "gridcolor": "white",
            "gridwidth": 2,
            "linecolor": "white",
            "showbackground": true,
            "ticks": "",
            "zerolinecolor": "white"
           },
           "yaxis": {
            "backgroundcolor": "#E5ECF6",
            "gridcolor": "white",
            "gridwidth": 2,
            "linecolor": "white",
            "showbackground": true,
            "ticks": "",
            "zerolinecolor": "white"
           },
           "zaxis": {
            "backgroundcolor": "#E5ECF6",
            "gridcolor": "white",
            "gridwidth": 2,
            "linecolor": "white",
            "showbackground": true,
            "ticks": "",
            "zerolinecolor": "white"
           }
          },
          "shapedefaults": {
           "line": {
            "color": "#2a3f5f"
           }
          },
          "ternary": {
           "aaxis": {
            "gridcolor": "white",
            "linecolor": "white",
            "ticks": ""
           },
           "baxis": {
            "gridcolor": "white",
            "linecolor": "white",
            "ticks": ""
           },
           "bgcolor": "#E5ECF6",
           "caxis": {
            "gridcolor": "white",
            "linecolor": "white",
            "ticks": ""
           }
          },
          "title": {
           "x": 0.05
          },
          "xaxis": {
           "automargin": true,
           "gridcolor": "white",
           "linecolor": "white",
           "ticks": "",
           "title": {
            "standoff": 15
           },
           "zerolinecolor": "white",
           "zerolinewidth": 2
          },
          "yaxis": {
           "automargin": true,
           "gridcolor": "white",
           "linecolor": "white",
           "ticks": "",
           "title": {
            "standoff": 15
           },
           "zerolinecolor": "white",
           "zerolinewidth": 2
          }
         }
        },
        "title": {
         "text": "2 activities classifier (SVM)"
        },
        "width": 1000,
        "xaxis": {
         "anchor": "y",
         "domain": [
          0,
          1
         ],
         "title": {
          "text": "accuracy percentage"
         }
        },
        "yaxis": {
         "anchor": "x",
         "domain": [
          0,
          1
         ],
         "title": {
          "text": "number of subjects"
         }
        }
       }
      }
     },
     "metadata": {},
     "output_type": "display_data"
    }
   ],
   "source": [
    "newacc = [sum(acc[i])/len(acc[i]) for i in range(len(acc))]\n",
    "histro = {'x':[i for i in range(0,101)],'y':[0 for i in range(0,101)]}\n",
    "for ac in newacc:\n",
    "    newval = (int(ac*100)//1)*1\n",
    "    histro['y'][newval]+=1\n",
    "import plotly.express as px\n",
    "fig = px.bar(histro, x='x', y='y',labels={\n",
    "                     'x':'accuracy percentage','y':'number of subjects'\n",
    "                 },title = '2 activities classifier (SVM)',width=1000, height=500)\n",
    "fig.show()\n"
   ]
  },
  {
   "cell_type": "code",
   "execution_count": 105,
   "metadata": {},
   "outputs": [],
   "source": [
    "import json\n",
    "import pandas as pd\n",
    "from scipy import stats\n",
    "from scipy.interpolate import interp1d\n",
    "import itertools\n",
    "import numpy as np\n",
    "import plotly.express as px\n",
    "from plotly.subplots import make_subplots\n",
    "import plotly.graph_objects as go\n",
    "def spectrum (vector):\n",
    "    '''get the power spectrum of a vector of raw EEG data'''\n",
    "    A = np.fft.fft(vector)\n",
    "    ps = np.abs(A)**2\n",
    "    ps = ps[:len(ps)//2]\n",
    "    #print(ps)\n",
    "    \n",
    "    \n",
    "    \n",
    "    return ps\n",
    "\n",
    "def binned (pspectra, n):\n",
    "    '''compress an array of power spectra into vectors of length n'''\n",
    "    l = len(pspectra)\n",
    "    array = np.zeros([l,n])\n",
    "    for i,ps in enumerate(pspectra):\n",
    "        x = np.arange(1,len(ps)+1)\n",
    "        f = interp1d(x,ps)#/np.sum(ps))\n",
    "        array[i] = f(np.arange(1, n+1))\n",
    "    index = np.argwhere(array[:,0]==-1)\n",
    "    array = np.delete(array,index,0)\n",
    "    return array\n",
    "\n",
    "def feature_vector (readings, bins=100): # A function we apply to each group of power spectra\n",
    "  '''\n",
    "  Create 100, log10-spaced bins for each power spectrum.\n",
    "  For more on how this particular implementation works, see:\n",
    "  http://coolworld.me/pre-processing-EEG-consumer-devices/\n",
    "  '''\n",
    "  bins = binned(list(map(spectrum, readings)), bins)\n",
    "  return np.log10(np.mean(bins, 0))\n",
    "\n",
    "def grouper(n, iterable, fillvalue=None):\n",
    "    \"grouper(3, 'ABCDEFG', 'x') --> ABC DEF Gxx\"\n",
    "    args = [iter(iterable)] * n\n",
    "    return itertools.zip_longest(*args, fillvalue=fillvalue)\n",
    "\n",
    "def vectors (df,bins = 100):\n",
    "    return [feature_vector(group,bins = bins) for group in list(grouper(3, df.raw_values.tolist()))[:-1]]"
   ]
  },
  {
   "cell_type": "code",
   "execution_count": 3,
   "metadata": {},
   "outputs": [],
   "source": [
    "df = pd.read_csv(\"./eeg-data.csv\")\n",
    "df.raw_values = df.raw_values.map(json.loads)\n",
    "df.eeg_power = df.eeg_power.map(json.loads)"
   ]
  },
  {
   "cell_type": "code",
   "execution_count": 4,
   "metadata": {},
   "outputs": [],
   "source": [
    "hey = df[df['id']==1][['id','eeg_power','raw_values','label']]\n",
    "hey = hey[hey['label'] == 'relax']"
   ]
  },
  {
   "cell_type": "code",
   "execution_count": 5,
   "metadata": {},
   "outputs": [
    {
     "data": {
      "text/html": [
       "<div>\n",
       "<style scoped>\n",
       "    .dataframe tbody tr th:only-of-type {\n",
       "        vertical-align: middle;\n",
       "    }\n",
       "\n",
       "    .dataframe tbody tr th {\n",
       "        vertical-align: top;\n",
       "    }\n",
       "\n",
       "    .dataframe thead th {\n",
       "        text-align: right;\n",
       "    }\n",
       "</style>\n",
       "<table border=\"1\" class=\"dataframe\">\n",
       "  <thead>\n",
       "    <tr style=\"text-align: right;\">\n",
       "      <th></th>\n",
       "      <th>id</th>\n",
       "      <th>eeg_power</th>\n",
       "      <th>raw_values</th>\n",
       "      <th>label</th>\n",
       "    </tr>\n",
       "  </thead>\n",
       "  <tbody>\n",
       "    <tr>\n",
       "      <th>13277</th>\n",
       "      <td>1</td>\n",
       "      <td>[85497.0, 20547.0, 2723.0, 3270.0, 2522.0, 220...</td>\n",
       "      <td>[17.0, 19.0, 23.0, 25.0, 27.0, 38.0, 51.0, 52....</td>\n",
       "      <td>relax</td>\n",
       "    </tr>\n",
       "    <tr>\n",
       "      <th>13291</th>\n",
       "      <td>1</td>\n",
       "      <td>[50036.0, 57439.0, 17659.0, 5816.0, 10021.0, 2...</td>\n",
       "      <td>[44.0, 45.0, 45.0, 51.0, 48.0, 45.0, 48.0, 42....</td>\n",
       "      <td>relax</td>\n",
       "    </tr>\n",
       "    <tr>\n",
       "      <th>13305</th>\n",
       "      <td>1</td>\n",
       "      <td>[155790.0, 43496.0, 14414.0, 8105.0, 8255.0, 7...</td>\n",
       "      <td>[-30.0, -33.0, -27.0, -29.0, -33.0, -33.0, -38...</td>\n",
       "      <td>relax</td>\n",
       "    </tr>\n",
       "    <tr>\n",
       "      <th>13323</th>\n",
       "      <td>1</td>\n",
       "      <td>[160552.0, 44796.0, 13555.0, 21970.0, 12998.0,...</td>\n",
       "      <td>[57.0, 40.0, 3.0, -10.0, 16.0, 42.0, 65.0, 77....</td>\n",
       "      <td>relax</td>\n",
       "    </tr>\n",
       "    <tr>\n",
       "      <th>13338</th>\n",
       "      <td>1</td>\n",
       "      <td>[18471.0, 31938.0, 35127.0, 14536.0, 8849.0, 4...</td>\n",
       "      <td>[-1.0, 12.0, 19.0, 16.0, 5.0, 9.0, 32.0, 45.0,...</td>\n",
       "      <td>relax</td>\n",
       "    </tr>\n",
       "    <tr>\n",
       "      <th>13351</th>\n",
       "      <td>1</td>\n",
       "      <td>[654856.0, 15593.0, 29536.0, 2195.0, 9782.0, 4...</td>\n",
       "      <td>[29.0, 24.0, 20.0, 17.0, 12.0, 18.0, 28.0, 44....</td>\n",
       "      <td>relax</td>\n",
       "    </tr>\n",
       "    <tr>\n",
       "      <th>13368</th>\n",
       "      <td>1</td>\n",
       "      <td>[55626.0, 8455.0, 2310.0, 17392.0, 7531.0, 830...</td>\n",
       "      <td>[70.0, 102.0, 81.0, 45.0, 35.0, 40.0, 40.0, 37...</td>\n",
       "      <td>relax</td>\n",
       "    </tr>\n",
       "    <tr>\n",
       "      <th>13382</th>\n",
       "      <td>1</td>\n",
       "      <td>[7146.0, 51617.0, 19665.0, 9369.0, 6162.0, 714...</td>\n",
       "      <td>[7.0, 39.0, 49.0, 23.0, -2.0, -7.0, 16.0, 17.0...</td>\n",
       "      <td>relax</td>\n",
       "    </tr>\n",
       "    <tr>\n",
       "      <th>13396</th>\n",
       "      <td>1</td>\n",
       "      <td>[34044.0, 19587.0, 3982.0, 7801.0, 6282.0, 397...</td>\n",
       "      <td>[26.0, 44.0, 60.0, 75.0, 97.0, 102.0, 89.0, 73...</td>\n",
       "      <td>relax</td>\n",
       "    </tr>\n",
       "    <tr>\n",
       "      <th>13411</th>\n",
       "      <td>1</td>\n",
       "      <td>[223971.0, 105078.0, 1440.0, 21766.0, 51282.0,...</td>\n",
       "      <td>[121.0, 140.0, 128.0, 96.0, 102.0, 124.0, 120....</td>\n",
       "      <td>relax</td>\n",
       "    </tr>\n",
       "    <tr>\n",
       "      <th>13427</th>\n",
       "      <td>1</td>\n",
       "      <td>[1465193.0, 110079.0, 49257.0, 58421.0, 41243....</td>\n",
       "      <td>[241.0, 157.0, 118.0, 120.0, 114.0, 88.0, 57.0...</td>\n",
       "      <td>relax</td>\n",
       "    </tr>\n",
       "    <tr>\n",
       "      <th>13442</th>\n",
       "      <td>1</td>\n",
       "      <td>[192748.0, 153987.0, 18137.0, 17325.0, 7891.0,...</td>\n",
       "      <td>[481.0, 506.0, 505.0, 438.0, 374.0, 378.0, 408...</td>\n",
       "      <td>relax</td>\n",
       "    </tr>\n",
       "    <tr>\n",
       "      <th>13454</th>\n",
       "      <td>1</td>\n",
       "      <td>[118547.0, 29438.0, 2045.0, 3430.0, 1752.0, 92...</td>\n",
       "      <td>[35.0, 20.0, 26.0, 40.0, 50.0, 71.0, 52.0, 13....</td>\n",
       "      <td>relax</td>\n",
       "    </tr>\n",
       "    <tr>\n",
       "      <th>13470</th>\n",
       "      <td>1</td>\n",
       "      <td>[634547.0, 16889.0, 3938.0, 4585.0, 3886.0, 21...</td>\n",
       "      <td>[85.0, 88.0, 75.0, 56.0, 38.0, 35.0, 22.0, 13....</td>\n",
       "      <td>relax</td>\n",
       "    </tr>\n",
       "    <tr>\n",
       "      <th>13489</th>\n",
       "      <td>1</td>\n",
       "      <td>[114939.0, 144172.0, 118364.0, 20580.0, 22534....</td>\n",
       "      <td>[58.0, 49.0, 39.0, 36.0, 20.0, 3.0, -2.0, -4.0...</td>\n",
       "      <td>relax</td>\n",
       "    </tr>\n",
       "    <tr>\n",
       "      <th>13503</th>\n",
       "      <td>1</td>\n",
       "      <td>[646861.0, 59231.0, 76359.0, 27057.0, 22133.0,...</td>\n",
       "      <td>[48.0, 53.0, 71.0, 77.0, 80.0, 90.0, 89.0, 74....</td>\n",
       "      <td>relax</td>\n",
       "    </tr>\n",
       "    <tr>\n",
       "      <th>13519</th>\n",
       "      <td>1</td>\n",
       "      <td>[179968.0, 17539.0, 16643.0, 31706.0, 13303.0,...</td>\n",
       "      <td>[109.0, 107.0, 100.0, 91.0, 103.0, 108.0, 102....</td>\n",
       "      <td>relax</td>\n",
       "    </tr>\n",
       "    <tr>\n",
       "      <th>13533</th>\n",
       "      <td>1</td>\n",
       "      <td>[224428.0, 74399.0, 33591.0, 8670.0, 17483.0, ...</td>\n",
       "      <td>[-267.0, -249.0, -221.0, -197.0, -188.0, -187....</td>\n",
       "      <td>relax</td>\n",
       "    </tr>\n",
       "    <tr>\n",
       "      <th>13547</th>\n",
       "      <td>1</td>\n",
       "      <td>[604844.0, 45607.0, 12693.0, 4812.0, 10111.0, ...</td>\n",
       "      <td>[54.0, 72.0, 68.0, 52.0, 40.0, 33.0, 32.0, 39....</td>\n",
       "      <td>relax</td>\n",
       "    </tr>\n",
       "    <tr>\n",
       "      <th>13562</th>\n",
       "      <td>1</td>\n",
       "      <td>[545004.0, 48019.0, 5844.0, 5804.0, 4166.0, 33...</td>\n",
       "      <td>[2.0, 6.0, 4.0, -5.0, -11.0, -3.0, 2.0, -3.0, ...</td>\n",
       "      <td>relax</td>\n",
       "    </tr>\n",
       "    <tr>\n",
       "      <th>13577</th>\n",
       "      <td>1</td>\n",
       "      <td>[500234.0, 42568.0, 12181.0, 16434.0, 16543.0,...</td>\n",
       "      <td>[85.0, 80.0, 88.0, 113.0, 122.0, 119.0, 128.0,...</td>\n",
       "      <td>relax</td>\n",
       "    </tr>\n",
       "    <tr>\n",
       "      <th>13592</th>\n",
       "      <td>1</td>\n",
       "      <td>[396835.0, 313031.0, 12196.0, 13806.0, 6779.0,...</td>\n",
       "      <td>[54.0, 48.0, 56.0, 66.0, 68.0, 58.0, 41.0, 37....</td>\n",
       "      <td>relax</td>\n",
       "    </tr>\n",
       "    <tr>\n",
       "      <th>13606</th>\n",
       "      <td>1</td>\n",
       "      <td>[226473.0, 14523.0, 1295.0, 1744.0, 3581.0, 26...</td>\n",
       "      <td>[-68.0, -56.0, -52.0, -54.0, -46.0, -35.0, -20...</td>\n",
       "      <td>relax</td>\n",
       "    </tr>\n",
       "    <tr>\n",
       "      <th>13622</th>\n",
       "      <td>1</td>\n",
       "      <td>[190851.0, 46447.0, 7622.0, 9326.0, 11090.0, 2...</td>\n",
       "      <td>[35.0, 39.0, 56.0, 67.0, 70.0, 57.0, 51.0, 52....</td>\n",
       "      <td>relax</td>\n",
       "    </tr>\n",
       "    <tr>\n",
       "      <th>13636</th>\n",
       "      <td>1</td>\n",
       "      <td>[808539.0, 99887.0, 6214.0, 4678.0, 13998.0, 6...</td>\n",
       "      <td>[168.0, 161.0, 155.0, 149.0, 131.0, 121.0, 132...</td>\n",
       "      <td>relax</td>\n",
       "    </tr>\n",
       "    <tr>\n",
       "      <th>13651</th>\n",
       "      <td>1</td>\n",
       "      <td>[61867.0, 50113.0, 15249.0, 23042.0, 6096.0, 1...</td>\n",
       "      <td>[91.0, 100.0, 116.0, 134.0, 131.0, 128.0, 141....</td>\n",
       "      <td>relax</td>\n",
       "    </tr>\n",
       "    <tr>\n",
       "      <th>13664</th>\n",
       "      <td>1</td>\n",
       "      <td>[21452.0, 37577.0, 26425.0, 4587.0, 18445.0, 9...</td>\n",
       "      <td>[48.0, 70.0, 86.0, 88.0, 75.0, 81.0, 90.0, 99....</td>\n",
       "      <td>relax</td>\n",
       "    </tr>\n",
       "    <tr>\n",
       "      <th>13679</th>\n",
       "      <td>1</td>\n",
       "      <td>[174582.0, 63327.0, 14815.0, 25082.0, 14216.0,...</td>\n",
       "      <td>[17.0, 28.0, 44.0, 50.0, 50.0, 56.0, 59.0, 44....</td>\n",
       "      <td>relax</td>\n",
       "    </tr>\n",
       "    <tr>\n",
       "      <th>13693</th>\n",
       "      <td>1</td>\n",
       "      <td>[132429.0, 24231.0, 3596.0, 6952.0, 2979.0, 24...</td>\n",
       "      <td>[86.0, 96.0, 91.0, 66.0, 51.0, 48.0, 45.0, 65....</td>\n",
       "      <td>relax</td>\n",
       "    </tr>\n",
       "    <tr>\n",
       "      <th>13708</th>\n",
       "      <td>1</td>\n",
       "      <td>[265376.0, 21289.0, 6300.0, 3168.0, 1250.0, 18...</td>\n",
       "      <td>[22.0, 28.0, 55.0, 50.0, 49.0, 32.0, 41.0, 59....</td>\n",
       "      <td>relax</td>\n",
       "    </tr>\n",
       "  </tbody>\n",
       "</table>\n",
       "</div>"
      ],
      "text/plain": [
       "       id                                          eeg_power  \\\n",
       "13277   1  [85497.0, 20547.0, 2723.0, 3270.0, 2522.0, 220...   \n",
       "13291   1  [50036.0, 57439.0, 17659.0, 5816.0, 10021.0, 2...   \n",
       "13305   1  [155790.0, 43496.0, 14414.0, 8105.0, 8255.0, 7...   \n",
       "13323   1  [160552.0, 44796.0, 13555.0, 21970.0, 12998.0,...   \n",
       "13338   1  [18471.0, 31938.0, 35127.0, 14536.0, 8849.0, 4...   \n",
       "13351   1  [654856.0, 15593.0, 29536.0, 2195.0, 9782.0, 4...   \n",
       "13368   1  [55626.0, 8455.0, 2310.0, 17392.0, 7531.0, 830...   \n",
       "13382   1  [7146.0, 51617.0, 19665.0, 9369.0, 6162.0, 714...   \n",
       "13396   1  [34044.0, 19587.0, 3982.0, 7801.0, 6282.0, 397...   \n",
       "13411   1  [223971.0, 105078.0, 1440.0, 21766.0, 51282.0,...   \n",
       "13427   1  [1465193.0, 110079.0, 49257.0, 58421.0, 41243....   \n",
       "13442   1  [192748.0, 153987.0, 18137.0, 17325.0, 7891.0,...   \n",
       "13454   1  [118547.0, 29438.0, 2045.0, 3430.0, 1752.0, 92...   \n",
       "13470   1  [634547.0, 16889.0, 3938.0, 4585.0, 3886.0, 21...   \n",
       "13489   1  [114939.0, 144172.0, 118364.0, 20580.0, 22534....   \n",
       "13503   1  [646861.0, 59231.0, 76359.0, 27057.0, 22133.0,...   \n",
       "13519   1  [179968.0, 17539.0, 16643.0, 31706.0, 13303.0,...   \n",
       "13533   1  [224428.0, 74399.0, 33591.0, 8670.0, 17483.0, ...   \n",
       "13547   1  [604844.0, 45607.0, 12693.0, 4812.0, 10111.0, ...   \n",
       "13562   1  [545004.0, 48019.0, 5844.0, 5804.0, 4166.0, 33...   \n",
       "13577   1  [500234.0, 42568.0, 12181.0, 16434.0, 16543.0,...   \n",
       "13592   1  [396835.0, 313031.0, 12196.0, 13806.0, 6779.0,...   \n",
       "13606   1  [226473.0, 14523.0, 1295.0, 1744.0, 3581.0, 26...   \n",
       "13622   1  [190851.0, 46447.0, 7622.0, 9326.0, 11090.0, 2...   \n",
       "13636   1  [808539.0, 99887.0, 6214.0, 4678.0, 13998.0, 6...   \n",
       "13651   1  [61867.0, 50113.0, 15249.0, 23042.0, 6096.0, 1...   \n",
       "13664   1  [21452.0, 37577.0, 26425.0, 4587.0, 18445.0, 9...   \n",
       "13679   1  [174582.0, 63327.0, 14815.0, 25082.0, 14216.0,...   \n",
       "13693   1  [132429.0, 24231.0, 3596.0, 6952.0, 2979.0, 24...   \n",
       "13708   1  [265376.0, 21289.0, 6300.0, 3168.0, 1250.0, 18...   \n",
       "\n",
       "                                              raw_values  label  \n",
       "13277  [17.0, 19.0, 23.0, 25.0, 27.0, 38.0, 51.0, 52....  relax  \n",
       "13291  [44.0, 45.0, 45.0, 51.0, 48.0, 45.0, 48.0, 42....  relax  \n",
       "13305  [-30.0, -33.0, -27.0, -29.0, -33.0, -33.0, -38...  relax  \n",
       "13323  [57.0, 40.0, 3.0, -10.0, 16.0, 42.0, 65.0, 77....  relax  \n",
       "13338  [-1.0, 12.0, 19.0, 16.0, 5.0, 9.0, 32.0, 45.0,...  relax  \n",
       "13351  [29.0, 24.0, 20.0, 17.0, 12.0, 18.0, 28.0, 44....  relax  \n",
       "13368  [70.0, 102.0, 81.0, 45.0, 35.0, 40.0, 40.0, 37...  relax  \n",
       "13382  [7.0, 39.0, 49.0, 23.0, -2.0, -7.0, 16.0, 17.0...  relax  \n",
       "13396  [26.0, 44.0, 60.0, 75.0, 97.0, 102.0, 89.0, 73...  relax  \n",
       "13411  [121.0, 140.0, 128.0, 96.0, 102.0, 124.0, 120....  relax  \n",
       "13427  [241.0, 157.0, 118.0, 120.0, 114.0, 88.0, 57.0...  relax  \n",
       "13442  [481.0, 506.0, 505.0, 438.0, 374.0, 378.0, 408...  relax  \n",
       "13454  [35.0, 20.0, 26.0, 40.0, 50.0, 71.0, 52.0, 13....  relax  \n",
       "13470  [85.0, 88.0, 75.0, 56.0, 38.0, 35.0, 22.0, 13....  relax  \n",
       "13489  [58.0, 49.0, 39.0, 36.0, 20.0, 3.0, -2.0, -4.0...  relax  \n",
       "13503  [48.0, 53.0, 71.0, 77.0, 80.0, 90.0, 89.0, 74....  relax  \n",
       "13519  [109.0, 107.0, 100.0, 91.0, 103.0, 108.0, 102....  relax  \n",
       "13533  [-267.0, -249.0, -221.0, -197.0, -188.0, -187....  relax  \n",
       "13547  [54.0, 72.0, 68.0, 52.0, 40.0, 33.0, 32.0, 39....  relax  \n",
       "13562  [2.0, 6.0, 4.0, -5.0, -11.0, -3.0, 2.0, -3.0, ...  relax  \n",
       "13577  [85.0, 80.0, 88.0, 113.0, 122.0, 119.0, 128.0,...  relax  \n",
       "13592  [54.0, 48.0, 56.0, 66.0, 68.0, 58.0, 41.0, 37....  relax  \n",
       "13606  [-68.0, -56.0, -52.0, -54.0, -46.0, -35.0, -20...  relax  \n",
       "13622  [35.0, 39.0, 56.0, 67.0, 70.0, 57.0, 51.0, 52....  relax  \n",
       "13636  [168.0, 161.0, 155.0, 149.0, 131.0, 121.0, 132...  relax  \n",
       "13651  [91.0, 100.0, 116.0, 134.0, 131.0, 128.0, 141....  relax  \n",
       "13664  [48.0, 70.0, 86.0, 88.0, 75.0, 81.0, 90.0, 99....  relax  \n",
       "13679  [17.0, 28.0, 44.0, 50.0, 50.0, 56.0, 59.0, 44....  relax  \n",
       "13693  [86.0, 96.0, 91.0, 66.0, 51.0, 48.0, 45.0, 65....  relax  \n",
       "13708  [22.0, 28.0, 55.0, 50.0, 49.0, 32.0, 41.0, 59....  relax  "
      ]
     },
     "execution_count": 5,
     "metadata": {},
     "output_type": "execute_result"
    }
   ],
   "source": [
    "hey"
   ]
  },
  {
   "cell_type": "code",
   "execution_count": 6,
   "metadata": {},
   "outputs": [],
   "source": [
    "df = pd.read_csv(\"./eeg-data.csv\")\n",
    "df.raw_values = df.raw_values.map(json.loads)\n",
    "df.eeg_power = df.eeg_power.map(json.loads)\n",
    "relax = df[df.label == 'relax']\n",
    "math = df[(df.label == 'math1') |\n",
    "          (df.label == 'math2') |\n",
    "          (df.label == 'math3') |\n",
    "          (df.label == 'math4') |\n",
    "          (df.label == 'math5') |\n",
    "          (df.label == 'math6') |\n",
    "          (df.label == 'math7') |\n",
    "          (df.label == 'math8') |\n",
    "          (df.label == 'math9') |\n",
    "          (df.label == 'math10') |\n",
    "          (df.label == 'math11') |\n",
    "          (df.label == 'math12') ]"
   ]
  },
  {
   "cell_type": "code",
   "execution_count": 151,
   "metadata": {},
   "outputs": [],
   "source": [
    "one_math = math[math['id']==1]"
   ]
  },
  {
   "cell_type": "code",
   "execution_count": 106,
   "metadata": {},
   "outputs": [],
   "source": [
    "from sklearn.model_selection import cross_val_score\n",
    "from sklearn import svm\n",
    "def cross_val_svm (X,y,n):\n",
    "    clf = svm.SVC()\n",
    "    scores = cross_val_score(clf, X, y, cv=n)\n",
    "    return scores \n",
    "def vectors_labels (list1, list2):\n",
    "    def label (l):\n",
    "        return lambda x: l\n",
    "    X = list1 + list2\n",
    "    y = list(map(label(0), list1)) + list(map(label(1), list2))\n",
    "    return X, y\n"
   ]
  },
  {
   "cell_type": "code",
   "execution_count": 107,
   "metadata": {},
   "outputs": [],
   "source": [
    "from sklearn import preprocessing\n",
    "acc = []\n",
    "for subject in range(1,31):\n",
    "    m = math[math['id']==subject]\n",
    "    r = relax[relax['id']==subject]\n",
    "    X,y = vectors_labels(vectors(m),vectors(r))\n",
    "    X = preprocessing.scale(X)\n",
    "    X,y = shuffle(X,y, random_state=0)\n",
    "    acc.append(cross_val_svm(X,y,7))\n",
    "\n"
   ]
  },
  {
   "cell_type": "code",
   "execution_count": 108,
   "metadata": {},
   "outputs": [
    {
     "name": "stdout",
     "output_type": "stream",
     "text": [
      "( 0 ) avg_acc =  0.9523809523809523\n",
      "( 1 ) avg_acc =  0.9047619047619048\n",
      "( 2 ) avg_acc =  1.0\n",
      "( 3 ) avg_acc =  0.8571428571428571\n",
      "( 4 ) avg_acc =  0.8571428571428571\n",
      "( 5 ) avg_acc =  0.6666666666666666\n",
      "( 6 ) avg_acc =  0.5238095238095238\n",
      "( 7 ) avg_acc =  0.8333333333333334\n",
      "( 8 ) avg_acc =  0.8571428571428571\n",
      "( 9 ) avg_acc =  0.6666666666666666\n",
      "( 10 ) avg_acc =  0.7857142857142857\n",
      "( 11 ) avg_acc =  0.5952380952380951\n",
      "( 12 ) avg_acc =  0.9523809523809523\n",
      "( 13 ) avg_acc =  0.9047619047619048\n",
      "( 14 ) avg_acc =  0.5476190476190476\n",
      "( 15 ) avg_acc =  0.9523809523809523\n",
      "( 16 ) avg_acc =  0.47619047619047616\n",
      "( 17 ) avg_acc =  0.8095238095238094\n",
      "( 18 ) avg_acc =  0.9285714285714286\n",
      "( 19 ) avg_acc =  0.619047619047619\n",
      "( 20 ) avg_acc =  0.7857142857142857\n",
      "( 21 ) avg_acc =  0.5238095238095238\n",
      "( 22 ) avg_acc =  0.7619047619047619\n",
      "( 23 ) avg_acc =  0.9523809523809523\n",
      "( 24 ) avg_acc =  0.5238095238095238\n",
      "( 25 ) avg_acc =  0.5714285714285714\n",
      "( 26 ) avg_acc =  0.7619047619047619\n",
      "( 27 ) avg_acc =  0.6428571428571429\n",
      "( 28 ) avg_acc =  0.8619047619047618\n",
      "( 29 ) avg_acc =  0.9047619047619048\n"
     ]
    }
   ],
   "source": [
    "for i in range(len(acc)):\n",
    "    print('(',i,') avg_acc = ',sum(acc[i])/len(acc[i]))"
   ]
  },
  {
   "cell_type": "code",
   "execution_count": 109,
   "metadata": {},
   "outputs": [
    {
     "name": "stdout",
     "output_type": "stream",
     "text": [
      "max acc -  1.0\n",
      "avg acc -  0.7660317460317463\n",
      "min acc -  0.47619047619047616\n"
     ]
    }
   ],
   "source": [
    "print('max acc - ',max([sum(ac)/len(ac) for ac in acc]))\n",
    "print('avg acc - ',sum([sum(ac)/len(ac) for ac in acc])/len(acc))\n",
    "print('min acc - ',min([sum(ac)/len(ac) for ac in acc]))"
   ]
  },
  {
   "cell_type": "code",
   "execution_count": 110,
   "metadata": {},
   "outputs": [
    {
     "data": {
      "application/vnd.plotly.v1+json": {
       "config": {
        "plotlyServerURL": "https://plot.ly"
       },
       "data": [
        {
         "alignmentgroup": "True",
         "hovertemplate": "accuracy percentage=%{x}<br>number of subjects=%{y}<extra></extra>",
         "legendgroup": "",
         "marker": {
          "color": "#636efa",
          "pattern": {
           "shape": ""
          }
         },
         "name": "",
         "offsetgroup": "",
         "orientation": "v",
         "showlegend": false,
         "textposition": "auto",
         "type": "bar",
         "x": [
          0,
          1,
          2,
          3,
          4,
          5,
          6,
          7,
          8,
          9,
          10,
          11,
          12,
          13,
          14,
          15,
          16,
          17,
          18,
          19,
          20,
          21,
          22,
          23,
          24,
          25,
          26,
          27,
          28,
          29,
          30,
          31,
          32,
          33,
          34,
          35,
          36,
          37,
          38,
          39,
          40,
          41,
          42,
          43,
          44,
          45,
          46,
          47,
          48,
          49,
          50,
          51,
          52,
          53,
          54,
          55,
          56,
          57,
          58,
          59,
          60,
          61,
          62,
          63,
          64,
          65,
          66,
          67,
          68,
          69,
          70,
          71,
          72,
          73,
          74,
          75,
          76,
          77,
          78,
          79,
          80,
          81,
          82,
          83,
          84,
          85,
          86,
          87,
          88,
          89,
          90,
          91,
          92,
          93,
          94,
          95,
          96,
          97,
          98,
          99,
          100
         ],
         "xaxis": "x",
         "y": [
          0,
          0,
          0,
          0,
          0,
          0,
          0,
          0,
          0,
          0,
          0,
          0,
          0,
          0,
          0,
          0,
          0,
          0,
          0,
          0,
          0,
          0,
          0,
          0,
          0,
          0,
          0,
          0,
          0,
          0,
          0,
          0,
          0,
          0,
          0,
          0,
          0,
          0,
          0,
          0,
          0,
          0,
          0,
          0,
          0,
          0,
          0,
          1,
          0,
          0,
          0,
          0,
          3,
          0,
          1,
          0,
          0,
          1,
          0,
          1,
          0,
          1,
          0,
          0,
          1,
          0,
          2,
          0,
          0,
          0,
          0,
          0,
          0,
          0,
          0,
          0,
          2,
          0,
          2,
          0,
          1,
          0,
          0,
          1,
          0,
          3,
          1,
          0,
          0,
          0,
          3,
          0,
          1,
          0,
          0,
          4,
          0,
          0,
          0,
          0,
          1
         ],
         "yaxis": "y"
        }
       ],
       "layout": {
        "barmode": "relative",
        "height": 500,
        "legend": {
         "tracegroupgap": 0
        },
        "template": {
         "data": {
          "bar": [
           {
            "error_x": {
             "color": "#2a3f5f"
            },
            "error_y": {
             "color": "#2a3f5f"
            },
            "marker": {
             "line": {
              "color": "#E5ECF6",
              "width": 0.5
             },
             "pattern": {
              "fillmode": "overlay",
              "size": 10,
              "solidity": 0.2
             }
            },
            "type": "bar"
           }
          ],
          "barpolar": [
           {
            "marker": {
             "line": {
              "color": "#E5ECF6",
              "width": 0.5
             },
             "pattern": {
              "fillmode": "overlay",
              "size": 10,
              "solidity": 0.2
             }
            },
            "type": "barpolar"
           }
          ],
          "carpet": [
           {
            "aaxis": {
             "endlinecolor": "#2a3f5f",
             "gridcolor": "white",
             "linecolor": "white",
             "minorgridcolor": "white",
             "startlinecolor": "#2a3f5f"
            },
            "baxis": {
             "endlinecolor": "#2a3f5f",
             "gridcolor": "white",
             "linecolor": "white",
             "minorgridcolor": "white",
             "startlinecolor": "#2a3f5f"
            },
            "type": "carpet"
           }
          ],
          "choropleth": [
           {
            "colorbar": {
             "outlinewidth": 0,
             "ticks": ""
            },
            "type": "choropleth"
           }
          ],
          "contour": [
           {
            "colorbar": {
             "outlinewidth": 0,
             "ticks": ""
            },
            "colorscale": [
             [
              0,
              "#0d0887"
             ],
             [
              0.1111111111111111,
              "#46039f"
             ],
             [
              0.2222222222222222,
              "#7201a8"
             ],
             [
              0.3333333333333333,
              "#9c179e"
             ],
             [
              0.4444444444444444,
              "#bd3786"
             ],
             [
              0.5555555555555556,
              "#d8576b"
             ],
             [
              0.6666666666666666,
              "#ed7953"
             ],
             [
              0.7777777777777778,
              "#fb9f3a"
             ],
             [
              0.8888888888888888,
              "#fdca26"
             ],
             [
              1,
              "#f0f921"
             ]
            ],
            "type": "contour"
           }
          ],
          "contourcarpet": [
           {
            "colorbar": {
             "outlinewidth": 0,
             "ticks": ""
            },
            "type": "contourcarpet"
           }
          ],
          "heatmap": [
           {
            "colorbar": {
             "outlinewidth": 0,
             "ticks": ""
            },
            "colorscale": [
             [
              0,
              "#0d0887"
             ],
             [
              0.1111111111111111,
              "#46039f"
             ],
             [
              0.2222222222222222,
              "#7201a8"
             ],
             [
              0.3333333333333333,
              "#9c179e"
             ],
             [
              0.4444444444444444,
              "#bd3786"
             ],
             [
              0.5555555555555556,
              "#d8576b"
             ],
             [
              0.6666666666666666,
              "#ed7953"
             ],
             [
              0.7777777777777778,
              "#fb9f3a"
             ],
             [
              0.8888888888888888,
              "#fdca26"
             ],
             [
              1,
              "#f0f921"
             ]
            ],
            "type": "heatmap"
           }
          ],
          "heatmapgl": [
           {
            "colorbar": {
             "outlinewidth": 0,
             "ticks": ""
            },
            "colorscale": [
             [
              0,
              "#0d0887"
             ],
             [
              0.1111111111111111,
              "#46039f"
             ],
             [
              0.2222222222222222,
              "#7201a8"
             ],
             [
              0.3333333333333333,
              "#9c179e"
             ],
             [
              0.4444444444444444,
              "#bd3786"
             ],
             [
              0.5555555555555556,
              "#d8576b"
             ],
             [
              0.6666666666666666,
              "#ed7953"
             ],
             [
              0.7777777777777778,
              "#fb9f3a"
             ],
             [
              0.8888888888888888,
              "#fdca26"
             ],
             [
              1,
              "#f0f921"
             ]
            ],
            "type": "heatmapgl"
           }
          ],
          "histogram": [
           {
            "marker": {
             "pattern": {
              "fillmode": "overlay",
              "size": 10,
              "solidity": 0.2
             }
            },
            "type": "histogram"
           }
          ],
          "histogram2d": [
           {
            "colorbar": {
             "outlinewidth": 0,
             "ticks": ""
            },
            "colorscale": [
             [
              0,
              "#0d0887"
             ],
             [
              0.1111111111111111,
              "#46039f"
             ],
             [
              0.2222222222222222,
              "#7201a8"
             ],
             [
              0.3333333333333333,
              "#9c179e"
             ],
             [
              0.4444444444444444,
              "#bd3786"
             ],
             [
              0.5555555555555556,
              "#d8576b"
             ],
             [
              0.6666666666666666,
              "#ed7953"
             ],
             [
              0.7777777777777778,
              "#fb9f3a"
             ],
             [
              0.8888888888888888,
              "#fdca26"
             ],
             [
              1,
              "#f0f921"
             ]
            ],
            "type": "histogram2d"
           }
          ],
          "histogram2dcontour": [
           {
            "colorbar": {
             "outlinewidth": 0,
             "ticks": ""
            },
            "colorscale": [
             [
              0,
              "#0d0887"
             ],
             [
              0.1111111111111111,
              "#46039f"
             ],
             [
              0.2222222222222222,
              "#7201a8"
             ],
             [
              0.3333333333333333,
              "#9c179e"
             ],
             [
              0.4444444444444444,
              "#bd3786"
             ],
             [
              0.5555555555555556,
              "#d8576b"
             ],
             [
              0.6666666666666666,
              "#ed7953"
             ],
             [
              0.7777777777777778,
              "#fb9f3a"
             ],
             [
              0.8888888888888888,
              "#fdca26"
             ],
             [
              1,
              "#f0f921"
             ]
            ],
            "type": "histogram2dcontour"
           }
          ],
          "mesh3d": [
           {
            "colorbar": {
             "outlinewidth": 0,
             "ticks": ""
            },
            "type": "mesh3d"
           }
          ],
          "parcoords": [
           {
            "line": {
             "colorbar": {
              "outlinewidth": 0,
              "ticks": ""
             }
            },
            "type": "parcoords"
           }
          ],
          "pie": [
           {
            "automargin": true,
            "type": "pie"
           }
          ],
          "scatter": [
           {
            "marker": {
             "colorbar": {
              "outlinewidth": 0,
              "ticks": ""
             }
            },
            "type": "scatter"
           }
          ],
          "scatter3d": [
           {
            "line": {
             "colorbar": {
              "outlinewidth": 0,
              "ticks": ""
             }
            },
            "marker": {
             "colorbar": {
              "outlinewidth": 0,
              "ticks": ""
             }
            },
            "type": "scatter3d"
           }
          ],
          "scattercarpet": [
           {
            "marker": {
             "colorbar": {
              "outlinewidth": 0,
              "ticks": ""
             }
            },
            "type": "scattercarpet"
           }
          ],
          "scattergeo": [
           {
            "marker": {
             "colorbar": {
              "outlinewidth": 0,
              "ticks": ""
             }
            },
            "type": "scattergeo"
           }
          ],
          "scattergl": [
           {
            "marker": {
             "colorbar": {
              "outlinewidth": 0,
              "ticks": ""
             }
            },
            "type": "scattergl"
           }
          ],
          "scattermapbox": [
           {
            "marker": {
             "colorbar": {
              "outlinewidth": 0,
              "ticks": ""
             }
            },
            "type": "scattermapbox"
           }
          ],
          "scatterpolar": [
           {
            "marker": {
             "colorbar": {
              "outlinewidth": 0,
              "ticks": ""
             }
            },
            "type": "scatterpolar"
           }
          ],
          "scatterpolargl": [
           {
            "marker": {
             "colorbar": {
              "outlinewidth": 0,
              "ticks": ""
             }
            },
            "type": "scatterpolargl"
           }
          ],
          "scatterternary": [
           {
            "marker": {
             "colorbar": {
              "outlinewidth": 0,
              "ticks": ""
             }
            },
            "type": "scatterternary"
           }
          ],
          "surface": [
           {
            "colorbar": {
             "outlinewidth": 0,
             "ticks": ""
            },
            "colorscale": [
             [
              0,
              "#0d0887"
             ],
             [
              0.1111111111111111,
              "#46039f"
             ],
             [
              0.2222222222222222,
              "#7201a8"
             ],
             [
              0.3333333333333333,
              "#9c179e"
             ],
             [
              0.4444444444444444,
              "#bd3786"
             ],
             [
              0.5555555555555556,
              "#d8576b"
             ],
             [
              0.6666666666666666,
              "#ed7953"
             ],
             [
              0.7777777777777778,
              "#fb9f3a"
             ],
             [
              0.8888888888888888,
              "#fdca26"
             ],
             [
              1,
              "#f0f921"
             ]
            ],
            "type": "surface"
           }
          ],
          "table": [
           {
            "cells": {
             "fill": {
              "color": "#EBF0F8"
             },
             "line": {
              "color": "white"
             }
            },
            "header": {
             "fill": {
              "color": "#C8D4E3"
             },
             "line": {
              "color": "white"
             }
            },
            "type": "table"
           }
          ]
         },
         "layout": {
          "annotationdefaults": {
           "arrowcolor": "#2a3f5f",
           "arrowhead": 0,
           "arrowwidth": 1
          },
          "autotypenumbers": "strict",
          "coloraxis": {
           "colorbar": {
            "outlinewidth": 0,
            "ticks": ""
           }
          },
          "colorscale": {
           "diverging": [
            [
             0,
             "#8e0152"
            ],
            [
             0.1,
             "#c51b7d"
            ],
            [
             0.2,
             "#de77ae"
            ],
            [
             0.3,
             "#f1b6da"
            ],
            [
             0.4,
             "#fde0ef"
            ],
            [
             0.5,
             "#f7f7f7"
            ],
            [
             0.6,
             "#e6f5d0"
            ],
            [
             0.7,
             "#b8e186"
            ],
            [
             0.8,
             "#7fbc41"
            ],
            [
             0.9,
             "#4d9221"
            ],
            [
             1,
             "#276419"
            ]
           ],
           "sequential": [
            [
             0,
             "#0d0887"
            ],
            [
             0.1111111111111111,
             "#46039f"
            ],
            [
             0.2222222222222222,
             "#7201a8"
            ],
            [
             0.3333333333333333,
             "#9c179e"
            ],
            [
             0.4444444444444444,
             "#bd3786"
            ],
            [
             0.5555555555555556,
             "#d8576b"
            ],
            [
             0.6666666666666666,
             "#ed7953"
            ],
            [
             0.7777777777777778,
             "#fb9f3a"
            ],
            [
             0.8888888888888888,
             "#fdca26"
            ],
            [
             1,
             "#f0f921"
            ]
           ],
           "sequentialminus": [
            [
             0,
             "#0d0887"
            ],
            [
             0.1111111111111111,
             "#46039f"
            ],
            [
             0.2222222222222222,
             "#7201a8"
            ],
            [
             0.3333333333333333,
             "#9c179e"
            ],
            [
             0.4444444444444444,
             "#bd3786"
            ],
            [
             0.5555555555555556,
             "#d8576b"
            ],
            [
             0.6666666666666666,
             "#ed7953"
            ],
            [
             0.7777777777777778,
             "#fb9f3a"
            ],
            [
             0.8888888888888888,
             "#fdca26"
            ],
            [
             1,
             "#f0f921"
            ]
           ]
          },
          "colorway": [
           "#636efa",
           "#EF553B",
           "#00cc96",
           "#ab63fa",
           "#FFA15A",
           "#19d3f3",
           "#FF6692",
           "#B6E880",
           "#FF97FF",
           "#FECB52"
          ],
          "font": {
           "color": "#2a3f5f"
          },
          "geo": {
           "bgcolor": "white",
           "lakecolor": "white",
           "landcolor": "#E5ECF6",
           "showlakes": true,
           "showland": true,
           "subunitcolor": "white"
          },
          "hoverlabel": {
           "align": "left"
          },
          "hovermode": "closest",
          "mapbox": {
           "style": "light"
          },
          "paper_bgcolor": "white",
          "plot_bgcolor": "#E5ECF6",
          "polar": {
           "angularaxis": {
            "gridcolor": "white",
            "linecolor": "white",
            "ticks": ""
           },
           "bgcolor": "#E5ECF6",
           "radialaxis": {
            "gridcolor": "white",
            "linecolor": "white",
            "ticks": ""
           }
          },
          "scene": {
           "xaxis": {
            "backgroundcolor": "#E5ECF6",
            "gridcolor": "white",
            "gridwidth": 2,
            "linecolor": "white",
            "showbackground": true,
            "ticks": "",
            "zerolinecolor": "white"
           },
           "yaxis": {
            "backgroundcolor": "#E5ECF6",
            "gridcolor": "white",
            "gridwidth": 2,
            "linecolor": "white",
            "showbackground": true,
            "ticks": "",
            "zerolinecolor": "white"
           },
           "zaxis": {
            "backgroundcolor": "#E5ECF6",
            "gridcolor": "white",
            "gridwidth": 2,
            "linecolor": "white",
            "showbackground": true,
            "ticks": "",
            "zerolinecolor": "white"
           }
          },
          "shapedefaults": {
           "line": {
            "color": "#2a3f5f"
           }
          },
          "ternary": {
           "aaxis": {
            "gridcolor": "white",
            "linecolor": "white",
            "ticks": ""
           },
           "baxis": {
            "gridcolor": "white",
            "linecolor": "white",
            "ticks": ""
           },
           "bgcolor": "#E5ECF6",
           "caxis": {
            "gridcolor": "white",
            "linecolor": "white",
            "ticks": ""
           }
          },
          "title": {
           "x": 0.05
          },
          "xaxis": {
           "automargin": true,
           "gridcolor": "white",
           "linecolor": "white",
           "ticks": "",
           "title": {
            "standoff": 15
           },
           "zerolinecolor": "white",
           "zerolinewidth": 2
          },
          "yaxis": {
           "automargin": true,
           "gridcolor": "white",
           "linecolor": "white",
           "ticks": "",
           "title": {
            "standoff": 15
           },
           "zerolinecolor": "white",
           "zerolinewidth": 2
          }
         }
        },
        "title": {
         "text": "2 activities classifier (SVM + MATH METHOD)"
        },
        "width": 1000,
        "xaxis": {
         "anchor": "y",
         "domain": [
          0,
          1
         ],
         "title": {
          "text": "accuracy percentage"
         }
        },
        "yaxis": {
         "anchor": "x",
         "domain": [
          0,
          1
         ],
         "title": {
          "text": "number of subjects"
         }
        }
       }
      }
     },
     "metadata": {},
     "output_type": "display_data"
    }
   ],
   "source": [
    "newacc = [sum(acc[i])/len(acc[i]) for i in range(len(acc))]\n",
    "histro = {'x':[i for i in range(0,101)],'y':[0 for i in range(0,101)]}\n",
    "for ac in newacc:\n",
    "    newval = (int(ac*100)//1)*1\n",
    "    histro['y'][newval]+=1\n",
    "import plotly.express as px\n",
    "fig = px.bar(histro, x='x', y='y',labels={\n",
    "                     'x':'accuracy percentage','y':'number of subjects'\n",
    "                 },title = '2 activities classifier (SVM + MATH METHOD)',width=1000, height=500)\n",
    "fig.show()\n"
   ]
  },
  {
   "cell_type": "code",
   "execution_count": null,
   "metadata": {},
   "outputs": [],
   "source": [
    "from sklearn import preprocessing\n",
    "acc = []\n",
    "for subject in range(1,31):\n",
    "    m = math[math['id']==subject]\n",
    "    r = relax[relax['id']==subject]\n",
    "    X,y = vectors_labels(vectors(m),vectors(r))\n",
    "    X = preprocessing.scale(X)\n",
    "    X,y = shuffle(X,y, random_state=0)\n",
    "    acc.append(cross_val_svm(X,y,7))\n",
    "\n"
   ]
  },
  {
   "cell_type": "code",
   "execution_count": 166,
   "metadata": {},
   "outputs": [],
   "source": [
    "from sklearn import preprocessing\n",
    "accy = {'max':[],'min':[],'avg':[],'bins':[]}\n",
    "for k in range(1,250,3):\n",
    "    acc = []\n",
    "    for subject in range(1,31):\n",
    "        m = math[math['id']==subject]\n",
    "        r = relax[relax['id']==subject]\n",
    "        X,y = vectors_labels(vectors(m,bins = k),vectors(r,bins = k))\n",
    "        X = preprocessing.scale(X)\n",
    "        X,y = shuffle(X,y, random_state=0)\n",
    "        acc.append(cross_val_svm(X,y,7))\n",
    "    accy['max'].append(max([sum(ac)/len(ac) for ac in acc]))\n",
    "    accy['min'].append(min([sum(ac)/len(ac) for ac in acc]))\n",
    "    accy['avg'].append(sum([sum(ac)/len(ac) for ac in acc])/len(acc))\n",
    "    accy['bins'].append(k)\n"
   ]
  },
  {
   "cell_type": "code",
   "execution_count": 179,
   "metadata": {},
   "outputs": [
    {
     "data": {
      "application/vnd.plotly.v1+json": {
       "config": {
        "plotlyServerURL": "https://plot.ly"
       },
       "data": [
        {
         "line": {
          "color": "rgb(31, 119, 180)"
         },
         "mode": "lines",
         "name": "Average",
         "type": "scatter",
         "x": [
          1,
          4,
          7,
          10,
          13,
          16,
          19,
          22,
          25,
          28,
          31,
          34,
          37,
          40,
          43,
          46,
          49,
          52,
          55,
          58,
          61,
          64,
          67,
          70,
          73,
          76,
          79,
          82,
          85,
          88,
          91,
          94,
          97,
          100,
          103,
          106,
          109,
          112,
          115,
          118,
          121,
          124,
          127,
          130,
          133,
          136,
          139,
          142,
          145,
          148,
          151,
          154,
          157,
          160,
          163,
          166,
          169,
          172,
          175,
          178,
          181,
          184,
          187,
          190,
          193,
          196,
          199,
          202,
          205,
          208,
          211,
          214,
          217,
          220,
          223,
          226,
          229,
          232,
          235,
          238,
          241,
          244,
          247
         ],
         "y": [
          0.5371428571428571,
          0.706031746031746,
          0.7290476190476192,
          0.754920634920635,
          0.7725396825396825,
          0.7471428571428574,
          0.7623809523809524,
          0.7549206349206349,
          0.7469841269841272,
          0.7541269841269841,
          0.7652380952380953,
          0.7514285714285713,
          0.7612698412698414,
          0.7722222222222221,
          0.7642857142857142,
          0.7753968253968254,
          0.7692063492063492,
          0.7588888888888887,
          0.7604761904761903,
          0.7676190476190475,
          0.7684126984126983,
          0.7660317460317461,
          0.7612698412698412,
          0.7534920634920633,
          0.7630158730158728,
          0.7590476190476191,
          0.7693650793650794,
          0.7701587301587302,
          0.7638095238095238,
          0.7614285714285715,
          0.7709523809523813,
          0.7676190476190479,
          0.7723809523809526,
          0.7660317460317463,
          0.7549206349206351,
          0.7580952380952383,
          0.762857142857143,
          0.7620634920634921,
          0.7636507936507937,
          0.7604761904761906,
          0.7549206349206351,
          0.7604761904761905,
          0.7628571428571429,
          0.7652380952380953,
          0.7588888888888888,
          0.7676190476190476,
          0.7676190476190476,
          0.7660317460317461,
          0.7644444444444444,
          0.7620634920634919,
          0.7588888888888887,
          0.7596825396825396,
          0.7620634920634919,
          0.7557142857142856,
          0.7477777777777777,
          0.746190476190476,
          0.7446031746031744,
          0.7350793650793649,
          0.7382539682539679,
          0.7384126984126983,
          0.7336507936507934,
          0.731269841269841,
          0.7368253968253966,
          0.731269841269841,
          0.7265079365079362,
          0.7257142857142855,
          0.723333333333333,
          0.7249206349206346,
          0.7239682539682537,
          0.7263492063492062,
          0.7333333333333331,
          0.7295238095238094,
          0.7326984126984125,
          0.7263492063492062,
          0.7288888888888887,
          0.735079365079365,
          0.7407936507936508,
          0.7360317460317459,
          0.7344444444444443,
          0.736031746031746,
          0.7360317460317459,
          0.7336507936507937,
          0.7320634920634921
         ]
        },
        {
         "line": {
          "width": 0
         },
         "marker": {
          "color": "#444"
         },
         "mode": "lines",
         "name": "Upper Bound",
         "showlegend": false,
         "type": "scatter",
         "x": [
          1,
          4,
          7,
          10,
          13,
          16,
          19,
          22,
          25,
          28,
          31,
          34,
          37,
          40,
          43,
          46,
          49,
          52,
          55,
          58,
          61,
          64,
          67,
          70,
          73,
          76,
          79,
          82,
          85,
          88,
          91,
          94,
          97,
          100,
          103,
          106,
          109,
          112,
          115,
          118,
          121,
          124,
          127,
          130,
          133,
          136,
          139,
          142,
          145,
          148,
          151,
          154,
          157,
          160,
          163,
          166,
          169,
          172,
          175,
          178,
          181,
          184,
          187,
          190,
          193,
          196,
          199,
          202,
          205,
          208,
          211,
          214,
          217,
          220,
          223,
          226,
          229,
          232,
          235,
          238,
          241,
          244,
          247
         ],
         "y": [
          0.8333333333333333,
          1,
          1,
          1,
          1,
          1,
          1,
          1,
          1,
          1,
          1,
          1,
          1,
          1,
          1,
          1,
          1,
          1,
          1,
          1,
          1,
          1,
          1,
          1,
          1,
          1,
          1,
          1,
          0.9523809523809523,
          0.9523809523809523,
          1,
          0.9523809523809523,
          1,
          1,
          1,
          1,
          1,
          1,
          1,
          1,
          1,
          1,
          1,
          1,
          1,
          1,
          1,
          1,
          0.9523809523809524,
          1,
          1,
          1,
          1,
          0.9523809523809523,
          0.9523809523809523,
          0.9523809523809523,
          0.9523809523809523,
          0.9523809523809523,
          0.9523809523809523,
          0.9523809523809523,
          0.9523809523809523,
          0.9523809523809523,
          0.9523809523809523,
          0.9523809523809523,
          0.9523809523809523,
          0.9523809523809523,
          0.9523809523809523,
          0.9523809523809523,
          0.9523809523809523,
          0.9523809523809523,
          0.9523809523809523,
          0.9523809523809523,
          0.9523809523809523,
          0.9523809523809523,
          0.9523809523809523,
          0.9523809523809523,
          0.9523809523809523,
          0.9523809523809523,
          0.9523809523809523,
          0.9523809523809523,
          0.9523809523809523,
          0.9523809523809523,
          0.9523809523809523
         ]
        },
        {
         "fill": "tonexty",
         "fillcolor": "rgba(68, 68, 68, 0.3)",
         "line": {
          "width": 0
         },
         "marker": {
          "color": "#444"
         },
         "mode": "lines",
         "name": "Lower Bound",
         "showlegend": false,
         "type": "scatter",
         "x": [
          1,
          4,
          7,
          10,
          13,
          16,
          19,
          22,
          25,
          28,
          31,
          34,
          37,
          40,
          43,
          46,
          49,
          52,
          55,
          58,
          61,
          64,
          67,
          70,
          73,
          76,
          79,
          82,
          85,
          88,
          91,
          94,
          97,
          100,
          103,
          106,
          109,
          112,
          115,
          118,
          121,
          124,
          127,
          130,
          133,
          136,
          139,
          142,
          145,
          148,
          151,
          154,
          157,
          160,
          163,
          166,
          169,
          172,
          175,
          178,
          181,
          184,
          187,
          190,
          193,
          196,
          199,
          202,
          205,
          208,
          211,
          214,
          217,
          220,
          223,
          226,
          229,
          232,
          235,
          238,
          241,
          244,
          247
         ],
         "y": [
          0.2619047619047619,
          0.38095238095238093,
          0.2619047619047619,
          0.35714285714285715,
          0.4523809523809524,
          0.4047619047619047,
          0.3333333333333333,
          0.4047619047619047,
          0.3333333333333333,
          0.4047619047619047,
          0.4047619047619047,
          0.4047619047619047,
          0.4047619047619047,
          0.47619047619047616,
          0.47619047619047616,
          0.47619047619047616,
          0.47619047619047616,
          0.47619047619047616,
          0.47619047619047616,
          0.47619047619047616,
          0.47619047619047616,
          0.42857142857142855,
          0.42857142857142855,
          0.42857142857142855,
          0.42857142857142855,
          0.47619047619047616,
          0.47619047619047616,
          0.47619047619047616,
          0.47619047619047616,
          0.47619047619047616,
          0.47619047619047616,
          0.47619047619047616,
          0.47619047619047616,
          0.47619047619047616,
          0.42857142857142855,
          0.42857142857142855,
          0.47619047619047616,
          0.47619047619047616,
          0.47619047619047616,
          0.35714285714285715,
          0.35714285714285715,
          0.35714285714285715,
          0.45238095238095244,
          0.4047619047619047,
          0.35714285714285715,
          0.42857142857142855,
          0.38095238095238093,
          0.47619047619047616,
          0.47619047619047616,
          0.47619047619047616,
          0.47619047619047616,
          0.47619047619047616,
          0.47619047619047616,
          0.42857142857142855,
          0.42857142857142855,
          0.42857142857142855,
          0.47619047619047616,
          0.42857142857142855,
          0.42857142857142855,
          0.4047619047619047,
          0.38095238095238093,
          0.38095238095238093,
          0.38095238095238093,
          0.38095238095238093,
          0.38095238095238093,
          0.38095238095238093,
          0.42857142857142855,
          0.42857142857142855,
          0.4523809523809524,
          0.42857142857142855,
          0.4523809523809524,
          0.4523809523809524,
          0.4523809523809524,
          0.38095238095238093,
          0.38095238095238093,
          0.38095238095238093,
          0.38095238095238093,
          0.38095238095238093,
          0.38095238095238093,
          0.38095238095238093,
          0.38095238095238093,
          0.38095238095238093,
          0.38095238095238093
         ]
        }
       ],
       "layout": {
        "autosize": false,
        "height": 500,
        "template": {
         "data": {
          "bar": [
           {
            "error_x": {
             "color": "#2a3f5f"
            },
            "error_y": {
             "color": "#2a3f5f"
            },
            "marker": {
             "line": {
              "color": "#E5ECF6",
              "width": 0.5
             },
             "pattern": {
              "fillmode": "overlay",
              "size": 10,
              "solidity": 0.2
             }
            },
            "type": "bar"
           }
          ],
          "barpolar": [
           {
            "marker": {
             "line": {
              "color": "#E5ECF6",
              "width": 0.5
             },
             "pattern": {
              "fillmode": "overlay",
              "size": 10,
              "solidity": 0.2
             }
            },
            "type": "barpolar"
           }
          ],
          "carpet": [
           {
            "aaxis": {
             "endlinecolor": "#2a3f5f",
             "gridcolor": "white",
             "linecolor": "white",
             "minorgridcolor": "white",
             "startlinecolor": "#2a3f5f"
            },
            "baxis": {
             "endlinecolor": "#2a3f5f",
             "gridcolor": "white",
             "linecolor": "white",
             "minorgridcolor": "white",
             "startlinecolor": "#2a3f5f"
            },
            "type": "carpet"
           }
          ],
          "choropleth": [
           {
            "colorbar": {
             "outlinewidth": 0,
             "ticks": ""
            },
            "type": "choropleth"
           }
          ],
          "contour": [
           {
            "colorbar": {
             "outlinewidth": 0,
             "ticks": ""
            },
            "colorscale": [
             [
              0,
              "#0d0887"
             ],
             [
              0.1111111111111111,
              "#46039f"
             ],
             [
              0.2222222222222222,
              "#7201a8"
             ],
             [
              0.3333333333333333,
              "#9c179e"
             ],
             [
              0.4444444444444444,
              "#bd3786"
             ],
             [
              0.5555555555555556,
              "#d8576b"
             ],
             [
              0.6666666666666666,
              "#ed7953"
             ],
             [
              0.7777777777777778,
              "#fb9f3a"
             ],
             [
              0.8888888888888888,
              "#fdca26"
             ],
             [
              1,
              "#f0f921"
             ]
            ],
            "type": "contour"
           }
          ],
          "contourcarpet": [
           {
            "colorbar": {
             "outlinewidth": 0,
             "ticks": ""
            },
            "type": "contourcarpet"
           }
          ],
          "heatmap": [
           {
            "colorbar": {
             "outlinewidth": 0,
             "ticks": ""
            },
            "colorscale": [
             [
              0,
              "#0d0887"
             ],
             [
              0.1111111111111111,
              "#46039f"
             ],
             [
              0.2222222222222222,
              "#7201a8"
             ],
             [
              0.3333333333333333,
              "#9c179e"
             ],
             [
              0.4444444444444444,
              "#bd3786"
             ],
             [
              0.5555555555555556,
              "#d8576b"
             ],
             [
              0.6666666666666666,
              "#ed7953"
             ],
             [
              0.7777777777777778,
              "#fb9f3a"
             ],
             [
              0.8888888888888888,
              "#fdca26"
             ],
             [
              1,
              "#f0f921"
             ]
            ],
            "type": "heatmap"
           }
          ],
          "heatmapgl": [
           {
            "colorbar": {
             "outlinewidth": 0,
             "ticks": ""
            },
            "colorscale": [
             [
              0,
              "#0d0887"
             ],
             [
              0.1111111111111111,
              "#46039f"
             ],
             [
              0.2222222222222222,
              "#7201a8"
             ],
             [
              0.3333333333333333,
              "#9c179e"
             ],
             [
              0.4444444444444444,
              "#bd3786"
             ],
             [
              0.5555555555555556,
              "#d8576b"
             ],
             [
              0.6666666666666666,
              "#ed7953"
             ],
             [
              0.7777777777777778,
              "#fb9f3a"
             ],
             [
              0.8888888888888888,
              "#fdca26"
             ],
             [
              1,
              "#f0f921"
             ]
            ],
            "type": "heatmapgl"
           }
          ],
          "histogram": [
           {
            "marker": {
             "pattern": {
              "fillmode": "overlay",
              "size": 10,
              "solidity": 0.2
             }
            },
            "type": "histogram"
           }
          ],
          "histogram2d": [
           {
            "colorbar": {
             "outlinewidth": 0,
             "ticks": ""
            },
            "colorscale": [
             [
              0,
              "#0d0887"
             ],
             [
              0.1111111111111111,
              "#46039f"
             ],
             [
              0.2222222222222222,
              "#7201a8"
             ],
             [
              0.3333333333333333,
              "#9c179e"
             ],
             [
              0.4444444444444444,
              "#bd3786"
             ],
             [
              0.5555555555555556,
              "#d8576b"
             ],
             [
              0.6666666666666666,
              "#ed7953"
             ],
             [
              0.7777777777777778,
              "#fb9f3a"
             ],
             [
              0.8888888888888888,
              "#fdca26"
             ],
             [
              1,
              "#f0f921"
             ]
            ],
            "type": "histogram2d"
           }
          ],
          "histogram2dcontour": [
           {
            "colorbar": {
             "outlinewidth": 0,
             "ticks": ""
            },
            "colorscale": [
             [
              0,
              "#0d0887"
             ],
             [
              0.1111111111111111,
              "#46039f"
             ],
             [
              0.2222222222222222,
              "#7201a8"
             ],
             [
              0.3333333333333333,
              "#9c179e"
             ],
             [
              0.4444444444444444,
              "#bd3786"
             ],
             [
              0.5555555555555556,
              "#d8576b"
             ],
             [
              0.6666666666666666,
              "#ed7953"
             ],
             [
              0.7777777777777778,
              "#fb9f3a"
             ],
             [
              0.8888888888888888,
              "#fdca26"
             ],
             [
              1,
              "#f0f921"
             ]
            ],
            "type": "histogram2dcontour"
           }
          ],
          "mesh3d": [
           {
            "colorbar": {
             "outlinewidth": 0,
             "ticks": ""
            },
            "type": "mesh3d"
           }
          ],
          "parcoords": [
           {
            "line": {
             "colorbar": {
              "outlinewidth": 0,
              "ticks": ""
             }
            },
            "type": "parcoords"
           }
          ],
          "pie": [
           {
            "automargin": true,
            "type": "pie"
           }
          ],
          "scatter": [
           {
            "marker": {
             "colorbar": {
              "outlinewidth": 0,
              "ticks": ""
             }
            },
            "type": "scatter"
           }
          ],
          "scatter3d": [
           {
            "line": {
             "colorbar": {
              "outlinewidth": 0,
              "ticks": ""
             }
            },
            "marker": {
             "colorbar": {
              "outlinewidth": 0,
              "ticks": ""
             }
            },
            "type": "scatter3d"
           }
          ],
          "scattercarpet": [
           {
            "marker": {
             "colorbar": {
              "outlinewidth": 0,
              "ticks": ""
             }
            },
            "type": "scattercarpet"
           }
          ],
          "scattergeo": [
           {
            "marker": {
             "colorbar": {
              "outlinewidth": 0,
              "ticks": ""
             }
            },
            "type": "scattergeo"
           }
          ],
          "scattergl": [
           {
            "marker": {
             "colorbar": {
              "outlinewidth": 0,
              "ticks": ""
             }
            },
            "type": "scattergl"
           }
          ],
          "scattermapbox": [
           {
            "marker": {
             "colorbar": {
              "outlinewidth": 0,
              "ticks": ""
             }
            },
            "type": "scattermapbox"
           }
          ],
          "scatterpolar": [
           {
            "marker": {
             "colorbar": {
              "outlinewidth": 0,
              "ticks": ""
             }
            },
            "type": "scatterpolar"
           }
          ],
          "scatterpolargl": [
           {
            "marker": {
             "colorbar": {
              "outlinewidth": 0,
              "ticks": ""
             }
            },
            "type": "scatterpolargl"
           }
          ],
          "scatterternary": [
           {
            "marker": {
             "colorbar": {
              "outlinewidth": 0,
              "ticks": ""
             }
            },
            "type": "scatterternary"
           }
          ],
          "surface": [
           {
            "colorbar": {
             "outlinewidth": 0,
             "ticks": ""
            },
            "colorscale": [
             [
              0,
              "#0d0887"
             ],
             [
              0.1111111111111111,
              "#46039f"
             ],
             [
              0.2222222222222222,
              "#7201a8"
             ],
             [
              0.3333333333333333,
              "#9c179e"
             ],
             [
              0.4444444444444444,
              "#bd3786"
             ],
             [
              0.5555555555555556,
              "#d8576b"
             ],
             [
              0.6666666666666666,
              "#ed7953"
             ],
             [
              0.7777777777777778,
              "#fb9f3a"
             ],
             [
              0.8888888888888888,
              "#fdca26"
             ],
             [
              1,
              "#f0f921"
             ]
            ],
            "type": "surface"
           }
          ],
          "table": [
           {
            "cells": {
             "fill": {
              "color": "#EBF0F8"
             },
             "line": {
              "color": "white"
             }
            },
            "header": {
             "fill": {
              "color": "#C8D4E3"
             },
             "line": {
              "color": "white"
             }
            },
            "type": "table"
           }
          ]
         },
         "layout": {
          "annotationdefaults": {
           "arrowcolor": "#2a3f5f",
           "arrowhead": 0,
           "arrowwidth": 1
          },
          "autotypenumbers": "strict",
          "coloraxis": {
           "colorbar": {
            "outlinewidth": 0,
            "ticks": ""
           }
          },
          "colorscale": {
           "diverging": [
            [
             0,
             "#8e0152"
            ],
            [
             0.1,
             "#c51b7d"
            ],
            [
             0.2,
             "#de77ae"
            ],
            [
             0.3,
             "#f1b6da"
            ],
            [
             0.4,
             "#fde0ef"
            ],
            [
             0.5,
             "#f7f7f7"
            ],
            [
             0.6,
             "#e6f5d0"
            ],
            [
             0.7,
             "#b8e186"
            ],
            [
             0.8,
             "#7fbc41"
            ],
            [
             0.9,
             "#4d9221"
            ],
            [
             1,
             "#276419"
            ]
           ],
           "sequential": [
            [
             0,
             "#0d0887"
            ],
            [
             0.1111111111111111,
             "#46039f"
            ],
            [
             0.2222222222222222,
             "#7201a8"
            ],
            [
             0.3333333333333333,
             "#9c179e"
            ],
            [
             0.4444444444444444,
             "#bd3786"
            ],
            [
             0.5555555555555556,
             "#d8576b"
            ],
            [
             0.6666666666666666,
             "#ed7953"
            ],
            [
             0.7777777777777778,
             "#fb9f3a"
            ],
            [
             0.8888888888888888,
             "#fdca26"
            ],
            [
             1,
             "#f0f921"
            ]
           ],
           "sequentialminus": [
            [
             0,
             "#0d0887"
            ],
            [
             0.1111111111111111,
             "#46039f"
            ],
            [
             0.2222222222222222,
             "#7201a8"
            ],
            [
             0.3333333333333333,
             "#9c179e"
            ],
            [
             0.4444444444444444,
             "#bd3786"
            ],
            [
             0.5555555555555556,
             "#d8576b"
            ],
            [
             0.6666666666666666,
             "#ed7953"
            ],
            [
             0.7777777777777778,
             "#fb9f3a"
            ],
            [
             0.8888888888888888,
             "#fdca26"
            ],
            [
             1,
             "#f0f921"
            ]
           ]
          },
          "colorway": [
           "#636efa",
           "#EF553B",
           "#00cc96",
           "#ab63fa",
           "#FFA15A",
           "#19d3f3",
           "#FF6692",
           "#B6E880",
           "#FF97FF",
           "#FECB52"
          ],
          "font": {
           "color": "#2a3f5f"
          },
          "geo": {
           "bgcolor": "white",
           "lakecolor": "white",
           "landcolor": "#E5ECF6",
           "showlakes": true,
           "showland": true,
           "subunitcolor": "white"
          },
          "hoverlabel": {
           "align": "left"
          },
          "hovermode": "closest",
          "mapbox": {
           "style": "light"
          },
          "paper_bgcolor": "white",
          "plot_bgcolor": "#E5ECF6",
          "polar": {
           "angularaxis": {
            "gridcolor": "white",
            "linecolor": "white",
            "ticks": ""
           },
           "bgcolor": "#E5ECF6",
           "radialaxis": {
            "gridcolor": "white",
            "linecolor": "white",
            "ticks": ""
           }
          },
          "scene": {
           "xaxis": {
            "backgroundcolor": "#E5ECF6",
            "gridcolor": "white",
            "gridwidth": 2,
            "linecolor": "white",
            "showbackground": true,
            "ticks": "",
            "zerolinecolor": "white"
           },
           "yaxis": {
            "backgroundcolor": "#E5ECF6",
            "gridcolor": "white",
            "gridwidth": 2,
            "linecolor": "white",
            "showbackground": true,
            "ticks": "",
            "zerolinecolor": "white"
           },
           "zaxis": {
            "backgroundcolor": "#E5ECF6",
            "gridcolor": "white",
            "gridwidth": 2,
            "linecolor": "white",
            "showbackground": true,
            "ticks": "",
            "zerolinecolor": "white"
           }
          },
          "shapedefaults": {
           "line": {
            "color": "#2a3f5f"
           }
          },
          "ternary": {
           "aaxis": {
            "gridcolor": "white",
            "linecolor": "white",
            "ticks": ""
           },
           "baxis": {
            "gridcolor": "white",
            "linecolor": "white",
            "ticks": ""
           },
           "bgcolor": "#E5ECF6",
           "caxis": {
            "gridcolor": "white",
            "linecolor": "white",
            "ticks": ""
           }
          },
          "title": {
           "x": 0.05
          },
          "xaxis": {
           "automargin": true,
           "gridcolor": "white",
           "linecolor": "white",
           "ticks": "",
           "title": {
            "standoff": 15
           },
           "zerolinecolor": "white",
           "zerolinewidth": 2
          },
          "yaxis": {
           "automargin": true,
           "gridcolor": "white",
           "linecolor": "white",
           "ticks": "",
           "title": {
            "standoff": 15
           },
           "zerolinecolor": "white",
           "zerolinewidth": 2
          }
         }
        },
        "width": 1000
       }
      }
     },
     "metadata": {},
     "output_type": "display_data"
    }
   ],
   "source": [
    "import plotly.graph_objs as go\n",
    "fig = go.Figure([\n",
    "    go.Scatter(\n",
    "        name = 'Average',\n",
    "        x=accy['bins'],\n",
    "        y=accy['avg'],\n",
    "        mode='lines',\n",
    "        line=dict(color='rgb(31, 119, 180)')\n",
    "        \n",
    "    ),\n",
    "    go.Scatter(\n",
    "        name='Upper Bound',\n",
    "        x=accy['bins'],\n",
    "        y=accy['max'],\n",
    "        mode='lines',\n",
    "        marker=dict(color=\"#444\"),\n",
    "        line=dict(width=0),\n",
    "        showlegend=False\n",
    "        \n",
    "    ),\n",
    "    go.Scatter(\n",
    "        name='Lower Bound',\n",
    "        x=accy['bins'],\n",
    "        y=accy['min'],\n",
    "        marker=dict(color=\"#444\"),\n",
    "        line=dict(width=0),\n",
    "        mode='lines',\n",
    "        fillcolor='rgba(68, 68, 68, 0.3)',\n",
    "        fill='tonexty',\n",
    "        showlegend=False\n",
    "    )\n",
    "])\n",
    "#fig.update_xaxes(type='log')\n",
    "fig.update_layout(\n",
    "    autosize=False,\n",
    "    width=1000,\n",
    "    height=500,\n",
    "    \n",
    ")"
   ]
  },
  {
   "cell_type": "code",
   "execution_count": 171,
   "metadata": {},
   "outputs": [
    {
     "data": {
      "application/vnd.plotly.v1+json": {
       "config": {
        "plotlyServerURL": "https://plot.ly"
       },
       "data": [
        {
         "line": {
          "color": "rgb(31, 119, 180)"
         },
         "mode": "lines",
         "type": "scatter",
         "x": [
          1,
          4,
          7,
          10,
          13,
          16,
          19,
          22,
          25,
          28,
          31,
          34,
          37,
          40,
          43,
          46,
          49,
          52,
          55,
          58,
          61,
          64,
          67,
          70,
          73,
          76,
          79,
          82,
          85,
          88,
          91,
          94,
          97,
          100,
          103,
          106,
          109,
          112,
          115,
          118,
          121,
          124,
          127,
          130,
          133,
          136,
          139,
          142,
          145,
          148,
          151,
          154,
          157,
          160,
          163,
          166,
          169,
          172,
          175,
          178,
          181,
          184,
          187,
          190,
          193,
          196,
          199,
          202,
          205,
          208,
          211,
          214,
          217,
          220,
          223,
          226,
          229,
          232,
          235,
          238,
          241,
          244,
          247
         ],
         "y": [
          0.5371428571428571,
          0.706031746031746,
          0.7290476190476192,
          0.754920634920635,
          0.7725396825396825,
          0.7471428571428574,
          0.7623809523809524,
          0.7549206349206349,
          0.7469841269841272,
          0.7541269841269841,
          0.7652380952380953,
          0.7514285714285713,
          0.7612698412698414,
          0.7722222222222221,
          0.7642857142857142,
          0.7753968253968254,
          0.7692063492063492,
          0.7588888888888887,
          0.7604761904761903,
          0.7676190476190475,
          0.7684126984126983,
          0.7660317460317461,
          0.7612698412698412,
          0.7534920634920633,
          0.7630158730158728,
          0.7590476190476191,
          0.7693650793650794,
          0.7701587301587302,
          0.7638095238095238,
          0.7614285714285715,
          0.7709523809523813,
          0.7676190476190479,
          0.7723809523809526,
          0.7660317460317463,
          0.7549206349206351,
          0.7580952380952383,
          0.762857142857143,
          0.7620634920634921,
          0.7636507936507937,
          0.7604761904761906,
          0.7549206349206351,
          0.7604761904761905,
          0.7628571428571429,
          0.7652380952380953,
          0.7588888888888888,
          0.7676190476190476,
          0.7676190476190476,
          0.7660317460317461,
          0.7644444444444444,
          0.7620634920634919,
          0.7588888888888887,
          0.7596825396825396,
          0.7620634920634919,
          0.7557142857142856,
          0.7477777777777777,
          0.746190476190476,
          0.7446031746031744,
          0.7350793650793649,
          0.7382539682539679,
          0.7384126984126983,
          0.7336507936507934,
          0.731269841269841,
          0.7368253968253966,
          0.731269841269841,
          0.7265079365079362,
          0.7257142857142855,
          0.723333333333333,
          0.7249206349206346,
          0.7239682539682537,
          0.7263492063492062,
          0.7333333333333331,
          0.7295238095238094,
          0.7326984126984125,
          0.7263492063492062,
          0.7288888888888887,
          0.735079365079365,
          0.7407936507936508,
          0.7360317460317459,
          0.7344444444444443,
          0.736031746031746,
          0.7360317460317459,
          0.7336507936507937,
          0.7320634920634921
         ]
        },
        {
         "line": {
          "width": 0
         },
         "marker": {
          "color": "#444"
         },
         "mode": "lines",
         "name": "Upper Bound",
         "showlegend": false,
         "type": "scatter",
         "x": [
          1,
          4,
          7,
          10,
          13,
          16,
          19,
          22,
          25,
          28,
          31,
          34,
          37,
          40,
          43,
          46,
          49,
          52,
          55,
          58,
          61,
          64,
          67,
          70,
          73,
          76,
          79,
          82,
          85,
          88,
          91,
          94,
          97,
          100,
          103,
          106,
          109,
          112,
          115,
          118,
          121,
          124,
          127,
          130,
          133,
          136,
          139,
          142,
          145,
          148,
          151,
          154,
          157,
          160,
          163,
          166,
          169,
          172,
          175,
          178,
          181,
          184,
          187,
          190,
          193,
          196,
          199,
          202,
          205,
          208,
          211,
          214,
          217,
          220,
          223,
          226,
          229,
          232,
          235,
          238,
          241,
          244,
          247
         ],
         "y": [
          0.8333333333333333,
          1,
          1,
          1,
          1,
          1,
          1,
          1,
          1,
          1,
          1,
          1,
          1,
          1,
          1,
          1,
          1,
          1,
          1,
          1,
          1,
          1,
          1,
          1,
          1,
          1,
          1,
          1,
          0.9523809523809523,
          0.9523809523809523,
          1,
          0.9523809523809523,
          1,
          1,
          1,
          1,
          1,
          1,
          1,
          1,
          1,
          1,
          1,
          1,
          1,
          1,
          1,
          1,
          0.9523809523809524,
          1,
          1,
          1,
          1,
          0.9523809523809523,
          0.9523809523809523,
          0.9523809523809523,
          0.9523809523809523,
          0.9523809523809523,
          0.9523809523809523,
          0.9523809523809523,
          0.9523809523809523,
          0.9523809523809523,
          0.9523809523809523,
          0.9523809523809523,
          0.9523809523809523,
          0.9523809523809523,
          0.9523809523809523,
          0.9523809523809523,
          0.9523809523809523,
          0.9523809523809523,
          0.9523809523809523,
          0.9523809523809523,
          0.9523809523809523,
          0.9523809523809523,
          0.9523809523809523,
          0.9523809523809523,
          0.9523809523809523,
          0.9523809523809523,
          0.9523809523809523,
          0.9523809523809523,
          0.9523809523809523,
          0.9523809523809523,
          0.9523809523809523
         ]
        },
        {
         "fill": "tonexty",
         "fillcolor": "rgba(68, 68, 68, 0.3)",
         "line": {
          "width": 0
         },
         "marker": {
          "color": "#444"
         },
         "mode": "lines",
         "name": "Lower Bound",
         "showlegend": false,
         "type": "scatter",
         "x": [
          1,
          4,
          7,
          10,
          13,
          16,
          19,
          22,
          25,
          28,
          31,
          34,
          37,
          40,
          43,
          46,
          49,
          52,
          55,
          58,
          61,
          64,
          67,
          70,
          73,
          76,
          79,
          82,
          85,
          88,
          91,
          94,
          97,
          100,
          103,
          106,
          109,
          112,
          115,
          118,
          121,
          124,
          127,
          130,
          133,
          136,
          139,
          142,
          145,
          148,
          151,
          154,
          157,
          160,
          163,
          166,
          169,
          172,
          175,
          178,
          181,
          184,
          187,
          190,
          193,
          196,
          199,
          202,
          205,
          208,
          211,
          214,
          217,
          220,
          223,
          226,
          229,
          232,
          235,
          238,
          241,
          244,
          247
         ],
         "y": [
          0.2619047619047619,
          0.38095238095238093,
          0.2619047619047619,
          0.35714285714285715,
          0.4523809523809524,
          0.4047619047619047,
          0.3333333333333333,
          0.4047619047619047,
          0.3333333333333333,
          0.4047619047619047,
          0.4047619047619047,
          0.4047619047619047,
          0.4047619047619047,
          0.47619047619047616,
          0.47619047619047616,
          0.47619047619047616,
          0.47619047619047616,
          0.47619047619047616,
          0.47619047619047616,
          0.47619047619047616,
          0.47619047619047616,
          0.42857142857142855,
          0.42857142857142855,
          0.42857142857142855,
          0.42857142857142855,
          0.47619047619047616,
          0.47619047619047616,
          0.47619047619047616,
          0.47619047619047616,
          0.47619047619047616,
          0.47619047619047616,
          0.47619047619047616,
          0.47619047619047616,
          0.47619047619047616,
          0.42857142857142855,
          0.42857142857142855,
          0.47619047619047616,
          0.47619047619047616,
          0.47619047619047616,
          0.35714285714285715,
          0.35714285714285715,
          0.35714285714285715,
          0.45238095238095244,
          0.4047619047619047,
          0.35714285714285715,
          0.42857142857142855,
          0.38095238095238093,
          0.47619047619047616,
          0.47619047619047616,
          0.47619047619047616,
          0.47619047619047616,
          0.47619047619047616,
          0.47619047619047616,
          0.42857142857142855,
          0.42857142857142855,
          0.42857142857142855,
          0.47619047619047616,
          0.42857142857142855,
          0.42857142857142855,
          0.4047619047619047,
          0.38095238095238093,
          0.38095238095238093,
          0.38095238095238093,
          0.38095238095238093,
          0.38095238095238093,
          0.38095238095238093,
          0.42857142857142855,
          0.42857142857142855,
          0.4523809523809524,
          0.42857142857142855,
          0.4523809523809524,
          0.4523809523809524,
          0.4523809523809524,
          0.38095238095238093,
          0.38095238095238093,
          0.38095238095238093,
          0.38095238095238093,
          0.38095238095238093,
          0.38095238095238093,
          0.38095238095238093,
          0.38095238095238093,
          0.38095238095238093,
          0.38095238095238093
         ]
        }
       ],
       "layout": {
        "template": {
         "data": {
          "bar": [
           {
            "error_x": {
             "color": "#2a3f5f"
            },
            "error_y": {
             "color": "#2a3f5f"
            },
            "marker": {
             "line": {
              "color": "#E5ECF6",
              "width": 0.5
             },
             "pattern": {
              "fillmode": "overlay",
              "size": 10,
              "solidity": 0.2
             }
            },
            "type": "bar"
           }
          ],
          "barpolar": [
           {
            "marker": {
             "line": {
              "color": "#E5ECF6",
              "width": 0.5
             },
             "pattern": {
              "fillmode": "overlay",
              "size": 10,
              "solidity": 0.2
             }
            },
            "type": "barpolar"
           }
          ],
          "carpet": [
           {
            "aaxis": {
             "endlinecolor": "#2a3f5f",
             "gridcolor": "white",
             "linecolor": "white",
             "minorgridcolor": "white",
             "startlinecolor": "#2a3f5f"
            },
            "baxis": {
             "endlinecolor": "#2a3f5f",
             "gridcolor": "white",
             "linecolor": "white",
             "minorgridcolor": "white",
             "startlinecolor": "#2a3f5f"
            },
            "type": "carpet"
           }
          ],
          "choropleth": [
           {
            "colorbar": {
             "outlinewidth": 0,
             "ticks": ""
            },
            "type": "choropleth"
           }
          ],
          "contour": [
           {
            "colorbar": {
             "outlinewidth": 0,
             "ticks": ""
            },
            "colorscale": [
             [
              0,
              "#0d0887"
             ],
             [
              0.1111111111111111,
              "#46039f"
             ],
             [
              0.2222222222222222,
              "#7201a8"
             ],
             [
              0.3333333333333333,
              "#9c179e"
             ],
             [
              0.4444444444444444,
              "#bd3786"
             ],
             [
              0.5555555555555556,
              "#d8576b"
             ],
             [
              0.6666666666666666,
              "#ed7953"
             ],
             [
              0.7777777777777778,
              "#fb9f3a"
             ],
             [
              0.8888888888888888,
              "#fdca26"
             ],
             [
              1,
              "#f0f921"
             ]
            ],
            "type": "contour"
           }
          ],
          "contourcarpet": [
           {
            "colorbar": {
             "outlinewidth": 0,
             "ticks": ""
            },
            "type": "contourcarpet"
           }
          ],
          "heatmap": [
           {
            "colorbar": {
             "outlinewidth": 0,
             "ticks": ""
            },
            "colorscale": [
             [
              0,
              "#0d0887"
             ],
             [
              0.1111111111111111,
              "#46039f"
             ],
             [
              0.2222222222222222,
              "#7201a8"
             ],
             [
              0.3333333333333333,
              "#9c179e"
             ],
             [
              0.4444444444444444,
              "#bd3786"
             ],
             [
              0.5555555555555556,
              "#d8576b"
             ],
             [
              0.6666666666666666,
              "#ed7953"
             ],
             [
              0.7777777777777778,
              "#fb9f3a"
             ],
             [
              0.8888888888888888,
              "#fdca26"
             ],
             [
              1,
              "#f0f921"
             ]
            ],
            "type": "heatmap"
           }
          ],
          "heatmapgl": [
           {
            "colorbar": {
             "outlinewidth": 0,
             "ticks": ""
            },
            "colorscale": [
             [
              0,
              "#0d0887"
             ],
             [
              0.1111111111111111,
              "#46039f"
             ],
             [
              0.2222222222222222,
              "#7201a8"
             ],
             [
              0.3333333333333333,
              "#9c179e"
             ],
             [
              0.4444444444444444,
              "#bd3786"
             ],
             [
              0.5555555555555556,
              "#d8576b"
             ],
             [
              0.6666666666666666,
              "#ed7953"
             ],
             [
              0.7777777777777778,
              "#fb9f3a"
             ],
             [
              0.8888888888888888,
              "#fdca26"
             ],
             [
              1,
              "#f0f921"
             ]
            ],
            "type": "heatmapgl"
           }
          ],
          "histogram": [
           {
            "marker": {
             "pattern": {
              "fillmode": "overlay",
              "size": 10,
              "solidity": 0.2
             }
            },
            "type": "histogram"
           }
          ],
          "histogram2d": [
           {
            "colorbar": {
             "outlinewidth": 0,
             "ticks": ""
            },
            "colorscale": [
             [
              0,
              "#0d0887"
             ],
             [
              0.1111111111111111,
              "#46039f"
             ],
             [
              0.2222222222222222,
              "#7201a8"
             ],
             [
              0.3333333333333333,
              "#9c179e"
             ],
             [
              0.4444444444444444,
              "#bd3786"
             ],
             [
              0.5555555555555556,
              "#d8576b"
             ],
             [
              0.6666666666666666,
              "#ed7953"
             ],
             [
              0.7777777777777778,
              "#fb9f3a"
             ],
             [
              0.8888888888888888,
              "#fdca26"
             ],
             [
              1,
              "#f0f921"
             ]
            ],
            "type": "histogram2d"
           }
          ],
          "histogram2dcontour": [
           {
            "colorbar": {
             "outlinewidth": 0,
             "ticks": ""
            },
            "colorscale": [
             [
              0,
              "#0d0887"
             ],
             [
              0.1111111111111111,
              "#46039f"
             ],
             [
              0.2222222222222222,
              "#7201a8"
             ],
             [
              0.3333333333333333,
              "#9c179e"
             ],
             [
              0.4444444444444444,
              "#bd3786"
             ],
             [
              0.5555555555555556,
              "#d8576b"
             ],
             [
              0.6666666666666666,
              "#ed7953"
             ],
             [
              0.7777777777777778,
              "#fb9f3a"
             ],
             [
              0.8888888888888888,
              "#fdca26"
             ],
             [
              1,
              "#f0f921"
             ]
            ],
            "type": "histogram2dcontour"
           }
          ],
          "mesh3d": [
           {
            "colorbar": {
             "outlinewidth": 0,
             "ticks": ""
            },
            "type": "mesh3d"
           }
          ],
          "parcoords": [
           {
            "line": {
             "colorbar": {
              "outlinewidth": 0,
              "ticks": ""
             }
            },
            "type": "parcoords"
           }
          ],
          "pie": [
           {
            "automargin": true,
            "type": "pie"
           }
          ],
          "scatter": [
           {
            "marker": {
             "colorbar": {
              "outlinewidth": 0,
              "ticks": ""
             }
            },
            "type": "scatter"
           }
          ],
          "scatter3d": [
           {
            "line": {
             "colorbar": {
              "outlinewidth": 0,
              "ticks": ""
             }
            },
            "marker": {
             "colorbar": {
              "outlinewidth": 0,
              "ticks": ""
             }
            },
            "type": "scatter3d"
           }
          ],
          "scattercarpet": [
           {
            "marker": {
             "colorbar": {
              "outlinewidth": 0,
              "ticks": ""
             }
            },
            "type": "scattercarpet"
           }
          ],
          "scattergeo": [
           {
            "marker": {
             "colorbar": {
              "outlinewidth": 0,
              "ticks": ""
             }
            },
            "type": "scattergeo"
           }
          ],
          "scattergl": [
           {
            "marker": {
             "colorbar": {
              "outlinewidth": 0,
              "ticks": ""
             }
            },
            "type": "scattergl"
           }
          ],
          "scattermapbox": [
           {
            "marker": {
             "colorbar": {
              "outlinewidth": 0,
              "ticks": ""
             }
            },
            "type": "scattermapbox"
           }
          ],
          "scatterpolar": [
           {
            "marker": {
             "colorbar": {
              "outlinewidth": 0,
              "ticks": ""
             }
            },
            "type": "scatterpolar"
           }
          ],
          "scatterpolargl": [
           {
            "marker": {
             "colorbar": {
              "outlinewidth": 0,
              "ticks": ""
             }
            },
            "type": "scatterpolargl"
           }
          ],
          "scatterternary": [
           {
            "marker": {
             "colorbar": {
              "outlinewidth": 0,
              "ticks": ""
             }
            },
            "type": "scatterternary"
           }
          ],
          "surface": [
           {
            "colorbar": {
             "outlinewidth": 0,
             "ticks": ""
            },
            "colorscale": [
             [
              0,
              "#0d0887"
             ],
             [
              0.1111111111111111,
              "#46039f"
             ],
             [
              0.2222222222222222,
              "#7201a8"
             ],
             [
              0.3333333333333333,
              "#9c179e"
             ],
             [
              0.4444444444444444,
              "#bd3786"
             ],
             [
              0.5555555555555556,
              "#d8576b"
             ],
             [
              0.6666666666666666,
              "#ed7953"
             ],
             [
              0.7777777777777778,
              "#fb9f3a"
             ],
             [
              0.8888888888888888,
              "#fdca26"
             ],
             [
              1,
              "#f0f921"
             ]
            ],
            "type": "surface"
           }
          ],
          "table": [
           {
            "cells": {
             "fill": {
              "color": "#EBF0F8"
             },
             "line": {
              "color": "white"
             }
            },
            "header": {
             "fill": {
              "color": "#C8D4E3"
             },
             "line": {
              "color": "white"
             }
            },
            "type": "table"
           }
          ]
         },
         "layout": {
          "annotationdefaults": {
           "arrowcolor": "#2a3f5f",
           "arrowhead": 0,
           "arrowwidth": 1
          },
          "autotypenumbers": "strict",
          "coloraxis": {
           "colorbar": {
            "outlinewidth": 0,
            "ticks": ""
           }
          },
          "colorscale": {
           "diverging": [
            [
             0,
             "#8e0152"
            ],
            [
             0.1,
             "#c51b7d"
            ],
            [
             0.2,
             "#de77ae"
            ],
            [
             0.3,
             "#f1b6da"
            ],
            [
             0.4,
             "#fde0ef"
            ],
            [
             0.5,
             "#f7f7f7"
            ],
            [
             0.6,
             "#e6f5d0"
            ],
            [
             0.7,
             "#b8e186"
            ],
            [
             0.8,
             "#7fbc41"
            ],
            [
             0.9,
             "#4d9221"
            ],
            [
             1,
             "#276419"
            ]
           ],
           "sequential": [
            [
             0,
             "#0d0887"
            ],
            [
             0.1111111111111111,
             "#46039f"
            ],
            [
             0.2222222222222222,
             "#7201a8"
            ],
            [
             0.3333333333333333,
             "#9c179e"
            ],
            [
             0.4444444444444444,
             "#bd3786"
            ],
            [
             0.5555555555555556,
             "#d8576b"
            ],
            [
             0.6666666666666666,
             "#ed7953"
            ],
            [
             0.7777777777777778,
             "#fb9f3a"
            ],
            [
             0.8888888888888888,
             "#fdca26"
            ],
            [
             1,
             "#f0f921"
            ]
           ],
           "sequentialminus": [
            [
             0,
             "#0d0887"
            ],
            [
             0.1111111111111111,
             "#46039f"
            ],
            [
             0.2222222222222222,
             "#7201a8"
            ],
            [
             0.3333333333333333,
             "#9c179e"
            ],
            [
             0.4444444444444444,
             "#bd3786"
            ],
            [
             0.5555555555555556,
             "#d8576b"
            ],
            [
             0.6666666666666666,
             "#ed7953"
            ],
            [
             0.7777777777777778,
             "#fb9f3a"
            ],
            [
             0.8888888888888888,
             "#fdca26"
            ],
            [
             1,
             "#f0f921"
            ]
           ]
          },
          "colorway": [
           "#636efa",
           "#EF553B",
           "#00cc96",
           "#ab63fa",
           "#FFA15A",
           "#19d3f3",
           "#FF6692",
           "#B6E880",
           "#FF97FF",
           "#FECB52"
          ],
          "font": {
           "color": "#2a3f5f"
          },
          "geo": {
           "bgcolor": "white",
           "lakecolor": "white",
           "landcolor": "#E5ECF6",
           "showlakes": true,
           "showland": true,
           "subunitcolor": "white"
          },
          "hoverlabel": {
           "align": "left"
          },
          "hovermode": "closest",
          "mapbox": {
           "style": "light"
          },
          "paper_bgcolor": "white",
          "plot_bgcolor": "#E5ECF6",
          "polar": {
           "angularaxis": {
            "gridcolor": "white",
            "linecolor": "white",
            "ticks": ""
           },
           "bgcolor": "#E5ECF6",
           "radialaxis": {
            "gridcolor": "white",
            "linecolor": "white",
            "ticks": ""
           }
          },
          "scene": {
           "xaxis": {
            "backgroundcolor": "#E5ECF6",
            "gridcolor": "white",
            "gridwidth": 2,
            "linecolor": "white",
            "showbackground": true,
            "ticks": "",
            "zerolinecolor": "white"
           },
           "yaxis": {
            "backgroundcolor": "#E5ECF6",
            "gridcolor": "white",
            "gridwidth": 2,
            "linecolor": "white",
            "showbackground": true,
            "ticks": "",
            "zerolinecolor": "white"
           },
           "zaxis": {
            "backgroundcolor": "#E5ECF6",
            "gridcolor": "white",
            "gridwidth": 2,
            "linecolor": "white",
            "showbackground": true,
            "ticks": "",
            "zerolinecolor": "white"
           }
          },
          "shapedefaults": {
           "line": {
            "color": "#2a3f5f"
           }
          },
          "ternary": {
           "aaxis": {
            "gridcolor": "white",
            "linecolor": "white",
            "ticks": ""
           },
           "baxis": {
            "gridcolor": "white",
            "linecolor": "white",
            "ticks": ""
           },
           "bgcolor": "#E5ECF6",
           "caxis": {
            "gridcolor": "white",
            "linecolor": "white",
            "ticks": ""
           }
          },
          "title": {
           "x": 0.05
          },
          "xaxis": {
           "automargin": true,
           "gridcolor": "white",
           "linecolor": "white",
           "ticks": "",
           "title": {
            "standoff": 15
           },
           "zerolinecolor": "white",
           "zerolinewidth": 2
          },
          "yaxis": {
           "automargin": true,
           "gridcolor": "white",
           "linecolor": "white",
           "ticks": "",
           "title": {
            "standoff": 15
           },
           "zerolinecolor": "white",
           "zerolinewidth": 2
          }
         }
        },
        "xaxis": {
         "type": "log"
        }
       }
      }
     },
     "metadata": {},
     "output_type": "display_data"
    }
   ],
   "source": [
    "fig.show()"
   ]
  },
  {
   "cell_type": "markdown",
   "metadata": {},
   "source": [
    "NN using math"
   ]
  },
  {
   "cell_type": "code",
   "execution_count": 111,
   "metadata": {},
   "outputs": [
    {
     "name": "stderr",
     "output_type": "stream",
     "text": [
      "C:\\Users\\ASUS\\AppData\\Local\\Temp/ipykernel_16072/4252765292.py:22: DeprecationWarning:\n",
      "\n",
      "KerasClassifier is deprecated, use Sci-Keras (https://github.com/adriangb/scikeras) instead.\n",
      "\n",
      "C:\\Users\\ASUS\\AppData\\Local\\Temp/ipykernel_16072/4252765292.py:36: DeprecationWarning:\n",
      "\n",
      "KerasClassifier is deprecated, use Sci-Keras (https://github.com/adriangb/scikeras) instead.\n",
      "\n",
      "C:\\Users\\ASUS\\AppData\\Local\\Temp/ipykernel_16072/4252765292.py:36: DeprecationWarning:\n",
      "\n",
      "KerasClassifier is deprecated, use Sci-Keras (https://github.com/adriangb/scikeras) instead.\n",
      "\n",
      "C:\\Users\\ASUS\\AppData\\Local\\Temp/ipykernel_16072/4252765292.py:36: DeprecationWarning:\n",
      "\n",
      "KerasClassifier is deprecated, use Sci-Keras (https://github.com/adriangb/scikeras) instead.\n",
      "\n",
      "C:\\Users\\ASUS\\AppData\\Local\\Temp/ipykernel_16072/4252765292.py:36: DeprecationWarning:\n",
      "\n",
      "KerasClassifier is deprecated, use Sci-Keras (https://github.com/adriangb/scikeras) instead.\n",
      "\n",
      "C:\\Users\\ASUS\\AppData\\Local\\Temp/ipykernel_16072/4252765292.py:36: DeprecationWarning:\n",
      "\n",
      "KerasClassifier is deprecated, use Sci-Keras (https://github.com/adriangb/scikeras) instead.\n",
      "\n",
      "C:\\Users\\ASUS\\AppData\\Local\\Temp/ipykernel_16072/4252765292.py:36: DeprecationWarning:\n",
      "\n",
      "KerasClassifier is deprecated, use Sci-Keras (https://github.com/adriangb/scikeras) instead.\n",
      "\n",
      "C:\\Users\\ASUS\\AppData\\Local\\Temp/ipykernel_16072/4252765292.py:36: DeprecationWarning:\n",
      "\n",
      "KerasClassifier is deprecated, use Sci-Keras (https://github.com/adriangb/scikeras) instead.\n",
      "\n",
      "C:\\Users\\ASUS\\AppData\\Local\\Temp/ipykernel_16072/4252765292.py:36: DeprecationWarning:\n",
      "\n",
      "KerasClassifier is deprecated, use Sci-Keras (https://github.com/adriangb/scikeras) instead.\n",
      "\n",
      "C:\\Users\\ASUS\\AppData\\Local\\Temp/ipykernel_16072/4252765292.py:36: DeprecationWarning:\n",
      "\n",
      "KerasClassifier is deprecated, use Sci-Keras (https://github.com/adriangb/scikeras) instead.\n",
      "\n",
      "C:\\Users\\ASUS\\AppData\\Local\\Temp/ipykernel_16072/4252765292.py:36: DeprecationWarning:\n",
      "\n",
      "KerasClassifier is deprecated, use Sci-Keras (https://github.com/adriangb/scikeras) instead.\n",
      "\n",
      "C:\\Users\\ASUS\\AppData\\Local\\Temp/ipykernel_16072/4252765292.py:36: DeprecationWarning:\n",
      "\n",
      "KerasClassifier is deprecated, use Sci-Keras (https://github.com/adriangb/scikeras) instead.\n",
      "\n",
      "C:\\Users\\ASUS\\AppData\\Local\\Temp/ipykernel_16072/4252765292.py:36: DeprecationWarning:\n",
      "\n",
      "KerasClassifier is deprecated, use Sci-Keras (https://github.com/adriangb/scikeras) instead.\n",
      "\n",
      "C:\\Users\\ASUS\\AppData\\Local\\Temp/ipykernel_16072/4252765292.py:36: DeprecationWarning:\n",
      "\n",
      "KerasClassifier is deprecated, use Sci-Keras (https://github.com/adriangb/scikeras) instead.\n",
      "\n",
      "C:\\Users\\ASUS\\AppData\\Local\\Temp/ipykernel_16072/4252765292.py:36: DeprecationWarning:\n",
      "\n",
      "KerasClassifier is deprecated, use Sci-Keras (https://github.com/adriangb/scikeras) instead.\n",
      "\n",
      "C:\\Users\\ASUS\\AppData\\Local\\Temp/ipykernel_16072/4252765292.py:36: DeprecationWarning:\n",
      "\n",
      "KerasClassifier is deprecated, use Sci-Keras (https://github.com/adriangb/scikeras) instead.\n",
      "\n",
      "C:\\Users\\ASUS\\AppData\\Local\\Temp/ipykernel_16072/4252765292.py:36: DeprecationWarning:\n",
      "\n",
      "KerasClassifier is deprecated, use Sci-Keras (https://github.com/adriangb/scikeras) instead.\n",
      "\n",
      "C:\\Users\\ASUS\\AppData\\Local\\Temp/ipykernel_16072/4252765292.py:36: DeprecationWarning:\n",
      "\n",
      "KerasClassifier is deprecated, use Sci-Keras (https://github.com/adriangb/scikeras) instead.\n",
      "\n",
      "C:\\Users\\ASUS\\AppData\\Local\\Temp/ipykernel_16072/4252765292.py:36: DeprecationWarning:\n",
      "\n",
      "KerasClassifier is deprecated, use Sci-Keras (https://github.com/adriangb/scikeras) instead.\n",
      "\n",
      "C:\\Users\\ASUS\\AppData\\Local\\Temp/ipykernel_16072/4252765292.py:36: DeprecationWarning:\n",
      "\n",
      "KerasClassifier is deprecated, use Sci-Keras (https://github.com/adriangb/scikeras) instead.\n",
      "\n",
      "C:\\Users\\ASUS\\AppData\\Local\\Temp/ipykernel_16072/4252765292.py:36: DeprecationWarning:\n",
      "\n",
      "KerasClassifier is deprecated, use Sci-Keras (https://github.com/adriangb/scikeras) instead.\n",
      "\n",
      "C:\\Users\\ASUS\\AppData\\Local\\Temp/ipykernel_16072/4252765292.py:36: DeprecationWarning:\n",
      "\n",
      "KerasClassifier is deprecated, use Sci-Keras (https://github.com/adriangb/scikeras) instead.\n",
      "\n",
      "C:\\Users\\ASUS\\AppData\\Local\\Temp/ipykernel_16072/4252765292.py:36: DeprecationWarning:\n",
      "\n",
      "KerasClassifier is deprecated, use Sci-Keras (https://github.com/adriangb/scikeras) instead.\n",
      "\n",
      "C:\\Users\\ASUS\\AppData\\Local\\Temp/ipykernel_16072/4252765292.py:36: DeprecationWarning:\n",
      "\n",
      "KerasClassifier is deprecated, use Sci-Keras (https://github.com/adriangb/scikeras) instead.\n",
      "\n",
      "C:\\Users\\ASUS\\AppData\\Local\\Temp/ipykernel_16072/4252765292.py:36: DeprecationWarning:\n",
      "\n",
      "KerasClassifier is deprecated, use Sci-Keras (https://github.com/adriangb/scikeras) instead.\n",
      "\n",
      "C:\\Users\\ASUS\\AppData\\Local\\Temp/ipykernel_16072/4252765292.py:36: DeprecationWarning:\n",
      "\n",
      "KerasClassifier is deprecated, use Sci-Keras (https://github.com/adriangb/scikeras) instead.\n",
      "\n",
      "C:\\Users\\ASUS\\AppData\\Local\\Temp/ipykernel_16072/4252765292.py:36: DeprecationWarning:\n",
      "\n",
      "KerasClassifier is deprecated, use Sci-Keras (https://github.com/adriangb/scikeras) instead.\n",
      "\n",
      "C:\\Users\\ASUS\\AppData\\Local\\Temp/ipykernel_16072/4252765292.py:36: DeprecationWarning:\n",
      "\n",
      "KerasClassifier is deprecated, use Sci-Keras (https://github.com/adriangb/scikeras) instead.\n",
      "\n",
      "C:\\Users\\ASUS\\AppData\\Local\\Temp/ipykernel_16072/4252765292.py:36: DeprecationWarning:\n",
      "\n",
      "KerasClassifier is deprecated, use Sci-Keras (https://github.com/adriangb/scikeras) instead.\n",
      "\n",
      "C:\\Users\\ASUS\\AppData\\Local\\Temp/ipykernel_16072/4252765292.py:36: DeprecationWarning:\n",
      "\n",
      "KerasClassifier is deprecated, use Sci-Keras (https://github.com/adriangb/scikeras) instead.\n",
      "\n",
      "C:\\Users\\ASUS\\AppData\\Local\\Temp/ipykernel_16072/4252765292.py:36: DeprecationWarning:\n",
      "\n",
      "KerasClassifier is deprecated, use Sci-Keras (https://github.com/adriangb/scikeras) instead.\n",
      "\n"
     ]
    }
   ],
   "source": [
    "def create_network():\n",
    "    \n",
    "    # Start neural network\n",
    "    network = keras.Sequential([\n",
    "    keras.layers.Dense(1000, activation = 'relu', input_shape = [100]),\n",
    "    keras.layers.Dense(1000, activation = 'relu'),\n",
    "    keras.layers.Dense(1000, activation = 'relu'),\n",
    "    keras.layers.Dense(2, activation = 'softmax')\n",
    "])\n",
    "\n",
    "    \n",
    "\n",
    "    # Compile neural network\n",
    "    network.compile(optimizer='adam', \n",
    "              loss=tf.losses.CategoricalCrossentropy(),\n",
    "              metrics=['accuracy'])\n",
    "    \n",
    "    # Return compiled network\n",
    "    return network\n",
    "\n",
    "\n",
    "neural_network = KerasClassifier(build_fn=create_network, \n",
    "\t\t\t\t\t\t\tepochs=10, \n",
    "\t\t\t\t\t\t\tbatch_size=100,\n",
    "\t\t\t\t\t\t\tverbose=0)\n",
    "\n",
    "from sklearn import preprocessing\n",
    "acc = []\n",
    "for subject in range(1,31):\n",
    "    m = math[math['id']==subject]\n",
    "    r = relax[relax['id']==subject]\n",
    "    X,y = vectors_labels(vectors(m),vectors(r))\n",
    "    X = preprocessing.scale(X)\n",
    "    X,y = shuffle(X,y, random_state=0)\n",
    "    y = [[1,0] if i == 1 else [0,1] for i in y]\n",
    "    neural_network = KerasClassifier(build_fn=create_network, \n",
    "\t\t\t\t\t\t\tepochs=10, \n",
    "\t\t\t\t\t\t\tbatch_size=100,\n",
    "\t\t\t\t\t\t\tverbose=0)\n",
    "    #print(len(X))\n",
    "    acc.append(cross_val_score(neural_network, X, y, cv=7))\n",
    "\n"
   ]
  },
  {
   "cell_type": "code",
   "execution_count": 112,
   "metadata": {
    "_cell_guid": "17f994b3-d6a0-118a-f478-b2b26a30ca5f"
   },
   "outputs": [
    {
     "name": "stdout",
     "output_type": "stream",
     "text": [
      "max for individual -  1.0\n",
      "avg across every person =  0.74253968780949\n",
      "min for individual -  0.4047619104385376\n"
     ]
    }
   ],
   "source": [
    "\n",
    "print('max for individual - ',max([sum(acc[i])/len(acc[i]) for i in range(len(acc))]))\n",
    "print('avg across every person = ',sum(sum(acc))/(len(acc[0])*len(acc)))\n",
    "print('min for individual - ',min([sum(acc[i])/len(acc[i]) for i in range(len(acc))]))"
   ]
  },
  {
   "cell_type": "code",
   "execution_count": 113,
   "metadata": {},
   "outputs": [
    {
     "data": {
      "application/vnd.plotly.v1+json": {
       "config": {
        "plotlyServerURL": "https://plot.ly"
       },
       "data": [
        {
         "alignmentgroup": "True",
         "hovertemplate": "accuracy percentage=%{x}<br>number of subjects=%{y}<extra></extra>",
         "legendgroup": "",
         "marker": {
          "color": "#636efa",
          "pattern": {
           "shape": ""
          }
         },
         "name": "",
         "offsetgroup": "",
         "orientation": "v",
         "showlegend": false,
         "textposition": "auto",
         "type": "bar",
         "x": [
          0,
          1,
          2,
          3,
          4,
          5,
          6,
          7,
          8,
          9,
          10,
          11,
          12,
          13,
          14,
          15,
          16,
          17,
          18,
          19,
          20,
          21,
          22,
          23,
          24,
          25,
          26,
          27,
          28,
          29,
          30,
          31,
          32,
          33,
          34,
          35,
          36,
          37,
          38,
          39,
          40,
          41,
          42,
          43,
          44,
          45,
          46,
          47,
          48,
          49,
          50,
          51,
          52,
          53,
          54,
          55,
          56,
          57,
          58,
          59,
          60,
          61,
          62,
          63,
          64,
          65,
          66,
          67,
          68,
          69,
          70,
          71,
          72,
          73,
          74,
          75,
          76,
          77,
          78,
          79,
          80,
          81,
          82,
          83,
          84,
          85,
          86,
          87,
          88,
          89,
          90,
          91,
          92,
          93,
          94,
          95,
          96,
          97,
          98,
          99,
          100
         ],
         "xaxis": "x",
         "y": [
          0,
          0,
          0,
          0,
          0,
          0,
          0,
          0,
          0,
          0,
          0,
          0,
          0,
          0,
          0,
          0,
          0,
          0,
          0,
          0,
          0,
          0,
          0,
          0,
          0,
          0,
          0,
          0,
          0,
          0,
          0,
          0,
          0,
          0,
          0,
          0,
          0,
          0,
          0,
          0,
          2,
          0,
          0,
          0,
          1,
          0,
          1,
          0,
          0,
          0,
          0,
          0,
          2,
          0,
          2,
          0,
          1,
          0,
          1,
          0,
          1,
          0,
          0,
          0,
          0,
          0,
          1,
          0,
          1,
          0,
          0,
          0,
          0,
          0,
          0,
          0,
          0,
          0,
          0,
          0,
          3,
          0,
          2,
          0,
          1,
          0,
          0,
          0,
          1,
          0,
          3,
          0,
          1,
          0,
          5,
          0,
          0,
          0,
          0,
          0,
          1
         ],
         "yaxis": "y"
        }
       ],
       "layout": {
        "barmode": "relative",
        "height": 500,
        "legend": {
         "tracegroupgap": 0
        },
        "template": {
         "data": {
          "bar": [
           {
            "error_x": {
             "color": "#2a3f5f"
            },
            "error_y": {
             "color": "#2a3f5f"
            },
            "marker": {
             "line": {
              "color": "#E5ECF6",
              "width": 0.5
             },
             "pattern": {
              "fillmode": "overlay",
              "size": 10,
              "solidity": 0.2
             }
            },
            "type": "bar"
           }
          ],
          "barpolar": [
           {
            "marker": {
             "line": {
              "color": "#E5ECF6",
              "width": 0.5
             },
             "pattern": {
              "fillmode": "overlay",
              "size": 10,
              "solidity": 0.2
             }
            },
            "type": "barpolar"
           }
          ],
          "carpet": [
           {
            "aaxis": {
             "endlinecolor": "#2a3f5f",
             "gridcolor": "white",
             "linecolor": "white",
             "minorgridcolor": "white",
             "startlinecolor": "#2a3f5f"
            },
            "baxis": {
             "endlinecolor": "#2a3f5f",
             "gridcolor": "white",
             "linecolor": "white",
             "minorgridcolor": "white",
             "startlinecolor": "#2a3f5f"
            },
            "type": "carpet"
           }
          ],
          "choropleth": [
           {
            "colorbar": {
             "outlinewidth": 0,
             "ticks": ""
            },
            "type": "choropleth"
           }
          ],
          "contour": [
           {
            "colorbar": {
             "outlinewidth": 0,
             "ticks": ""
            },
            "colorscale": [
             [
              0,
              "#0d0887"
             ],
             [
              0.1111111111111111,
              "#46039f"
             ],
             [
              0.2222222222222222,
              "#7201a8"
             ],
             [
              0.3333333333333333,
              "#9c179e"
             ],
             [
              0.4444444444444444,
              "#bd3786"
             ],
             [
              0.5555555555555556,
              "#d8576b"
             ],
             [
              0.6666666666666666,
              "#ed7953"
             ],
             [
              0.7777777777777778,
              "#fb9f3a"
             ],
             [
              0.8888888888888888,
              "#fdca26"
             ],
             [
              1,
              "#f0f921"
             ]
            ],
            "type": "contour"
           }
          ],
          "contourcarpet": [
           {
            "colorbar": {
             "outlinewidth": 0,
             "ticks": ""
            },
            "type": "contourcarpet"
           }
          ],
          "heatmap": [
           {
            "colorbar": {
             "outlinewidth": 0,
             "ticks": ""
            },
            "colorscale": [
             [
              0,
              "#0d0887"
             ],
             [
              0.1111111111111111,
              "#46039f"
             ],
             [
              0.2222222222222222,
              "#7201a8"
             ],
             [
              0.3333333333333333,
              "#9c179e"
             ],
             [
              0.4444444444444444,
              "#bd3786"
             ],
             [
              0.5555555555555556,
              "#d8576b"
             ],
             [
              0.6666666666666666,
              "#ed7953"
             ],
             [
              0.7777777777777778,
              "#fb9f3a"
             ],
             [
              0.8888888888888888,
              "#fdca26"
             ],
             [
              1,
              "#f0f921"
             ]
            ],
            "type": "heatmap"
           }
          ],
          "heatmapgl": [
           {
            "colorbar": {
             "outlinewidth": 0,
             "ticks": ""
            },
            "colorscale": [
             [
              0,
              "#0d0887"
             ],
             [
              0.1111111111111111,
              "#46039f"
             ],
             [
              0.2222222222222222,
              "#7201a8"
             ],
             [
              0.3333333333333333,
              "#9c179e"
             ],
             [
              0.4444444444444444,
              "#bd3786"
             ],
             [
              0.5555555555555556,
              "#d8576b"
             ],
             [
              0.6666666666666666,
              "#ed7953"
             ],
             [
              0.7777777777777778,
              "#fb9f3a"
             ],
             [
              0.8888888888888888,
              "#fdca26"
             ],
             [
              1,
              "#f0f921"
             ]
            ],
            "type": "heatmapgl"
           }
          ],
          "histogram": [
           {
            "marker": {
             "pattern": {
              "fillmode": "overlay",
              "size": 10,
              "solidity": 0.2
             }
            },
            "type": "histogram"
           }
          ],
          "histogram2d": [
           {
            "colorbar": {
             "outlinewidth": 0,
             "ticks": ""
            },
            "colorscale": [
             [
              0,
              "#0d0887"
             ],
             [
              0.1111111111111111,
              "#46039f"
             ],
             [
              0.2222222222222222,
              "#7201a8"
             ],
             [
              0.3333333333333333,
              "#9c179e"
             ],
             [
              0.4444444444444444,
              "#bd3786"
             ],
             [
              0.5555555555555556,
              "#d8576b"
             ],
             [
              0.6666666666666666,
              "#ed7953"
             ],
             [
              0.7777777777777778,
              "#fb9f3a"
             ],
             [
              0.8888888888888888,
              "#fdca26"
             ],
             [
              1,
              "#f0f921"
             ]
            ],
            "type": "histogram2d"
           }
          ],
          "histogram2dcontour": [
           {
            "colorbar": {
             "outlinewidth": 0,
             "ticks": ""
            },
            "colorscale": [
             [
              0,
              "#0d0887"
             ],
             [
              0.1111111111111111,
              "#46039f"
             ],
             [
              0.2222222222222222,
              "#7201a8"
             ],
             [
              0.3333333333333333,
              "#9c179e"
             ],
             [
              0.4444444444444444,
              "#bd3786"
             ],
             [
              0.5555555555555556,
              "#d8576b"
             ],
             [
              0.6666666666666666,
              "#ed7953"
             ],
             [
              0.7777777777777778,
              "#fb9f3a"
             ],
             [
              0.8888888888888888,
              "#fdca26"
             ],
             [
              1,
              "#f0f921"
             ]
            ],
            "type": "histogram2dcontour"
           }
          ],
          "mesh3d": [
           {
            "colorbar": {
             "outlinewidth": 0,
             "ticks": ""
            },
            "type": "mesh3d"
           }
          ],
          "parcoords": [
           {
            "line": {
             "colorbar": {
              "outlinewidth": 0,
              "ticks": ""
             }
            },
            "type": "parcoords"
           }
          ],
          "pie": [
           {
            "automargin": true,
            "type": "pie"
           }
          ],
          "scatter": [
           {
            "marker": {
             "colorbar": {
              "outlinewidth": 0,
              "ticks": ""
             }
            },
            "type": "scatter"
           }
          ],
          "scatter3d": [
           {
            "line": {
             "colorbar": {
              "outlinewidth": 0,
              "ticks": ""
             }
            },
            "marker": {
             "colorbar": {
              "outlinewidth": 0,
              "ticks": ""
             }
            },
            "type": "scatter3d"
           }
          ],
          "scattercarpet": [
           {
            "marker": {
             "colorbar": {
              "outlinewidth": 0,
              "ticks": ""
             }
            },
            "type": "scattercarpet"
           }
          ],
          "scattergeo": [
           {
            "marker": {
             "colorbar": {
              "outlinewidth": 0,
              "ticks": ""
             }
            },
            "type": "scattergeo"
           }
          ],
          "scattergl": [
           {
            "marker": {
             "colorbar": {
              "outlinewidth": 0,
              "ticks": ""
             }
            },
            "type": "scattergl"
           }
          ],
          "scattermapbox": [
           {
            "marker": {
             "colorbar": {
              "outlinewidth": 0,
              "ticks": ""
             }
            },
            "type": "scattermapbox"
           }
          ],
          "scatterpolar": [
           {
            "marker": {
             "colorbar": {
              "outlinewidth": 0,
              "ticks": ""
             }
            },
            "type": "scatterpolar"
           }
          ],
          "scatterpolargl": [
           {
            "marker": {
             "colorbar": {
              "outlinewidth": 0,
              "ticks": ""
             }
            },
            "type": "scatterpolargl"
           }
          ],
          "scatterternary": [
           {
            "marker": {
             "colorbar": {
              "outlinewidth": 0,
              "ticks": ""
             }
            },
            "type": "scatterternary"
           }
          ],
          "surface": [
           {
            "colorbar": {
             "outlinewidth": 0,
             "ticks": ""
            },
            "colorscale": [
             [
              0,
              "#0d0887"
             ],
             [
              0.1111111111111111,
              "#46039f"
             ],
             [
              0.2222222222222222,
              "#7201a8"
             ],
             [
              0.3333333333333333,
              "#9c179e"
             ],
             [
              0.4444444444444444,
              "#bd3786"
             ],
             [
              0.5555555555555556,
              "#d8576b"
             ],
             [
              0.6666666666666666,
              "#ed7953"
             ],
             [
              0.7777777777777778,
              "#fb9f3a"
             ],
             [
              0.8888888888888888,
              "#fdca26"
             ],
             [
              1,
              "#f0f921"
             ]
            ],
            "type": "surface"
           }
          ],
          "table": [
           {
            "cells": {
             "fill": {
              "color": "#EBF0F8"
             },
             "line": {
              "color": "white"
             }
            },
            "header": {
             "fill": {
              "color": "#C8D4E3"
             },
             "line": {
              "color": "white"
             }
            },
            "type": "table"
           }
          ]
         },
         "layout": {
          "annotationdefaults": {
           "arrowcolor": "#2a3f5f",
           "arrowhead": 0,
           "arrowwidth": 1
          },
          "autotypenumbers": "strict",
          "coloraxis": {
           "colorbar": {
            "outlinewidth": 0,
            "ticks": ""
           }
          },
          "colorscale": {
           "diverging": [
            [
             0,
             "#8e0152"
            ],
            [
             0.1,
             "#c51b7d"
            ],
            [
             0.2,
             "#de77ae"
            ],
            [
             0.3,
             "#f1b6da"
            ],
            [
             0.4,
             "#fde0ef"
            ],
            [
             0.5,
             "#f7f7f7"
            ],
            [
             0.6,
             "#e6f5d0"
            ],
            [
             0.7,
             "#b8e186"
            ],
            [
             0.8,
             "#7fbc41"
            ],
            [
             0.9,
             "#4d9221"
            ],
            [
             1,
             "#276419"
            ]
           ],
           "sequential": [
            [
             0,
             "#0d0887"
            ],
            [
             0.1111111111111111,
             "#46039f"
            ],
            [
             0.2222222222222222,
             "#7201a8"
            ],
            [
             0.3333333333333333,
             "#9c179e"
            ],
            [
             0.4444444444444444,
             "#bd3786"
            ],
            [
             0.5555555555555556,
             "#d8576b"
            ],
            [
             0.6666666666666666,
             "#ed7953"
            ],
            [
             0.7777777777777778,
             "#fb9f3a"
            ],
            [
             0.8888888888888888,
             "#fdca26"
            ],
            [
             1,
             "#f0f921"
            ]
           ],
           "sequentialminus": [
            [
             0,
             "#0d0887"
            ],
            [
             0.1111111111111111,
             "#46039f"
            ],
            [
             0.2222222222222222,
             "#7201a8"
            ],
            [
             0.3333333333333333,
             "#9c179e"
            ],
            [
             0.4444444444444444,
             "#bd3786"
            ],
            [
             0.5555555555555556,
             "#d8576b"
            ],
            [
             0.6666666666666666,
             "#ed7953"
            ],
            [
             0.7777777777777778,
             "#fb9f3a"
            ],
            [
             0.8888888888888888,
             "#fdca26"
            ],
            [
             1,
             "#f0f921"
            ]
           ]
          },
          "colorway": [
           "#636efa",
           "#EF553B",
           "#00cc96",
           "#ab63fa",
           "#FFA15A",
           "#19d3f3",
           "#FF6692",
           "#B6E880",
           "#FF97FF",
           "#FECB52"
          ],
          "font": {
           "color": "#2a3f5f"
          },
          "geo": {
           "bgcolor": "white",
           "lakecolor": "white",
           "landcolor": "#E5ECF6",
           "showlakes": true,
           "showland": true,
           "subunitcolor": "white"
          },
          "hoverlabel": {
           "align": "left"
          },
          "hovermode": "closest",
          "mapbox": {
           "style": "light"
          },
          "paper_bgcolor": "white",
          "plot_bgcolor": "#E5ECF6",
          "polar": {
           "angularaxis": {
            "gridcolor": "white",
            "linecolor": "white",
            "ticks": ""
           },
           "bgcolor": "#E5ECF6",
           "radialaxis": {
            "gridcolor": "white",
            "linecolor": "white",
            "ticks": ""
           }
          },
          "scene": {
           "xaxis": {
            "backgroundcolor": "#E5ECF6",
            "gridcolor": "white",
            "gridwidth": 2,
            "linecolor": "white",
            "showbackground": true,
            "ticks": "",
            "zerolinecolor": "white"
           },
           "yaxis": {
            "backgroundcolor": "#E5ECF6",
            "gridcolor": "white",
            "gridwidth": 2,
            "linecolor": "white",
            "showbackground": true,
            "ticks": "",
            "zerolinecolor": "white"
           },
           "zaxis": {
            "backgroundcolor": "#E5ECF6",
            "gridcolor": "white",
            "gridwidth": 2,
            "linecolor": "white",
            "showbackground": true,
            "ticks": "",
            "zerolinecolor": "white"
           }
          },
          "shapedefaults": {
           "line": {
            "color": "#2a3f5f"
           }
          },
          "ternary": {
           "aaxis": {
            "gridcolor": "white",
            "linecolor": "white",
            "ticks": ""
           },
           "baxis": {
            "gridcolor": "white",
            "linecolor": "white",
            "ticks": ""
           },
           "bgcolor": "#E5ECF6",
           "caxis": {
            "gridcolor": "white",
            "linecolor": "white",
            "ticks": ""
           }
          },
          "title": {
           "x": 0.05
          },
          "xaxis": {
           "automargin": true,
           "gridcolor": "white",
           "linecolor": "white",
           "ticks": "",
           "title": {
            "standoff": 15
           },
           "zerolinecolor": "white",
           "zerolinewidth": 2
          },
          "yaxis": {
           "automargin": true,
           "gridcolor": "white",
           "linecolor": "white",
           "ticks": "",
           "title": {
            "standoff": 15
           },
           "zerolinecolor": "white",
           "zerolinewidth": 2
          }
         }
        },
        "title": {
         "text": "2 activities classifier (NN + math)"
        },
        "width": 1000,
        "xaxis": {
         "anchor": "y",
         "domain": [
          0,
          1
         ],
         "title": {
          "text": "accuracy percentage"
         }
        },
        "yaxis": {
         "anchor": "x",
         "domain": [
          0,
          1
         ],
         "title": {
          "text": "number of subjects"
         }
        }
       }
      }
     },
     "metadata": {},
     "output_type": "display_data"
    }
   ],
   "source": [
    "newacc = [sum(acc[i])/len(acc[i]) for i in range(len(acc))]\n",
    "histro = {'x':[i for i in range(0,101)],'y':[0 for i in range(0,101)]}\n",
    "for ac in newacc:\n",
    "    newval = (int(ac*100)//2)*2\n",
    "    histro['y'][newval]+=1\n",
    "import plotly.express as px\n",
    "fig = px.bar(histro, x='x', y='y',labels={\n",
    "                     'x':'accuracy percentage','y':'number of subjects'\n",
    "                 },title = '2 activities classifier (NN + math)',width=1000,height=500)\n",
    "fig.show()\n"
   ]
  },
  {
   "cell_type": "code",
   "execution_count": 120,
   "metadata": {},
   "outputs": [
    {
     "name": "stderr",
     "output_type": "stream",
     "text": [
      "C:\\Users\\ASUS\\AppData\\Local\\Temp/ipykernel_16072/614901575.py:31: DeprecationWarning:\n",
      "\n",
      "KerasClassifier is deprecated, use Sci-Keras (https://github.com/adriangb/scikeras) instead.\n",
      "\n",
      "C:\\Users\\ASUS\\AppData\\Local\\Temp/ipykernel_16072/614901575.py:31: DeprecationWarning:\n",
      "\n",
      "KerasClassifier is deprecated, use Sci-Keras (https://github.com/adriangb/scikeras) instead.\n",
      "\n",
      "C:\\Users\\ASUS\\AppData\\Local\\Temp/ipykernel_16072/614901575.py:31: DeprecationWarning:\n",
      "\n",
      "KerasClassifier is deprecated, use Sci-Keras (https://github.com/adriangb/scikeras) instead.\n",
      "\n",
      "C:\\Users\\ASUS\\AppData\\Local\\Temp/ipykernel_16072/614901575.py:31: DeprecationWarning:\n",
      "\n",
      "KerasClassifier is deprecated, use Sci-Keras (https://github.com/adriangb/scikeras) instead.\n",
      "\n",
      "C:\\Users\\ASUS\\AppData\\Local\\Temp/ipykernel_16072/614901575.py:31: DeprecationWarning:\n",
      "\n",
      "KerasClassifier is deprecated, use Sci-Keras (https://github.com/adriangb/scikeras) instead.\n",
      "\n",
      "C:\\Users\\ASUS\\AppData\\Local\\Temp/ipykernel_16072/614901575.py:31: DeprecationWarning:\n",
      "\n",
      "KerasClassifier is deprecated, use Sci-Keras (https://github.com/adriangb/scikeras) instead.\n",
      "\n",
      "C:\\Users\\ASUS\\AppData\\Local\\Temp/ipykernel_16072/614901575.py:31: DeprecationWarning:\n",
      "\n",
      "KerasClassifier is deprecated, use Sci-Keras (https://github.com/adriangb/scikeras) instead.\n",
      "\n",
      "C:\\Users\\ASUS\\AppData\\Local\\Temp/ipykernel_16072/614901575.py:31: DeprecationWarning:\n",
      "\n",
      "KerasClassifier is deprecated, use Sci-Keras (https://github.com/adriangb/scikeras) instead.\n",
      "\n",
      "C:\\Users\\ASUS\\AppData\\Local\\Temp/ipykernel_16072/614901575.py:31: DeprecationWarning:\n",
      "\n",
      "KerasClassifier is deprecated, use Sci-Keras (https://github.com/adriangb/scikeras) instead.\n",
      "\n",
      "C:\\Users\\ASUS\\AppData\\Local\\Temp/ipykernel_16072/614901575.py:31: DeprecationWarning:\n",
      "\n",
      "KerasClassifier is deprecated, use Sci-Keras (https://github.com/adriangb/scikeras) instead.\n",
      "\n",
      "C:\\Users\\ASUS\\AppData\\Local\\Temp/ipykernel_16072/614901575.py:31: DeprecationWarning:\n",
      "\n",
      "KerasClassifier is deprecated, use Sci-Keras (https://github.com/adriangb/scikeras) instead.\n",
      "\n",
      "C:\\Users\\ASUS\\AppData\\Local\\Temp/ipykernel_16072/614901575.py:31: DeprecationWarning:\n",
      "\n",
      "KerasClassifier is deprecated, use Sci-Keras (https://github.com/adriangb/scikeras) instead.\n",
      "\n",
      "C:\\Users\\ASUS\\AppData\\Local\\Temp/ipykernel_16072/614901575.py:31: DeprecationWarning:\n",
      "\n",
      "KerasClassifier is deprecated, use Sci-Keras (https://github.com/adriangb/scikeras) instead.\n",
      "\n",
      "C:\\Users\\ASUS\\AppData\\Local\\Temp/ipykernel_16072/614901575.py:31: DeprecationWarning:\n",
      "\n",
      "KerasClassifier is deprecated, use Sci-Keras (https://github.com/adriangb/scikeras) instead.\n",
      "\n",
      "C:\\Users\\ASUS\\AppData\\Local\\Temp/ipykernel_16072/614901575.py:31: DeprecationWarning:\n",
      "\n",
      "KerasClassifier is deprecated, use Sci-Keras (https://github.com/adriangb/scikeras) instead.\n",
      "\n",
      "C:\\Users\\ASUS\\AppData\\Local\\Temp/ipykernel_16072/614901575.py:31: DeprecationWarning:\n",
      "\n",
      "KerasClassifier is deprecated, use Sci-Keras (https://github.com/adriangb/scikeras) instead.\n",
      "\n",
      "C:\\Users\\ASUS\\AppData\\Local\\Temp/ipykernel_16072/614901575.py:31: DeprecationWarning:\n",
      "\n",
      "KerasClassifier is deprecated, use Sci-Keras (https://github.com/adriangb/scikeras) instead.\n",
      "\n",
      "C:\\Users\\ASUS\\AppData\\Local\\Temp/ipykernel_16072/614901575.py:31: DeprecationWarning:\n",
      "\n",
      "KerasClassifier is deprecated, use Sci-Keras (https://github.com/adriangb/scikeras) instead.\n",
      "\n",
      "C:\\Users\\ASUS\\AppData\\Local\\Temp/ipykernel_16072/614901575.py:31: DeprecationWarning:\n",
      "\n",
      "KerasClassifier is deprecated, use Sci-Keras (https://github.com/adriangb/scikeras) instead.\n",
      "\n",
      "C:\\Users\\ASUS\\AppData\\Local\\Temp/ipykernel_16072/614901575.py:31: DeprecationWarning:\n",
      "\n",
      "KerasClassifier is deprecated, use Sci-Keras (https://github.com/adriangb/scikeras) instead.\n",
      "\n",
      "C:\\Users\\ASUS\\AppData\\Local\\Temp/ipykernel_16072/614901575.py:31: DeprecationWarning:\n",
      "\n",
      "KerasClassifier is deprecated, use Sci-Keras (https://github.com/adriangb/scikeras) instead.\n",
      "\n",
      "C:\\Users\\ASUS\\AppData\\Local\\Temp/ipykernel_16072/614901575.py:31: DeprecationWarning:\n",
      "\n",
      "KerasClassifier is deprecated, use Sci-Keras (https://github.com/adriangb/scikeras) instead.\n",
      "\n",
      "C:\\Users\\ASUS\\AppData\\Local\\Temp/ipykernel_16072/614901575.py:31: DeprecationWarning:\n",
      "\n",
      "KerasClassifier is deprecated, use Sci-Keras (https://github.com/adriangb/scikeras) instead.\n",
      "\n",
      "C:\\Users\\ASUS\\AppData\\Local\\Temp/ipykernel_16072/614901575.py:31: DeprecationWarning:\n",
      "\n",
      "KerasClassifier is deprecated, use Sci-Keras (https://github.com/adriangb/scikeras) instead.\n",
      "\n",
      "C:\\Users\\ASUS\\AppData\\Local\\Temp/ipykernel_16072/614901575.py:31: DeprecationWarning:\n",
      "\n",
      "KerasClassifier is deprecated, use Sci-Keras (https://github.com/adriangb/scikeras) instead.\n",
      "\n",
      "C:\\Users\\ASUS\\AppData\\Local\\Temp/ipykernel_16072/614901575.py:31: DeprecationWarning:\n",
      "\n",
      "KerasClassifier is deprecated, use Sci-Keras (https://github.com/adriangb/scikeras) instead.\n",
      "\n",
      "C:\\Users\\ASUS\\AppData\\Local\\Temp/ipykernel_16072/614901575.py:31: DeprecationWarning:\n",
      "\n",
      "KerasClassifier is deprecated, use Sci-Keras (https://github.com/adriangb/scikeras) instead.\n",
      "\n",
      "C:\\Users\\ASUS\\AppData\\Local\\Temp/ipykernel_16072/614901575.py:31: DeprecationWarning:\n",
      "\n",
      "KerasClassifier is deprecated, use Sci-Keras (https://github.com/adriangb/scikeras) instead.\n",
      "\n",
      "C:\\Users\\ASUS\\AppData\\Local\\Temp/ipykernel_16072/614901575.py:31: DeprecationWarning:\n",
      "\n",
      "KerasClassifier is deprecated, use Sci-Keras (https://github.com/adriangb/scikeras) instead.\n",
      "\n",
      "C:\\Users\\ASUS\\AppData\\Local\\Temp/ipykernel_16072/614901575.py:31: DeprecationWarning:\n",
      "\n",
      "KerasClassifier is deprecated, use Sci-Keras (https://github.com/adriangb/scikeras) instead.\n",
      "\n"
     ]
    }
   ],
   "source": [
    "def create_network():\n",
    "    \n",
    "    # Start neural network\n",
    "    network = keras.Sequential([\n",
    "    keras.layers.Dense(1000, activation = 'relu', input_shape = [100]),\n",
    "    keras.layers.Dense(1000, activation = 'relu'),\n",
    "    keras.layers.Dense(1000, activation = 'relu'),\n",
    "    keras.layers.Dense(2, activation = 'softmax')\n",
    "])\n",
    "\n",
    "    \n",
    "\n",
    "    # Compile neural network\n",
    "    network.compile(optimizer='adam', \n",
    "              loss=tf.losses.CategoricalCrossentropy(),\n",
    "              metrics=['accuracy'])\n",
    "    \n",
    "    # Return compiled network\n",
    "    return network\n",
    "\n",
    "\n",
    "from sklearn import preprocessing\n",
    "acc_nn_filter = []\n",
    "for subject in range(1,31):\n",
    "    m = math[math['id']==subject]\n",
    "    r = relax[relax['id']==subject]\n",
    "    X,y = vectors_labels_filter(vectors(m),vectors(r))\n",
    "    X = preprocessing.scale(X)\n",
    "    X,y = shuffle(X,y, random_state=0)\n",
    "    y = [[1,0] if i == 1 else [0,1] for i in y]\n",
    "    neural_network = KerasClassifier(build_fn=create_network, \n",
    "\t\t\t\t\t\t\tepochs=10, \n",
    "\t\t\t\t\t\t\tbatch_size=100,\n",
    "\t\t\t\t\t\t\tverbose=0)\n",
    "    #print(len(X))\n",
    "    acc_nn_filter.append(cross_val_score(neural_network, X, y, cv=7))\n",
    "\n"
   ]
  },
  {
   "cell_type": "code",
   "execution_count": 115,
   "metadata": {
    "_cell_guid": "17f994b3-d6a0-118a-f478-b2b26a30ca5f"
   },
   "outputs": [
    {
     "name": "stdout",
     "output_type": "stream",
     "text": [
      "max for individual -  1.0\n",
      "avg across every person =  0.7639682600895564\n",
      "min for individual -  0.42857143708637785\n"
     ]
    }
   ],
   "source": [
    "\n",
    "print('max for individual - ',max([sum(acc_nn_filter[i])/len(acc_nn_filter[i]) for i in range(len(acc_nn_filter))]))\n",
    "print('avg across every person = ',sum(sum(acc_nn_filter))/(len(acc_nn_filter[0])*len(acc_nn_filter)))\n",
    "print('min for individual - ',min([sum(acc_nn_filter[i])/len(acc_nn_filter[i]) for i in range(len(acc_nn_filter))]))"
   ]
  },
  {
   "cell_type": "code",
   "execution_count": 116,
   "metadata": {},
   "outputs": [
    {
     "data": {
      "application/vnd.plotly.v1+json": {
       "config": {
        "plotlyServerURL": "https://plot.ly"
       },
       "data": [
        {
         "alignmentgroup": "True",
         "hovertemplate": "accuracy percentage=%{x}<br>number of subjects=%{y}<extra></extra>",
         "legendgroup": "",
         "marker": {
          "color": "#636efa",
          "pattern": {
           "shape": ""
          }
         },
         "name": "",
         "offsetgroup": "",
         "orientation": "v",
         "showlegend": false,
         "textposition": "auto",
         "type": "bar",
         "x": [
          0,
          1,
          2,
          3,
          4,
          5,
          6,
          7,
          8,
          9,
          10,
          11,
          12,
          13,
          14,
          15,
          16,
          17,
          18,
          19,
          20,
          21,
          22,
          23,
          24,
          25,
          26,
          27,
          28,
          29,
          30,
          31,
          32,
          33,
          34,
          35,
          36,
          37,
          38,
          39,
          40,
          41,
          42,
          43,
          44,
          45,
          46,
          47,
          48,
          49,
          50,
          51,
          52,
          53,
          54,
          55,
          56,
          57,
          58,
          59,
          60,
          61,
          62,
          63,
          64,
          65,
          66,
          67,
          68,
          69,
          70,
          71,
          72,
          73,
          74,
          75,
          76,
          77,
          78,
          79,
          80,
          81,
          82,
          83,
          84,
          85,
          86,
          87,
          88,
          89,
          90,
          91,
          92,
          93,
          94,
          95,
          96,
          97,
          98,
          99,
          100
         ],
         "xaxis": "x",
         "y": [
          0,
          0,
          0,
          0,
          0,
          0,
          0,
          0,
          0,
          0,
          0,
          0,
          0,
          0,
          0,
          0,
          0,
          0,
          0,
          0,
          0,
          0,
          0,
          0,
          0,
          0,
          0,
          0,
          0,
          0,
          0,
          0,
          0,
          0,
          0,
          0,
          0,
          0,
          0,
          0,
          0,
          0,
          1,
          0,
          1,
          0,
          1,
          0,
          0,
          0,
          1,
          0,
          1,
          0,
          1,
          0,
          0,
          0,
          1,
          0,
          0,
          0,
          0,
          0,
          0,
          0,
          1,
          0,
          3,
          0,
          1,
          0,
          1,
          0,
          0,
          0,
          2,
          0,
          0,
          0,
          1,
          0,
          1,
          0,
          3,
          0,
          0,
          0,
          0,
          0,
          3,
          0,
          0,
          0,
          5,
          0,
          0,
          0,
          0,
          0,
          2
         ],
         "yaxis": "y"
        }
       ],
       "layout": {
        "barmode": "relative",
        "height": 500,
        "legend": {
         "tracegroupgap": 0
        },
        "template": {
         "data": {
          "bar": [
           {
            "error_x": {
             "color": "#2a3f5f"
            },
            "error_y": {
             "color": "#2a3f5f"
            },
            "marker": {
             "line": {
              "color": "#E5ECF6",
              "width": 0.5
             },
             "pattern": {
              "fillmode": "overlay",
              "size": 10,
              "solidity": 0.2
             }
            },
            "type": "bar"
           }
          ],
          "barpolar": [
           {
            "marker": {
             "line": {
              "color": "#E5ECF6",
              "width": 0.5
             },
             "pattern": {
              "fillmode": "overlay",
              "size": 10,
              "solidity": 0.2
             }
            },
            "type": "barpolar"
           }
          ],
          "carpet": [
           {
            "aaxis": {
             "endlinecolor": "#2a3f5f",
             "gridcolor": "white",
             "linecolor": "white",
             "minorgridcolor": "white",
             "startlinecolor": "#2a3f5f"
            },
            "baxis": {
             "endlinecolor": "#2a3f5f",
             "gridcolor": "white",
             "linecolor": "white",
             "minorgridcolor": "white",
             "startlinecolor": "#2a3f5f"
            },
            "type": "carpet"
           }
          ],
          "choropleth": [
           {
            "colorbar": {
             "outlinewidth": 0,
             "ticks": ""
            },
            "type": "choropleth"
           }
          ],
          "contour": [
           {
            "colorbar": {
             "outlinewidth": 0,
             "ticks": ""
            },
            "colorscale": [
             [
              0,
              "#0d0887"
             ],
             [
              0.1111111111111111,
              "#46039f"
             ],
             [
              0.2222222222222222,
              "#7201a8"
             ],
             [
              0.3333333333333333,
              "#9c179e"
             ],
             [
              0.4444444444444444,
              "#bd3786"
             ],
             [
              0.5555555555555556,
              "#d8576b"
             ],
             [
              0.6666666666666666,
              "#ed7953"
             ],
             [
              0.7777777777777778,
              "#fb9f3a"
             ],
             [
              0.8888888888888888,
              "#fdca26"
             ],
             [
              1,
              "#f0f921"
             ]
            ],
            "type": "contour"
           }
          ],
          "contourcarpet": [
           {
            "colorbar": {
             "outlinewidth": 0,
             "ticks": ""
            },
            "type": "contourcarpet"
           }
          ],
          "heatmap": [
           {
            "colorbar": {
             "outlinewidth": 0,
             "ticks": ""
            },
            "colorscale": [
             [
              0,
              "#0d0887"
             ],
             [
              0.1111111111111111,
              "#46039f"
             ],
             [
              0.2222222222222222,
              "#7201a8"
             ],
             [
              0.3333333333333333,
              "#9c179e"
             ],
             [
              0.4444444444444444,
              "#bd3786"
             ],
             [
              0.5555555555555556,
              "#d8576b"
             ],
             [
              0.6666666666666666,
              "#ed7953"
             ],
             [
              0.7777777777777778,
              "#fb9f3a"
             ],
             [
              0.8888888888888888,
              "#fdca26"
             ],
             [
              1,
              "#f0f921"
             ]
            ],
            "type": "heatmap"
           }
          ],
          "heatmapgl": [
           {
            "colorbar": {
             "outlinewidth": 0,
             "ticks": ""
            },
            "colorscale": [
             [
              0,
              "#0d0887"
             ],
             [
              0.1111111111111111,
              "#46039f"
             ],
             [
              0.2222222222222222,
              "#7201a8"
             ],
             [
              0.3333333333333333,
              "#9c179e"
             ],
             [
              0.4444444444444444,
              "#bd3786"
             ],
             [
              0.5555555555555556,
              "#d8576b"
             ],
             [
              0.6666666666666666,
              "#ed7953"
             ],
             [
              0.7777777777777778,
              "#fb9f3a"
             ],
             [
              0.8888888888888888,
              "#fdca26"
             ],
             [
              1,
              "#f0f921"
             ]
            ],
            "type": "heatmapgl"
           }
          ],
          "histogram": [
           {
            "marker": {
             "pattern": {
              "fillmode": "overlay",
              "size": 10,
              "solidity": 0.2
             }
            },
            "type": "histogram"
           }
          ],
          "histogram2d": [
           {
            "colorbar": {
             "outlinewidth": 0,
             "ticks": ""
            },
            "colorscale": [
             [
              0,
              "#0d0887"
             ],
             [
              0.1111111111111111,
              "#46039f"
             ],
             [
              0.2222222222222222,
              "#7201a8"
             ],
             [
              0.3333333333333333,
              "#9c179e"
             ],
             [
              0.4444444444444444,
              "#bd3786"
             ],
             [
              0.5555555555555556,
              "#d8576b"
             ],
             [
              0.6666666666666666,
              "#ed7953"
             ],
             [
              0.7777777777777778,
              "#fb9f3a"
             ],
             [
              0.8888888888888888,
              "#fdca26"
             ],
             [
              1,
              "#f0f921"
             ]
            ],
            "type": "histogram2d"
           }
          ],
          "histogram2dcontour": [
           {
            "colorbar": {
             "outlinewidth": 0,
             "ticks": ""
            },
            "colorscale": [
             [
              0,
              "#0d0887"
             ],
             [
              0.1111111111111111,
              "#46039f"
             ],
             [
              0.2222222222222222,
              "#7201a8"
             ],
             [
              0.3333333333333333,
              "#9c179e"
             ],
             [
              0.4444444444444444,
              "#bd3786"
             ],
             [
              0.5555555555555556,
              "#d8576b"
             ],
             [
              0.6666666666666666,
              "#ed7953"
             ],
             [
              0.7777777777777778,
              "#fb9f3a"
             ],
             [
              0.8888888888888888,
              "#fdca26"
             ],
             [
              1,
              "#f0f921"
             ]
            ],
            "type": "histogram2dcontour"
           }
          ],
          "mesh3d": [
           {
            "colorbar": {
             "outlinewidth": 0,
             "ticks": ""
            },
            "type": "mesh3d"
           }
          ],
          "parcoords": [
           {
            "line": {
             "colorbar": {
              "outlinewidth": 0,
              "ticks": ""
             }
            },
            "type": "parcoords"
           }
          ],
          "pie": [
           {
            "automargin": true,
            "type": "pie"
           }
          ],
          "scatter": [
           {
            "marker": {
             "colorbar": {
              "outlinewidth": 0,
              "ticks": ""
             }
            },
            "type": "scatter"
           }
          ],
          "scatter3d": [
           {
            "line": {
             "colorbar": {
              "outlinewidth": 0,
              "ticks": ""
             }
            },
            "marker": {
             "colorbar": {
              "outlinewidth": 0,
              "ticks": ""
             }
            },
            "type": "scatter3d"
           }
          ],
          "scattercarpet": [
           {
            "marker": {
             "colorbar": {
              "outlinewidth": 0,
              "ticks": ""
             }
            },
            "type": "scattercarpet"
           }
          ],
          "scattergeo": [
           {
            "marker": {
             "colorbar": {
              "outlinewidth": 0,
              "ticks": ""
             }
            },
            "type": "scattergeo"
           }
          ],
          "scattergl": [
           {
            "marker": {
             "colorbar": {
              "outlinewidth": 0,
              "ticks": ""
             }
            },
            "type": "scattergl"
           }
          ],
          "scattermapbox": [
           {
            "marker": {
             "colorbar": {
              "outlinewidth": 0,
              "ticks": ""
             }
            },
            "type": "scattermapbox"
           }
          ],
          "scatterpolar": [
           {
            "marker": {
             "colorbar": {
              "outlinewidth": 0,
              "ticks": ""
             }
            },
            "type": "scatterpolar"
           }
          ],
          "scatterpolargl": [
           {
            "marker": {
             "colorbar": {
              "outlinewidth": 0,
              "ticks": ""
             }
            },
            "type": "scatterpolargl"
           }
          ],
          "scatterternary": [
           {
            "marker": {
             "colorbar": {
              "outlinewidth": 0,
              "ticks": ""
             }
            },
            "type": "scatterternary"
           }
          ],
          "surface": [
           {
            "colorbar": {
             "outlinewidth": 0,
             "ticks": ""
            },
            "colorscale": [
             [
              0,
              "#0d0887"
             ],
             [
              0.1111111111111111,
              "#46039f"
             ],
             [
              0.2222222222222222,
              "#7201a8"
             ],
             [
              0.3333333333333333,
              "#9c179e"
             ],
             [
              0.4444444444444444,
              "#bd3786"
             ],
             [
              0.5555555555555556,
              "#d8576b"
             ],
             [
              0.6666666666666666,
              "#ed7953"
             ],
             [
              0.7777777777777778,
              "#fb9f3a"
             ],
             [
              0.8888888888888888,
              "#fdca26"
             ],
             [
              1,
              "#f0f921"
             ]
            ],
            "type": "surface"
           }
          ],
          "table": [
           {
            "cells": {
             "fill": {
              "color": "#EBF0F8"
             },
             "line": {
              "color": "white"
             }
            },
            "header": {
             "fill": {
              "color": "#C8D4E3"
             },
             "line": {
              "color": "white"
             }
            },
            "type": "table"
           }
          ]
         },
         "layout": {
          "annotationdefaults": {
           "arrowcolor": "#2a3f5f",
           "arrowhead": 0,
           "arrowwidth": 1
          },
          "autotypenumbers": "strict",
          "coloraxis": {
           "colorbar": {
            "outlinewidth": 0,
            "ticks": ""
           }
          },
          "colorscale": {
           "diverging": [
            [
             0,
             "#8e0152"
            ],
            [
             0.1,
             "#c51b7d"
            ],
            [
             0.2,
             "#de77ae"
            ],
            [
             0.3,
             "#f1b6da"
            ],
            [
             0.4,
             "#fde0ef"
            ],
            [
             0.5,
             "#f7f7f7"
            ],
            [
             0.6,
             "#e6f5d0"
            ],
            [
             0.7,
             "#b8e186"
            ],
            [
             0.8,
             "#7fbc41"
            ],
            [
             0.9,
             "#4d9221"
            ],
            [
             1,
             "#276419"
            ]
           ],
           "sequential": [
            [
             0,
             "#0d0887"
            ],
            [
             0.1111111111111111,
             "#46039f"
            ],
            [
             0.2222222222222222,
             "#7201a8"
            ],
            [
             0.3333333333333333,
             "#9c179e"
            ],
            [
             0.4444444444444444,
             "#bd3786"
            ],
            [
             0.5555555555555556,
             "#d8576b"
            ],
            [
             0.6666666666666666,
             "#ed7953"
            ],
            [
             0.7777777777777778,
             "#fb9f3a"
            ],
            [
             0.8888888888888888,
             "#fdca26"
            ],
            [
             1,
             "#f0f921"
            ]
           ],
           "sequentialminus": [
            [
             0,
             "#0d0887"
            ],
            [
             0.1111111111111111,
             "#46039f"
            ],
            [
             0.2222222222222222,
             "#7201a8"
            ],
            [
             0.3333333333333333,
             "#9c179e"
            ],
            [
             0.4444444444444444,
             "#bd3786"
            ],
            [
             0.5555555555555556,
             "#d8576b"
            ],
            [
             0.6666666666666666,
             "#ed7953"
            ],
            [
             0.7777777777777778,
             "#fb9f3a"
            ],
            [
             0.8888888888888888,
             "#fdca26"
            ],
            [
             1,
             "#f0f921"
            ]
           ]
          },
          "colorway": [
           "#636efa",
           "#EF553B",
           "#00cc96",
           "#ab63fa",
           "#FFA15A",
           "#19d3f3",
           "#FF6692",
           "#B6E880",
           "#FF97FF",
           "#FECB52"
          ],
          "font": {
           "color": "#2a3f5f"
          },
          "geo": {
           "bgcolor": "white",
           "lakecolor": "white",
           "landcolor": "#E5ECF6",
           "showlakes": true,
           "showland": true,
           "subunitcolor": "white"
          },
          "hoverlabel": {
           "align": "left"
          },
          "hovermode": "closest",
          "mapbox": {
           "style": "light"
          },
          "paper_bgcolor": "white",
          "plot_bgcolor": "#E5ECF6",
          "polar": {
           "angularaxis": {
            "gridcolor": "white",
            "linecolor": "white",
            "ticks": ""
           },
           "bgcolor": "#E5ECF6",
           "radialaxis": {
            "gridcolor": "white",
            "linecolor": "white",
            "ticks": ""
           }
          },
          "scene": {
           "xaxis": {
            "backgroundcolor": "#E5ECF6",
            "gridcolor": "white",
            "gridwidth": 2,
            "linecolor": "white",
            "showbackground": true,
            "ticks": "",
            "zerolinecolor": "white"
           },
           "yaxis": {
            "backgroundcolor": "#E5ECF6",
            "gridcolor": "white",
            "gridwidth": 2,
            "linecolor": "white",
            "showbackground": true,
            "ticks": "",
            "zerolinecolor": "white"
           },
           "zaxis": {
            "backgroundcolor": "#E5ECF6",
            "gridcolor": "white",
            "gridwidth": 2,
            "linecolor": "white",
            "showbackground": true,
            "ticks": "",
            "zerolinecolor": "white"
           }
          },
          "shapedefaults": {
           "line": {
            "color": "#2a3f5f"
           }
          },
          "ternary": {
           "aaxis": {
            "gridcolor": "white",
            "linecolor": "white",
            "ticks": ""
           },
           "baxis": {
            "gridcolor": "white",
            "linecolor": "white",
            "ticks": ""
           },
           "bgcolor": "#E5ECF6",
           "caxis": {
            "gridcolor": "white",
            "linecolor": "white",
            "ticks": ""
           }
          },
          "title": {
           "x": 0.05
          },
          "xaxis": {
           "automargin": true,
           "gridcolor": "white",
           "linecolor": "white",
           "ticks": "",
           "title": {
            "standoff": 15
           },
           "zerolinecolor": "white",
           "zerolinewidth": 2
          },
          "yaxis": {
           "automargin": true,
           "gridcolor": "white",
           "linecolor": "white",
           "ticks": "",
           "title": {
            "standoff": 15
           },
           "zerolinecolor": "white",
           "zerolinewidth": 2
          }
         }
        },
        "title": {
         "text": "2 activities classifier (NN + MATH + FILTER)"
        },
        "width": 1000,
        "xaxis": {
         "anchor": "y",
         "domain": [
          0,
          1
         ],
         "title": {
          "text": "accuracy percentage"
         }
        },
        "yaxis": {
         "anchor": "x",
         "domain": [
          0,
          1
         ],
         "title": {
          "text": "number of subjects"
         }
        }
       }
      }
     },
     "metadata": {},
     "output_type": "display_data"
    }
   ],
   "source": [
    "newacc_nn_filter = [sum(acc_nn_filter[i])/len(acc_nn_filter[i]) for i in range(len(acc_nn_filter))]\n",
    "histro_nn_filter = {'x':[i for i in range(0,101)],'y':[0 for i in range(0,101)]}\n",
    "for ac in newacc_nn_filter:\n",
    "    newval = (int(ac*100)//2)*2\n",
    "    histro_nn_filter['y'][newval]+=1\n",
    "import plotly.express as px\n",
    "fig = px.bar(histro_nn_filter, x='x', y='y',labels={\n",
    "                     'x':'accuracy percentage','y':'number of subjects'\n",
    "                 },title = '2 activities classifier (NN + MATH + FILTER)',width=1000,height=500)\n",
    "fig.show()\n"
   ]
  },
  {
   "cell_type": "code",
   "execution_count": 117,
   "metadata": {},
   "outputs": [],
   "source": [
    "from scipy.signal import butter, lfilter\n",
    "import numpy as np\n",
    "import matplotlib.pyplot as plt\n",
    "from scipy.signal import freqz\n",
    "def butter_bandpass(lowcut, highcut, fs, order=5):\n",
    "    nyq = 0.5 * fs\n",
    "    low = lowcut / nyq\n",
    "    high = highcut / nyq\n",
    "    b, a = butter(order, [low, high], btype='band')\n",
    "    return b, a\n",
    "\n",
    "\n",
    "def butter_bandpass_filter(data, lowcut, highcut, fs, order=5):\n",
    "    b, a = butter_bandpass(lowcut, highcut, fs, order=order)\n",
    "    y = lfilter(b, a, data)\n",
    "    return y\n",
    "def vectors_labels_filter (list1, list2):\n",
    "    def label (l):\n",
    "        return lambda x: l\n",
    "    X = list1 + list2\n",
    "    X = [butter_bandpass_filter(x, 0.05, 50, 512, order=6) for x in X]\n",
    "    y = list(map(label(0), list1)) + list(map(label(1), list2))\n",
    "    return X, y"
   ]
  },
  {
   "cell_type": "code",
   "execution_count": 118,
   "metadata": {},
   "outputs": [],
   "source": [
    "from sklearn import preprocessing\n",
    "acc_filter = []\n",
    "for subject in range(1,31):\n",
    "    m = math[math['id']==subject]\n",
    "    r = relax[relax['id']==subject]\n",
    "    X,y = vectors_labels_filter(vectors(m),vectors(r))\n",
    "    X = preprocessing.scale(X)\n",
    "    X,y = shuffle(X,y, random_state=0)\n",
    "    acc_filter.append(cross_val_svm(X,y,7))\n",
    "\n"
   ]
  },
  {
   "cell_type": "code",
   "execution_count": 119,
   "metadata": {},
   "outputs": [
    {
     "name": "stdout",
     "output_type": "stream",
     "text": [
      "( 0 ) avg_acc =  0.9523809523809523\n",
      "( 1 ) avg_acc =  0.9047619047619048\n",
      "( 2 ) avg_acc =  1.0\n",
      "( 3 ) avg_acc =  0.8571428571428571\n",
      "( 4 ) avg_acc =  0.9047619047619048\n",
      "( 5 ) avg_acc =  0.9047619047619048\n",
      "( 6 ) avg_acc =  0.5952380952380952\n",
      "( 7 ) avg_acc =  0.761904761904762\n",
      "( 8 ) avg_acc =  0.8095238095238094\n",
      "( 9 ) avg_acc =  0.738095238095238\n",
      "( 10 ) avg_acc =  0.8333333333333333\n",
      "( 11 ) avg_acc =  0.6666666666666666\n",
      "( 12 ) avg_acc =  0.9523809523809523\n",
      "( 13 ) avg_acc =  0.8571428571428571\n",
      "( 14 ) avg_acc =  0.6428571428571429\n",
      "( 15 ) avg_acc =  0.9047619047619048\n",
      "( 16 ) avg_acc =  0.5952380952380951\n",
      "( 17 ) avg_acc =  0.8571428571428571\n",
      "( 18 ) avg_acc =  0.9285714285714286\n",
      "( 19 ) avg_acc =  0.6666666666666666\n",
      "( 20 ) avg_acc =  0.9047619047619048\n",
      "( 21 ) avg_acc =  0.5238095238095238\n",
      "( 22 ) avg_acc =  0.5\n",
      "( 23 ) avg_acc =  0.9523809523809523\n",
      "( 24 ) avg_acc =  0.7142857142857143\n",
      "( 25 ) avg_acc =  0.42857142857142855\n",
      "( 26 ) avg_acc =  0.7619047619047619\n",
      "( 27 ) avg_acc =  0.5952380952380951\n",
      "( 28 ) avg_acc =  0.8619047619047618\n",
      "( 29 ) avg_acc =  0.9047619047619048\n",
      "max acc -  1.0\n",
      "avg acc -  0.7826984126984128\n",
      "min acc -  0.42857142857142855\n"
     ]
    },
    {
     "data": {
      "application/vnd.plotly.v1+json": {
       "config": {
        "plotlyServerURL": "https://plot.ly"
       },
       "data": [
        {
         "alignmentgroup": "True",
         "hovertemplate": "accuracy percentage=%{x}<br>number of subjects=%{y}<extra></extra>",
         "legendgroup": "",
         "marker": {
          "color": "#636efa",
          "pattern": {
           "shape": ""
          }
         },
         "name": "",
         "offsetgroup": "",
         "orientation": "v",
         "showlegend": false,
         "textposition": "auto",
         "type": "bar",
         "x": [
          0,
          1,
          2,
          3,
          4,
          5,
          6,
          7,
          8,
          9,
          10,
          11,
          12,
          13,
          14,
          15,
          16,
          17,
          18,
          19,
          20,
          21,
          22,
          23,
          24,
          25,
          26,
          27,
          28,
          29,
          30,
          31,
          32,
          33,
          34,
          35,
          36,
          37,
          38,
          39,
          40,
          41,
          42,
          43,
          44,
          45,
          46,
          47,
          48,
          49,
          50,
          51,
          52,
          53,
          54,
          55,
          56,
          57,
          58,
          59,
          60,
          61,
          62,
          63,
          64,
          65,
          66,
          67,
          68,
          69,
          70,
          71,
          72,
          73,
          74,
          75,
          76,
          77,
          78,
          79,
          80,
          81,
          82,
          83,
          84,
          85,
          86,
          87,
          88,
          89,
          90,
          91,
          92,
          93,
          94,
          95,
          96,
          97,
          98,
          99,
          100
         ],
         "xaxis": "x",
         "y": [
          0,
          0,
          0,
          0,
          0,
          0,
          0,
          0,
          0,
          0,
          0,
          0,
          0,
          0,
          0,
          0,
          0,
          0,
          0,
          0,
          0,
          0,
          0,
          0,
          0,
          0,
          0,
          0,
          0,
          0,
          0,
          0,
          0,
          0,
          0,
          0,
          0,
          0,
          0,
          0,
          0,
          0,
          1,
          0,
          0,
          0,
          0,
          0,
          0,
          0,
          1,
          0,
          1,
          0,
          0,
          0,
          0,
          0,
          0,
          3,
          0,
          0,
          0,
          0,
          1,
          0,
          2,
          0,
          0,
          0,
          0,
          1,
          0,
          1,
          0,
          0,
          2,
          0,
          0,
          0,
          1,
          0,
          0,
          1,
          0,
          3,
          1,
          0,
          0,
          0,
          6,
          0,
          1,
          0,
          0,
          3,
          0,
          0,
          0,
          0,
          1
         ],
         "yaxis": "y"
        }
       ],
       "layout": {
        "barmode": "relative",
        "height": 500,
        "legend": {
         "tracegroupgap": 0
        },
        "template": {
         "data": {
          "bar": [
           {
            "error_x": {
             "color": "#2a3f5f"
            },
            "error_y": {
             "color": "#2a3f5f"
            },
            "marker": {
             "line": {
              "color": "#E5ECF6",
              "width": 0.5
             },
             "pattern": {
              "fillmode": "overlay",
              "size": 10,
              "solidity": 0.2
             }
            },
            "type": "bar"
           }
          ],
          "barpolar": [
           {
            "marker": {
             "line": {
              "color": "#E5ECF6",
              "width": 0.5
             },
             "pattern": {
              "fillmode": "overlay",
              "size": 10,
              "solidity": 0.2
             }
            },
            "type": "barpolar"
           }
          ],
          "carpet": [
           {
            "aaxis": {
             "endlinecolor": "#2a3f5f",
             "gridcolor": "white",
             "linecolor": "white",
             "minorgridcolor": "white",
             "startlinecolor": "#2a3f5f"
            },
            "baxis": {
             "endlinecolor": "#2a3f5f",
             "gridcolor": "white",
             "linecolor": "white",
             "minorgridcolor": "white",
             "startlinecolor": "#2a3f5f"
            },
            "type": "carpet"
           }
          ],
          "choropleth": [
           {
            "colorbar": {
             "outlinewidth": 0,
             "ticks": ""
            },
            "type": "choropleth"
           }
          ],
          "contour": [
           {
            "colorbar": {
             "outlinewidth": 0,
             "ticks": ""
            },
            "colorscale": [
             [
              0,
              "#0d0887"
             ],
             [
              0.1111111111111111,
              "#46039f"
             ],
             [
              0.2222222222222222,
              "#7201a8"
             ],
             [
              0.3333333333333333,
              "#9c179e"
             ],
             [
              0.4444444444444444,
              "#bd3786"
             ],
             [
              0.5555555555555556,
              "#d8576b"
             ],
             [
              0.6666666666666666,
              "#ed7953"
             ],
             [
              0.7777777777777778,
              "#fb9f3a"
             ],
             [
              0.8888888888888888,
              "#fdca26"
             ],
             [
              1,
              "#f0f921"
             ]
            ],
            "type": "contour"
           }
          ],
          "contourcarpet": [
           {
            "colorbar": {
             "outlinewidth": 0,
             "ticks": ""
            },
            "type": "contourcarpet"
           }
          ],
          "heatmap": [
           {
            "colorbar": {
             "outlinewidth": 0,
             "ticks": ""
            },
            "colorscale": [
             [
              0,
              "#0d0887"
             ],
             [
              0.1111111111111111,
              "#46039f"
             ],
             [
              0.2222222222222222,
              "#7201a8"
             ],
             [
              0.3333333333333333,
              "#9c179e"
             ],
             [
              0.4444444444444444,
              "#bd3786"
             ],
             [
              0.5555555555555556,
              "#d8576b"
             ],
             [
              0.6666666666666666,
              "#ed7953"
             ],
             [
              0.7777777777777778,
              "#fb9f3a"
             ],
             [
              0.8888888888888888,
              "#fdca26"
             ],
             [
              1,
              "#f0f921"
             ]
            ],
            "type": "heatmap"
           }
          ],
          "heatmapgl": [
           {
            "colorbar": {
             "outlinewidth": 0,
             "ticks": ""
            },
            "colorscale": [
             [
              0,
              "#0d0887"
             ],
             [
              0.1111111111111111,
              "#46039f"
             ],
             [
              0.2222222222222222,
              "#7201a8"
             ],
             [
              0.3333333333333333,
              "#9c179e"
             ],
             [
              0.4444444444444444,
              "#bd3786"
             ],
             [
              0.5555555555555556,
              "#d8576b"
             ],
             [
              0.6666666666666666,
              "#ed7953"
             ],
             [
              0.7777777777777778,
              "#fb9f3a"
             ],
             [
              0.8888888888888888,
              "#fdca26"
             ],
             [
              1,
              "#f0f921"
             ]
            ],
            "type": "heatmapgl"
           }
          ],
          "histogram": [
           {
            "marker": {
             "pattern": {
              "fillmode": "overlay",
              "size": 10,
              "solidity": 0.2
             }
            },
            "type": "histogram"
           }
          ],
          "histogram2d": [
           {
            "colorbar": {
             "outlinewidth": 0,
             "ticks": ""
            },
            "colorscale": [
             [
              0,
              "#0d0887"
             ],
             [
              0.1111111111111111,
              "#46039f"
             ],
             [
              0.2222222222222222,
              "#7201a8"
             ],
             [
              0.3333333333333333,
              "#9c179e"
             ],
             [
              0.4444444444444444,
              "#bd3786"
             ],
             [
              0.5555555555555556,
              "#d8576b"
             ],
             [
              0.6666666666666666,
              "#ed7953"
             ],
             [
              0.7777777777777778,
              "#fb9f3a"
             ],
             [
              0.8888888888888888,
              "#fdca26"
             ],
             [
              1,
              "#f0f921"
             ]
            ],
            "type": "histogram2d"
           }
          ],
          "histogram2dcontour": [
           {
            "colorbar": {
             "outlinewidth": 0,
             "ticks": ""
            },
            "colorscale": [
             [
              0,
              "#0d0887"
             ],
             [
              0.1111111111111111,
              "#46039f"
             ],
             [
              0.2222222222222222,
              "#7201a8"
             ],
             [
              0.3333333333333333,
              "#9c179e"
             ],
             [
              0.4444444444444444,
              "#bd3786"
             ],
             [
              0.5555555555555556,
              "#d8576b"
             ],
             [
              0.6666666666666666,
              "#ed7953"
             ],
             [
              0.7777777777777778,
              "#fb9f3a"
             ],
             [
              0.8888888888888888,
              "#fdca26"
             ],
             [
              1,
              "#f0f921"
             ]
            ],
            "type": "histogram2dcontour"
           }
          ],
          "mesh3d": [
           {
            "colorbar": {
             "outlinewidth": 0,
             "ticks": ""
            },
            "type": "mesh3d"
           }
          ],
          "parcoords": [
           {
            "line": {
             "colorbar": {
              "outlinewidth": 0,
              "ticks": ""
             }
            },
            "type": "parcoords"
           }
          ],
          "pie": [
           {
            "automargin": true,
            "type": "pie"
           }
          ],
          "scatter": [
           {
            "marker": {
             "colorbar": {
              "outlinewidth": 0,
              "ticks": ""
             }
            },
            "type": "scatter"
           }
          ],
          "scatter3d": [
           {
            "line": {
             "colorbar": {
              "outlinewidth": 0,
              "ticks": ""
             }
            },
            "marker": {
             "colorbar": {
              "outlinewidth": 0,
              "ticks": ""
             }
            },
            "type": "scatter3d"
           }
          ],
          "scattercarpet": [
           {
            "marker": {
             "colorbar": {
              "outlinewidth": 0,
              "ticks": ""
             }
            },
            "type": "scattercarpet"
           }
          ],
          "scattergeo": [
           {
            "marker": {
             "colorbar": {
              "outlinewidth": 0,
              "ticks": ""
             }
            },
            "type": "scattergeo"
           }
          ],
          "scattergl": [
           {
            "marker": {
             "colorbar": {
              "outlinewidth": 0,
              "ticks": ""
             }
            },
            "type": "scattergl"
           }
          ],
          "scattermapbox": [
           {
            "marker": {
             "colorbar": {
              "outlinewidth": 0,
              "ticks": ""
             }
            },
            "type": "scattermapbox"
           }
          ],
          "scatterpolar": [
           {
            "marker": {
             "colorbar": {
              "outlinewidth": 0,
              "ticks": ""
             }
            },
            "type": "scatterpolar"
           }
          ],
          "scatterpolargl": [
           {
            "marker": {
             "colorbar": {
              "outlinewidth": 0,
              "ticks": ""
             }
            },
            "type": "scatterpolargl"
           }
          ],
          "scatterternary": [
           {
            "marker": {
             "colorbar": {
              "outlinewidth": 0,
              "ticks": ""
             }
            },
            "type": "scatterternary"
           }
          ],
          "surface": [
           {
            "colorbar": {
             "outlinewidth": 0,
             "ticks": ""
            },
            "colorscale": [
             [
              0,
              "#0d0887"
             ],
             [
              0.1111111111111111,
              "#46039f"
             ],
             [
              0.2222222222222222,
              "#7201a8"
             ],
             [
              0.3333333333333333,
              "#9c179e"
             ],
             [
              0.4444444444444444,
              "#bd3786"
             ],
             [
              0.5555555555555556,
              "#d8576b"
             ],
             [
              0.6666666666666666,
              "#ed7953"
             ],
             [
              0.7777777777777778,
              "#fb9f3a"
             ],
             [
              0.8888888888888888,
              "#fdca26"
             ],
             [
              1,
              "#f0f921"
             ]
            ],
            "type": "surface"
           }
          ],
          "table": [
           {
            "cells": {
             "fill": {
              "color": "#EBF0F8"
             },
             "line": {
              "color": "white"
             }
            },
            "header": {
             "fill": {
              "color": "#C8D4E3"
             },
             "line": {
              "color": "white"
             }
            },
            "type": "table"
           }
          ]
         },
         "layout": {
          "annotationdefaults": {
           "arrowcolor": "#2a3f5f",
           "arrowhead": 0,
           "arrowwidth": 1
          },
          "autotypenumbers": "strict",
          "coloraxis": {
           "colorbar": {
            "outlinewidth": 0,
            "ticks": ""
           }
          },
          "colorscale": {
           "diverging": [
            [
             0,
             "#8e0152"
            ],
            [
             0.1,
             "#c51b7d"
            ],
            [
             0.2,
             "#de77ae"
            ],
            [
             0.3,
             "#f1b6da"
            ],
            [
             0.4,
             "#fde0ef"
            ],
            [
             0.5,
             "#f7f7f7"
            ],
            [
             0.6,
             "#e6f5d0"
            ],
            [
             0.7,
             "#b8e186"
            ],
            [
             0.8,
             "#7fbc41"
            ],
            [
             0.9,
             "#4d9221"
            ],
            [
             1,
             "#276419"
            ]
           ],
           "sequential": [
            [
             0,
             "#0d0887"
            ],
            [
             0.1111111111111111,
             "#46039f"
            ],
            [
             0.2222222222222222,
             "#7201a8"
            ],
            [
             0.3333333333333333,
             "#9c179e"
            ],
            [
             0.4444444444444444,
             "#bd3786"
            ],
            [
             0.5555555555555556,
             "#d8576b"
            ],
            [
             0.6666666666666666,
             "#ed7953"
            ],
            [
             0.7777777777777778,
             "#fb9f3a"
            ],
            [
             0.8888888888888888,
             "#fdca26"
            ],
            [
             1,
             "#f0f921"
            ]
           ],
           "sequentialminus": [
            [
             0,
             "#0d0887"
            ],
            [
             0.1111111111111111,
             "#46039f"
            ],
            [
             0.2222222222222222,
             "#7201a8"
            ],
            [
             0.3333333333333333,
             "#9c179e"
            ],
            [
             0.4444444444444444,
             "#bd3786"
            ],
            [
             0.5555555555555556,
             "#d8576b"
            ],
            [
             0.6666666666666666,
             "#ed7953"
            ],
            [
             0.7777777777777778,
             "#fb9f3a"
            ],
            [
             0.8888888888888888,
             "#fdca26"
            ],
            [
             1,
             "#f0f921"
            ]
           ]
          },
          "colorway": [
           "#636efa",
           "#EF553B",
           "#00cc96",
           "#ab63fa",
           "#FFA15A",
           "#19d3f3",
           "#FF6692",
           "#B6E880",
           "#FF97FF",
           "#FECB52"
          ],
          "font": {
           "color": "#2a3f5f"
          },
          "geo": {
           "bgcolor": "white",
           "lakecolor": "white",
           "landcolor": "#E5ECF6",
           "showlakes": true,
           "showland": true,
           "subunitcolor": "white"
          },
          "hoverlabel": {
           "align": "left"
          },
          "hovermode": "closest",
          "mapbox": {
           "style": "light"
          },
          "paper_bgcolor": "white",
          "plot_bgcolor": "#E5ECF6",
          "polar": {
           "angularaxis": {
            "gridcolor": "white",
            "linecolor": "white",
            "ticks": ""
           },
           "bgcolor": "#E5ECF6",
           "radialaxis": {
            "gridcolor": "white",
            "linecolor": "white",
            "ticks": ""
           }
          },
          "scene": {
           "xaxis": {
            "backgroundcolor": "#E5ECF6",
            "gridcolor": "white",
            "gridwidth": 2,
            "linecolor": "white",
            "showbackground": true,
            "ticks": "",
            "zerolinecolor": "white"
           },
           "yaxis": {
            "backgroundcolor": "#E5ECF6",
            "gridcolor": "white",
            "gridwidth": 2,
            "linecolor": "white",
            "showbackground": true,
            "ticks": "",
            "zerolinecolor": "white"
           },
           "zaxis": {
            "backgroundcolor": "#E5ECF6",
            "gridcolor": "white",
            "gridwidth": 2,
            "linecolor": "white",
            "showbackground": true,
            "ticks": "",
            "zerolinecolor": "white"
           }
          },
          "shapedefaults": {
           "line": {
            "color": "#2a3f5f"
           }
          },
          "ternary": {
           "aaxis": {
            "gridcolor": "white",
            "linecolor": "white",
            "ticks": ""
           },
           "baxis": {
            "gridcolor": "white",
            "linecolor": "white",
            "ticks": ""
           },
           "bgcolor": "#E5ECF6",
           "caxis": {
            "gridcolor": "white",
            "linecolor": "white",
            "ticks": ""
           }
          },
          "title": {
           "x": 0.05
          },
          "xaxis": {
           "automargin": true,
           "gridcolor": "white",
           "linecolor": "white",
           "ticks": "",
           "title": {
            "standoff": 15
           },
           "zerolinecolor": "white",
           "zerolinewidth": 2
          },
          "yaxis": {
           "automargin": true,
           "gridcolor": "white",
           "linecolor": "white",
           "ticks": "",
           "title": {
            "standoff": 15
           },
           "zerolinecolor": "white",
           "zerolinewidth": 2
          }
         }
        },
        "title": {
         "text": "2 activities classifier (SVM + MATH + FILTER)"
        },
        "width": 1000,
        "xaxis": {
         "anchor": "y",
         "domain": [
          0,
          1
         ],
         "title": {
          "text": "accuracy percentage"
         }
        },
        "yaxis": {
         "anchor": "x",
         "domain": [
          0,
          1
         ],
         "title": {
          "text": "number of subjects"
         }
        }
       }
      }
     },
     "metadata": {},
     "output_type": "display_data"
    }
   ],
   "source": [
    "for i in range(len(acc_filter)):\n",
    "    print('(',i,') avg_acc = ',sum(acc_filter[i])/len(acc_filter[i]))\n",
    "print('max acc - ',max([sum(ac)/len(ac) for ac in acc_filter]))\n",
    "print('avg acc - ',sum([sum(ac)/len(ac) for ac in acc_filter])/len(acc_filter))\n",
    "print('min acc - ',min([sum(ac)/len(ac) for ac in acc_filter]))\n",
    "newacc = [sum(acc_filter[i])/len(acc_filter[i]) for i in range(len(acc_filter))]\n",
    "histro = {'x':[i for i in range(0,101)],'y':[0 for i in range(0,101)]}\n",
    "for ac in newacc:\n",
    "    newval = (int(ac*100)//1)*1\n",
    "    histro['y'][newval]+=1\n",
    "import plotly.express as px\n",
    "fig = px.bar(histro, x='x', y='y',labels={\n",
    "                     'x':'accuracy percentage','y':'number of subjects'\n",
    "                 },title = '2 activities classifier (SVM + MATH + FILTER)',width=1000, height=500)\n",
    "fig.show()\n"
   ]
  },
  {
   "cell_type": "code",
   "execution_count": 4,
   "metadata": {},
   "outputs": [],
   "source": [
    "dic = {'name':['NN (EEG-POWER 8 BANDS)','SVM (EEG-POWER 8 BANDS)','NN + MATH (100 bins)','NN + MATH (group = 3, 100 bins)','SVM + MATH (100 bins)','NN + FILTER + MATH (group = 3, 100 bins)','SVM + MATH (group = 3, 100 bins)','SVM + FILTER + MATH (group = 3, 100 bins)'],\n",
    "'avg':[0.659,0.686,0.689,0.742,0.744,0.763,0.766,0.783],\n",
    "'max':[0.892,0.914,0.966,1.0  ,0.950,1.0  ,1.0  ,1.0  ],\n",
    "'min':[0.388,0.398,0.413,0.404,0.5  ,0.428,0.476,0.428],\n",
    "'type':['NN','SVM','NN','NN','NN','SVM','SVM']}\n"
   ]
  },
  {
   "cell_type": "code",
   "execution_count": 7,
   "metadata": {},
   "outputs": [
    {
     "data": {
      "application/vnd.plotly.v1+json": {
       "config": {
        "plotlyServerURL": "https://plot.ly"
       },
       "data": [
        {
         "error_y": {
          "array": [
           0.23299999999999998,
           0.22799999999999998,
           0.277,
           0.258,
           0.20599999999999996,
           0.237,
           0.23399999999999999,
           0.21699999999999997
          ],
          "arrayminus": [
           0.271,
           0.28800000000000003,
           0.27599999999999997,
           0.33799999999999997,
           0.244,
           0.335,
           0.29000000000000004,
           0.35500000000000004
          ],
          "type": "data"
         },
         "marker": {
          "color": [
           "dodgerblue",
           "darkorange",
           "dodgerblue",
           "dodgerblue",
           "darkorange",
           "dodgerblue",
           "darkorange",
           "darkorange"
          ]
         },
         "name": "Control",
         "type": "bar",
         "x": [
          "NN (EEG-POWER 8 BANDS)",
          "SVM (EEG-POWER 8 BANDS)",
          "NN + MATH (100 bins)",
          "NN + MATH (group = 3, 100 bins)",
          "SVM + MATH (100 bins)",
          "NN + FILTER + MATH (group = 3, 100 bins)",
          "SVM + MATH (group = 3, 100 bins)",
          "SVM + FILTER + MATH (group = 3, 100 bins)"
         ],
         "y": [
          0.659,
          0.686,
          0.689,
          0.742,
          0.744,
          0.763,
          0.766,
          0.783
         ]
        }
       ],
       "layout": {
        "barmode": "group",
        "height": 500,
        "template": {
         "data": {
          "bar": [
           {
            "error_x": {
             "color": "#2a3f5f"
            },
            "error_y": {
             "color": "#2a3f5f"
            },
            "marker": {
             "line": {
              "color": "#E5ECF6",
              "width": 0.5
             },
             "pattern": {
              "fillmode": "overlay",
              "size": 10,
              "solidity": 0.2
             }
            },
            "type": "bar"
           }
          ],
          "barpolar": [
           {
            "marker": {
             "line": {
              "color": "#E5ECF6",
              "width": 0.5
             },
             "pattern": {
              "fillmode": "overlay",
              "size": 10,
              "solidity": 0.2
             }
            },
            "type": "barpolar"
           }
          ],
          "carpet": [
           {
            "aaxis": {
             "endlinecolor": "#2a3f5f",
             "gridcolor": "white",
             "linecolor": "white",
             "minorgridcolor": "white",
             "startlinecolor": "#2a3f5f"
            },
            "baxis": {
             "endlinecolor": "#2a3f5f",
             "gridcolor": "white",
             "linecolor": "white",
             "minorgridcolor": "white",
             "startlinecolor": "#2a3f5f"
            },
            "type": "carpet"
           }
          ],
          "choropleth": [
           {
            "colorbar": {
             "outlinewidth": 0,
             "ticks": ""
            },
            "type": "choropleth"
           }
          ],
          "contour": [
           {
            "colorbar": {
             "outlinewidth": 0,
             "ticks": ""
            },
            "colorscale": [
             [
              0,
              "#0d0887"
             ],
             [
              0.1111111111111111,
              "#46039f"
             ],
             [
              0.2222222222222222,
              "#7201a8"
             ],
             [
              0.3333333333333333,
              "#9c179e"
             ],
             [
              0.4444444444444444,
              "#bd3786"
             ],
             [
              0.5555555555555556,
              "#d8576b"
             ],
             [
              0.6666666666666666,
              "#ed7953"
             ],
             [
              0.7777777777777778,
              "#fb9f3a"
             ],
             [
              0.8888888888888888,
              "#fdca26"
             ],
             [
              1,
              "#f0f921"
             ]
            ],
            "type": "contour"
           }
          ],
          "contourcarpet": [
           {
            "colorbar": {
             "outlinewidth": 0,
             "ticks": ""
            },
            "type": "contourcarpet"
           }
          ],
          "heatmap": [
           {
            "colorbar": {
             "outlinewidth": 0,
             "ticks": ""
            },
            "colorscale": [
             [
              0,
              "#0d0887"
             ],
             [
              0.1111111111111111,
              "#46039f"
             ],
             [
              0.2222222222222222,
              "#7201a8"
             ],
             [
              0.3333333333333333,
              "#9c179e"
             ],
             [
              0.4444444444444444,
              "#bd3786"
             ],
             [
              0.5555555555555556,
              "#d8576b"
             ],
             [
              0.6666666666666666,
              "#ed7953"
             ],
             [
              0.7777777777777778,
              "#fb9f3a"
             ],
             [
              0.8888888888888888,
              "#fdca26"
             ],
             [
              1,
              "#f0f921"
             ]
            ],
            "type": "heatmap"
           }
          ],
          "heatmapgl": [
           {
            "colorbar": {
             "outlinewidth": 0,
             "ticks": ""
            },
            "colorscale": [
             [
              0,
              "#0d0887"
             ],
             [
              0.1111111111111111,
              "#46039f"
             ],
             [
              0.2222222222222222,
              "#7201a8"
             ],
             [
              0.3333333333333333,
              "#9c179e"
             ],
             [
              0.4444444444444444,
              "#bd3786"
             ],
             [
              0.5555555555555556,
              "#d8576b"
             ],
             [
              0.6666666666666666,
              "#ed7953"
             ],
             [
              0.7777777777777778,
              "#fb9f3a"
             ],
             [
              0.8888888888888888,
              "#fdca26"
             ],
             [
              1,
              "#f0f921"
             ]
            ],
            "type": "heatmapgl"
           }
          ],
          "histogram": [
           {
            "marker": {
             "pattern": {
              "fillmode": "overlay",
              "size": 10,
              "solidity": 0.2
             }
            },
            "type": "histogram"
           }
          ],
          "histogram2d": [
           {
            "colorbar": {
             "outlinewidth": 0,
             "ticks": ""
            },
            "colorscale": [
             [
              0,
              "#0d0887"
             ],
             [
              0.1111111111111111,
              "#46039f"
             ],
             [
              0.2222222222222222,
              "#7201a8"
             ],
             [
              0.3333333333333333,
              "#9c179e"
             ],
             [
              0.4444444444444444,
              "#bd3786"
             ],
             [
              0.5555555555555556,
              "#d8576b"
             ],
             [
              0.6666666666666666,
              "#ed7953"
             ],
             [
              0.7777777777777778,
              "#fb9f3a"
             ],
             [
              0.8888888888888888,
              "#fdca26"
             ],
             [
              1,
              "#f0f921"
             ]
            ],
            "type": "histogram2d"
           }
          ],
          "histogram2dcontour": [
           {
            "colorbar": {
             "outlinewidth": 0,
             "ticks": ""
            },
            "colorscale": [
             [
              0,
              "#0d0887"
             ],
             [
              0.1111111111111111,
              "#46039f"
             ],
             [
              0.2222222222222222,
              "#7201a8"
             ],
             [
              0.3333333333333333,
              "#9c179e"
             ],
             [
              0.4444444444444444,
              "#bd3786"
             ],
             [
              0.5555555555555556,
              "#d8576b"
             ],
             [
              0.6666666666666666,
              "#ed7953"
             ],
             [
              0.7777777777777778,
              "#fb9f3a"
             ],
             [
              0.8888888888888888,
              "#fdca26"
             ],
             [
              1,
              "#f0f921"
             ]
            ],
            "type": "histogram2dcontour"
           }
          ],
          "mesh3d": [
           {
            "colorbar": {
             "outlinewidth": 0,
             "ticks": ""
            },
            "type": "mesh3d"
           }
          ],
          "parcoords": [
           {
            "line": {
             "colorbar": {
              "outlinewidth": 0,
              "ticks": ""
             }
            },
            "type": "parcoords"
           }
          ],
          "pie": [
           {
            "automargin": true,
            "type": "pie"
           }
          ],
          "scatter": [
           {
            "marker": {
             "colorbar": {
              "outlinewidth": 0,
              "ticks": ""
             }
            },
            "type": "scatter"
           }
          ],
          "scatter3d": [
           {
            "line": {
             "colorbar": {
              "outlinewidth": 0,
              "ticks": ""
             }
            },
            "marker": {
             "colorbar": {
              "outlinewidth": 0,
              "ticks": ""
             }
            },
            "type": "scatter3d"
           }
          ],
          "scattercarpet": [
           {
            "marker": {
             "colorbar": {
              "outlinewidth": 0,
              "ticks": ""
             }
            },
            "type": "scattercarpet"
           }
          ],
          "scattergeo": [
           {
            "marker": {
             "colorbar": {
              "outlinewidth": 0,
              "ticks": ""
             }
            },
            "type": "scattergeo"
           }
          ],
          "scattergl": [
           {
            "marker": {
             "colorbar": {
              "outlinewidth": 0,
              "ticks": ""
             }
            },
            "type": "scattergl"
           }
          ],
          "scattermapbox": [
           {
            "marker": {
             "colorbar": {
              "outlinewidth": 0,
              "ticks": ""
             }
            },
            "type": "scattermapbox"
           }
          ],
          "scatterpolar": [
           {
            "marker": {
             "colorbar": {
              "outlinewidth": 0,
              "ticks": ""
             }
            },
            "type": "scatterpolar"
           }
          ],
          "scatterpolargl": [
           {
            "marker": {
             "colorbar": {
              "outlinewidth": 0,
              "ticks": ""
             }
            },
            "type": "scatterpolargl"
           }
          ],
          "scatterternary": [
           {
            "marker": {
             "colorbar": {
              "outlinewidth": 0,
              "ticks": ""
             }
            },
            "type": "scatterternary"
           }
          ],
          "surface": [
           {
            "colorbar": {
             "outlinewidth": 0,
             "ticks": ""
            },
            "colorscale": [
             [
              0,
              "#0d0887"
             ],
             [
              0.1111111111111111,
              "#46039f"
             ],
             [
              0.2222222222222222,
              "#7201a8"
             ],
             [
              0.3333333333333333,
              "#9c179e"
             ],
             [
              0.4444444444444444,
              "#bd3786"
             ],
             [
              0.5555555555555556,
              "#d8576b"
             ],
             [
              0.6666666666666666,
              "#ed7953"
             ],
             [
              0.7777777777777778,
              "#fb9f3a"
             ],
             [
              0.8888888888888888,
              "#fdca26"
             ],
             [
              1,
              "#f0f921"
             ]
            ],
            "type": "surface"
           }
          ],
          "table": [
           {
            "cells": {
             "fill": {
              "color": "#EBF0F8"
             },
             "line": {
              "color": "white"
             }
            },
            "header": {
             "fill": {
              "color": "#C8D4E3"
             },
             "line": {
              "color": "white"
             }
            },
            "type": "table"
           }
          ]
         },
         "layout": {
          "annotationdefaults": {
           "arrowcolor": "#2a3f5f",
           "arrowhead": 0,
           "arrowwidth": 1
          },
          "autotypenumbers": "strict",
          "coloraxis": {
           "colorbar": {
            "outlinewidth": 0,
            "ticks": ""
           }
          },
          "colorscale": {
           "diverging": [
            [
             0,
             "#8e0152"
            ],
            [
             0.1,
             "#c51b7d"
            ],
            [
             0.2,
             "#de77ae"
            ],
            [
             0.3,
             "#f1b6da"
            ],
            [
             0.4,
             "#fde0ef"
            ],
            [
             0.5,
             "#f7f7f7"
            ],
            [
             0.6,
             "#e6f5d0"
            ],
            [
             0.7,
             "#b8e186"
            ],
            [
             0.8,
             "#7fbc41"
            ],
            [
             0.9,
             "#4d9221"
            ],
            [
             1,
             "#276419"
            ]
           ],
           "sequential": [
            [
             0,
             "#0d0887"
            ],
            [
             0.1111111111111111,
             "#46039f"
            ],
            [
             0.2222222222222222,
             "#7201a8"
            ],
            [
             0.3333333333333333,
             "#9c179e"
            ],
            [
             0.4444444444444444,
             "#bd3786"
            ],
            [
             0.5555555555555556,
             "#d8576b"
            ],
            [
             0.6666666666666666,
             "#ed7953"
            ],
            [
             0.7777777777777778,
             "#fb9f3a"
            ],
            [
             0.8888888888888888,
             "#fdca26"
            ],
            [
             1,
             "#f0f921"
            ]
           ],
           "sequentialminus": [
            [
             0,
             "#0d0887"
            ],
            [
             0.1111111111111111,
             "#46039f"
            ],
            [
             0.2222222222222222,
             "#7201a8"
            ],
            [
             0.3333333333333333,
             "#9c179e"
            ],
            [
             0.4444444444444444,
             "#bd3786"
            ],
            [
             0.5555555555555556,
             "#d8576b"
            ],
            [
             0.6666666666666666,
             "#ed7953"
            ],
            [
             0.7777777777777778,
             "#fb9f3a"
            ],
            [
             0.8888888888888888,
             "#fdca26"
            ],
            [
             1,
             "#f0f921"
            ]
           ]
          },
          "colorway": [
           "#636efa",
           "#EF553B",
           "#00cc96",
           "#ab63fa",
           "#FFA15A",
           "#19d3f3",
           "#FF6692",
           "#B6E880",
           "#FF97FF",
           "#FECB52"
          ],
          "font": {
           "color": "#2a3f5f"
          },
          "geo": {
           "bgcolor": "white",
           "lakecolor": "white",
           "landcolor": "#E5ECF6",
           "showlakes": true,
           "showland": true,
           "subunitcolor": "white"
          },
          "hoverlabel": {
           "align": "left"
          },
          "hovermode": "closest",
          "mapbox": {
           "style": "light"
          },
          "paper_bgcolor": "white",
          "plot_bgcolor": "#E5ECF6",
          "polar": {
           "angularaxis": {
            "gridcolor": "white",
            "linecolor": "white",
            "ticks": ""
           },
           "bgcolor": "#E5ECF6",
           "radialaxis": {
            "gridcolor": "white",
            "linecolor": "white",
            "ticks": ""
           }
          },
          "scene": {
           "xaxis": {
            "backgroundcolor": "#E5ECF6",
            "gridcolor": "white",
            "gridwidth": 2,
            "linecolor": "white",
            "showbackground": true,
            "ticks": "",
            "zerolinecolor": "white"
           },
           "yaxis": {
            "backgroundcolor": "#E5ECF6",
            "gridcolor": "white",
            "gridwidth": 2,
            "linecolor": "white",
            "showbackground": true,
            "ticks": "",
            "zerolinecolor": "white"
           },
           "zaxis": {
            "backgroundcolor": "#E5ECF6",
            "gridcolor": "white",
            "gridwidth": 2,
            "linecolor": "white",
            "showbackground": true,
            "ticks": "",
            "zerolinecolor": "white"
           }
          },
          "shapedefaults": {
           "line": {
            "color": "#2a3f5f"
           }
          },
          "ternary": {
           "aaxis": {
            "gridcolor": "white",
            "linecolor": "white",
            "ticks": ""
           },
           "baxis": {
            "gridcolor": "white",
            "linecolor": "white",
            "ticks": ""
           },
           "bgcolor": "#E5ECF6",
           "caxis": {
            "gridcolor": "white",
            "linecolor": "white",
            "ticks": ""
           }
          },
          "title": {
           "x": 0.05
          },
          "xaxis": {
           "automargin": true,
           "gridcolor": "white",
           "linecolor": "white",
           "ticks": "",
           "title": {
            "standoff": 15
           },
           "zerolinecolor": "white",
           "zerolinewidth": 2
          },
          "yaxis": {
           "automargin": true,
           "gridcolor": "white",
           "linecolor": "white",
           "ticks": "",
           "title": {
            "standoff": 15
           },
           "zerolinecolor": "white",
           "zerolinewidth": 2
          }
         }
        },
        "width": 1000,
        "yaxis": {
         "range": [
          0.3,
          1
         ]
        }
       }
      }
     },
     "metadata": {},
     "output_type": "display_data"
    }
   ],
   "source": [
    "import plotly.graph_objects as go\n",
    "\n",
    "fig = go.Figure()\n",
    "fig.add_trace(go.Bar(\n",
    "    name='Control',\n",
    "    x=dic['name'], y=dic['avg'],\n",
    "    error_y=dict(type='data', array=[dic['max'][i]-dic['avg'][i] for i in range(len(dic['max']))],arrayminus=[dic['avg'][i]-dic['min'][i] for i in range(len(dic['max']))])\n",
    "    ,marker = {'color':['dodgerblue','darkorange','dodgerblue','dodgerblue','darkorange','dodgerblue','darkorange','darkorange']}\n",
    "    \n",
    "))\n",
    "fig.update_yaxes(range = [0.3,1])\n",
    "fig.update_layout(barmode='group',\n",
    "    width=1000,\n",
    "    height=500,)\n",
    "fig.show()"
   ]
  },
  {
   "cell_type": "code",
   "execution_count": null,
   "metadata": {},
   "outputs": [],
   "source": []
  }
 ],
 "metadata": {
  "_change_revision": 3,
  "_is_fork": false,
  "interpreter": {
   "hash": "ec1060518096305afc3b9e5be38581f33b75dfa97bd1da350920488d5b9375e7"
  },
  "kernelspec": {
   "display_name": "Python 3.8.12 64-bit (conda)",
   "name": "python3"
  },
  "language_info": {
   "codemirror_mode": {
    "name": "ipython",
    "version": 3
   },
   "file_extension": ".py",
   "mimetype": "text/x-python",
   "name": "python",
   "nbconvert_exporter": "python",
   "pygments_lexer": "ipython3",
   "version": "3.8.12"
  }
 },
 "nbformat": 4,
 "nbformat_minor": 0
}
